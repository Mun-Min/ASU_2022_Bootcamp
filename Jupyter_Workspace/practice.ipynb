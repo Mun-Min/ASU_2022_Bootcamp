{
 "cells": [
  {
   "cell_type": "code",
   "execution_count": 1,
   "id": "97a6789f-f86c-48d4-b188-a1548fb76ad4",
   "metadata": {},
   "outputs": [
    {
     "name": "stdout",
     "output_type": "stream",
     "text": [
      "Hello World!\n"
     ]
    }
   ],
   "source": [
    "print(\"Hello World!\") "
   ]
  },
  {
   "cell_type": "code",
   "execution_count": 6,
   "id": "a9646206-20b4-46b1-9d15-3d38dc288aea",
   "metadata": {},
   "outputs": [
    {
     "name": "stdout",
     "output_type": "stream",
     "text": [
      "Enter your name:  Muni\n"
     ]
    },
    {
     "name": "stdout",
     "output_type": "stream",
     "text": [
      "Hello Muni !\n"
     ]
    }
   ],
   "source": [
    "user_input = input(\"Enter your name: \") \n",
    "print(f\"Hello {user_input} !\")"
   ]
  },
  {
   "cell_type": "code",
   "execution_count": null,
   "id": "dad46549-6665-4068-b0a2-41f9c5e6e3a6",
   "metadata": {},
   "outputs": [],
   "source": [
    "# This line of code is a comment "
   ]
  },
  {
   "cell_type": "code",
   "execution_count": 1,
   "id": "33b25e74-08c8-4e1a-b633-5663667355ff",
   "metadata": {},
   "outputs": [
    {
     "name": "stdout",
     "output_type": "stream",
     "text": [
      "Hello World from a new cell\n"
     ]
    }
   ],
   "source": [
    "print(\"Hello World from a new cell\")"
   ]
  },
  {
   "cell_type": "code",
   "execution_count": 3,
   "id": "a3cda293-9c75-4bca-b949-c11c5c8410d2",
   "metadata": {},
   "outputs": [
    {
     "name": "stdout",
     "output_type": "stream",
     "text": [
      "15.972222222222221\n"
     ]
    }
   ],
   "source": [
    "total_miles = 115 \n",
    "gallon_gas = 7.2 \n",
    "miles_per_gallon = total_miles / gallon_gas \n",
    "print(miles_per_gallon) "
   ]
  },
  {
   "cell_type": "code",
   "execution_count": 8,
   "id": "0e682313-7c0a-4068-9230-e3afb9b1df4a",
   "metadata": {},
   "outputs": [
    {
     "name": "stdout",
     "output_type": "stream",
     "text": [
      "The original price of the stock is: $198.97\n",
      "The current price of the stock is: $254.32\n",
      "The percent increase of the stock is: 27.82%\n"
     ]
    }
   ],
   "source": [
    "# Hello Variable World -- Class 4 Activities\n",
    "original_price = 198.97\n",
    "current_price = 254.32\n",
    "increase = current_price - original_price \n",
    "percent_increase = increase / original_price * 100 \n",
    "\n",
    "print(f\"The original price of the stock is: ${original_price}\") \n",
    "print(f\"The current price of the stock is: ${current_price}\") \n",
    "print(f\"The percent increase of the stock is: {percent_increase:,.2f}%\") "
   ]
  },
  {
   "cell_type": "code",
   "execution_count": 9,
   "id": "7f776ad8-4fa0-4829-ba35-b8e57c1bf5d9",
   "metadata": {},
   "outputs": [
    {
     "name": "stdout",
     "output_type": "stream",
     "text": [
      "Oooo needs some work\n"
     ]
    }
   ],
   "source": [
    "x = 5\n",
    "y = 10\n",
    "if 2 * x > 10:\n",
    "    print(\"Question 1 works!\")\n",
    "else:\n",
    "    print(\"Oooo needs some work\")\n"
   ]
  },
  {
   "cell_type": "code",
   "execution_count": 10,
   "id": "68a48446-a6c3-43dd-9b04-c585478c1718",
   "metadata": {},
   "outputs": [
    {
     "name": "stdout",
     "output_type": "stream",
     "text": [
      "Question 2 works!\n"
     ]
    }
   ],
   "source": [
    "x = 5\n",
    "y = 10\n",
    "if len(\"Dog\") < x:\n",
    "    print(\"Question 2 works!\")\n",
    "else:\n",
    "    print(\"Still missing out\")"
   ]
  },
  {
   "cell_type": "code",
   "execution_count": 11,
   "id": "bcaf2795-2b7b-4865-a808-02cbb17ca479",
   "metadata": {},
   "outputs": [
    {
     "name": "stdout",
     "output_type": "stream",
     "text": [
      "You are of drinking age!\n"
     ]
    }
   ],
   "source": [
    "# 3.\n",
    "age = 21\n",
    "if age > 20:\n",
    "    print(\"You are of drinking age!\")\n",
    "else:\n",
    "    print(\"Argggggh! You think you can hoodwink me, matey?! You're too young to drink!\")"
   ]
  },
  {
   "cell_type": "code",
   "execution_count": 1,
   "id": "edfa09aa-e65e-44ed-ab10-d51b87a72da0",
   "metadata": {},
   "outputs": [
    {
     "name": "stdout",
     "output_type": "stream",
     "text": [
      "Congratulations Muni Minhas! You have reached Silver Tier.\n"
     ]
    }
   ],
   "source": [
    "# create a function that takes in a first name, last name, and revenue as parameters and returns a dynamic greeting based on \n",
    "# revenue conditionals \n",
    "# Plat = 3001 + \n",
    "# Gold = 2001 - 3000 \n",
    "# Silver = 1001 - 2000 \n",
    "# Bronze = 0 - 1000 \n",
    "\n",
    "def create_greeting(first_name, last_name, revenue): \n",
    "    if revenue >= 3001: \n",
    "        print(f\"Congratulations {first_name} {last_name}! You have reached Platinum Tier.\")\n",
    "    if revenue >= 2001 and revenue <= 3000: \n",
    "        print(f\"Congratulations {first_name} {last_name}! You have reached Gold Tier.\")\n",
    "    if revenue >= 1001 and revenue <= 2000: \n",
    "        print(f\"Congratulations {first_name} {last_name}! You have reached Silver Tier.\")\n",
    "    if revenue >= 0 and revenue <= 1000: \n",
    "        print(f\"Congratulations {first_name} {last_name}! You have reached Bronze Tier.\")\n",
    "\n",
    "create_greeting(\"Muni\", \"Minhas\", 1500)"
   ]
  },
  {
   "cell_type": "code",
   "execution_count": 5,
   "id": "3f4f336b-75af-4ea5-a9ef-f119763873ab",
   "metadata": {},
   "outputs": [
    {
     "name": "stdout",
     "output_type": "stream",
     "text": [
      "Total Market Capitalization: 1,558.97\n",
      "Total Number of Banks: 14\n",
      "Average Market Capitalization: 111.36\n",
      "Largest Bank: JP Morgan Chase\n",
      "Smallest Bank: Republic Bancorp\n",
      "-------------------------------------\n",
      "Mega Cap Banks: ['JP Morgan Chase', 'Bank of America']\n",
      "Large Cap Banks: ['Citigroup', 'Wells Fargo', 'Goldman Sachs', 'Morgan Stanley', 'U.S. Bancorp', 'TD Bank', 'PNC Financial Services', 'Capital One', 'Ally Financial']\n",
      "Mid Cap Banks: ['FNB Corporation', 'First Hawaiian Bank']\n",
      "Small Cap Banks: ['Republic Bancorp']\n"
     ]
    }
   ],
   "source": [
    "# -*- coding: utf-8 -*-\n",
    "\"\"\"\n",
    "Student Activity: Market Capitalization.\n",
    "This script showcases the use of Python Dicts to determine the\n",
    "bank names associated with the corresponding market cap ranges.\n",
    "\"\"\"\n",
    "\n",
    "# Banks and Market Caps\n",
    "#-----------------------\n",
    "# JP Morgan Chase: 327\n",
    "# Bank of America: 302\n",
    "# Citigroup: 173\n",
    "# Wells Fargo: 273\n",
    "# Goldman Sachs: 87\n",
    "# Morgan Stanley: 72\n",
    "# U.S. Bancorp: 83\n",
    "# TD Bank: 108\n",
    "# PNC Financial Services: 67\n",
    "# Capital One: 47\n",
    "# FNB Corporation: 4\n",
    "# First Hawaiian Bank: 3\n",
    "# Ally Financial: 12\n",
    "# Wachovia: 145\n",
    "# Republic Bancorp: .97\n",
    "\n",
    "# @TODO: Initialize a dictionary of banks and market caps (in billions)\n",
    "key_value_pairs = (\n",
    "    (\"JP Morgan Chase\", 327),\n",
    "    (\"Bank of America\", 302), \n",
    "    (\"Citigroup\", 173),\n",
    "    (\"Wells Fargo\", 273),\n",
    "    (\"Goldman Sachs\", 87),\n",
    "    (\"Morgan Stanley\", 72),\n",
    "    (\"U.S. Bancorp\", 83),\n",
    "    (\"TD Bank\", 108),\n",
    "    (\"PNC Financial Services\", 67),\n",
    "    (\"Capital One\", 47),\n",
    "    (\"FNB Corporation\", 4),\n",
    "    (\"First Hawaiian Bank\", 3),\n",
    "    (\"Ally Financial\", 12),\n",
    "    (\"Wachovia\", 145),\n",
    "    (\"Republic Bancorp\", .97),\n",
    "    )\n",
    "\n",
    "# Initialize the dictionary of banks.\n",
    "banks = dict(key_value_pairs)\n",
    "\n",
    "# Change the market cap for Citigroup to 170 \n",
    "# banks[\"Citigroup\"] = \"170\"\n",
    "\n",
    "# Add a new bank American Express to the dictionary and set the marketcap to 33\n",
    "# banks[\"American Express\"] = \"33\"\n",
    "\n",
    "# Delete Wachovia from the dictionary \n",
    "del banks[\"Wachovia\"]\n",
    "\n",
    "# print(banks)\n",
    "\n",
    "# variables \n",
    "total_market_cap = 0 \n",
    "total_num_banks = 0 \n",
    "average_market_cap = 0 \n",
    "count_key = 0\n",
    "mega_cap_list = []\n",
    "large_cap_list = []\n",
    "mid_cap_list = []\n",
    "small_cap_list = []\n",
    "largest_bank = \"\"\n",
    "smallest_bank = \"\"\n",
    "\n",
    "\n",
    "# iterate over the dictionary\n",
    "for key, items in banks.items(): \n",
    "    total_market_cap += items\n",
    "   \n",
    "    if items >= 300: \n",
    "        mega_cap_list.append(key) \n",
    "    \n",
    "    if items >= 10 and items < 300: # large cap \n",
    "        large_cap_list.append(key)\n",
    "\n",
    "    if items >= 2 and items < 10: \n",
    "        mid_cap_list.append(key)\n",
    "    \n",
    "    if items < 2: \n",
    "        small_cap_list.append(key)\n",
    "\n",
    "    count_key += 1\n",
    "\n",
    "# calculate average_market_cap\n",
    "average_market_cap = total_market_cap / count_key\n",
    "\n",
    "# find the bank with the largest marketcap\n",
    "largest_bank = max(banks, key = banks.get)\n",
    "\n",
    "# find the bank with the smallest marketcap \n",
    "smallest_bank = min(banks, key = banks.get)\n",
    "\n",
    "print(f\"Total Market Capitalization: {total_market_cap:,.2f}\")\n",
    "print(f\"Total Number of Banks: {count_key}\")\n",
    "print(f\"Average Market Capitalization: {average_market_cap:,.2f}\")\n",
    "print(f\"Largest Bank: {largest_bank}\")\n",
    "print(f\"Smallest Bank: {smallest_bank}\")\n",
    "print(\"-------------------------------------\")\n",
    "print(f\"Mega Cap Banks: {mega_cap_list}\")\n",
    "print(f\"Large Cap Banks: {large_cap_list}\")\n",
    "print(f\"Mid Cap Banks: {mid_cap_list}\")\n",
    "print(f\"Small Cap Banks: {small_cap_list}\")\n"
   ]
  }
 ],
 "metadata": {
  "kernelspec": {
   "display_name": "Python 3 (ipykernel)",
   "language": "python",
   "name": "python3"
  },
  "language_info": {
   "codemirror_mode": {
    "name": "ipython",
    "version": 3
   },
   "file_extension": ".py",
   "mimetype": "text/x-python",
   "name": "python",
   "nbconvert_exporter": "python",
   "pygments_lexer": "ipython3",
   "version": "3.7.13"
  }
 },
 "nbformat": 4,
 "nbformat_minor": 5
}
