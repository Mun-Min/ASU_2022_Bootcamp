{
 "cells": [
  {
   "cell_type": "code",
   "execution_count": 1,
   "id": "0286e986-1aa4-48a3-a1aa-cbbdb0a78510",
   "metadata": {},
   "outputs": [],
   "source": [
    "# initial imports\n",
    "import pandas as pd \n",
    "import csv "
   ]
  },
  {
   "cell_type": "code",
   "execution_count": 2,
   "id": "8ab5d6df-6146-4b92-a663-97c24b24c8d0",
   "metadata": {},
   "outputs": [
    {
     "name": "stdout",
     "output_type": "stream",
     "text": [
      "      4/29/09   3.51  11537950    3.4   3.56   3.38\n",
      "0     4/30/09   3.61  18193730   3.55   3.73   3.53\n",
      "1      5/1/09   3.82  16233940   3.55   3.90   3.55\n",
      "2      5/4/09   4.26  21236940   3.90   4.30   3.83\n",
      "3      5/5/09   4.32  16369170   4.36   4.39   4.11\n",
      "4      5/6/09   4.31  15075630   4.45   4.45   4.12\n",
      "...       ...    ...       ...    ...    ...    ...\n",
      "2511  4/23/19  27.97  41583740  28.18  28.49  27.79\n",
      "2512  4/24/19  28.46  51487330  28.10  28.85  27.93\n",
      "2513  4/25/19  27.66  56709000  28.67  28.86  27.36\n",
      "2514  4/26/19  27.88  48736860  27.66  27.90  27.05\n",
      "2515  4/29/19  27.69  44265600  27.90  28.14  27.50\n",
      "\n",
      "[2516 rows x 6 columns]\n"
     ]
    }
   ],
   "source": [
    "# set the file path \n",
    "file_name = \"amd_stock_data.csv\"\n",
    "\n",
    "with open(file_name) as csv_file: \n",
    "    # read the csv \n",
    "    csv_reader = csv.reader(csv_file) \n",
    "    \n",
    "    # create a Pandas dataframe from a CSV file \n",
    "    df = pd.DataFrame([csv_reader], index = None) \n",
    "    df = pd.read_csv(file_name) \n",
    "    print(df) "
   ]
  },
  {
   "cell_type": "code",
   "execution_count": 3,
   "id": "0fcf213d-8ee4-48dd-86b8-92db8d914d99",
   "metadata": {},
   "outputs": [
    {
     "name": "stdout",
     "output_type": "stream",
     "text": [
      "      Date  Close    Volume  Open  High   Low\n",
      "0  4/29/09   3.51  11537950  3.40  3.56  3.38\n",
      "1  4/30/09   3.61  18193730  3.55  3.73  3.53\n",
      "2   5/1/09   3.82  16233940  3.55  3.90  3.55\n",
      "3   5/4/09   4.26  21236940  3.90  4.30  3.83\n",
      "4   5/5/09   4.32  16369170  4.36  4.39  4.11\n",
      "5   5/6/09   4.31  15075630  4.45  4.45  4.12\n",
      "6   5/7/09   4.01  23369680  4.22  4.35  3.91\n",
      "7   5/8/09   3.93  14316080  4.12  4.15  3.84\n",
      "8  5/11/09   4.22  25214610  3.90  4.37  3.87\n",
      "9  5/12/09   4.35  29715910  4.41  4.50  4.13\n"
     ]
    }
   ],
   "source": [
    "    df = pd.read_csv(file_name, header = None) \n",
    "    \n",
    "    # set column names \n",
    "    df.columns = [\"Date\", \"Close\", \"Volume\", \"Open\", \"High\", \"Low\"] \n",
    "    \n",
    "    # get the first 10 rows from the dataframe \n",
    "    df_top_10_vals = df.head(10)\n",
    "    \n",
    "    # recreate the dataframe \n",
    "    print(df_top_10_vals) "
   ]
  },
  {
   "cell_type": "code",
   "execution_count": 4,
   "id": "35e282f5-30f3-4e2b-a401-6b9d7ff93c6b",
   "metadata": {},
   "outputs": [
    {
     "name": "stdout",
     "output_type": "stream",
     "text": [
      "         Date  Close    Volume   Open   High    Low\n",
      "2507  4/15/19  27.33  40739300  27.80  27.84  26.96\n",
      "2508  4/16/19  27.93  47212740  27.72  28.18  27.49\n",
      "2509  4/17/19  27.49  48154690  28.21  28.27  27.22\n",
      "2510  4/18/19  27.68  39814790  27.60  27.88  27.34\n",
      "2511  4/22/19  28.18  36400850  27.62  28.23  27.39\n",
      "2512  4/23/19  27.97  41583740  28.18  28.49  27.79\n",
      "2513  4/24/19  28.46  51487330  28.10  28.85  27.93\n",
      "2514  4/25/19  27.66  56709000  28.67  28.86  27.36\n",
      "2515  4/26/19  27.88  48736860  27.66  27.90  27.05\n",
      "2516  4/29/19  27.69  44265600  27.90  28.14  27.50\n"
     ]
    }
   ],
   "source": [
    "    # get the bottom 10 rows from the dataframe \n",
    "    df_bottom_10_vals = df.tail(10)\n",
    "    print(df_bottom_10_vals) "
   ]
  },
  {
   "cell_type": "code",
   "execution_count": null,
   "id": "f2deacfc-f6a8-4b1e-98c7-280692002937",
   "metadata": {},
   "outputs": [],
   "source": []
  }
 ],
 "metadata": {
  "kernelspec": {
   "display_name": "Python 3 (ipykernel)",
   "language": "python",
   "name": "python3"
  },
  "language_info": {
   "codemirror_mode": {
    "name": "ipython",
    "version": 3
   },
   "file_extension": ".py",
   "mimetype": "text/x-python",
   "name": "python",
   "nbconvert_exporter": "python",
   "pygments_lexer": "ipython3",
   "version": "3.7.13"
  }
 },
 "nbformat": 4,
 "nbformat_minor": 5
}
