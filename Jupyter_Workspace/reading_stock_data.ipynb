{
 "cells": [
  {
   "cell_type": "code",
   "execution_count": null,
   "id": "0286e986-1aa4-48a3-a1aa-cbbdb0a78510",
   "metadata": {},
   "outputs": [],
   "source": [
    "# initial imports\n",
    "import pandas as pd \n",
    "import csv "
   ]
  },
  {
   "cell_type": "code",
   "execution_count": null,
   "id": "8ab5d6df-6146-4b92-a663-97c24b24c8d0",
   "metadata": {},
   "outputs": [],
   "source": [
    "# set the file path \n",
    "file_name = \"amd_stock_data.csv\"\n",
    "\n",
    "with open(file_name) as csv_file: \n",
    "    # read the csv \n",
    "    csv_reader = csv.reader(csv_file) \n",
    "    \n",
    "    # create a Pandas dataframe from a CSV file \n",
    "    df = pd.DataFrame([csv_reader], index = None) \n",
    "    df = pd.read_csv(file_name) \n",
    "    print(df) "
   ]
  },
  {
   "cell_type": "code",
   "execution_count": null,
   "id": "0fcf213d-8ee4-48dd-86b8-92db8d914d99",
   "metadata": {},
   "outputs": [],
   "source": [
    "    df = pd.read_csv(file_name, header = None) \n",
    "    \n",
    "    # set column names \n",
    "    df.columns = [\"Date\", \"Close\", \"Volume\", \"Open\", \"High\", \"Low\"] \n",
    "    \n",
    "    # get the first 10 rows from the dataframe \n",
    "    df_top_10_vals = df.head(10)\n",
    "    print(df_top_10_vals) "
   ]
  },
  {
   "cell_type": "code",
   "execution_count": null,
   "id": "35e282f5-30f3-4e2b-a401-6b9d7ff93c6b",
   "metadata": {},
   "outputs": [],
   "source": [
    "    # get the bottom 10 rows from the dataframe \n",
    "    df_bottom_10_vals = df.tail(10)\n",
    "    print(df_bottom_10_vals) "
   ]
  },
  {
   "cell_type": "code",
   "execution_count": null,
   "id": "f2deacfc-f6a8-4b1e-98c7-280692002937",
   "metadata": {},
   "outputs": [],
   "source": [
    "df.iloc[0,0]"
   ]
  }
 ],
 "metadata": {
  "kernelspec": {
   "display_name": "Python 3 (ipykernel)",
   "language": "python",
   "name": "python3"
  },
  "language_info": {
   "codemirror_mode": {
    "name": "ipython",
    "version": 3
   },
   "file_extension": ".py",
   "mimetype": "text/x-python",
   "name": "python",
   "nbconvert_exporter": "python",
   "pygments_lexer": "ipython3",
   "version": "3.7.13"
  }
 },
 "nbformat": 4,
 "nbformat_minor": 5
}
