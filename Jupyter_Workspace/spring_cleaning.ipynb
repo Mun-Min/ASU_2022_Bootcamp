{
 "cells": [
  {
   "cell_type": "code",
   "execution_count": null,
   "id": "5301309c-3bd0-4f9a-b82f-63164bcdfd87",
   "metadata": {},
   "outputs": [],
   "source": [
    "# import libraries \n",
    "import pandas as pd \n",
    "from pathlib import Path \n",
    "import csv "
   ]
  },
  {
   "cell_type": "code",
   "execution_count": null,
   "id": "9880a406-acdb-48d2-a877-1d7ca29b5974",
   "metadata": {},
   "outputs": [],
   "source": [
    "# Load CSV data into Pandas using read_csv\n",
    "# set the file path \n",
    "file_name = \"stock_data.csv\"\n",
    "\n",
    "with open(file_name) as csv_file: \n",
    "    # read the csv \n",
    "    csv_reader = csv.reader(csv_file) \n",
    "    \n",
    "    # create a Pandas dataframe from a CSV file \n",
    "    df = pd.DataFrame([csv_reader], index = None) \n",
    "    df = pd.read_csv(file_name)  "
   ]
  },
  {
   "cell_type": "code",
   "execution_count": null,
   "id": "3c5536c5-6d1c-4704-a8a1-ad822956b34f",
   "metadata": {},
   "outputs": [],
   "source": [
    "    # Identify the number of rows and columns (shape) in the DataFrame.\n",
    "    rows = df.shape[0]\n",
    "    cols = df.shape[1]\n",
    "    \n",
    "    print(f\"# of Rows: {str(rows)}\") \n",
    "    print(f\"# of Cols: {str(cols)}\") "
   ]
  },
  {
   "cell_type": "code",
   "execution_count": null,
   "id": "18410746-b670-40da-98c2-d7bce980b891",
   "metadata": {},
   "outputs": [],
   "source": [
    "# Generate a sample of the data to visually ensure data has been loaded in correctly.\n",
    "display(df)"
   ]
  },
  {
   "cell_type": "code",
   "execution_count": null,
   "id": "0b1633e0-9798-4fd3-a99e-839c6bdc6c5a",
   "metadata": {},
   "outputs": [],
   "source": [
    "# Identify the number of records in the DataFrame, and compare it with the number of rows in the original file.\n"
   ]
  },
  {
   "cell_type": "code",
   "execution_count": null,
   "id": "9a6d553f-7cb6-4dc2-adf1-4b06363f53b4",
   "metadata": {},
   "outputs": [],
   "source": [
    "# Identify nulls records\n"
   ]
  },
  {
   "cell_type": "code",
   "execution_count": null,
   "id": "647e0b56-1522-4c2a-b05f-7e89ddd3f3b3",
   "metadata": {},
   "outputs": [],
   "source": [
    "# Drop Null Records\n"
   ]
  },
  {
   "cell_type": "code",
   "execution_count": null,
   "id": "ce211053-f597-45fd-a6a7-cb325b1e529f",
   "metadata": {},
   "outputs": [],
   "source": [
    "# Validate nulls have been dropped\n"
   ]
  },
  {
   "cell_type": "code",
   "execution_count": null,
   "id": "396e0836-70ff-46ee-b9be-1251675e4357",
   "metadata": {},
   "outputs": [],
   "source": [
    "# Default null ebitda values to 0. Then, validate no records are null for ebitda.\n"
   ]
  },
  {
   "cell_type": "code",
   "execution_count": null,
   "id": "b03dde02-b37f-4395-a680-832c83bba25b",
   "metadata": {},
   "outputs": [],
   "source": [
    "# Drop Duplicates\n"
   ]
  }
 ],
 "metadata": {
  "kernelspec": {
   "display_name": "Python 3 (ipykernel)",
   "language": "python",
   "name": "python3"
  },
  "language_info": {
   "codemirror_mode": {
    "name": "ipython",
    "version": 3
   },
   "file_extension": ".py",
   "mimetype": "text/x-python",
   "name": "python",
   "nbconvert_exporter": "python",
   "pygments_lexer": "ipython3",
   "version": "3.7.13"
  }
 },
 "nbformat": 4,
 "nbformat_minor": 5
}
