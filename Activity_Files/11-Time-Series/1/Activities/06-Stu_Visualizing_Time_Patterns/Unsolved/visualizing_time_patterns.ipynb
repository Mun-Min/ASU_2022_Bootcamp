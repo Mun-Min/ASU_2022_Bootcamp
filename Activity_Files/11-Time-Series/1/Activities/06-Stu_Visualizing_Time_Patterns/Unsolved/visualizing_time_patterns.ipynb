{
 "cells": [
  {
   "cell_type": "markdown",
   "metadata": {},
   "source": [
    "# Visualizing Time Patterns with hvPlot\n",
    "\n",
    "In this activity you we gain some additional practice working with the hvPlot grouped plots."
   ]
  },
  {
   "cell_type": "markdown",
   "metadata": {},
   "source": [
    "### Import Libraries and Dependencies"
   ]
  },
  {
   "cell_type": "code",
   "execution_count": 10,
   "metadata": {},
   "outputs": [],
   "source": [
    "# Import necessary libraries and dependencies\n",
    "import numpy as np\n",
    "import pandas as pd\n",
    "import hvplot.pandas\n",
    "from pathlib import Path"
   ]
  },
  {
   "cell_type": "markdown",
   "metadata": {},
   "source": [
    "## 1. Read the S&P 500 volume into a DataFrame. (Make sure to declare the datetime index)."
   ]
  },
  {
   "cell_type": "code",
   "execution_count": 11,
   "metadata": {},
   "outputs": [
    {
     "data": {
      "text/html": [
       "<div>\n",
       "<style scoped>\n",
       "    .dataframe tbody tr th:only-of-type {\n",
       "        vertical-align: middle;\n",
       "    }\n",
       "\n",
       "    .dataframe tbody tr th {\n",
       "        vertical-align: top;\n",
       "    }\n",
       "\n",
       "    .dataframe thead th {\n",
       "        text-align: right;\n",
       "    }\n",
       "</style>\n",
       "<table border=\"1\" class=\"dataframe\">\n",
       "  <thead>\n",
       "    <tr style=\"text-align: right;\">\n",
       "      <th></th>\n",
       "      <th>close</th>\n",
       "      <th>volume</th>\n",
       "    </tr>\n",
       "    <tr>\n",
       "      <th>Date</th>\n",
       "      <th></th>\n",
       "      <th></th>\n",
       "    </tr>\n",
       "  </thead>\n",
       "  <tbody>\n",
       "    <tr>\n",
       "      <th>2020-03-12 08:00:00</th>\n",
       "      <td>258.60</td>\n",
       "      <td>229683</td>\n",
       "    </tr>\n",
       "    <tr>\n",
       "      <th>2020-03-12 09:00:00</th>\n",
       "      <td>257.76</td>\n",
       "      <td>457488</td>\n",
       "    </tr>\n",
       "    <tr>\n",
       "      <th>2020-03-12 10:00:00</th>\n",
       "      <td>252.81</td>\n",
       "      <td>291881</td>\n",
       "    </tr>\n",
       "    <tr>\n",
       "      <th>2020-03-12 11:00:00</th>\n",
       "      <td>259.99</td>\n",
       "      <td>353484</td>\n",
       "    </tr>\n",
       "    <tr>\n",
       "      <th>2020-03-12 12:00:00</th>\n",
       "      <td>257.12</td>\n",
       "      <td>520699</td>\n",
       "    </tr>\n",
       "  </tbody>\n",
       "</table>\n",
       "</div>"
      ],
      "text/plain": [
       "                      close  volume\n",
       "Date                               \n",
       "2020-03-12 08:00:00  258.60  229683\n",
       "2020-03-12 09:00:00  257.76  457488\n",
       "2020-03-12 10:00:00  252.81  291881\n",
       "2020-03-12 11:00:00  259.99  353484\n",
       "2020-03-12 12:00:00  257.12  520699"
      ]
     },
     "execution_count": 11,
     "metadata": {},
     "output_type": "execute_result"
    }
   ],
   "source": [
    "# Import data\n",
    "sp500_data = Path('../Resources/sp500_stock_volume.csv')\n",
    "\n",
    "# Read the S&P 500 volume into a DataFrame. (Make sure to declare the datetime index).\n",
    "sp500_data = pd.read_csv(sp500_data, index_col='Date', parse_dates=True, infer_datetime_format=True)\n",
    "\n",
    "# Display sample data\n",
    "sp500_data.head()"
   ]
  },
  {
   "cell_type": "markdown",
   "metadata": {},
   "source": [
    "## 2. Slice the dataframe so that it just includes the volume data."
   ]
  },
  {
   "cell_type": "code",
   "execution_count": 12,
   "metadata": {},
   "outputs": [],
   "source": [
    "# Slice the dataframe so that it just includes the volume data.\n",
    "sp500_data = sp500_data.loc[:,['volume']]"
   ]
  },
  {
   "cell_type": "markdown",
   "metadata": {},
   "source": [
    "## 3. Using hvPlot, plot the volume data according to the day of the week."
   ]
  },
  {
   "cell_type": "code",
   "execution_count": 13,
   "metadata": {},
   "outputs": [
    {
     "data": {},
     "metadata": {},
     "output_type": "display_data"
    },
    {
     "data": {
      "application/vnd.holoviews_exec.v0+json": "",
      "text/html": [
       "<div id='1652'>\n",
       "\n",
       "\n",
       "\n",
       "\n",
       "\n",
       "  <div class=\"bk-root\" id=\"4a031545-cefa-47f4-947a-a573f5f84d71\" data-root-id=\"1652\"></div>\n",
       "</div>\n",
       "<script type=\"application/javascript\">(function(root) {\n",
       "  function embed_document(root) {\n",
       "    var docs_json = {\"49b67d7f-4813-4fea-8ca0-aa5d1c080423\":{\"defs\":[{\"extends\":null,\"module\":null,\"name\":\"ReactiveHTML1\",\"overrides\":[],\"properties\":[]},{\"extends\":null,\"module\":null,\"name\":\"FlexBox1\",\"overrides\":[],\"properties\":[{\"default\":\"flex-start\",\"kind\":null,\"name\":\"align_content\"},{\"default\":\"flex-start\",\"kind\":null,\"name\":\"align_items\"},{\"default\":\"row\",\"kind\":null,\"name\":\"flex_direction\"},{\"default\":\"wrap\",\"kind\":null,\"name\":\"flex_wrap\"},{\"default\":\"flex-start\",\"kind\":null,\"name\":\"justify_content\"}]},{\"extends\":null,\"module\":null,\"name\":\"GridStack1\",\"overrides\":[],\"properties\":[{\"default\":\"warn\",\"kind\":null,\"name\":\"mode\"},{\"default\":null,\"kind\":null,\"name\":\"ncols\"},{\"default\":null,\"kind\":null,\"name\":\"nrows\"},{\"default\":true,\"kind\":null,\"name\":\"allow_resize\"},{\"default\":true,\"kind\":null,\"name\":\"allow_drag\"},{\"default\":[],\"kind\":null,\"name\":\"state\"}]},{\"extends\":null,\"module\":null,\"name\":\"click1\",\"overrides\":[],\"properties\":[{\"default\":\"\",\"kind\":null,\"name\":\"terminal_output\"},{\"default\":\"\",\"kind\":null,\"name\":\"debug_name\"},{\"default\":0,\"kind\":null,\"name\":\"clears\"}]},{\"extends\":null,\"module\":null,\"name\":\"TemplateActions1\",\"overrides\":[],\"properties\":[{\"default\":0,\"kind\":null,\"name\":\"open_modal\"},{\"default\":0,\"kind\":null,\"name\":\"close_modal\"}]},{\"extends\":null,\"module\":null,\"name\":\"MaterialTemplateActions1\",\"overrides\":[],\"properties\":[{\"default\":0,\"kind\":null,\"name\":\"open_modal\"},{\"default\":0,\"kind\":null,\"name\":\"close_modal\"}]}],\"roots\":{\"references\":[{\"attributes\":{},\"id\":\"1662\",\"type\":\"LinearScale\"},{\"attributes\":{},\"id\":\"1671\",\"type\":\"BasicTicker\"},{\"attributes\":{\"axis\":{\"id\":\"1666\"},\"coordinates\":null,\"grid_line_color\":null,\"group\":null,\"ticker\":null},\"id\":\"1669\",\"type\":\"Grid\"},{\"attributes\":{\"tools\":[{\"id\":\"1656\"},{\"id\":\"1674\"},{\"id\":\"1675\"},{\"id\":\"1676\"},{\"id\":\"1677\"},{\"id\":\"1678\"}]},\"id\":\"1680\",\"type\":\"Toolbar\"},{\"attributes\":{},\"id\":\"1664\",\"type\":\"LinearScale\"},{\"attributes\":{},\"id\":\"1709\",\"type\":\"UnionRenderers\"},{\"attributes\":{\"axis_label\":\"volume\",\"coordinates\":null,\"formatter\":{\"id\":\"1700\"},\"group\":null,\"major_label_policy\":{\"id\":\"1701\"},\"ticker\":{\"id\":\"1671\"}},\"id\":\"1670\",\"type\":\"LinearAxis\"},{\"attributes\":{\"axis_label\":\"Date\",\"coordinates\":null,\"formatter\":{\"id\":\"1697\"},\"group\":null,\"major_label_policy\":{\"id\":\"1698\"},\"ticker\":{\"id\":\"1667\"}},\"id\":\"1666\",\"type\":\"LinearAxis\"},{\"attributes\":{\"bottom_units\":\"screen\",\"coordinates\":null,\"fill_alpha\":0.5,\"fill_color\":\"lightgrey\",\"group\":null,\"left_units\":\"screen\",\"level\":\"overlay\",\"line_alpha\":1.0,\"line_color\":\"black\",\"line_dash\":[4,4],\"line_width\":2,\"right_units\":\"screen\",\"syncable\":false,\"top_units\":\"screen\"},\"id\":\"1679\",\"type\":\"BoxAnnotation\"},{\"attributes\":{},\"id\":\"1697\",\"type\":\"BasicTickFormatter\"},{\"attributes\":{},\"id\":\"1688\",\"type\":\"Selection\"},{\"attributes\":{\"end\":4.0,\"reset_end\":4.0,\"reset_start\":0.0,\"tags\":[[[\"Date\",\"Date\",null]]]},\"id\":\"1654\",\"type\":\"Range1d\"},{\"attributes\":{\"axis\":{\"id\":\"1670\"},\"coordinates\":null,\"dimension\":1,\"grid_line_color\":null,\"group\":null,\"ticker\":null},\"id\":\"1673\",\"type\":\"Grid\"},{\"attributes\":{\"below\":[{\"id\":\"1666\"}],\"center\":[{\"id\":\"1669\"},{\"id\":\"1673\"}],\"height\":300,\"left\":[{\"id\":\"1670\"}],\"margin\":[5,5,5,5],\"min_border_bottom\":10,\"min_border_left\":10,\"min_border_right\":10,\"min_border_top\":10,\"renderers\":[{\"id\":\"1693\"}],\"sizing_mode\":\"fixed\",\"title\":{\"id\":\"1658\"},\"toolbar\":{\"id\":\"1680\"},\"width\":700,\"x_range\":{\"id\":\"1654\"},\"x_scale\":{\"id\":\"1662\"},\"y_range\":{\"id\":\"1655\"},\"y_scale\":{\"id\":\"1664\"}},\"id\":\"1657\",\"subtype\":\"Figure\",\"type\":\"Plot\"},{\"attributes\":{\"margin\":[5,5,5,5],\"name\":\"HSpacer02564\",\"sizing_mode\":\"stretch_width\"},\"id\":\"1653\",\"type\":\"Spacer\"},{\"attributes\":{},\"id\":\"1698\",\"type\":\"AllLabels\"},{\"attributes\":{\"line_alpha\":0.2,\"line_color\":\"#30a2da\",\"line_width\":2,\"x\":{\"field\":\"Date\"},\"y\":{\"field\":\"volume\"}},\"id\":\"1692\",\"type\":\"Line\"},{\"attributes\":{\"line_color\":\"#30a2da\",\"line_width\":2,\"x\":{\"field\":\"Date\"},\"y\":{\"field\":\"volume\"}},\"id\":\"1690\",\"type\":\"Line\"},{\"attributes\":{\"line_alpha\":0.1,\"line_color\":\"#30a2da\",\"line_width\":2,\"x\":{\"field\":\"Date\"},\"y\":{\"field\":\"volume\"}},\"id\":\"1691\",\"type\":\"Line\"},{\"attributes\":{\"callback\":null,\"renderers\":[{\"id\":\"1693\"}],\"tags\":[\"hv_created\"],\"tooltips\":[[\"Date\",\"@{Date}\"],[\"volume\",\"@{volume}\"]]},\"id\":\"1656\",\"type\":\"HoverTool\"},{\"attributes\":{},\"id\":\"1700\",\"type\":\"BasicTickFormatter\"},{\"attributes\":{},\"id\":\"1667\",\"type\":\"BasicTicker\"},{\"attributes\":{\"coordinates\":null,\"data_source\":{\"id\":\"1687\"},\"glyph\":{\"id\":\"1690\"},\"group\":null,\"hover_glyph\":null,\"muted_glyph\":{\"id\":\"1692\"},\"nonselection_glyph\":{\"id\":\"1691\"},\"selection_glyph\":{\"id\":\"1695\"},\"view\":{\"id\":\"1694\"}},\"id\":\"1693\",\"type\":\"GlyphRenderer\"},{\"attributes\":{},\"id\":\"1674\",\"type\":\"SaveTool\"},{\"attributes\":{\"end\":99652.59998508214,\"reset_end\":99652.59998508214,\"reset_start\":84643.9277714584,\"start\":84643.9277714584,\"tags\":[[[\"volume\",\"volume\",null]]]},\"id\":\"1655\",\"type\":\"Range1d\"},{\"attributes\":{},\"id\":\"1675\",\"type\":\"PanTool\"},{\"attributes\":{},\"id\":\"1701\",\"type\":\"AllLabels\"},{\"attributes\":{\"margin\":[5,5,5,5],\"name\":\"HSpacer02565\",\"sizing_mode\":\"stretch_width\"},\"id\":\"1722\",\"type\":\"Spacer\"},{\"attributes\":{\"source\":{\"id\":\"1687\"}},\"id\":\"1694\",\"type\":\"CDSView\"},{\"attributes\":{},\"id\":\"1676\",\"type\":\"WheelZoomTool\"},{\"attributes\":{\"children\":[{\"id\":\"1653\"},{\"id\":\"1657\"},{\"id\":\"1722\"}],\"margin\":[0,0,0,0],\"name\":\"Row02560\",\"tags\":[\"embedded\"]},\"id\":\"1652\",\"type\":\"Row\"},{\"attributes\":{\"overlay\":{\"id\":\"1679\"}},\"id\":\"1677\",\"type\":\"BoxZoomTool\"},{\"attributes\":{\"data\":{\"Date\":[0,1,2,3,4],\"volume\":{\"__ndarray__\":\"7Md+7Ac39UBjeURoavj0QJQyxwD3K/ZAPF5sCR4G+EDO+xSXPDP3QA==\",\"dtype\":\"float64\",\"order\":\"little\",\"shape\":[5]}},\"selected\":{\"id\":\"1688\"},\"selection_policy\":{\"id\":\"1709\"}},\"id\":\"1687\",\"type\":\"ColumnDataSource\"},{\"attributes\":{\"line_color\":\"#30a2da\",\"line_width\":2,\"x\":{\"field\":\"Date\"},\"y\":{\"field\":\"volume\"}},\"id\":\"1695\",\"type\":\"Line\"},{\"attributes\":{},\"id\":\"1678\",\"type\":\"ResetTool\"},{\"attributes\":{\"coordinates\":null,\"group\":null,\"text_color\":\"black\",\"text_font_size\":\"12pt\"},\"id\":\"1658\",\"type\":\"Title\"}],\"root_ids\":[\"1652\"]},\"title\":\"Bokeh Application\",\"version\":\"2.4.2\"}};\n",
       "    var render_items = [{\"docid\":\"49b67d7f-4813-4fea-8ca0-aa5d1c080423\",\"root_ids\":[\"1652\"],\"roots\":{\"1652\":\"4a031545-cefa-47f4-947a-a573f5f84d71\"}}];\n",
       "    root.Bokeh.embed.embed_items_notebook(docs_json, render_items);\n",
       "  }\n",
       "  if (root.Bokeh !== undefined && root.Bokeh.Panel !== undefined) {\n",
       "    embed_document(root);\n",
       "  } else {\n",
       "    var attempts = 0;\n",
       "    var timer = setInterval(function(root) {\n",
       "      if (root.Bokeh !== undefined && root.Bokeh.Panel !== undefined) {\n",
       "        clearInterval(timer);\n",
       "        embed_document(root);\n",
       "      } else if (document.readyState == \"complete\") {\n",
       "        attempts++;\n",
       "        if (attempts > 200) {\n",
       "          clearInterval(timer);\n",
       "          console.log(\"Bokeh: ERROR: Unable to run BokehJS code because BokehJS library is missing\");\n",
       "        }\n",
       "      }\n",
       "    }, 25, root)\n",
       "  }\n",
       "})(window);</script>"
      ],
      "text/plain": [
       ":Curve   [Date]   (volume)"
      ]
     },
     "execution_count": 13,
     "metadata": {
      "application/vnd.holoviews_exec.v0+json": {
       "id": "1652"
      }
     },
     "output_type": "execute_result"
    }
   ],
   "source": [
    "# Declare the group level to be the day of the week (e.g., Mon, Tues,...)\n",
    "sp500_day = sp500_data.index.dayofweek\n",
    "\n",
    "# Plot average daily volume according to day of the week\n",
    "sp500_data.groupby(sp500_day).mean().hvplot(figsize = (10,5))\n"
   ]
  },
  {
   "cell_type": "markdown",
   "metadata": {},
   "source": [
    "**Question:** On what day does trading in the S&P500 tend to be the most active?\n",
    "\n",
    "**Answer:** YOUR ANSWER HERE"
   ]
  },
  {
   "cell_type": "markdown",
   "metadata": {},
   "source": [
    "## 4. Use hvPlot to visualize hourly trends for each day of the week in the form of a heatmap. "
   ]
  },
  {
   "cell_type": "code",
   "execution_count": 14,
   "metadata": {},
   "outputs": [
    {
     "data": {},
     "metadata": {},
     "output_type": "display_data"
    },
    {
     "data": {
      "application/vnd.holoviews_exec.v0+json": "",
      "text/html": [
       "<div id='1774'>\n",
       "\n",
       "\n",
       "\n",
       "\n",
       "\n",
       "  <div class=\"bk-root\" id=\"6b4090f3-f5a9-4ca1-9342-396ad6ef64b7\" data-root-id=\"1774\"></div>\n",
       "</div>\n",
       "<script type=\"application/javascript\">(function(root) {\n",
       "  function embed_document(root) {\n",
       "    var docs_json = {\"872f9aaf-ea26-4029-9b2f-13346c47e952\":{\"defs\":[{\"extends\":null,\"module\":null,\"name\":\"ReactiveHTML1\",\"overrides\":[],\"properties\":[]},{\"extends\":null,\"module\":null,\"name\":\"FlexBox1\",\"overrides\":[],\"properties\":[{\"default\":\"flex-start\",\"kind\":null,\"name\":\"align_content\"},{\"default\":\"flex-start\",\"kind\":null,\"name\":\"align_items\"},{\"default\":\"row\",\"kind\":null,\"name\":\"flex_direction\"},{\"default\":\"wrap\",\"kind\":null,\"name\":\"flex_wrap\"},{\"default\":\"flex-start\",\"kind\":null,\"name\":\"justify_content\"}]},{\"extends\":null,\"module\":null,\"name\":\"GridStack1\",\"overrides\":[],\"properties\":[{\"default\":\"warn\",\"kind\":null,\"name\":\"mode\"},{\"default\":null,\"kind\":null,\"name\":\"ncols\"},{\"default\":null,\"kind\":null,\"name\":\"nrows\"},{\"default\":true,\"kind\":null,\"name\":\"allow_resize\"},{\"default\":true,\"kind\":null,\"name\":\"allow_drag\"},{\"default\":[],\"kind\":null,\"name\":\"state\"}]},{\"extends\":null,\"module\":null,\"name\":\"click1\",\"overrides\":[],\"properties\":[{\"default\":\"\",\"kind\":null,\"name\":\"terminal_output\"},{\"default\":\"\",\"kind\":null,\"name\":\"debug_name\"},{\"default\":0,\"kind\":null,\"name\":\"clears\"}]},{\"extends\":null,\"module\":null,\"name\":\"TemplateActions1\",\"overrides\":[],\"properties\":[{\"default\":0,\"kind\":null,\"name\":\"open_modal\"},{\"default\":0,\"kind\":null,\"name\":\"close_modal\"}]},{\"extends\":null,\"module\":null,\"name\":\"MaterialTemplateActions1\",\"overrides\":[],\"properties\":[{\"default\":0,\"kind\":null,\"name\":\"open_modal\"},{\"default\":0,\"kind\":null,\"name\":\"close_modal\"}]}],\"roots\":{\"references\":[{\"attributes\":{\"coordinates\":null,\"group\":null,\"text_color\":\"black\",\"text_font_size\":\"12pt\"},\"id\":\"1780\",\"type\":\"Title\"},{\"attributes\":{\"source\":{\"id\":\"1810\"}},\"id\":\"1818\",\"type\":\"CDSView\"},{\"attributes\":{},\"id\":\"1831\",\"type\":\"NoOverlap\"},{\"attributes\":{},\"id\":\"1784\",\"type\":\"LinearScale\"},{\"attributes\":{\"coordinates\":null,\"data_source\":{\"id\":\"1810\"},\"glyph\":{\"id\":\"1813\"},\"group\":null,\"hover_glyph\":null,\"muted_glyph\":{\"id\":\"1816\"},\"nonselection_glyph\":{\"id\":\"1814\"},\"selection_glyph\":{\"id\":\"1815\"},\"view\":{\"id\":\"1818\"}},\"id\":\"1817\",\"type\":\"GlyphRenderer\"},{\"attributes\":{},\"id\":\"1793\",\"type\":\"BasicTicker\"},{\"attributes\":{\"fill_color\":{\"field\":\"zvalues\",\"transform\":{\"id\":\"1809\"}},\"height\":{\"field\":\"height\"},\"line_alpha\":{\"value\":0},\"line_color\":{\"value\":\"#1f77b4\"},\"width\":{\"field\":\"width\"},\"x\":{\"field\":\"index_full_stop_day\"},\"y\":{\"field\":\"index_full_stop_hour\"}},\"id\":\"1813\",\"type\":\"Rect\"},{\"attributes\":{\"axis\":{\"id\":\"1788\"},\"coordinates\":null,\"grid_line_color\":null,\"group\":null,\"ticker\":null},\"id\":\"1791\",\"type\":\"Grid\"},{\"attributes\":{\"margin\":[5,5,5,5],\"name\":\"HSpacer02730\",\"sizing_mode\":\"stretch_width\"},\"id\":\"1849\",\"type\":\"Spacer\"},{\"attributes\":{\"fill_color\":{\"field\":\"zvalues\",\"transform\":{\"id\":\"1809\"}},\"height\":{\"field\":\"height\"},\"line_alpha\":{\"value\":0},\"line_color\":{\"value\":\"#1f77b4\"},\"width\":{\"field\":\"width\"},\"x\":{\"field\":\"index_full_stop_day\"},\"y\":{\"field\":\"index_full_stop_hour\"}},\"id\":\"1815\",\"type\":\"Rect\"},{\"attributes\":{},\"id\":\"1786\",\"type\":\"LinearScale\"},{\"attributes\":{\"fill_alpha\":{\"value\":0.2},\"fill_color\":{\"field\":\"zvalues\",\"transform\":{\"id\":\"1809\"}},\"hatch_alpha\":{\"value\":0.2},\"height\":{\"field\":\"height\"},\"line_alpha\":{\"value\":0},\"line_color\":{\"value\":\"#1f77b4\"},\"width\":{\"field\":\"width\"},\"x\":{\"field\":\"index_full_stop_day\"},\"y\":{\"field\":\"index_full_stop_hour\"}},\"id\":\"1816\",\"type\":\"Rect\"},{\"attributes\":{\"axis_label\":\"index.hour\",\"coordinates\":null,\"formatter\":{\"id\":\"1825\"},\"group\":null,\"major_label_policy\":{\"id\":\"1826\"},\"ticker\":{\"id\":\"1793\"}},\"id\":\"1792\",\"type\":\"LinearAxis\"},{\"attributes\":{},\"id\":\"1823\",\"type\":\"AllLabels\"},{\"attributes\":{\"axis_label\":\"index.day\",\"coordinates\":null,\"formatter\":{\"id\":\"1822\"},\"group\":null,\"major_label_policy\":{\"id\":\"1823\"},\"ticker\":{\"id\":\"1789\"}},\"id\":\"1788\",\"type\":\"LinearAxis\"},{\"attributes\":{\"callback\":null,\"renderers\":[{\"id\":\"1817\"}],\"tags\":[\"hv_created\"],\"tooltips\":[[\"index.day\",\"@{index_full_stop_day}\"],[\"index.hour\",\"@{index_full_stop_hour}\"],[\"volume\",\"@{volume}\"]]},\"id\":\"1778\",\"type\":\"HoverTool\"},{\"attributes\":{},\"id\":\"1789\",\"type\":\"BasicTicker\"},{\"attributes\":{\"below\":[{\"id\":\"1788\"}],\"center\":[{\"id\":\"1791\"},{\"id\":\"1795\"}],\"height\":300,\"left\":[{\"id\":\"1792\"}],\"margin\":[5,5,5,5],\"min_border_bottom\":10,\"min_border_left\":10,\"min_border_right\":10,\"min_border_top\":10,\"renderers\":[{\"id\":\"1817\"}],\"right\":[{\"id\":\"1820\"}],\"sizing_mode\":\"fixed\",\"title\":{\"id\":\"1780\"},\"toolbar\":{\"id\":\"1802\"},\"width\":700,\"x_range\":{\"id\":\"1776\"},\"x_scale\":{\"id\":\"1784\"},\"y_range\":{\"id\":\"1777\"},\"y_scale\":{\"id\":\"1786\"}},\"id\":\"1779\",\"subtype\":\"Figure\",\"type\":\"Plot\"},{\"attributes\":{},\"id\":\"1825\",\"type\":\"BasicTickFormatter\"},{\"attributes\":{\"axis\":{\"id\":\"1792\"},\"coordinates\":null,\"dimension\":1,\"grid_line_color\":null,\"group\":null,\"ticker\":null},\"id\":\"1795\",\"type\":\"Grid\"},{\"attributes\":{\"bar_line_color\":\"black\",\"color_mapper\":{\"id\":\"1809\"},\"coordinates\":null,\"group\":null,\"label_standoff\":8,\"location\":[0,0],\"major_label_policy\":{\"id\":\"1831\"},\"major_tick_line_color\":\"black\",\"ticker\":{\"id\":\"1819\"}},\"id\":\"1820\",\"type\":\"ColorBar\"},{\"attributes\":{},\"id\":\"1826\",\"type\":\"AllLabels\"},{\"attributes\":{\"end\":14.5,\"reset_end\":14.5,\"reset_start\":7.5,\"start\":7.5,\"tags\":[[[\"index.hour\",\"index.hour\",null]]]},\"id\":\"1777\",\"type\":\"Range1d\"},{\"attributes\":{\"data\":{\"height\":{\"__ndarray__\":\"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\",\"dtype\":\"float64\",\"order\":\"little\",\"shape\":[217]},\"index_full_stop_day\":[1,1,1,1,1,1,1,2,2,2,2,2,2,2,3,3,3,3,3,3,3,4,4,4,4,4,4,4,5,5,5,5,5,5,5,6,6,6,6,6,6,6,7,7,7,7,7,7,7,8,8,8,8,8,8,8,9,9,9,9,9,9,9,10,10,10,10,10,10,10,11,11,11,11,11,11,11,12,12,12,12,12,12,12,13,13,13,13,13,13,13,14,14,14,14,14,14,14,15,15,15,15,15,15,15,16,16,16,16,16,16,16,17,17,17,17,17,17,17,18,18,18,18,18,18,18,19,19,19,19,19,19,19,20,20,20,20,20,20,20,21,21,21,21,21,21,21,22,22,22,22,22,22,22,23,23,23,23,23,23,23,24,24,24,24,24,24,24,25,25,25,25,25,25,25,26,26,26,26,26,26,26,27,27,27,27,27,27,27,28,28,28,28,28,28,28,29,29,29,29,29,29,29,30,30,30,30,30,30,30,31,31,31,31,31,31,31],\"index_full_stop_hour\":[8,9,10,11,12,13,14,8,9,10,11,12,13,14,8,9,10,11,12,13,14,8,9,10,11,12,13,14,8,9,10,11,12,13,14,8,9,10,11,12,13,14,8,9,10,11,12,13,14,8,9,10,11,12,13,14,8,9,10,11,12,13,14,8,9,10,11,12,13,14,8,9,10,11,12,13,14,8,9,10,11,12,13,14,8,9,10,11,12,13,14,8,9,10,11,12,13,14,8,9,10,11,12,13,14,8,9,10,11,12,13,14,8,9,10,11,12,13,14,8,9,10,11,12,13,14,8,9,10,11,12,13,14,8,9,10,11,12,13,14,8,9,10,11,12,13,14,8,9,10,11,12,13,14,8,9,10,11,12,13,14,8,9,10,11,12,13,14,8,9,10,11,12,13,14,8,9,10,11,12,13,14,8,9,10,11,12,13,14,8,9,10,11,12,13,14,8,9,10,11,12,13,14,8,9,10,11,12,13,14,8,9,10,11,12,13,14],\"volume\":[\"83935\",\"1.0016e+05\",\"73315\",\"66270\",\"49556\",\"65851\",\"1.5455e+05\",\"77500\",\"1.032e+05\",\"71930\",\"58658\",\"59603\",\"66125\",\"1.6401e+05\",\"65312\",\"1.002e+05\",\"91792\",\"62306\",\"53839\",\"71605\",\"1.9584e+05\",\"71330\",\"1.0981e+05\",\"73116\",\"59907\",\"50686\",\"62388\",\"1.568e+05\",\"67389\",\"77696\",\"61632\",\"43584\",\"38347\",\"57898\",\"1.4733e+05\",\"65190\",\"92394\",\"66113\",\"54554\",\"45943\",\"94111\",\"2.1678e+05\",\"81318\",\"89249\",\"65608\",\"51517\",\"53440\",\"79210\",\"1.7718e+05\",\"66085\",\"77408\",\"66023\",\"45434\",\"50991\",\"61230\",\"1.5366e+05\",\"99361\",\"1.3015e+05\",\"92073\",\"71843\",\"66579\",\"82354\",\"1.7954e+05\",\"56152\",\"83417\",\"64374\",\"45048\",\"39596\",\"88928\",\"1.3509e+05\",\"74977\",\"77711\",\"62756\",\"67759\",\"64997\",\"81595\",\"1.8733e+05\",\"88215\",\"1.3638e+05\",\"1.1109e+05\",\"1.0455e+05\",\"1.3702e+05\",\"1.0703e+05\",\"2.4137e+05\",\"92446\",\"1.1991e+05\",\"1.0713e+05\",\"82381\",\"67746\",\"99570\",\"2.2726e+05\",\"69819\",\"95008\",\"75543\",\"53935\",\"51412\",\"59860\",\"1.6096e+05\",\"79820\",\"1.0235e+05\",\"78906\",\"58187\",\"54684\",\"81398\",\"1.513e+05\",\"76336\",\"1.2876e+05\",\"1.0494e+05\",\"78346\",\"63180\",\"98613\",\"2.2906e+05\",\"84306\",\"1.1122e+05\",\"79243\",\"72338\",\"55434\",\"70154\",\"1.7612e+05\",\"96011\",\"97908\",\"92537\",\"71767\",\"88557\",\"1.0359e+05\",\"2.3379e+05\",\"82243\",\"1.0749e+05\",\"84668\",\"78791\",\"62352\",\"1.0138e+05\",\"2.1929e+05\",\"79949\",\"95013\",\"77468\",\"69410\",\"54705\",\"76830\",\"1.8542e+05\",\"68380\",\"90949\",\"76973\",\"56234\",\"54692\",\"55606\",\"1.4591e+05\",\"55937\",\"73390\",\"51776\",\"36373\",\"38229\",\"47273\",\"1.2476e+05\",\"84517\",\"89194\",\"82856\",\"92776\",\"78636\",\"86019\",\"1.8315e+05\",\"82853\",\"1.0621e+05\",\"88410\",\"79712\",\"79150\",\"87116\",\"1.8506e+05\",\"99671\",\"1.1056e+05\",\"85275\",\"73138\",\"73483\",\"79003\",\"1.7713e+05\",\"79829\",\"1.245e+05\",\"99056\",\"73378\",\"77190\",\"86947\",\"2.0619e+05\",\"80668\",\"90196\",\"76626\",\"66486\",\"62730\",\"74100\",\"2.0447e+05\",\"67096\",\"95661\",\"67959\",\"49163\",\"43211\",\"55774\",\"1.5696e+05\",\"70755\",\"86725\",\"69848\",\"67851\",\"55168\",\"86249\",\"1.6782e+05\",\"68331\",\"1.0558e+05\",\"77686\",\"64241\",\"52899\",\"82749\",\"2.1017e+05\",\"67154\",\"87841\",\"67606\",\"69596\",\"52605\",\"67052\",\"2.1988e+05\"],\"width\":{\"__ndarray__\":\"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\",\"dtype\":\"float64\",\"order\":\"little\",\"shape\":[217]},\"zvalues\":{\"__ndarray__\":\"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\",\"dtype\":\"float64\",\"order\":\"little\",\"shape\":[217]}},\"selected\":{\"id\":\"1811\"},\"selection_policy\":{\"id\":\"1835\"}},\"id\":\"1810\",\"type\":\"ColumnDataSource\"},{\"attributes\":{},\"id\":\"1835\",\"type\":\"UnionRenderers\"},{\"attributes\":{\"high\":241372.14285714287,\"low\":36372.75,\"nan_color\":\"white\",\"palette\":[\"#f7fbff\",\"#f6faff\",\"#f5fafe\",\"#f5f9fe\",\"#f4f9fe\",\"#f3f8fe\",\"#f2f8fd\",\"#f2f7fd\",\"#f1f7fd\",\"#f0f6fd\",\"#eff6fc\",\"#eef5fc\",\"#eef5fc\",\"#edf4fc\",\"#ecf4fb\",\"#ebf3fb\",\"#eaf3fb\",\"#eaf2fb\",\"#e9f2fa\",\"#e8f1fa\",\"#e7f1fa\",\"#e7f0fa\",\"#e6f0f9\",\"#e5eff9\",\"#e4eff9\",\"#e3eef9\",\"#e3eef8\",\"#e2edf8\",\"#e1edf8\",\"#e0ecf8\",\"#dfecf7\",\"#dfebf7\",\"#deebf7\",\"#ddeaf7\",\"#dceaf6\",\"#dce9f6\",\"#dbe9f6\",\"#dae8f6\",\"#d9e8f5\",\"#d9e7f5\",\"#d8e7f5\",\"#d7e6f5\",\"#d6e6f4\",\"#d6e5f4\",\"#d5e5f4\",\"#d4e4f4\",\"#d3e4f3\",\"#d3e3f3\",\"#d2e3f3\",\"#d1e2f3\",\"#d0e2f2\",\"#d0e1f2\",\"#cfe1f2\",\"#cee0f2\",\"#cde0f1\",\"#cddff1\",\"#ccdff1\",\"#cbdef1\",\"#cadef0\",\"#caddf0\",\"#c9ddf0\",\"#c8dcf0\",\"#c7dcef\",\"#c7dbef\",\"#c6dbef\",\"#c4daee\",\"#c3daee\",\"#c2d9ee\",\"#c1d9ed\",\"#bfd8ed\",\"#bed8ec\",\"#bdd7ec\",\"#bcd7eb\",\"#bad6eb\",\"#b9d6ea\",\"#b8d5ea\",\"#b7d4ea\",\"#b5d4e9\",\"#b4d3e9\",\"#b3d3e8\",\"#b2d2e8\",\"#b0d2e7\",\"#afd1e7\",\"#aed1e7\",\"#add0e6\",\"#abd0e6\",\"#aacfe5\",\"#a9cfe5\",\"#a8cee4\",\"#a6cee4\",\"#a5cde3\",\"#a4cce3\",\"#a3cce3\",\"#a1cbe2\",\"#a0cbe2\",\"#9fcae1\",\"#9dcae1\",\"#9cc9e1\",\"#9ac8e0\",\"#99c7e0\",\"#97c6df\",\"#95c5df\",\"#94c4df\",\"#92c4de\",\"#91c3de\",\"#8fc2de\",\"#8dc1dd\",\"#8cc0dd\",\"#8abfdd\",\"#89bedc\",\"#87bddc\",\"#85bcdc\",\"#84bcdb\",\"#82bbdb\",\"#81badb\",\"#7fb9da\",\"#7db8da\",\"#7cb7da\",\"#7ab6d9\",\"#79b5d9\",\"#77b5d9\",\"#75b4d8\",\"#74b3d8\",\"#72b2d8\",\"#71b1d7\",\"#6fb0d7\",\"#6dafd7\",\"#6caed6\",\"#6aaed6\",\"#69add5\",\"#68acd5\",\"#66abd4\",\"#65aad4\",\"#64a9d3\",\"#63a8d3\",\"#61a7d2\",\"#60a7d2\",\"#5fa6d1\",\"#5da5d1\",\"#5ca4d0\",\"#5ba3d0\",\"#5aa2cf\",\"#58a1cf\",\"#57a0ce\",\"#56a0ce\",\"#549fcd\",\"#539ecd\",\"#529dcc\",\"#519ccc\",\"#4f9bcb\",\"#4e9acb\",\"#4d99ca\",\"#4b98ca\",\"#4a98c9\",\"#4997c9\",\"#4896c8\",\"#4695c8\",\"#4594c7\",\"#4493c7\",\"#4292c6\",\"#4191c6\",\"#4090c5\",\"#3f8fc5\",\"#3e8ec4\",\"#3d8dc4\",\"#3c8cc3\",\"#3b8bc2\",\"#3a8ac2\",\"#3989c1\",\"#3888c1\",\"#3787c0\",\"#3686c0\",\"#3585bf\",\"#3484bf\",\"#3383be\",\"#3282be\",\"#3181bd\",\"#3080bd\",\"#2f7fbc\",\"#2e7ebc\",\"#2d7dbb\",\"#2c7cba\",\"#2b7bba\",\"#2a7ab9\",\"#2979b9\",\"#2777b8\",\"#2676b8\",\"#2575b7\",\"#2474b7\",\"#2373b6\",\"#2272b6\",\"#2171b5\",\"#2070b4\",\"#206fb4\",\"#1f6eb3\",\"#1e6db2\",\"#1d6cb1\",\"#1c6bb0\",\"#1c6ab0\",\"#1b69af\",\"#1a68ae\",\"#1967ad\",\"#1966ad\",\"#1865ac\",\"#1764ab\",\"#1663aa\",\"#1562a9\",\"#1561a9\",\"#1460a8\",\"#135fa7\",\"#125ea6\",\"#125da6\",\"#115ca5\",\"#105ba4\",\"#0f5aa3\",\"#0e59a2\",\"#0e58a2\",\"#0d57a1\",\"#0c56a0\",\"#0b559f\",\"#0a549e\",\"#0a539e\",\"#09529d\",\"#08519c\",\"#08509b\",\"#084f99\",\"#084e98\",\"#084d96\",\"#084c95\",\"#084b93\",\"#084a91\",\"#084990\",\"#08488e\",\"#08478d\",\"#08468b\",\"#08458a\",\"#084488\",\"#084387\",\"#084285\",\"#084184\",\"#084082\",\"#083e81\",\"#083d7f\",\"#083c7d\",\"#083b7c\",\"#083a7a\",\"#083979\",\"#083877\",\"#083776\",\"#083674\",\"#083573\",\"#083471\",\"#083370\",\"#08326e\",\"#08316d\",\"#08306b\"]},\"id\":\"1809\",\"type\":\"LinearColorMapper\"},{\"attributes\":{\"end\":31.5,\"reset_end\":31.5,\"reset_start\":0.5,\"start\":0.5,\"tags\":[[[\"index.day\",\"index.day\",null]]]},\"id\":\"1776\",\"type\":\"Range1d\"},{\"attributes\":{\"tools\":[{\"id\":\"1778\"},{\"id\":\"1796\"},{\"id\":\"1797\"},{\"id\":\"1798\"},{\"id\":\"1799\"},{\"id\":\"1800\"}]},\"id\":\"1802\",\"type\":\"Toolbar\"},{\"attributes\":{\"children\":[{\"id\":\"1775\"},{\"id\":\"1779\"},{\"id\":\"1849\"}],\"margin\":[0,0,0,0],\"name\":\"Row02725\",\"tags\":[\"embedded\"]},\"id\":\"1774\",\"type\":\"Row\"},{\"attributes\":{\"fill_alpha\":{\"value\":0.1},\"fill_color\":{\"field\":\"zvalues\",\"transform\":{\"id\":\"1809\"}},\"hatch_alpha\":{\"value\":0.1},\"height\":{\"field\":\"height\"},\"line_alpha\":{\"value\":0},\"line_color\":{\"value\":\"#1f77b4\"},\"width\":{\"field\":\"width\"},\"x\":{\"field\":\"index_full_stop_day\"},\"y\":{\"field\":\"index_full_stop_hour\"}},\"id\":\"1814\",\"type\":\"Rect\"},{\"attributes\":{\"bottom_units\":\"screen\",\"coordinates\":null,\"fill_alpha\":0.5,\"fill_color\":\"lightgrey\",\"group\":null,\"left_units\":\"screen\",\"level\":\"overlay\",\"line_alpha\":1.0,\"line_color\":\"black\",\"line_dash\":[4,4],\"line_width\":2,\"right_units\":\"screen\",\"syncable\":false,\"top_units\":\"screen\"},\"id\":\"1801\",\"type\":\"BoxAnnotation\"},{\"attributes\":{},\"id\":\"1796\",\"type\":\"SaveTool\"},{\"attributes\":{},\"id\":\"1811\",\"type\":\"Selection\"},{\"attributes\":{},\"id\":\"1797\",\"type\":\"PanTool\"},{\"attributes\":{},\"id\":\"1822\",\"type\":\"BasicTickFormatter\"},{\"attributes\":{},\"id\":\"1800\",\"type\":\"ResetTool\"},{\"attributes\":{\"margin\":[5,5,5,5],\"name\":\"HSpacer02729\",\"sizing_mode\":\"stretch_width\"},\"id\":\"1775\",\"type\":\"Spacer\"},{\"attributes\":{},\"id\":\"1798\",\"type\":\"WheelZoomTool\"},{\"attributes\":{},\"id\":\"1819\",\"type\":\"BasicTicker\"},{\"attributes\":{\"overlay\":{\"id\":\"1801\"}},\"id\":\"1799\",\"type\":\"BoxZoomTool\"}],\"root_ids\":[\"1774\"]},\"title\":\"Bokeh Application\",\"version\":\"2.4.2\"}};\n",
       "    var render_items = [{\"docid\":\"872f9aaf-ea26-4029-9b2f-13346c47e952\",\"root_ids\":[\"1774\"],\"roots\":{\"1774\":\"6b4090f3-f5a9-4ca1-9342-396ad6ef64b7\"}}];\n",
       "    root.Bokeh.embed.embed_items_notebook(docs_json, render_items);\n",
       "  }\n",
       "  if (root.Bokeh !== undefined && root.Bokeh.Panel !== undefined) {\n",
       "    embed_document(root);\n",
       "  } else {\n",
       "    var attempts = 0;\n",
       "    var timer = setInterval(function(root) {\n",
       "      if (root.Bokeh !== undefined && root.Bokeh.Panel !== undefined) {\n",
       "        clearInterval(timer);\n",
       "        embed_document(root);\n",
       "      } else if (document.readyState == \"complete\") {\n",
       "        attempts++;\n",
       "        if (attempts > 200) {\n",
       "          clearInterval(timer);\n",
       "          console.log(\"Bokeh: ERROR: Unable to run BokehJS code because BokehJS library is missing\");\n",
       "        }\n",
       "      }\n",
       "    }, 25, root)\n",
       "  }\n",
       "})(window);</script>"
      ],
      "text/plain": [
       ":HeatMap   [index.day,index.hour]   (volume)"
      ]
     },
     "execution_count": 14,
     "metadata": {
      "application/vnd.holoviews_exec.v0+json": {
       "id": "1774"
      }
     },
     "output_type": "execute_result"
    }
   ],
   "source": [
    "# Use hvPlot to visualize the hourly trends across days of week in a heatmap\n",
    "sp500_data.hvplot.heatmap(\n",
    "    x=\"index.day\",                     \n",
    "    y=\"index.hour\", \n",
    "    C=\"volume\", \n",
    "    cmap=\"blues\"\n",
    ").aggregate(function=np.mean)"
   ]
  },
  {
   "cell_type": "markdown",
   "metadata": {},
   "source": [
    "**Question:** Based on the above, does any day-of-week effect that you observe concentrate in just a few hours of that day?\n",
    "\n",
    "**Answer:** YOUR ANSWER HERE"
   ]
  },
  {
   "cell_type": "markdown",
   "metadata": {},
   "source": [
    "## 5. Create a plot with hvPlot that shows the data grouped by the calendar week in the year (week of year)."
   ]
  },
  {
   "cell_type": "code",
   "execution_count": null,
   "metadata": {},
   "outputs": [],
   "source": [
    "# Group the data by the calendar week in the year (week of year). \n",
    "\n",
    "# YOUR CODE HERE!"
   ]
  },
  {
   "cell_type": "markdown",
   "metadata": {},
   "source": [
    "**Question:** Does share trading intensity tend to increase at any particular time of the calendar year?\n",
    "\n",
    "**Answer:** YOUR ANSWER HERE"
   ]
  },
  {
   "cell_type": "code",
   "execution_count": null,
   "metadata": {},
   "outputs": [],
   "source": []
  }
 ],
 "metadata": {
  "kernelspec": {
   "display_name": "Python 3.7.13 ('dev')",
   "language": "python",
   "name": "python3"
  },
  "language_info": {
   "codemirror_mode": {
    "name": "ipython",
    "version": 3
   },
   "file_extension": ".py",
   "mimetype": "text/x-python",
   "name": "python",
   "nbconvert_exporter": "python",
   "pygments_lexer": "ipython3",
   "version": "3.7.13"
  },
  "vscode": {
   "interpreter": {
    "hash": "6a7ae136a53a24601e63a177d18d4029f938b6714f24b844ae865dcffb9f6766"
   }
  }
 },
 "nbformat": 4,
 "nbformat_minor": 4
}
