{
 "cells": [
  {
   "cell_type": "markdown",
   "metadata": {},
   "source": [
    "# Segmenting Customer Data\n",
    "\n",
    "One of the world's biggest banks launched a machine learning competition in [Kaggle](https://www.kaggle.com/), an online community of data scientists and machine learning practitioners. They want to improve their marketing campaigns by identifying the optimal number of customer segments for their credit card clients. They offer a reward of $5,000 that gained your interest, so you decided to put your unsupervised learning skills into practice to participate in the competition.\n",
    "\n",
    "The bank provided a dataset that consists of customer data that includes ten different features. The data columns were anonymized using generic names to protect customers' privacy, and data values were already normalized.\n",
    "\n",
    "Use the starter code to accomplish the following tasks:\n",
    "\n",
    "1. Load the raw data into a Pandas DataFrame.\n",
    "\n",
    "2.1 Use the Elbow Method to determine the optimal number of clusters.\n",
    "\n",
    "2.2 Segment the data with K-means using the optimal number of clusters.\n",
    "\n",
    "3. Cluster the data using AgglomerativeClustering and Birch\n",
    "\n",
    "    * Using your optimal number of clusters found above, additionally estimate clusters by using both `AgglomerativeClustering` and `Birch`. Save each of these models and their results for comparison.\n",
    "    \n",
    "4. Compare the cluster results from using Kmeans, AgglomerativeClustering, Birch.\n",
    "\n",
    "    * Create a dataframe which is a copy of the original `customers_df` data.\n",
    "\n",
    "    * Add all of the predicted labels (`kmeans_predictions`, `agglo_predictions`, and `birch_predictions`) as columns to this dataframe. \n",
    "\n",
    "    * For each algorithm, plot the clusters using the \"feature_1\" and \"feature_2\" columns.    \n",
    "\n",
    "**Optional Challenge**: Loop through each clustering algorithm, using an alternative metric to determine the optimal number of clusters.\n",
    "\n",
    "1. Create three lists (or a dictionary, or dataframe) to contain the metrics to measure optimal clusters.\n",
    "2. Using a for loop, cycle through a list of cluster counts, fiting each of the three clustering algorithms.\n",
    "3. When fitting the clustering algorithms in the loop, estimate the [`Variance Ratio Criterion (Calinski-Harabasz Index)`](https://scikit-learn.org/stable/modules/clustering.html#calinski-harabasz-index) and save that metric to your metrics lists in (1).\n",
    "    Hint: Code samples for these and other metrics can be found in SKLearn's documention on [clustering performance evaluation](https://scikit-learn.org/stable/modules/clustering.html#clustering-performance-evaluation).\n",
    "4. Output each of the three lists. If larger metric values indicate a better number of clusters, what cluster count is best? Does it vary by the algorithm selected?"
   ]
  },
  {
   "cell_type": "code",
   "execution_count": 28,
   "metadata": {},
   "outputs": [],
   "source": [
    "# Import the modules\n",
    "import pandas as pd\n",
    "import hvplot.pandas\n",
    "from pathlib import Path"
   ]
  },
  {
   "cell_type": "markdown",
   "metadata": {},
   "source": [
    "## Part 1: Load the raw data into a Pandas DataFrame"
   ]
  },
  {
   "cell_type": "code",
   "execution_count": 29,
   "metadata": {},
   "outputs": [
    {
     "data": {
      "text/html": [
       "<div>\n",
       "<style scoped>\n",
       "    .dataframe tbody tr th:only-of-type {\n",
       "        vertical-align: middle;\n",
       "    }\n",
       "\n",
       "    .dataframe tbody tr th {\n",
       "        vertical-align: top;\n",
       "    }\n",
       "\n",
       "    .dataframe thead th {\n",
       "        text-align: right;\n",
       "    }\n",
       "</style>\n",
       "<table border=\"1\" class=\"dataframe\">\n",
       "  <thead>\n",
       "    <tr style=\"text-align: right;\">\n",
       "      <th></th>\n",
       "      <th>feature_1</th>\n",
       "      <th>feature_2</th>\n",
       "      <th>feature_3</th>\n",
       "      <th>feature_4</th>\n",
       "      <th>feature_5</th>\n",
       "      <th>feature_6</th>\n",
       "      <th>feature_7</th>\n",
       "      <th>feature_8</th>\n",
       "      <th>feature_9</th>\n",
       "      <th>feature_10</th>\n",
       "    </tr>\n",
       "  </thead>\n",
       "  <tbody>\n",
       "    <tr>\n",
       "      <th>0</th>\n",
       "      <td>1.148534</td>\n",
       "      <td>4.606077</td>\n",
       "      <td>2.699069</td>\n",
       "      <td>-2.661824</td>\n",
       "      <td>1.526433</td>\n",
       "      <td>1.236671</td>\n",
       "      <td>0.211421</td>\n",
       "      <td>1.482896</td>\n",
       "      <td>-4.445627</td>\n",
       "      <td>-1.936831</td>\n",
       "    </tr>\n",
       "    <tr>\n",
       "      <th>1</th>\n",
       "      <td>-1.149410</td>\n",
       "      <td>-1.650549</td>\n",
       "      <td>2.530167</td>\n",
       "      <td>-3.227088</td>\n",
       "      <td>0.572138</td>\n",
       "      <td>4.162600</td>\n",
       "      <td>-0.291679</td>\n",
       "      <td>-1.237575</td>\n",
       "      <td>3.604765</td>\n",
       "      <td>-1.635689</td>\n",
       "    </tr>\n",
       "    <tr>\n",
       "      <th>2</th>\n",
       "      <td>0.332427</td>\n",
       "      <td>-0.887985</td>\n",
       "      <td>-0.309216</td>\n",
       "      <td>0.399891</td>\n",
       "      <td>0.828492</td>\n",
       "      <td>3.641945</td>\n",
       "      <td>-0.916946</td>\n",
       "      <td>-1.978024</td>\n",
       "      <td>1.056772</td>\n",
       "      <td>-1.882747</td>\n",
       "    </tr>\n",
       "    <tr>\n",
       "      <th>3</th>\n",
       "      <td>2.245599</td>\n",
       "      <td>3.826309</td>\n",
       "      <td>0.264039</td>\n",
       "      <td>0.095471</td>\n",
       "      <td>1.984380</td>\n",
       "      <td>0.373991</td>\n",
       "      <td>-0.280279</td>\n",
       "      <td>1.602786</td>\n",
       "      <td>-5.993331</td>\n",
       "      <td>-2.258925</td>\n",
       "    </tr>\n",
       "    <tr>\n",
       "      <th>4</th>\n",
       "      <td>0.705503</td>\n",
       "      <td>-1.312329</td>\n",
       "      <td>0.895406</td>\n",
       "      <td>-0.405408</td>\n",
       "      <td>1.116187</td>\n",
       "      <td>3.699562</td>\n",
       "      <td>-1.427985</td>\n",
       "      <td>-1.494409</td>\n",
       "      <td>1.156908</td>\n",
       "      <td>-1.434964</td>\n",
       "    </tr>\n",
       "  </tbody>\n",
       "</table>\n",
       "</div>"
      ],
      "text/plain": [
       "   feature_1  feature_2  feature_3  feature_4  feature_5  feature_6  \\\n",
       "0   1.148534   4.606077   2.699069  -2.661824   1.526433   1.236671   \n",
       "1  -1.149410  -1.650549   2.530167  -3.227088   0.572138   4.162600   \n",
       "2   0.332427  -0.887985  -0.309216   0.399891   0.828492   3.641945   \n",
       "3   2.245599   3.826309   0.264039   0.095471   1.984380   0.373991   \n",
       "4   0.705503  -1.312329   0.895406  -0.405408   1.116187   3.699562   \n",
       "\n",
       "   feature_7  feature_8  feature_9  feature_10  \n",
       "0   0.211421   1.482896  -4.445627   -1.936831  \n",
       "1  -0.291679  -1.237575   3.604765   -1.635689  \n",
       "2  -0.916946  -1.978024   1.056772   -1.882747  \n",
       "3  -0.280279   1.602786  -5.993331   -2.258925  \n",
       "4  -1.427985  -1.494409   1.156908   -1.434964  "
      ]
     },
     "execution_count": 29,
     "metadata": {},
     "output_type": "execute_result"
    }
   ],
   "source": [
    "# Set the file path\n",
    "file_path = Path(\"../Resources/customers.csv\")\n",
    "\n",
    "# Read the csv file into a pandas DataFrame\n",
    "customers_df = pd.read_csv(file_path)\n",
    "\n",
    "# Review the DataFrame\n",
    "customers_df.head()"
   ]
  },
  {
   "cell_type": "code",
   "execution_count": 30,
   "metadata": {},
   "outputs": [
    {
     "name": "stdout",
     "output_type": "stream",
     "text": [
      "<class 'pandas.core.frame.DataFrame'>\n",
      "RangeIndex: 1000 entries, 0 to 999\n",
      "Data columns (total 10 columns):\n",
      " #   Column      Non-Null Count  Dtype  \n",
      "---  ------      --------------  -----  \n",
      " 0   feature_1   1000 non-null   float64\n",
      " 1   feature_2   1000 non-null   float64\n",
      " 2   feature_3   1000 non-null   float64\n",
      " 3   feature_4   1000 non-null   float64\n",
      " 4   feature_5   1000 non-null   float64\n",
      " 5   feature_6   1000 non-null   float64\n",
      " 6   feature_7   1000 non-null   float64\n",
      " 7   feature_8   1000 non-null   float64\n",
      " 8   feature_9   1000 non-null   float64\n",
      " 9   feature_10  1000 non-null   float64\n",
      "dtypes: float64(10)\n",
      "memory usage: 78.2 KB\n"
     ]
    }
   ],
   "source": [
    "# Use the \"info()\" Pandas function to validate data types and null values\n",
    "customers_df.info()"
   ]
  },
  {
   "cell_type": "code",
   "execution_count": 31,
   "metadata": {},
   "outputs": [
    {
     "data": {
      "text/html": [
       "<div>\n",
       "<style scoped>\n",
       "    .dataframe tbody tr th:only-of-type {\n",
       "        vertical-align: middle;\n",
       "    }\n",
       "\n",
       "    .dataframe tbody tr th {\n",
       "        vertical-align: top;\n",
       "    }\n",
       "\n",
       "    .dataframe thead th {\n",
       "        text-align: right;\n",
       "    }\n",
       "</style>\n",
       "<table border=\"1\" class=\"dataframe\">\n",
       "  <thead>\n",
       "    <tr style=\"text-align: right;\">\n",
       "      <th></th>\n",
       "      <th>feature_1</th>\n",
       "      <th>feature_2</th>\n",
       "      <th>feature_3</th>\n",
       "      <th>feature_4</th>\n",
       "      <th>feature_5</th>\n",
       "      <th>feature_6</th>\n",
       "      <th>feature_7</th>\n",
       "      <th>feature_8</th>\n",
       "      <th>feature_9</th>\n",
       "      <th>feature_10</th>\n",
       "    </tr>\n",
       "  </thead>\n",
       "  <tbody>\n",
       "    <tr>\n",
       "      <th>count</th>\n",
       "      <td>1000.000000</td>\n",
       "      <td>1000.000000</td>\n",
       "      <td>1000.000000</td>\n",
       "      <td>1000.000000</td>\n",
       "      <td>1000.000000</td>\n",
       "      <td>1000.000000</td>\n",
       "      <td>1000.000000</td>\n",
       "      <td>1000.000000</td>\n",
       "      <td>1000.000000</td>\n",
       "      <td>1000.000000</td>\n",
       "    </tr>\n",
       "    <tr>\n",
       "      <th>mean</th>\n",
       "      <td>-0.022428</td>\n",
       "      <td>0.805748</td>\n",
       "      <td>1.942896</td>\n",
       "      <td>-2.364030</td>\n",
       "      <td>0.854980</td>\n",
       "      <td>1.232422</td>\n",
       "      <td>0.146269</td>\n",
       "      <td>0.833486</td>\n",
       "      <td>-0.534320</td>\n",
       "      <td>-1.219393</td>\n",
       "    </tr>\n",
       "    <tr>\n",
       "      <th>std</th>\n",
       "      <td>2.382021</td>\n",
       "      <td>2.335796</td>\n",
       "      <td>1.411307</td>\n",
       "      <td>1.716566</td>\n",
       "      <td>1.742986</td>\n",
       "      <td>3.250231</td>\n",
       "      <td>1.635576</td>\n",
       "      <td>2.039563</td>\n",
       "      <td>4.211831</td>\n",
       "      <td>1.979172</td>\n",
       "    </tr>\n",
       "    <tr>\n",
       "      <th>min</th>\n",
       "      <td>-6.259471</td>\n",
       "      <td>-4.649286</td>\n",
       "      <td>-2.894995</td>\n",
       "      <td>-8.735778</td>\n",
       "      <td>-4.641509</td>\n",
       "      <td>-9.111470</td>\n",
       "      <td>-4.260013</td>\n",
       "      <td>-4.911903</td>\n",
       "      <td>-9.522425</td>\n",
       "      <td>-6.083462</td>\n",
       "    </tr>\n",
       "    <tr>\n",
       "      <th>25%</th>\n",
       "      <td>-2.091657</td>\n",
       "      <td>-1.214774</td>\n",
       "      <td>1.026128</td>\n",
       "      <td>-3.438149</td>\n",
       "      <td>-0.235310</td>\n",
       "      <td>-0.333722</td>\n",
       "      <td>-0.967569</td>\n",
       "      <td>-0.894817</td>\n",
       "      <td>-4.129561</td>\n",
       "      <td>-2.505366</td>\n",
       "    </tr>\n",
       "    <tr>\n",
       "      <th>50%</th>\n",
       "      <td>0.161670</td>\n",
       "      <td>1.096439</td>\n",
       "      <td>1.905107</td>\n",
       "      <td>-2.437602</td>\n",
       "      <td>1.084556</td>\n",
       "      <td>1.367371</td>\n",
       "      <td>-0.222299</td>\n",
       "      <td>1.519069</td>\n",
       "      <td>-0.536849</td>\n",
       "      <td>-1.706372</td>\n",
       "    </tr>\n",
       "    <tr>\n",
       "      <th>75%</th>\n",
       "      <td>2.030005</td>\n",
       "      <td>2.513648</td>\n",
       "      <td>2.851613</td>\n",
       "      <td>-1.229730</td>\n",
       "      <td>2.287268</td>\n",
       "      <td>3.637304</td>\n",
       "      <td>1.061269</td>\n",
       "      <td>2.298862</td>\n",
       "      <td>2.626514</td>\n",
       "      <td>-0.553571</td>\n",
       "    </tr>\n",
       "    <tr>\n",
       "      <th>max</th>\n",
       "      <td>6.275723</td>\n",
       "      <td>7.955158</td>\n",
       "      <td>5.897102</td>\n",
       "      <td>4.296552</td>\n",
       "      <td>4.741350</td>\n",
       "      <td>8.705423</td>\n",
       "      <td>7.123969</td>\n",
       "      <td>5.789222</td>\n",
       "      <td>10.047819</td>\n",
       "      <td>5.413623</td>\n",
       "    </tr>\n",
       "  </tbody>\n",
       "</table>\n",
       "</div>"
      ],
      "text/plain": [
       "         feature_1    feature_2    feature_3    feature_4    feature_5  \\\n",
       "count  1000.000000  1000.000000  1000.000000  1000.000000  1000.000000   \n",
       "mean     -0.022428     0.805748     1.942896    -2.364030     0.854980   \n",
       "std       2.382021     2.335796     1.411307     1.716566     1.742986   \n",
       "min      -6.259471    -4.649286    -2.894995    -8.735778    -4.641509   \n",
       "25%      -2.091657    -1.214774     1.026128    -3.438149    -0.235310   \n",
       "50%       0.161670     1.096439     1.905107    -2.437602     1.084556   \n",
       "75%       2.030005     2.513648     2.851613    -1.229730     2.287268   \n",
       "max       6.275723     7.955158     5.897102     4.296552     4.741350   \n",
       "\n",
       "         feature_6    feature_7    feature_8    feature_9   feature_10  \n",
       "count  1000.000000  1000.000000  1000.000000  1000.000000  1000.000000  \n",
       "mean      1.232422     0.146269     0.833486    -0.534320    -1.219393  \n",
       "std       3.250231     1.635576     2.039563     4.211831     1.979172  \n",
       "min      -9.111470    -4.260013    -4.911903    -9.522425    -6.083462  \n",
       "25%      -0.333722    -0.967569    -0.894817    -4.129561    -2.505366  \n",
       "50%       1.367371    -0.222299     1.519069    -0.536849    -1.706372  \n",
       "75%       3.637304     1.061269     2.298862     2.626514    -0.553571  \n",
       "max       8.705423     7.123969     5.789222    10.047819     5.413623  "
      ]
     },
     "execution_count": 31,
     "metadata": {},
     "output_type": "execute_result"
    }
   ],
   "source": [
    "# Use the Pandas \"describe()\" function to compute summary statistics\n",
    "customers_df.describe()"
   ]
  },
  {
   "cell_type": "code",
   "execution_count": 32,
   "metadata": {},
   "outputs": [],
   "source": [
    "# Import the KMeans, Birch, and AgglomerativeClustering modules from SKLearn\n",
    "from sklearn.cluster import KMeans, AgglomerativeClustering, Birch"
   ]
  },
  {
   "cell_type": "markdown",
   "metadata": {},
   "source": [
    "## Part 2.1. Use the Elbow Method to determine the optimal number of clusters for KMeans."
   ]
  },
  {
   "cell_type": "code",
   "execution_count": 33,
   "metadata": {},
   "outputs": [],
   "source": [
    "# Create a list to store inertia values and the values of k\n",
    "inertia_values = []\n",
    "\n",
    "# Create a list to set the range of k values to test\n",
    "k = list(range(1,11))"
   ]
  },
  {
   "cell_type": "code",
   "execution_count": 34,
   "metadata": {},
   "outputs": [
    {
     "name": "stderr",
     "output_type": "stream",
     "text": [
      "c:\\Users\\minha\\anaconda3\\envs\\dev\\lib\\site-packages\\sklearn\\cluster\\_kmeans.py:1037: UserWarning: KMeans is known to have a memory leak on Windows with MKL, when there are less chunks than available threads. You can avoid it by setting the environment variable OMP_NUM_THREADS=4.\n",
      "  \"KMeans is known to have a memory leak on Windows \"\n"
     ]
    }
   ],
   "source": [
    "# Create a for-loop where each value of k is evaluated using the K-means algorithm\n",
    "# Fit the model using the \"customers_df\" DataFrame\n",
    "# Append the value of the computed inertia from the `inertia_` attribute of the KMeans model instance\n",
    "\n",
    "for i in k: \n",
    "    k_model = KMeans(n_clusters=i, random_state=1)\n",
    "    k_model.fit(customers_df)\n",
    "    inertia_values.append(k_model.inertia_)"
   ]
  },
  {
   "cell_type": "code",
   "execution_count": 35,
   "metadata": {},
   "outputs": [
    {
     "data": {
      "text/html": [
       "<div>\n",
       "<style scoped>\n",
       "    .dataframe tbody tr th:only-of-type {\n",
       "        vertical-align: middle;\n",
       "    }\n",
       "\n",
       "    .dataframe tbody tr th {\n",
       "        vertical-align: top;\n",
       "    }\n",
       "\n",
       "    .dataframe thead th {\n",
       "        text-align: right;\n",
       "    }\n",
       "</style>\n",
       "<table border=\"1\" class=\"dataframe\">\n",
       "  <thead>\n",
       "    <tr style=\"text-align: right;\">\n",
       "      <th></th>\n",
       "      <th>k</th>\n",
       "      <th>inertia</th>\n",
       "    </tr>\n",
       "  </thead>\n",
       "  <tbody>\n",
       "    <tr>\n",
       "      <th>0</th>\n",
       "      <td>1</td>\n",
       "      <td>58103.759171</td>\n",
       "    </tr>\n",
       "    <tr>\n",
       "      <th>1</th>\n",
       "      <td>2</td>\n",
       "      <td>32183.537923</td>\n",
       "    </tr>\n",
       "    <tr>\n",
       "      <th>2</th>\n",
       "      <td>3</td>\n",
       "      <td>17080.936423</td>\n",
       "    </tr>\n",
       "    <tr>\n",
       "      <th>3</th>\n",
       "      <td>4</td>\n",
       "      <td>14894.368711</td>\n",
       "    </tr>\n",
       "    <tr>\n",
       "      <th>4</th>\n",
       "      <td>5</td>\n",
       "      <td>12816.540877</td>\n",
       "    </tr>\n",
       "  </tbody>\n",
       "</table>\n",
       "</div>"
      ],
      "text/plain": [
       "   k       inertia\n",
       "0  1  58103.759171\n",
       "1  2  32183.537923\n",
       "2  3  17080.936423\n",
       "3  4  14894.368711\n",
       "4  5  12816.540877"
      ]
     },
     "execution_count": 35,
     "metadata": {},
     "output_type": "execute_result"
    }
   ],
   "source": [
    "# Define a DataFrame to hold the values for k and the corresponding inertia\n",
    "elbow_data = {'k' : k, 'inertia' : inertia_values}\n",
    "elbow_df = pd.DataFrame(elbow_data)\n",
    "\n",
    "# Review the DataFrame\n",
    "elbow_df.head()"
   ]
  },
  {
   "cell_type": "code",
   "execution_count": 36,
   "metadata": {},
   "outputs": [
    {
     "data": {},
     "metadata": {},
     "output_type": "display_data"
    },
    {
     "data": {
      "application/vnd.holoviews_exec.v0+json": "",
      "text/html": [
       "<div id='1114'>\n",
       "  <div class=\"bk-root\" id=\"c48ad1de-6e4e-44b6-afaf-4882d8eaa693\" data-root-id=\"1114\"></div>\n",
       "</div>\n",
       "<script type=\"application/javascript\">(function(root) {\n",
       "  function embed_document(root) {\n",
       "    var docs_json = {\"6abdf411-2963-4dc3-8d5b-bee9ae468068\":{\"defs\":[{\"extends\":null,\"module\":null,\"name\":\"ReactiveHTML1\",\"overrides\":[],\"properties\":[]},{\"extends\":null,\"module\":null,\"name\":\"FlexBox1\",\"overrides\":[],\"properties\":[{\"default\":\"flex-start\",\"kind\":null,\"name\":\"align_content\"},{\"default\":\"flex-start\",\"kind\":null,\"name\":\"align_items\"},{\"default\":\"row\",\"kind\":null,\"name\":\"flex_direction\"},{\"default\":\"wrap\",\"kind\":null,\"name\":\"flex_wrap\"},{\"default\":\"flex-start\",\"kind\":null,\"name\":\"justify_content\"}]},{\"extends\":null,\"module\":null,\"name\":\"GridStack1\",\"overrides\":[],\"properties\":[{\"default\":\"warn\",\"kind\":null,\"name\":\"mode\"},{\"default\":null,\"kind\":null,\"name\":\"ncols\"},{\"default\":null,\"kind\":null,\"name\":\"nrows\"},{\"default\":true,\"kind\":null,\"name\":\"allow_resize\"},{\"default\":true,\"kind\":null,\"name\":\"allow_drag\"},{\"default\":[],\"kind\":null,\"name\":\"state\"}]},{\"extends\":null,\"module\":null,\"name\":\"click1\",\"overrides\":[],\"properties\":[{\"default\":\"\",\"kind\":null,\"name\":\"terminal_output\"},{\"default\":\"\",\"kind\":null,\"name\":\"debug_name\"},{\"default\":0,\"kind\":null,\"name\":\"clears\"}]},{\"extends\":null,\"module\":null,\"name\":\"NotificationAreaBase1\",\"overrides\":[],\"properties\":[{\"default\":\"bottom-right\",\"kind\":null,\"name\":\"position\"},{\"default\":0,\"kind\":null,\"name\":\"_clear\"}]},{\"extends\":null,\"module\":null,\"name\":\"NotificationArea1\",\"overrides\":[],\"properties\":[{\"default\":[],\"kind\":null,\"name\":\"notifications\"},{\"default\":\"bottom-right\",\"kind\":null,\"name\":\"position\"},{\"default\":0,\"kind\":null,\"name\":\"_clear\"},{\"default\":[{\"background\":\"#ffc107\",\"icon\":{\"className\":\"fas fa-exclamation-triangle\",\"color\":\"white\",\"tagName\":\"i\"},\"type\":\"warning\"},{\"background\":\"#007bff\",\"icon\":{\"className\":\"fas fa-info-circle\",\"color\":\"white\",\"tagName\":\"i\"},\"type\":\"info\"}],\"kind\":null,\"name\":\"types\"}]},{\"extends\":null,\"module\":null,\"name\":\"Notification\",\"overrides\":[],\"properties\":[{\"default\":null,\"kind\":null,\"name\":\"background\"},{\"default\":3000,\"kind\":null,\"name\":\"duration\"},{\"default\":null,\"kind\":null,\"name\":\"icon\"},{\"default\":\"\",\"kind\":null,\"name\":\"message\"},{\"default\":null,\"kind\":null,\"name\":\"notification_type\"},{\"default\":false,\"kind\":null,\"name\":\"_destroyed\"}]},{\"extends\":null,\"module\":null,\"name\":\"TemplateActions1\",\"overrides\":[],\"properties\":[{\"default\":0,\"kind\":null,\"name\":\"open_modal\"},{\"default\":0,\"kind\":null,\"name\":\"close_modal\"}]},{\"extends\":null,\"module\":null,\"name\":\"MaterialTemplateActions1\",\"overrides\":[],\"properties\":[{\"default\":0,\"kind\":null,\"name\":\"open_modal\"},{\"default\":0,\"kind\":null,\"name\":\"close_modal\"}]}],\"roots\":{\"references\":[{\"attributes\":{},\"id\":\"1160\",\"type\":\"AllLabels\"},{\"attributes\":{\"axis\":{\"id\":\"1132\"},\"coordinates\":null,\"dimension\":1,\"grid_line_color\":null,\"group\":null,\"ticker\":null},\"id\":\"1135\",\"type\":\"Grid\"},{\"attributes\":{\"end\":10.0,\"reset_end\":10.0,\"reset_start\":1.0,\"start\":1.0,\"tags\":[[[\"k\",\"k\",null]]]},\"id\":\"1116\",\"type\":\"Range1d\"},{\"attributes\":{\"line_alpha\":0.2,\"line_color\":\"#30a2da\",\"line_width\":2,\"x\":{\"field\":\"k\"},\"y\":{\"field\":\"inertia\"}},\"id\":\"1154\",\"type\":\"Line\"},{\"attributes\":{\"source\":{\"id\":\"1149\"}},\"id\":\"1156\",\"type\":\"CDSView\"},{\"attributes\":{\"below\":[{\"id\":\"1128\"}],\"center\":[{\"id\":\"1131\"},{\"id\":\"1135\"}],\"height\":300,\"left\":[{\"id\":\"1132\"}],\"margin\":[5,5,5,5],\"min_border_bottom\":10,\"min_border_left\":10,\"min_border_right\":10,\"min_border_top\":10,\"renderers\":[{\"id\":\"1155\"}],\"sizing_mode\":\"fixed\",\"title\":{\"id\":\"1120\"},\"toolbar\":{\"id\":\"1142\"},\"width\":700,\"x_range\":{\"id\":\"1116\"},\"x_scale\":{\"id\":\"1124\"},\"y_range\":{\"id\":\"1117\"},\"y_scale\":{\"id\":\"1126\"}},\"id\":\"1119\",\"subtype\":\"Figure\",\"type\":\"Plot\"},{\"attributes\":{\"line_color\":\"#30a2da\",\"line_width\":2,\"x\":{\"field\":\"k\"},\"y\":{\"field\":\"inertia\"}},\"id\":\"1152\",\"type\":\"Line\"},{\"attributes\":{\"tools\":[{\"id\":\"1118\"},{\"id\":\"1136\"},{\"id\":\"1137\"},{\"id\":\"1138\"},{\"id\":\"1139\"},{\"id\":\"1140\"}]},\"id\":\"1142\",\"type\":\"Toolbar\"},{\"attributes\":{},\"id\":\"1171\",\"type\":\"UnionRenderers\"},{\"attributes\":{\"bottom_units\":\"screen\",\"coordinates\":null,\"fill_alpha\":0.5,\"fill_color\":\"lightgrey\",\"group\":null,\"left_units\":\"screen\",\"level\":\"overlay\",\"line_alpha\":1.0,\"line_color\":\"black\",\"line_dash\":[4,4],\"line_width\":2,\"right_units\":\"screen\",\"syncable\":false,\"top_units\":\"screen\"},\"id\":\"1141\",\"type\":\"BoxAnnotation\"},{\"attributes\":{},\"id\":\"1136\",\"type\":\"SaveTool\"},{\"attributes\":{},\"id\":\"1162\",\"type\":\"BasicTickFormatter\"},{\"attributes\":{},\"id\":\"1137\",\"type\":\"PanTool\"},{\"attributes\":{},\"id\":\"1140\",\"type\":\"ResetTool\"},{\"attributes\":{},\"id\":\"1163\",\"type\":\"AllLabels\"},{\"attributes\":{},\"id\":\"1138\",\"type\":\"WheelZoomTool\"},{\"attributes\":{},\"id\":\"1150\",\"type\":\"Selection\"},{\"attributes\":{\"coordinates\":null,\"data_source\":{\"id\":\"1149\"},\"glyph\":{\"id\":\"1152\"},\"group\":null,\"hover_glyph\":null,\"muted_glyph\":{\"id\":\"1154\"},\"nonselection_glyph\":{\"id\":\"1153\"},\"selection_glyph\":{\"id\":\"1157\"},\"view\":{\"id\":\"1156\"}},\"id\":\"1155\",\"type\":\"GlyphRenderer\"},{\"attributes\":{\"end\":63020.61576276312,\"reset_end\":63020.61576276312,\"reset_start\":4018.3366616392204,\"start\":4018.3366616392204,\"tags\":[[[\"inertia\",\"inertia\",null]]]},\"id\":\"1117\",\"type\":\"Range1d\"},{\"attributes\":{\"overlay\":{\"id\":\"1141\"}},\"id\":\"1139\",\"type\":\"BoxZoomTool\"},{\"attributes\":{\"coordinates\":null,\"group\":null,\"text_color\":\"black\",\"text_font_size\":\"12pt\"},\"id\":\"1120\",\"type\":\"Title\"},{\"attributes\":{\"data\":{\"inertia\":{\"__ndarray__\":\"ovwgS/he7ECP4FNt4m3fQIbBW+47rtBAI87qMS8XzUBoqXM7RQjJQGE7nkwZBMdAXpJNPrUqxUAzwN3du53DQNslMN2KbMJAcgOHvJhzwUA=\",\"dtype\":\"float64\",\"order\":\"little\",\"shape\":[10]},\"k\":[1,2,3,4,5,6,7,8,9,10]},\"selected\":{\"id\":\"1150\"},\"selection_policy\":{\"id\":\"1171\"}},\"id\":\"1149\",\"type\":\"ColumnDataSource\"},{\"attributes\":{\"line_alpha\":0.1,\"line_color\":\"#30a2da\",\"line_width\":2,\"x\":{\"field\":\"k\"},\"y\":{\"field\":\"inertia\"}},\"id\":\"1153\",\"type\":\"Line\"},{\"attributes\":{\"margin\":[5,5,5,5],\"name\":\"HSpacer00969\",\"sizing_mode\":\"stretch_width\"},\"id\":\"1115\",\"type\":\"Spacer\"},{\"attributes\":{\"margin\":[5,5,5,5],\"name\":\"HSpacer00970\",\"sizing_mode\":\"stretch_width\"},\"id\":\"1174\",\"type\":\"Spacer\"},{\"attributes\":{},\"id\":\"1133\",\"type\":\"BasicTicker\"},{\"attributes\":{},\"id\":\"1124\",\"type\":\"LinearScale\"},{\"attributes\":{\"children\":[{\"id\":\"1115\"},{\"id\":\"1119\"},{\"id\":\"1174\"}],\"margin\":[0,0,0,0],\"name\":\"Row00965\",\"tags\":[\"embedded\"]},\"id\":\"1114\",\"type\":\"Row\"},{\"attributes\":{\"line_color\":\"#30a2da\",\"line_width\":2,\"x\":{\"field\":\"k\"},\"y\":{\"field\":\"inertia\"}},\"id\":\"1157\",\"type\":\"Line\"},{\"attributes\":{},\"id\":\"1129\",\"type\":\"BasicTicker\"},{\"attributes\":{\"axis\":{\"id\":\"1128\"},\"coordinates\":null,\"grid_line_color\":null,\"group\":null,\"ticker\":null},\"id\":\"1131\",\"type\":\"Grid\"},{\"attributes\":{\"callback\":null,\"renderers\":[{\"id\":\"1155\"}],\"tags\":[\"hv_created\"],\"tooltips\":[[\"k\",\"@{k}\"],[\"inertia\",\"@{inertia}\"]]},\"id\":\"1118\",\"type\":\"HoverTool\"},{\"attributes\":{},\"id\":\"1126\",\"type\":\"LinearScale\"},{\"attributes\":{\"axis_label\":\"inertia\",\"coordinates\":null,\"formatter\":{\"id\":\"1162\"},\"group\":null,\"major_label_policy\":{\"id\":\"1163\"},\"ticker\":{\"id\":\"1133\"}},\"id\":\"1132\",\"type\":\"LinearAxis\"},{\"attributes\":{\"axis_label\":\"k\",\"coordinates\":null,\"formatter\":{\"id\":\"1159\"},\"group\":null,\"major_label_policy\":{\"id\":\"1160\"},\"ticker\":{\"id\":\"1129\"}},\"id\":\"1128\",\"type\":\"LinearAxis\"},{\"attributes\":{},\"id\":\"1159\",\"type\":\"BasicTickFormatter\"}],\"root_ids\":[\"1114\"]},\"title\":\"Bokeh Application\",\"version\":\"2.4.3\"}};\n",
       "    var render_items = [{\"docid\":\"6abdf411-2963-4dc3-8d5b-bee9ae468068\",\"root_ids\":[\"1114\"],\"roots\":{\"1114\":\"c48ad1de-6e4e-44b6-afaf-4882d8eaa693\"}}];\n",
       "    root.Bokeh.embed.embed_items_notebook(docs_json, render_items);\n",
       "  }\n",
       "  if (root.Bokeh !== undefined && root.Bokeh.Panel !== undefined) {\n",
       "    embed_document(root);\n",
       "  } else {\n",
       "    var attempts = 0;\n",
       "    var timer = setInterval(function(root) {\n",
       "      if (root.Bokeh !== undefined && root.Bokeh.Panel !== undefined) {\n",
       "        clearInterval(timer);\n",
       "        embed_document(root);\n",
       "      } else if (document.readyState == \"complete\") {\n",
       "        attempts++;\n",
       "        if (attempts > 200) {\n",
       "          clearInterval(timer);\n",
       "          console.log(\"Bokeh: ERROR: Unable to run BokehJS code because BokehJS library is missing\");\n",
       "        }\n",
       "      }\n",
       "    }, 25, root)\n",
       "  }\n",
       "})(window);</script>"
      ],
      "text/plain": [
       ":Curve   [k]   (inertia)"
      ]
     },
     "execution_count": 36,
     "metadata": {
      "application/vnd.holoviews_exec.v0+json": {
       "id": "1114"
      }
     },
     "output_type": "execute_result"
    }
   ],
   "source": [
    "# Plot the DataFrame to identify the optimal value for k\n",
    "elbow_df.hvplot(x = 'k', y = 'inertia')"
   ]
  },
  {
   "cell_type": "markdown",
   "metadata": {},
   "source": [
    "## Part 2.2: Segment the data with K-means using the optimal number of clusters"
   ]
  },
  {
   "cell_type": "code",
   "execution_count": 37,
   "metadata": {},
   "outputs": [
    {
     "data": {
      "text/html": [
       "<div>\n",
       "<style scoped>\n",
       "    .dataframe tbody tr th:only-of-type {\n",
       "        vertical-align: middle;\n",
       "    }\n",
       "\n",
       "    .dataframe tbody tr th {\n",
       "        vertical-align: top;\n",
       "    }\n",
       "\n",
       "    .dataframe thead th {\n",
       "        text-align: right;\n",
       "    }\n",
       "</style>\n",
       "<table border=\"1\" class=\"dataframe\">\n",
       "  <thead>\n",
       "    <tr style=\"text-align: right;\">\n",
       "      <th></th>\n",
       "      <th>feature_1</th>\n",
       "      <th>feature_2</th>\n",
       "      <th>feature_3</th>\n",
       "      <th>feature_4</th>\n",
       "      <th>feature_5</th>\n",
       "      <th>feature_6</th>\n",
       "      <th>feature_7</th>\n",
       "      <th>feature_8</th>\n",
       "      <th>feature_9</th>\n",
       "      <th>feature_10</th>\n",
       "      <th>clusters</th>\n",
       "    </tr>\n",
       "  </thead>\n",
       "  <tbody>\n",
       "    <tr>\n",
       "      <th>0</th>\n",
       "      <td>1.148534</td>\n",
       "      <td>4.606077</td>\n",
       "      <td>2.699069</td>\n",
       "      <td>-2.661824</td>\n",
       "      <td>1.526433</td>\n",
       "      <td>1.236671</td>\n",
       "      <td>0.211421</td>\n",
       "      <td>1.482896</td>\n",
       "      <td>-4.445627</td>\n",
       "      <td>-1.936831</td>\n",
       "      <td>1</td>\n",
       "    </tr>\n",
       "    <tr>\n",
       "      <th>1</th>\n",
       "      <td>-1.149410</td>\n",
       "      <td>-1.650549</td>\n",
       "      <td>2.530167</td>\n",
       "      <td>-3.227088</td>\n",
       "      <td>0.572138</td>\n",
       "      <td>4.162600</td>\n",
       "      <td>-0.291679</td>\n",
       "      <td>-1.237575</td>\n",
       "      <td>3.604765</td>\n",
       "      <td>-1.635689</td>\n",
       "      <td>0</td>\n",
       "    </tr>\n",
       "    <tr>\n",
       "      <th>2</th>\n",
       "      <td>0.332427</td>\n",
       "      <td>-0.887985</td>\n",
       "      <td>-0.309216</td>\n",
       "      <td>0.399891</td>\n",
       "      <td>0.828492</td>\n",
       "      <td>3.641945</td>\n",
       "      <td>-0.916946</td>\n",
       "      <td>-1.978024</td>\n",
       "      <td>1.056772</td>\n",
       "      <td>-1.882747</td>\n",
       "      <td>0</td>\n",
       "    </tr>\n",
       "    <tr>\n",
       "      <th>3</th>\n",
       "      <td>2.245599</td>\n",
       "      <td>3.826309</td>\n",
       "      <td>0.264039</td>\n",
       "      <td>0.095471</td>\n",
       "      <td>1.984380</td>\n",
       "      <td>0.373991</td>\n",
       "      <td>-0.280279</td>\n",
       "      <td>1.602786</td>\n",
       "      <td>-5.993331</td>\n",
       "      <td>-2.258925</td>\n",
       "      <td>1</td>\n",
       "    </tr>\n",
       "    <tr>\n",
       "      <th>4</th>\n",
       "      <td>0.705503</td>\n",
       "      <td>-1.312329</td>\n",
       "      <td>0.895406</td>\n",
       "      <td>-0.405408</td>\n",
       "      <td>1.116187</td>\n",
       "      <td>3.699562</td>\n",
       "      <td>-1.427985</td>\n",
       "      <td>-1.494409</td>\n",
       "      <td>1.156908</td>\n",
       "      <td>-1.434964</td>\n",
       "      <td>0</td>\n",
       "    </tr>\n",
       "  </tbody>\n",
       "</table>\n",
       "</div>"
      ],
      "text/plain": [
       "   feature_1  feature_2  feature_3  feature_4  feature_5  feature_6  \\\n",
       "0   1.148534   4.606077   2.699069  -2.661824   1.526433   1.236671   \n",
       "1  -1.149410  -1.650549   2.530167  -3.227088   0.572138   4.162600   \n",
       "2   0.332427  -0.887985  -0.309216   0.399891   0.828492   3.641945   \n",
       "3   2.245599   3.826309   0.264039   0.095471   1.984380   0.373991   \n",
       "4   0.705503  -1.312329   0.895406  -0.405408   1.116187   3.699562   \n",
       "\n",
       "   feature_7  feature_8  feature_9  feature_10  clusters  \n",
       "0   0.211421   1.482896  -4.445627   -1.936831         1  \n",
       "1  -0.291679  -1.237575   3.604765   -1.635689         0  \n",
       "2  -0.916946  -1.978024   1.056772   -1.882747         0  \n",
       "3  -0.280279   1.602786  -5.993331   -2.258925         1  \n",
       "4  -1.427985  -1.494409   1.156908   -1.434964         0  "
      ]
     },
     "execution_count": 37,
     "metadata": {},
     "output_type": "execute_result"
    }
   ],
   "source": [
    "# Define the model with optimal number of clusters\n",
    "model = KMeans(n_clusters=3, random_state=1)\n",
    "\n",
    "# Fit the model\n",
    "model.fit(customers_df)\n",
    "\n",
    "# Make predictions\n",
    "k_optimal = model.predict(customers_df)\n",
    "\n",
    "kmeans_predictions = customers_df.copy()\n",
    "kmeans_predictions['clusters'] = k_optimal \n",
    "\n",
    "kmeans_predictions.head()"
   ]
  },
  {
   "cell_type": "markdown",
   "metadata": {},
   "source": [
    "## Part 3. Cluster the data using AgglomerativeClustering and Birch\n",
    "\n",
    "Using your optimal number of clusters found above, additionally estimate clusters by using both `AgglomerativeClustering` and `Birch`. Save each of these models and their results for comparison."
   ]
  },
  {
   "cell_type": "code",
   "execution_count": 38,
   "metadata": {},
   "outputs": [],
   "source": [
    "# AgglomerativeClustering Model\n",
    "agglo_model = AgglomerativeClustering(n_clusters=3)\n",
    "agglo_predictions = agglo_model.fit_predict(customers_df)"
   ]
  },
  {
   "cell_type": "code",
   "execution_count": 39,
   "metadata": {},
   "outputs": [],
   "source": [
    "# Birch model \n",
    "birch_model = Birch(n_clusters=3)\n",
    "birch_model.fit(customers_df)\n",
    "birch_predictions = birch_model.predict(customers_df)"
   ]
  },
  {
   "cell_type": "code",
   "execution_count": 40,
   "metadata": {},
   "outputs": [
    {
     "data": {
      "text/html": [
       "<div>\n",
       "<style scoped>\n",
       "    .dataframe tbody tr th:only-of-type {\n",
       "        vertical-align: middle;\n",
       "    }\n",
       "\n",
       "    .dataframe tbody tr th {\n",
       "        vertical-align: top;\n",
       "    }\n",
       "\n",
       "    .dataframe thead th {\n",
       "        text-align: right;\n",
       "    }\n",
       "</style>\n",
       "<table border=\"1\" class=\"dataframe\">\n",
       "  <thead>\n",
       "    <tr style=\"text-align: right;\">\n",
       "      <th></th>\n",
       "      <th>feature_1</th>\n",
       "      <th>feature_2</th>\n",
       "      <th>feature_3</th>\n",
       "      <th>feature_4</th>\n",
       "      <th>feature_5</th>\n",
       "      <th>feature_6</th>\n",
       "      <th>feature_7</th>\n",
       "      <th>feature_8</th>\n",
       "      <th>feature_9</th>\n",
       "      <th>feature_10</th>\n",
       "      <th>clusters</th>\n",
       "      <th>agglo-labels</th>\n",
       "      <th>birch-labels</th>\n",
       "    </tr>\n",
       "  </thead>\n",
       "  <tbody>\n",
       "    <tr>\n",
       "      <th>0</th>\n",
       "      <td>1.148534</td>\n",
       "      <td>4.606077</td>\n",
       "      <td>2.699069</td>\n",
       "      <td>-2.661824</td>\n",
       "      <td>1.526433</td>\n",
       "      <td>1.236671</td>\n",
       "      <td>0.211421</td>\n",
       "      <td>1.482896</td>\n",
       "      <td>-4.445627</td>\n",
       "      <td>-1.936831</td>\n",
       "      <td>1</td>\n",
       "      <td>1</td>\n",
       "      <td>0</td>\n",
       "    </tr>\n",
       "    <tr>\n",
       "      <th>1</th>\n",
       "      <td>-1.149410</td>\n",
       "      <td>-1.650549</td>\n",
       "      <td>2.530167</td>\n",
       "      <td>-3.227088</td>\n",
       "      <td>0.572138</td>\n",
       "      <td>4.162600</td>\n",
       "      <td>-0.291679</td>\n",
       "      <td>-1.237575</td>\n",
       "      <td>3.604765</td>\n",
       "      <td>-1.635689</td>\n",
       "      <td>0</td>\n",
       "      <td>0</td>\n",
       "      <td>1</td>\n",
       "    </tr>\n",
       "    <tr>\n",
       "      <th>2</th>\n",
       "      <td>0.332427</td>\n",
       "      <td>-0.887985</td>\n",
       "      <td>-0.309216</td>\n",
       "      <td>0.399891</td>\n",
       "      <td>0.828492</td>\n",
       "      <td>3.641945</td>\n",
       "      <td>-0.916946</td>\n",
       "      <td>-1.978024</td>\n",
       "      <td>1.056772</td>\n",
       "      <td>-1.882747</td>\n",
       "      <td>0</td>\n",
       "      <td>0</td>\n",
       "      <td>1</td>\n",
       "    </tr>\n",
       "    <tr>\n",
       "      <th>3</th>\n",
       "      <td>2.245599</td>\n",
       "      <td>3.826309</td>\n",
       "      <td>0.264039</td>\n",
       "      <td>0.095471</td>\n",
       "      <td>1.984380</td>\n",
       "      <td>0.373991</td>\n",
       "      <td>-0.280279</td>\n",
       "      <td>1.602786</td>\n",
       "      <td>-5.993331</td>\n",
       "      <td>-2.258925</td>\n",
       "      <td>1</td>\n",
       "      <td>1</td>\n",
       "      <td>0</td>\n",
       "    </tr>\n",
       "    <tr>\n",
       "      <th>4</th>\n",
       "      <td>0.705503</td>\n",
       "      <td>-1.312329</td>\n",
       "      <td>0.895406</td>\n",
       "      <td>-0.405408</td>\n",
       "      <td>1.116187</td>\n",
       "      <td>3.699562</td>\n",
       "      <td>-1.427985</td>\n",
       "      <td>-1.494409</td>\n",
       "      <td>1.156908</td>\n",
       "      <td>-1.434964</td>\n",
       "      <td>0</td>\n",
       "      <td>0</td>\n",
       "      <td>1</td>\n",
       "    </tr>\n",
       "  </tbody>\n",
       "</table>\n",
       "</div>"
      ],
      "text/plain": [
       "   feature_1  feature_2  feature_3  feature_4  feature_5  feature_6  \\\n",
       "0   1.148534   4.606077   2.699069  -2.661824   1.526433   1.236671   \n",
       "1  -1.149410  -1.650549   2.530167  -3.227088   0.572138   4.162600   \n",
       "2   0.332427  -0.887985  -0.309216   0.399891   0.828492   3.641945   \n",
       "3   2.245599   3.826309   0.264039   0.095471   1.984380   0.373991   \n",
       "4   0.705503  -1.312329   0.895406  -0.405408   1.116187   3.699562   \n",
       "\n",
       "   feature_7  feature_8  feature_9  feature_10  clusters  agglo-labels  \\\n",
       "0   0.211421   1.482896  -4.445627   -1.936831         1             1   \n",
       "1  -0.291679  -1.237575   3.604765   -1.635689         0             0   \n",
       "2  -0.916946  -1.978024   1.056772   -1.882747         0             0   \n",
       "3  -0.280279   1.602786  -5.993331   -2.258925         1             1   \n",
       "4  -1.427985  -1.494409   1.156908   -1.434964         0             0   \n",
       "\n",
       "   birch-labels  \n",
       "0             0  \n",
       "1             1  \n",
       "2             1  \n",
       "3             0  \n",
       "4             1  "
      ]
     },
     "execution_count": 40,
     "metadata": {},
     "output_type": "execute_result"
    }
   ],
   "source": [
    "# Previewing the predicted customer classifcations for Birch\n",
    "predictions_df = pd.DataFrame(kmeans_predictions)\n",
    "predictions_df['agglo-labels'] = agglo_predictions\n",
    "predictions_df['birch-labels'] = birch_predictions\n",
    "predictions_df.head()"
   ]
  },
  {
   "cell_type": "markdown",
   "metadata": {},
   "source": [
    "## Part 4. Compare the cluster results from using Kmeans, AgglomerativeClustering, Birch\n",
    "\n",
    "1) Create a dataframe which is a copy of the original `customers_df` data.\n",
    "\n",
    "2) Add all of the predicted labels (`kmeans_predictions`, `agglo_predictions`, and `birch_predictions`) as columns to this dataframe. \n",
    "\n",
    "3) For each algorithm, plot the clusters using the \"feature_1\" and \"feature_2\" columns."
   ]
  },
  {
   "cell_type": "code",
   "execution_count": 42,
   "metadata": {},
   "outputs": [
    {
     "data": {
      "text/html": [
       "<div>\n",
       "<style scoped>\n",
       "    .dataframe tbody tr th:only-of-type {\n",
       "        vertical-align: middle;\n",
       "    }\n",
       "\n",
       "    .dataframe tbody tr th {\n",
       "        vertical-align: top;\n",
       "    }\n",
       "\n",
       "    .dataframe thead th {\n",
       "        text-align: right;\n",
       "    }\n",
       "</style>\n",
       "<table border=\"1\" class=\"dataframe\">\n",
       "  <thead>\n",
       "    <tr style=\"text-align: right;\">\n",
       "      <th></th>\n",
       "      <th>KMeans-clusters</th>\n",
       "      <th>agglo-labels</th>\n",
       "      <th>birch-labels</th>\n",
       "    </tr>\n",
       "  </thead>\n",
       "  <tbody>\n",
       "    <tr>\n",
       "      <th>0</th>\n",
       "      <td>1</td>\n",
       "      <td>1</td>\n",
       "      <td>0</td>\n",
       "    </tr>\n",
       "    <tr>\n",
       "      <th>1</th>\n",
       "      <td>0</td>\n",
       "      <td>0</td>\n",
       "      <td>1</td>\n",
       "    </tr>\n",
       "    <tr>\n",
       "      <th>2</th>\n",
       "      <td>0</td>\n",
       "      <td>0</td>\n",
       "      <td>1</td>\n",
       "    </tr>\n",
       "  </tbody>\n",
       "</table>\n",
       "</div>"
      ],
      "text/plain": [
       "   KMeans-clusters  agglo-labels  birch-labels\n",
       "0                1             1             0\n",
       "1                0             0             1\n",
       "2                0             0             1"
      ]
     },
     "execution_count": 42,
     "metadata": {},
     "output_type": "execute_result"
    }
   ],
   "source": [
    "# Create a copy of the customers_df DataFrame\n",
    "customers_predictions_df = customers_df.copy()\n",
    "# Add class columns with the labels to the new DataFrame\n",
    "customers_predictions_df['KMeans-clusters'] = k_optimal\n",
    "customers_predictions_df['agglo-labels'] = agglo_predictions\n",
    "customers_predictions_df['birch-labels'] = birch_predictions\n",
    "customers_predictions_df[['KMeans-clusters','agglo-labels', 'birch-labels']].head(3)"
   ]
  },
  {
   "cell_type": "code",
   "execution_count": 45,
   "metadata": {},
   "outputs": [
    {
     "data": {},
     "metadata": {},
     "output_type": "display_data"
    },
    {
     "data": {
      "application/vnd.holoviews_exec.v0+json": "",
      "text/html": [
       "<div id='1422'>\n",
       "  <div class=\"bk-root\" id=\"8dc3c529-eb49-4f4f-b1a0-becdb05e570a\" data-root-id=\"1422\"></div>\n",
       "</div>\n",
       "<script type=\"application/javascript\">(function(root) {\n",
       "  function embed_document(root) {\n",
       "    var docs_json = {\"082aa558-7ce7-4ee1-8b73-67fa81ff3291\":{\"defs\":[{\"extends\":null,\"module\":null,\"name\":\"ReactiveHTML1\",\"overrides\":[],\"properties\":[]},{\"extends\":null,\"module\":null,\"name\":\"FlexBox1\",\"overrides\":[],\"properties\":[{\"default\":\"flex-start\",\"kind\":null,\"name\":\"align_content\"},{\"default\":\"flex-start\",\"kind\":null,\"name\":\"align_items\"},{\"default\":\"row\",\"kind\":null,\"name\":\"flex_direction\"},{\"default\":\"wrap\",\"kind\":null,\"name\":\"flex_wrap\"},{\"default\":\"flex-start\",\"kind\":null,\"name\":\"justify_content\"}]},{\"extends\":null,\"module\":null,\"name\":\"GridStack1\",\"overrides\":[],\"properties\":[{\"default\":\"warn\",\"kind\":null,\"name\":\"mode\"},{\"default\":null,\"kind\":null,\"name\":\"ncols\"},{\"default\":null,\"kind\":null,\"name\":\"nrows\"},{\"default\":true,\"kind\":null,\"name\":\"allow_resize\"},{\"default\":true,\"kind\":null,\"name\":\"allow_drag\"},{\"default\":[],\"kind\":null,\"name\":\"state\"}]},{\"extends\":null,\"module\":null,\"name\":\"click1\",\"overrides\":[],\"properties\":[{\"default\":\"\",\"kind\":null,\"name\":\"terminal_output\"},{\"default\":\"\",\"kind\":null,\"name\":\"debug_name\"},{\"default\":0,\"kind\":null,\"name\":\"clears\"}]},{\"extends\":null,\"module\":null,\"name\":\"NotificationAreaBase1\",\"overrides\":[],\"properties\":[{\"default\":\"bottom-right\",\"kind\":null,\"name\":\"position\"},{\"default\":0,\"kind\":null,\"name\":\"_clear\"}]},{\"extends\":null,\"module\":null,\"name\":\"NotificationArea1\",\"overrides\":[],\"properties\":[{\"default\":[],\"kind\":null,\"name\":\"notifications\"},{\"default\":\"bottom-right\",\"kind\":null,\"name\":\"position\"},{\"default\":0,\"kind\":null,\"name\":\"_clear\"},{\"default\":[{\"background\":\"#ffc107\",\"icon\":{\"className\":\"fas fa-exclamation-triangle\",\"color\":\"white\",\"tagName\":\"i\"},\"type\":\"warning\"},{\"background\":\"#007bff\",\"icon\":{\"className\":\"fas fa-info-circle\",\"color\":\"white\",\"tagName\":\"i\"},\"type\":\"info\"}],\"kind\":null,\"name\":\"types\"}]},{\"extends\":null,\"module\":null,\"name\":\"Notification\",\"overrides\":[],\"properties\":[{\"default\":null,\"kind\":null,\"name\":\"background\"},{\"default\":3000,\"kind\":null,\"name\":\"duration\"},{\"default\":null,\"kind\":null,\"name\":\"icon\"},{\"default\":\"\",\"kind\":null,\"name\":\"message\"},{\"default\":null,\"kind\":null,\"name\":\"notification_type\"},{\"default\":false,\"kind\":null,\"name\":\"_destroyed\"}]},{\"extends\":null,\"module\":null,\"name\":\"TemplateActions1\",\"overrides\":[],\"properties\":[{\"default\":0,\"kind\":null,\"name\":\"open_modal\"},{\"default\":0,\"kind\":null,\"name\":\"close_modal\"}]},{\"extends\":null,\"module\":null,\"name\":\"MaterialTemplateActions1\",\"overrides\":[],\"properties\":[{\"default\":0,\"kind\":null,\"name\":\"open_modal\"},{\"default\":0,\"kind\":null,\"name\":\"close_modal\"}]}],\"roots\":{\"references\":[{\"attributes\":{\"source\":{\"id\":\"1486\"}},\"id\":\"1493\",\"type\":\"CDSView\"},{\"attributes\":{\"axis\":{\"id\":\"1438\"},\"coordinates\":null,\"grid_line_color\":null,\"group\":null,\"ticker\":null},\"id\":\"1441\",\"type\":\"Grid\"},{\"attributes\":{\"data\":{\"KMeans_hyphen_minus_clusters\":[1,1,1,1,1,1,1,1,1,1,1,1,1,1,1,1,1,1,1,1,1,1,1,1,1,1,1,1,1,1,1,1,1,1,1,1,1,1,1,1,1,1,1,1,1,1,1,1,1,1,1,1,1,1,1,1,1,1,1,1,1,1,1,1,1,1,1,1,1,1,1,1,1,1,1,1,1,1,1,1,1,1,1,1,1,1,1,1,1,1,1,1,1,1,1,1,1,1,1,1,1,1,1,1,1,1,1,1,1,1,1,1,1,1,1,1,1,1,1,1,1,1,1,1,1,1,1,1,1,1,1,1,1,1,1,1,1,1,1,1,1,1,1,1,1,1,1,1,1,1,1,1,1,1,1,1,1,1,1,1,1,1,1,1,1,1,1,1,1,1,1,1,1,1,1,1,1,1,1,1,1,1,1,1,1,1,1,1,1,1,1,1,1,1,1,1,1,1,1,1,1,1,1,1,1,1,1,1,1,1,1,1,1,1,1,1,1,1,1,1,1,1,1,1,1,1,1,1,1,1,1,1,1,1,1,1,1,1,1,1,1,1,1,1,1,1,1,1,1,1,1,1,1,1,1,1,1,1,1,1,1,1,1,1,1,1,1,1,1,1,1,1,1,1,1,1,1,1,1,1,1,1,1,1,1,1,1,1,1,1,1,1,1,1,1,1,1,1,1,1,1,1,1,1,1,1,1,1,1,1,1,1,1,1,1,1,1,1,1,1,1,1,1,1,1,1,1,1,1,1,1,1,1,1,1,1,1,1,1,1,1,1,1,1,1,1,1,1,1,1,1,1,1,1,1,1,1,1,1,1,1,1,1,1,1,1,1,1,1,1,1,1,1,1,1,1,1,1,1,1,1,1,1,1,1,1,1,1,1,1,1,1,1,1,1,1,1,1,1,1,1,1,1,1,1,1,1,1,1,1,1,1,1,1,1,1,1,1,1,1,1,1,1,1,1,1,1,1,1,1,1,1,1,1,1,1,1,1,1,1,1,1,1,1,1,1,1,1,1,1,1,1,1,1,1,1,1,1,1,1,1,1,1,1,1,1,1,1,1,1,1,1,1,1,1,1,1,1,1,1,1,1,1,1,1,1,1,1,1,1,1,1,1,1,1,1,1,1,1,1,1,1,1,1,1,1,1,1,1],\"feature_1\":{\"__ndarray__\":\"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\",\"dtype\":\"float64\",\"order\":\"little\",\"shape\":[509]},\"feature_2\":{\"__ndarray__\":\"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\",\"dtype\":\"float64\",\"order\":\"little\",\"shape\":[509]}},\"selected\":{\"id\":\"1487\"},\"selection_policy\":{\"id\":\"1503\"}},\"id\":\"1486\",\"type\":\"ColumnDataSource\"},{\"attributes\":{\"label\":{\"value\":\"0\"},\"renderers\":[{\"id\":\"1471\"}]},\"id\":\"1484\",\"type\":\"LegendItem\"},{\"attributes\":{\"axis_label\":\"feature_2\",\"coordinates\":null,\"formatter\":{\"id\":\"1463\"},\"group\":null,\"major_label_policy\":{\"id\":\"1464\"},\"ticker\":{\"id\":\"1443\"}},\"id\":\"1442\",\"type\":\"LinearAxis\"},{\"attributes\":{},\"id\":\"1443\",\"type\":\"BasicTicker\"},{\"attributes\":{\"angle\":{\"value\":0.0},\"fill_alpha\":{\"value\":1.0},\"fill_color\":{\"value\":\"#30a2da\"},\"hatch_alpha\":{\"value\":1.0},\"hatch_color\":{\"value\":\"#30a2da\"},\"hatch_scale\":{\"value\":12.0},\"hatch_weight\":{\"value\":1.0},\"line_alpha\":{\"value\":1.0},\"line_cap\":{\"value\":\"butt\"},\"line_color\":{\"value\":\"#30a2da\"},\"line_dash\":{\"value\":[]},\"line_dash_offset\":{\"value\":0},\"line_join\":{\"value\":\"bevel\"},\"line_width\":{\"value\":1},\"marker\":{\"value\":\"circle\"},\"size\":{\"value\":5.477225575051661},\"x\":{\"field\":\"feature_1\"},\"y\":{\"field\":\"feature_2\"}},\"id\":\"1485\",\"type\":\"Scatter\"},{\"attributes\":{\"label\":{\"value\":\"1\"},\"renderers\":[{\"id\":\"1492\"}]},\"id\":\"1506\",\"type\":\"LegendItem\"},{\"attributes\":{},\"id\":\"1460\",\"type\":\"BasicTickFormatter\"},{\"attributes\":{},\"id\":\"1461\",\"type\":\"AllLabels\"},{\"attributes\":{\"fill_color\":{\"value\":\"#30a2da\"},\"hatch_color\":{\"value\":\"#30a2da\"},\"line_color\":{\"value\":\"#30a2da\"},\"size\":{\"value\":5.477225575051661},\"x\":{\"field\":\"feature_1\"},\"y\":{\"field\":\"feature_2\"}},\"id\":\"1468\",\"type\":\"Scatter\"},{\"attributes\":{},\"id\":\"1487\",\"type\":\"Selection\"},{\"attributes\":{\"axis\":{\"id\":\"1442\"},\"coordinates\":null,\"dimension\":1,\"grid_line_color\":null,\"group\":null,\"ticker\":null},\"id\":\"1445\",\"type\":\"Grid\"},{\"attributes\":{\"coordinates\":null,\"data_source\":{\"id\":\"1486\"},\"glyph\":{\"id\":\"1489\"},\"group\":null,\"hover_glyph\":null,\"muted_glyph\":{\"id\":\"1491\"},\"nonselection_glyph\":{\"id\":\"1490\"},\"selection_glyph\":{\"id\":\"1507\"},\"view\":{\"id\":\"1493\"}},\"id\":\"1492\",\"type\":\"GlyphRenderer\"},{\"attributes\":{\"source\":{\"id\":\"1465\"}},\"id\":\"1472\",\"type\":\"CDSView\"},{\"attributes\":{\"fill_alpha\":{\"value\":0.1},\"fill_color\":{\"value\":\"#e5ae38\"},\"hatch_alpha\":{\"value\":0.1},\"hatch_color\":{\"value\":\"#e5ae38\"},\"line_alpha\":{\"value\":0.1},\"line_color\":{\"value\":\"#e5ae38\"},\"size\":{\"value\":5.477225575051661},\"x\":{\"field\":\"feature_1\"},\"y\":{\"field\":\"feature_2\"}},\"id\":\"1512\",\"type\":\"Scatter\"},{\"attributes\":{\"angle\":{\"value\":0.0},\"fill_alpha\":{\"value\":1.0},\"fill_color\":{\"value\":\"#fc4f30\"},\"hatch_alpha\":{\"value\":1.0},\"hatch_color\":{\"value\":\"#fc4f30\"},\"hatch_scale\":{\"value\":12.0},\"hatch_weight\":{\"value\":1.0},\"line_alpha\":{\"value\":1.0},\"line_cap\":{\"value\":\"butt\"},\"line_color\":{\"value\":\"#fc4f30\"},\"line_dash\":{\"value\":[]},\"line_dash_offset\":{\"value\":0},\"line_join\":{\"value\":\"bevel\"},\"line_width\":{\"value\":1},\"marker\":{\"value\":\"circle\"},\"size\":{\"value\":5.477225575051661},\"x\":{\"field\":\"feature_1\"},\"y\":{\"field\":\"feature_2\"}},\"id\":\"1507\",\"type\":\"Scatter\"},{\"attributes\":{\"fill_alpha\":{\"value\":0.2},\"fill_color\":{\"value\":\"#fc4f30\"},\"hatch_alpha\":{\"value\":0.2},\"hatch_color\":{\"value\":\"#fc4f30\"},\"line_alpha\":{\"value\":0.2},\"line_color\":{\"value\":\"#fc4f30\"},\"size\":{\"value\":5.477225575051661},\"x\":{\"field\":\"feature_1\"},\"y\":{\"field\":\"feature_2\"}},\"id\":\"1491\",\"type\":\"Scatter\"},{\"attributes\":{},\"id\":\"1503\",\"type\":\"UnionRenderers\"},{\"attributes\":{\"fill_color\":{\"value\":\"#fc4f30\"},\"hatch_color\":{\"value\":\"#fc4f30\"},\"line_color\":{\"value\":\"#fc4f30\"},\"size\":{\"value\":5.477225575051661},\"x\":{\"field\":\"feature_1\"},\"y\":{\"field\":\"feature_2\"}},\"id\":\"1489\",\"type\":\"Scatter\"},{\"attributes\":{\"angle\":{\"value\":0.0},\"fill_alpha\":{\"value\":1.0},\"fill_color\":{\"value\":\"#e5ae38\"},\"hatch_alpha\":{\"value\":1.0},\"hatch_color\":{\"value\":\"#e5ae38\"},\"hatch_scale\":{\"value\":12.0},\"hatch_weight\":{\"value\":1.0},\"line_alpha\":{\"value\":1.0},\"line_cap\":{\"value\":\"butt\"},\"line_color\":{\"value\":\"#e5ae38\"},\"line_dash\":{\"value\":[]},\"line_dash_offset\":{\"value\":0},\"line_join\":{\"value\":\"bevel\"},\"line_width\":{\"value\":1},\"marker\":{\"value\":\"circle\"},\"size\":{\"value\":5.477225575051661},\"x\":{\"field\":\"feature_1\"},\"y\":{\"field\":\"feature_2\"}},\"id\":\"1531\",\"type\":\"Scatter\"},{\"attributes\":{\"data\":{\"KMeans_hyphen_minus_clusters\":[0,0,0,0,0,0,0,0,0,0,0,0,0,0,0,0,0,0,0,0,0,0,0,0,0,0,0,0,0,0,0,0,0,0,0,0,0,0,0,0,0,0,0,0,0,0,0,0,0,0,0,0,0,0,0,0,0,0,0,0,0,0,0,0,0,0,0,0,0,0,0,0,0,0,0,0,0,0,0,0,0,0,0,0,0,0,0,0,0,0,0,0,0,0,0,0,0,0,0,0,0,0,0,0,0,0,0,0,0,0,0,0,0,0,0,0,0,0,0,0,0,0,0,0,0,0,0,0,0,0,0,0,0,0,0,0,0,0,0,0,0,0,0,0,0,0,0,0,0,0,0,0,0,0,0,0,0,0,0,0,0,0,0,0,0,0,0,0,0,0,0,0,0,0,0,0,0,0,0,0,0,0,0,0,0,0,0,0,0,0,0,0,0,0,0,0,0,0,0,0,0,0,0,0,0,0,0,0,0,0,0,0,0,0,0,0,0,0,0,0,0,0,0,0,0,0,0,0,0,0,0,0,0,0,0,0,0,0,0,0,0,0,0,0,0,0,0,0,0,0,0,0,0,0,0,0,0,0,0,0,0,0,0,0,0,0,0,0,0,0,0,0,0,0,0,0,0,0,0,0,0,0,0,0,0,0,0,0,0,0,0,0,0,0],\"feature_1\":{\"__ndarray__\":\"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\",\"dtype\":\"float64\",\"order\":\"little\",\"shape\":[294]},\"feature_2\":{\"__ndarray__\":\"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\",\"dtype\":\"float64\",\"order\":\"little\",\"shape\":[294]}},\"selected\":{\"id\":\"1466\"},\"selection_policy\":{\"id\":\"1480\"}},\"id\":\"1465\",\"type\":\"ColumnDataSource\"},{\"attributes\":{\"fill_color\":{\"value\":\"#e5ae38\"},\"hatch_color\":{\"value\":\"#e5ae38\"},\"line_color\":{\"value\":\"#e5ae38\"},\"size\":{\"value\":5.477225575051661},\"x\":{\"field\":\"feature_1\"},\"y\":{\"field\":\"feature_2\"}},\"id\":\"1511\",\"type\":\"Scatter\"},{\"attributes\":{\"source\":{\"id\":\"1508\"}},\"id\":\"1515\",\"type\":\"CDSView\"},{\"attributes\":{},\"id\":\"1480\",\"type\":\"UnionRenderers\"},{\"attributes\":{\"fill_alpha\":{\"value\":0.2},\"fill_color\":{\"value\":\"#30a2da\"},\"hatch_alpha\":{\"value\":0.2},\"hatch_color\":{\"value\":\"#30a2da\"},\"line_alpha\":{\"value\":0.2},\"line_color\":{\"value\":\"#30a2da\"},\"size\":{\"value\":5.477225575051661},\"x\":{\"field\":\"feature_1\"},\"y\":{\"field\":\"feature_2\"}},\"id\":\"1470\",\"type\":\"Scatter\"},{\"attributes\":{\"coordinates\":null,\"data_source\":{\"id\":\"1465\"},\"glyph\":{\"id\":\"1468\"},\"group\":null,\"hover_glyph\":null,\"muted_glyph\":{\"id\":\"1470\"},\"nonselection_glyph\":{\"id\":\"1469\"},\"selection_glyph\":{\"id\":\"1485\"},\"view\":{\"id\":\"1472\"}},\"id\":\"1471\",\"type\":\"GlyphRenderer\"},{\"attributes\":{\"tools\":[{\"id\":\"1426\"},{\"id\":\"1446\"},{\"id\":\"1447\"},{\"id\":\"1448\"},{\"id\":\"1449\"},{\"id\":\"1450\"}]},\"id\":\"1452\",\"type\":\"Toolbar\"},{\"attributes\":{\"children\":[{\"id\":\"1423\"},{\"id\":\"1429\"},{\"id\":\"1546\"}],\"margin\":[0,0,0,0],\"name\":\"Row01353\",\"tags\":[\"embedded\"]},\"id\":\"1422\",\"type\":\"Row\"},{\"attributes\":{\"callback\":null,\"renderers\":[{\"id\":\"1471\"},{\"id\":\"1492\"},{\"id\":\"1514\"}],\"tags\":[\"hv_created\"],\"tooltips\":[[\"KMeans-clusters\",\"@{KMeans_hyphen_minus_clusters}\"],[\"feature_1\",\"@{feature_1}\"],[\"feature_2\",\"@{feature_2}\"]]},\"id\":\"1426\",\"type\":\"HoverTool\"},{\"attributes\":{},\"id\":\"1463\",\"type\":\"BasicTickFormatter\"},{\"attributes\":{\"bottom_units\":\"screen\",\"coordinates\":null,\"fill_alpha\":0.5,\"fill_color\":\"lightgrey\",\"group\":null,\"left_units\":\"screen\",\"level\":\"overlay\",\"line_alpha\":1.0,\"line_color\":\"black\",\"line_dash\":[4,4],\"line_width\":2,\"right_units\":\"screen\",\"syncable\":false,\"top_units\":\"screen\"},\"id\":\"1451\",\"type\":\"BoxAnnotation\"},{\"attributes\":{\"fill_alpha\":{\"value\":0.1},\"fill_color\":{\"value\":\"#30a2da\"},\"hatch_alpha\":{\"value\":0.1},\"hatch_color\":{\"value\":\"#30a2da\"},\"line_alpha\":{\"value\":0.1},\"line_color\":{\"value\":\"#30a2da\"},\"size\":{\"value\":5.477225575051661},\"x\":{\"field\":\"feature_1\"},\"y\":{\"field\":\"feature_2\"}},\"id\":\"1469\",\"type\":\"Scatter\"},{\"attributes\":{},\"id\":\"1446\",\"type\":\"SaveTool\"},{\"attributes\":{\"below\":[{\"id\":\"1438\"}],\"center\":[{\"id\":\"1441\"},{\"id\":\"1445\"}],\"height\":300,\"left\":[{\"id\":\"1442\"}],\"margin\":[5,5,5,5],\"min_border_bottom\":10,\"min_border_left\":10,\"min_border_right\":10,\"min_border_top\":10,\"renderers\":[{\"id\":\"1471\"},{\"id\":\"1492\"},{\"id\":\"1514\"}],\"right\":[{\"id\":\"1483\"}],\"sizing_mode\":\"fixed\",\"title\":{\"id\":\"1430\"},\"toolbar\":{\"id\":\"1452\"},\"width\":700,\"x_range\":{\"id\":\"1424\"},\"x_scale\":{\"id\":\"1434\"},\"y_range\":{\"id\":\"1425\"},\"y_scale\":{\"id\":\"1436\"}},\"id\":\"1429\",\"subtype\":\"Figure\",\"type\":\"Plot\"},{\"attributes\":{\"fill_alpha\":{\"value\":0.1},\"fill_color\":{\"value\":\"#fc4f30\"},\"hatch_alpha\":{\"value\":0.1},\"hatch_color\":{\"value\":\"#fc4f30\"},\"line_alpha\":{\"value\":0.1},\"line_color\":{\"value\":\"#fc4f30\"},\"size\":{\"value\":5.477225575051661},\"x\":{\"field\":\"feature_1\"},\"y\":{\"field\":\"feature_2\"}},\"id\":\"1490\",\"type\":\"Scatter\"},{\"attributes\":{},\"id\":\"1447\",\"type\":\"PanTool\"},{\"attributes\":{},\"id\":\"1464\",\"type\":\"AllLabels\"},{\"attributes\":{\"margin\":[5,5,5,5],\"name\":\"HSpacer01357\",\"sizing_mode\":\"stretch_width\"},\"id\":\"1423\",\"type\":\"Spacer\"},{\"attributes\":{\"end\":9.215602229847773,\"reset_end\":9.215602229847773,\"reset_start\":-5.909730475924883,\"start\":-5.909730475924883,\"tags\":[[[\"feature_2\",\"feature_2\",null]]]},\"id\":\"1425\",\"type\":\"Range1d\"},{\"attributes\":{},\"id\":\"1450\",\"type\":\"ResetTool\"},{\"attributes\":{\"coordinates\":null,\"group\":null,\"text_color\":\"black\",\"text_font_size\":\"12pt\"},\"id\":\"1430\",\"type\":\"Title\"},{\"attributes\":{},\"id\":\"1448\",\"type\":\"WheelZoomTool\"},{\"attributes\":{\"overlay\":{\"id\":\"1451\"}},\"id\":\"1449\",\"type\":\"BoxZoomTool\"},{\"attributes\":{},\"id\":\"1527\",\"type\":\"UnionRenderers\"},{\"attributes\":{\"axis_label\":\"feature_1\",\"coordinates\":null,\"formatter\":{\"id\":\"1460\"},\"group\":null,\"major_label_policy\":{\"id\":\"1461\"},\"ticker\":{\"id\":\"1439\"}},\"id\":\"1438\",\"type\":\"LinearAxis\"},{\"attributes\":{\"margin\":[5,5,5,5],\"name\":\"HSpacer01358\",\"sizing_mode\":\"stretch_width\"},\"id\":\"1546\",\"type\":\"Spacer\"},{\"attributes\":{\"end\":6.812945338442532,\"reset_end\":6.812945338442532,\"reset_start\":-6.796693307805908,\"start\":-6.796693307805908,\"tags\":[[[\"feature_1\",\"feature_1\",null]]]},\"id\":\"1424\",\"type\":\"Range1d\"},{\"attributes\":{},\"id\":\"1436\",\"type\":\"LinearScale\"},{\"attributes\":{\"data\":{\"KMeans_hyphen_minus_clusters\":[2,2,2,2,2,2,2,2,2,2,2,2,2,2,2,2,2,2,2,2,2,2,2,2,2,2,2,2,2,2,2,2,2,2,2,2,2,2,2,2,2,2,2,2,2,2,2,2,2,2,2,2,2,2,2,2,2,2,2,2,2,2,2,2,2,2,2,2,2,2,2,2,2,2,2,2,2,2,2,2,2,2,2,2,2,2,2,2,2,2,2,2,2,2,2,2,2,2,2,2,2,2,2,2,2,2,2,2,2,2,2,2,2,2,2,2,2,2,2,2,2,2,2,2,2,2,2,2,2,2,2,2,2,2,2,2,2,2,2,2,2,2,2,2,2,2,2,2,2,2,2,2,2,2,2,2,2,2,2,2,2,2,2,2,2,2,2,2,2,2,2,2,2,2,2,2,2,2,2,2,2,2,2,2,2,2,2,2,2,2,2,2,2,2,2,2,2],\"feature_1\":{\"__ndarray__\":\"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\",\"dtype\":\"float64\",\"order\":\"little\",\"shape\":[197]},\"feature_2\":{\"__ndarray__\":\"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\",\"dtype\":\"float64\",\"order\":\"little\",\"shape\":[197]}},\"selected\":{\"id\":\"1509\"},\"selection_policy\":{\"id\":\"1527\"}},\"id\":\"1508\",\"type\":\"ColumnDataSource\"},{\"attributes\":{},\"id\":\"1434\",\"type\":\"LinearScale\"},{\"attributes\":{\"click_policy\":\"mute\",\"coordinates\":null,\"group\":null,\"items\":[{\"id\":\"1484\"},{\"id\":\"1506\"},{\"id\":\"1530\"}],\"location\":[0,0],\"title\":\"KMeans-clusters\"},\"id\":\"1483\",\"type\":\"Legend\"},{\"attributes\":{\"label\":{\"value\":\"2\"},\"renderers\":[{\"id\":\"1514\"}]},\"id\":\"1530\",\"type\":\"LegendItem\"},{\"attributes\":{},\"id\":\"1466\",\"type\":\"Selection\"},{\"attributes\":{},\"id\":\"1439\",\"type\":\"BasicTicker\"},{\"attributes\":{},\"id\":\"1509\",\"type\":\"Selection\"},{\"attributes\":{\"coordinates\":null,\"data_source\":{\"id\":\"1508\"},\"glyph\":{\"id\":\"1511\"},\"group\":null,\"hover_glyph\":null,\"muted_glyph\":{\"id\":\"1513\"},\"nonselection_glyph\":{\"id\":\"1512\"},\"selection_glyph\":{\"id\":\"1531\"},\"view\":{\"id\":\"1515\"}},\"id\":\"1514\",\"type\":\"GlyphRenderer\"},{\"attributes\":{\"fill_alpha\":{\"value\":0.2},\"fill_color\":{\"value\":\"#e5ae38\"},\"hatch_alpha\":{\"value\":0.2},\"hatch_color\":{\"value\":\"#e5ae38\"},\"line_alpha\":{\"value\":0.2},\"line_color\":{\"value\":\"#e5ae38\"},\"size\":{\"value\":5.477225575051661},\"x\":{\"field\":\"feature_1\"},\"y\":{\"field\":\"feature_2\"}},\"id\":\"1513\",\"type\":\"Scatter\"}],\"root_ids\":[\"1422\"]},\"title\":\"Bokeh Application\",\"version\":\"2.4.3\"}};\n",
       "    var render_items = [{\"docid\":\"082aa558-7ce7-4ee1-8b73-67fa81ff3291\",\"root_ids\":[\"1422\"],\"roots\":{\"1422\":\"8dc3c529-eb49-4f4f-b1a0-becdb05e570a\"}}];\n",
       "    root.Bokeh.embed.embed_items_notebook(docs_json, render_items);\n",
       "  }\n",
       "  if (root.Bokeh !== undefined && root.Bokeh.Panel !== undefined) {\n",
       "    embed_document(root);\n",
       "  } else {\n",
       "    var attempts = 0;\n",
       "    var timer = setInterval(function(root) {\n",
       "      if (root.Bokeh !== undefined && root.Bokeh.Panel !== undefined) {\n",
       "        clearInterval(timer);\n",
       "        embed_document(root);\n",
       "      } else if (document.readyState == \"complete\") {\n",
       "        attempts++;\n",
       "        if (attempts > 200) {\n",
       "          clearInterval(timer);\n",
       "          console.log(\"Bokeh: ERROR: Unable to run BokehJS code because BokehJS library is missing\");\n",
       "        }\n",
       "      }\n",
       "    }, 25, root)\n",
       "  }\n",
       "})(window);</script>"
      ],
      "text/plain": [
       ":NdOverlay   [KMeans-clusters]\n",
       "   :Scatter   [feature_1]   (feature_2)"
      ]
     },
     "execution_count": 45,
     "metadata": {
      "application/vnd.holoviews_exec.v0+json": {
       "id": "1422"
      }
     },
     "output_type": "execute_result"
    }
   ],
   "source": [
    "# Plot the kmeans clusters using the \"feature_1\" and \"feature_2\" columns\n",
    "customers_predictions_df.hvplot.scatter(\n",
    "    x = 'feature_1',\n",
    "    y = 'feature_2', \n",
    "    by = 'KMeans-clusters'\n",
    ")"
   ]
  },
  {
   "cell_type": "code",
   "execution_count": 46,
   "metadata": {
    "scrolled": true
   },
   "outputs": [
    {
     "data": {},
     "metadata": {},
     "output_type": "display_data"
    },
    {
     "data": {
      "application/vnd.holoviews_exec.v0+json": "",
      "text/html": [
       "<div id='1618'>\n",
       "  <div class=\"bk-root\" id=\"685909d9-aaf7-42b8-98df-a83167aec5fa\" data-root-id=\"1618\"></div>\n",
       "</div>\n",
       "<script type=\"application/javascript\">(function(root) {\n",
       "  function embed_document(root) {\n",
       "    var docs_json = {\"af9712f9-ee9c-45e1-9559-26191944a8c7\":{\"defs\":[{\"extends\":null,\"module\":null,\"name\":\"ReactiveHTML1\",\"overrides\":[],\"properties\":[]},{\"extends\":null,\"module\":null,\"name\":\"FlexBox1\",\"overrides\":[],\"properties\":[{\"default\":\"flex-start\",\"kind\":null,\"name\":\"align_content\"},{\"default\":\"flex-start\",\"kind\":null,\"name\":\"align_items\"},{\"default\":\"row\",\"kind\":null,\"name\":\"flex_direction\"},{\"default\":\"wrap\",\"kind\":null,\"name\":\"flex_wrap\"},{\"default\":\"flex-start\",\"kind\":null,\"name\":\"justify_content\"}]},{\"extends\":null,\"module\":null,\"name\":\"GridStack1\",\"overrides\":[],\"properties\":[{\"default\":\"warn\",\"kind\":null,\"name\":\"mode\"},{\"default\":null,\"kind\":null,\"name\":\"ncols\"},{\"default\":null,\"kind\":null,\"name\":\"nrows\"},{\"default\":true,\"kind\":null,\"name\":\"allow_resize\"},{\"default\":true,\"kind\":null,\"name\":\"allow_drag\"},{\"default\":[],\"kind\":null,\"name\":\"state\"}]},{\"extends\":null,\"module\":null,\"name\":\"click1\",\"overrides\":[],\"properties\":[{\"default\":\"\",\"kind\":null,\"name\":\"terminal_output\"},{\"default\":\"\",\"kind\":null,\"name\":\"debug_name\"},{\"default\":0,\"kind\":null,\"name\":\"clears\"}]},{\"extends\":null,\"module\":null,\"name\":\"NotificationAreaBase1\",\"overrides\":[],\"properties\":[{\"default\":\"bottom-right\",\"kind\":null,\"name\":\"position\"},{\"default\":0,\"kind\":null,\"name\":\"_clear\"}]},{\"extends\":null,\"module\":null,\"name\":\"NotificationArea1\",\"overrides\":[],\"properties\":[{\"default\":[],\"kind\":null,\"name\":\"notifications\"},{\"default\":\"bottom-right\",\"kind\":null,\"name\":\"position\"},{\"default\":0,\"kind\":null,\"name\":\"_clear\"},{\"default\":[{\"background\":\"#ffc107\",\"icon\":{\"className\":\"fas fa-exclamation-triangle\",\"color\":\"white\",\"tagName\":\"i\"},\"type\":\"warning\"},{\"background\":\"#007bff\",\"icon\":{\"className\":\"fas fa-info-circle\",\"color\":\"white\",\"tagName\":\"i\"},\"type\":\"info\"}],\"kind\":null,\"name\":\"types\"}]},{\"extends\":null,\"module\":null,\"name\":\"Notification\",\"overrides\":[],\"properties\":[{\"default\":null,\"kind\":null,\"name\":\"background\"},{\"default\":3000,\"kind\":null,\"name\":\"duration\"},{\"default\":null,\"kind\":null,\"name\":\"icon\"},{\"default\":\"\",\"kind\":null,\"name\":\"message\"},{\"default\":null,\"kind\":null,\"name\":\"notification_type\"},{\"default\":false,\"kind\":null,\"name\":\"_destroyed\"}]},{\"extends\":null,\"module\":null,\"name\":\"TemplateActions1\",\"overrides\":[],\"properties\":[{\"default\":0,\"kind\":null,\"name\":\"open_modal\"},{\"default\":0,\"kind\":null,\"name\":\"close_modal\"}]},{\"extends\":null,\"module\":null,\"name\":\"MaterialTemplateActions1\",\"overrides\":[],\"properties\":[{\"default\":0,\"kind\":null,\"name\":\"open_modal\"},{\"default\":0,\"kind\":null,\"name\":\"close_modal\"}]}],\"roots\":{\"references\":[{\"attributes\":{\"tools\":[{\"id\":\"1622\"},{\"id\":\"1642\"},{\"id\":\"1643\"},{\"id\":\"1644\"},{\"id\":\"1645\"},{\"id\":\"1646\"}]},\"id\":\"1648\",\"type\":\"Toolbar\"},{\"attributes\":{},\"id\":\"1632\",\"type\":\"LinearScale\"},{\"attributes\":{\"fill_color\":{\"value\":\"#e5ae38\"},\"hatch_color\":{\"value\":\"#e5ae38\"},\"line_color\":{\"value\":\"#e5ae38\"},\"size\":{\"value\":5.477225575051661},\"x\":{\"field\":\"feature_1\"},\"y\":{\"field\":\"feature_2\"}},\"id\":\"1707\",\"type\":\"Scatter\"},{\"attributes\":{\"axis_label\":\"feature_2\",\"coordinates\":null,\"formatter\":{\"id\":\"1659\"},\"group\":null,\"major_label_policy\":{\"id\":\"1660\"},\"ticker\":{\"id\":\"1639\"}},\"id\":\"1638\",\"type\":\"LinearAxis\"},{\"attributes\":{},\"id\":\"1659\",\"type\":\"BasicTickFormatter\"},{\"attributes\":{\"axis_label\":\"feature_1\",\"coordinates\":null,\"formatter\":{\"id\":\"1656\"},\"group\":null,\"major_label_policy\":{\"id\":\"1657\"},\"ticker\":{\"id\":\"1635\"}},\"id\":\"1634\",\"type\":\"LinearAxis\"},{\"attributes\":{\"bottom_units\":\"screen\",\"coordinates\":null,\"fill_alpha\":0.5,\"fill_color\":\"lightgrey\",\"group\":null,\"left_units\":\"screen\",\"level\":\"overlay\",\"line_alpha\":1.0,\"line_color\":\"black\",\"line_dash\":[4,4],\"line_width\":2,\"right_units\":\"screen\",\"syncable\":false,\"top_units\":\"screen\"},\"id\":\"1647\",\"type\":\"BoxAnnotation\"},{\"attributes\":{\"margin\":[5,5,5,5],\"name\":\"HSpacer01553\",\"sizing_mode\":\"stretch_width\"},\"id\":\"1619\",\"type\":\"Spacer\"},{\"attributes\":{\"angle\":{\"value\":0.0},\"fill_alpha\":{\"value\":1.0},\"fill_color\":{\"value\":\"#fc4f30\"},\"hatch_alpha\":{\"value\":1.0},\"hatch_color\":{\"value\":\"#fc4f30\"},\"hatch_scale\":{\"value\":12.0},\"hatch_weight\":{\"value\":1.0},\"line_alpha\":{\"value\":1.0},\"line_cap\":{\"value\":\"butt\"},\"line_color\":{\"value\":\"#fc4f30\"},\"line_dash\":{\"value\":[]},\"line_dash_offset\":{\"value\":0},\"line_join\":{\"value\":\"bevel\"},\"line_width\":{\"value\":1},\"marker\":{\"value\":\"circle\"},\"size\":{\"value\":5.477225575051661},\"x\":{\"field\":\"feature_1\"},\"y\":{\"field\":\"feature_2\"}},\"id\":\"1703\",\"type\":\"Scatter\"},{\"attributes\":{},\"id\":\"1723\",\"type\":\"UnionRenderers\"},{\"attributes\":{\"coordinates\":null,\"data_source\":{\"id\":\"1682\"},\"glyph\":{\"id\":\"1685\"},\"group\":null,\"hover_glyph\":null,\"muted_glyph\":{\"id\":\"1687\"},\"nonselection_glyph\":{\"id\":\"1686\"},\"selection_glyph\":{\"id\":\"1703\"},\"view\":{\"id\":\"1689\"}},\"id\":\"1688\",\"type\":\"GlyphRenderer\"},{\"attributes\":{\"coordinates\":null,\"data_source\":{\"id\":\"1704\"},\"glyph\":{\"id\":\"1707\"},\"group\":null,\"hover_glyph\":null,\"muted_glyph\":{\"id\":\"1709\"},\"nonselection_glyph\":{\"id\":\"1708\"},\"selection_glyph\":{\"id\":\"1727\"},\"view\":{\"id\":\"1711\"}},\"id\":\"1710\",\"type\":\"GlyphRenderer\"},{\"attributes\":{\"margin\":[5,5,5,5],\"name\":\"HSpacer01554\",\"sizing_mode\":\"stretch_width\"},\"id\":\"1742\",\"type\":\"Spacer\"},{\"attributes\":{\"axis\":{\"id\":\"1638\"},\"coordinates\":null,\"dimension\":1,\"grid_line_color\":null,\"group\":null,\"ticker\":null},\"id\":\"1641\",\"type\":\"Grid\"},{\"attributes\":{\"children\":[{\"id\":\"1619\"},{\"id\":\"1625\"},{\"id\":\"1742\"}],\"margin\":[0,0,0,0],\"name\":\"Row01549\",\"tags\":[\"embedded\"]},\"id\":\"1618\",\"type\":\"Row\"},{\"attributes\":{\"data\":{\"agglo_hyphen_minus_labels\":[2,2,2,2,2,2,2,2,2,2,2,2,2,2,2,2,2,2,2,2,2,2,2,2,2,2,2,2,2,2,2,2,2,2,2,2,2,2,2,2,2,2,2,2,2,2,2,2,2,2,2,2,2,2,2,2,2,2,2,2,2,2,2,2,2,2,2,2,2,2,2,2,2,2,2,2,2,2,2,2,2,2,2,2,2,2,2,2,2,2,2,2,2,2,2,2,2,2,2,2,2,2,2,2,2,2,2,2,2,2,2,2,2,2,2,2,2,2,2,2,2,2,2,2,2,2,2,2,2,2,2,2,2,2,2,2,2,2,2,2,2,2,2,2,2,2,2,2,2,2,2,2,2,2,2,2,2,2,2,2,2,2,2,2,2,2,2,2,2,2,2,2,2,2,2,2,2,2,2,2,2,2,2,2,2,2,2,2,2,2,2,2,2,2,2,2,2,2,2,2,2,2],\"feature_1\":{\"__ndarray__\":\"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\",\"dtype\":\"float64\",\"order\":\"little\",\"shape\":[202]},\"feature_2\":{\"__ndarray__\":\"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\",\"dtype\":\"float64\",\"order\":\"little\",\"shape\":[202]}},\"selected\":{\"id\":\"1705\"},\"selection_policy\":{\"id\":\"1723\"}},\"id\":\"1704\",\"type\":\"ColumnDataSource\"},{\"attributes\":{\"source\":{\"id\":\"1704\"}},\"id\":\"1711\",\"type\":\"CDSView\"},{\"attributes\":{\"label\":{\"value\":\"2\"},\"renderers\":[{\"id\":\"1710\"}]},\"id\":\"1726\",\"type\":\"LegendItem\"},{\"attributes\":{\"angle\":{\"value\":0.0},\"fill_alpha\":{\"value\":1.0},\"fill_color\":{\"value\":\"#e5ae38\"},\"hatch_alpha\":{\"value\":1.0},\"hatch_color\":{\"value\":\"#e5ae38\"},\"hatch_scale\":{\"value\":12.0},\"hatch_weight\":{\"value\":1.0},\"line_alpha\":{\"value\":1.0},\"line_cap\":{\"value\":\"butt\"},\"line_color\":{\"value\":\"#e5ae38\"},\"line_dash\":{\"value\":[]},\"line_dash_offset\":{\"value\":0},\"line_join\":{\"value\":\"bevel\"},\"line_width\":{\"value\":1},\"marker\":{\"value\":\"circle\"},\"size\":{\"value\":5.477225575051661},\"x\":{\"field\":\"feature_1\"},\"y\":{\"field\":\"feature_2\"}},\"id\":\"1727\",\"type\":\"Scatter\"},{\"attributes\":{},\"id\":\"1699\",\"type\":\"UnionRenderers\"},{\"attributes\":{},\"id\":\"1656\",\"type\":\"BasicTickFormatter\"},{\"attributes\":{},\"id\":\"1676\",\"type\":\"UnionRenderers\"},{\"attributes\":{},\"id\":\"1660\",\"type\":\"AllLabels\"},{\"attributes\":{\"label\":{\"value\":\"0\"},\"renderers\":[{\"id\":\"1667\"}]},\"id\":\"1680\",\"type\":\"LegendItem\"},{\"attributes\":{},\"id\":\"1662\",\"type\":\"Selection\"},{\"attributes\":{\"fill_color\":{\"value\":\"#30a2da\"},\"hatch_color\":{\"value\":\"#30a2da\"},\"line_color\":{\"value\":\"#30a2da\"},\"size\":{\"value\":5.477225575051661},\"x\":{\"field\":\"feature_1\"},\"y\":{\"field\":\"feature_2\"}},\"id\":\"1664\",\"type\":\"Scatter\"},{\"attributes\":{\"fill_alpha\":{\"value\":0.1},\"fill_color\":{\"value\":\"#fc4f30\"},\"hatch_alpha\":{\"value\":0.1},\"hatch_color\":{\"value\":\"#fc4f30\"},\"line_alpha\":{\"value\":0.1},\"line_color\":{\"value\":\"#fc4f30\"},\"size\":{\"value\":5.477225575051661},\"x\":{\"field\":\"feature_1\"},\"y\":{\"field\":\"feature_2\"}},\"id\":\"1686\",\"type\":\"Scatter\"},{\"attributes\":{\"click_policy\":\"mute\",\"coordinates\":null,\"group\":null,\"items\":[{\"id\":\"1680\"},{\"id\":\"1702\"},{\"id\":\"1726\"}],\"location\":[0,0],\"title\":\"agglo-labels\"},\"id\":\"1679\",\"type\":\"Legend\"},{\"attributes\":{\"source\":{\"id\":\"1661\"}},\"id\":\"1668\",\"type\":\"CDSView\"},{\"attributes\":{\"fill_alpha\":{\"value\":0.1},\"fill_color\":{\"value\":\"#30a2da\"},\"hatch_alpha\":{\"value\":0.1},\"hatch_color\":{\"value\":\"#30a2da\"},\"line_alpha\":{\"value\":0.1},\"line_color\":{\"value\":\"#30a2da\"},\"size\":{\"value\":5.477225575051661},\"x\":{\"field\":\"feature_1\"},\"y\":{\"field\":\"feature_2\"}},\"id\":\"1665\",\"type\":\"Scatter\"},{\"attributes\":{\"fill_alpha\":{\"value\":0.1},\"fill_color\":{\"value\":\"#e5ae38\"},\"hatch_alpha\":{\"value\":0.1},\"hatch_color\":{\"value\":\"#e5ae38\"},\"line_alpha\":{\"value\":0.1},\"line_color\":{\"value\":\"#e5ae38\"},\"size\":{\"value\":5.477225575051661},\"x\":{\"field\":\"feature_1\"},\"y\":{\"field\":\"feature_2\"}},\"id\":\"1708\",\"type\":\"Scatter\"},{\"attributes\":{\"angle\":{\"value\":0.0},\"fill_alpha\":{\"value\":1.0},\"fill_color\":{\"value\":\"#30a2da\"},\"hatch_alpha\":{\"value\":1.0},\"hatch_color\":{\"value\":\"#30a2da\"},\"hatch_scale\":{\"value\":12.0},\"hatch_weight\":{\"value\":1.0},\"line_alpha\":{\"value\":1.0},\"line_cap\":{\"value\":\"butt\"},\"line_color\":{\"value\":\"#30a2da\"},\"line_dash\":{\"value\":[]},\"line_dash_offset\":{\"value\":0},\"line_join\":{\"value\":\"bevel\"},\"line_width\":{\"value\":1},\"marker\":{\"value\":\"circle\"},\"size\":{\"value\":5.477225575051661},\"x\":{\"field\":\"feature_1\"},\"y\":{\"field\":\"feature_2\"}},\"id\":\"1681\",\"type\":\"Scatter\"},{\"attributes\":{},\"id\":\"1642\",\"type\":\"SaveTool\"},{\"attributes\":{},\"id\":\"1643\",\"type\":\"PanTool\"},{\"attributes\":{\"coordinates\":null,\"data_source\":{\"id\":\"1661\"},\"glyph\":{\"id\":\"1664\"},\"group\":null,\"hover_glyph\":null,\"muted_glyph\":{\"id\":\"1666\"},\"nonselection_glyph\":{\"id\":\"1665\"},\"selection_glyph\":{\"id\":\"1681\"},\"view\":{\"id\":\"1668\"}},\"id\":\"1667\",\"type\":\"GlyphRenderer\"},{\"attributes\":{\"callback\":null,\"renderers\":[{\"id\":\"1667\"},{\"id\":\"1688\"},{\"id\":\"1710\"}],\"tags\":[\"hv_created\"],\"tooltips\":[[\"agglo-labels\",\"@{agglo_hyphen_minus_labels}\"],[\"feature_1\",\"@{feature_1}\"],[\"feature_2\",\"@{feature_2}\"]]},\"id\":\"1622\",\"type\":\"HoverTool\"},{\"attributes\":{},\"id\":\"1646\",\"type\":\"ResetTool\"},{\"attributes\":{\"end\":9.215602229847773,\"reset_end\":9.215602229847773,\"reset_start\":-5.909730475924883,\"start\":-5.909730475924883,\"tags\":[[[\"feature_2\",\"feature_2\",null]]]},\"id\":\"1621\",\"type\":\"Range1d\"},{\"attributes\":{\"data\":{\"agglo_hyphen_minus_labels\":[1,1,1,1,1,1,1,1,1,1,1,1,1,1,1,1,1,1,1,1,1,1,1,1,1,1,1,1,1,1,1,1,1,1,1,1,1,1,1,1,1,1,1,1,1,1,1,1,1,1,1,1,1,1,1,1,1,1,1,1,1,1,1,1,1,1,1,1,1,1,1,1,1,1,1,1,1,1,1,1,1,1,1,1,1,1,1,1,1,1,1,1,1,1,1,1,1,1,1,1,1,1,1,1,1,1,1,1,1,1,1,1,1,1,1,1,1,1,1,1,1,1,1,1,1,1,1,1,1,1,1,1,1,1,1,1,1,1,1,1,1,1,1,1,1,1,1,1,1,1,1,1,1,1,1,1,1,1,1,1,1,1,1,1,1,1,1,1,1,1,1,1,1,1,1,1,1,1,1,1,1,1,1,1,1,1,1,1,1,1,1,1,1,1,1,1,1,1,1,1,1,1,1,1,1,1,1,1,1,1,1,1,1,1,1,1,1,1,1,1,1,1,1,1,1,1,1,1,1,1,1,1,1,1,1,1,1,1,1,1,1,1,1,1,1,1,1,1,1,1,1,1,1,1,1,1,1,1,1,1,1,1,1,1,1,1,1,1,1,1,1,1,1,1,1,1,1,1,1,1,1,1,1,1,1,1,1,1,1,1,1,1,1,1,1,1,1,1,1,1,1,1,1,1,1,1,1,1,1,1,1,1,1,1,1,1,1,1,1,1,1,1,1,1,1,1,1,1,1,1,1,1,1,1,1,1,1,1,1,1,1,1,1,1,1,1,1,1,1,1,1,1,1,1,1,1,1,1,1,1,1,1,1,1,1,1,1,1,1,1,1,1,1,1,1,1,1,1,1,1,1,1,1,1,1,1,1,1,1,1,1,1,1,1,1,1,1,1,1,1,1,1,1,1,1,1,1,1,1,1,1,1,1,1,1,1,1,1,1,1,1,1,1,1,1,1,1,1,1,1,1,1,1,1,1,1,1,1,1,1,1,1,1,1,1,1,1,1,1,1,1,1,1,1,1,1,1,1,1,1,1,1,1,1,1,1,1,1,1,1,1,1,1,1,1,1,1,1,1,1,1,1,1,1,1,1,1,1,1,1,1,1,1,1,1,1,1,1,1,1],\"feature_1\":{\"__ndarray__\":\"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\",\"dtype\":\"float64\",\"order\":\"little\",\"shape\":[500]},\"feature_2\":{\"__ndarray__\":\"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\",\"dtype\":\"float64\",\"order\":\"little\",\"shape\":[500]}},\"selected\":{\"id\":\"1683\"},\"selection_policy\":{\"id\":\"1699\"}},\"id\":\"1682\",\"type\":\"ColumnDataSource\"},{\"attributes\":{},\"id\":\"1644\",\"type\":\"WheelZoomTool\"},{\"attributes\":{},\"id\":\"1683\",\"type\":\"Selection\"},{\"attributes\":{\"coordinates\":null,\"group\":null,\"text_color\":\"black\",\"text_font_size\":\"12pt\"},\"id\":\"1626\",\"type\":\"Title\"},{\"attributes\":{\"fill_alpha\":{\"value\":0.2},\"fill_color\":{\"value\":\"#30a2da\"},\"hatch_alpha\":{\"value\":0.2},\"hatch_color\":{\"value\":\"#30a2da\"},\"line_alpha\":{\"value\":0.2},\"line_color\":{\"value\":\"#30a2da\"},\"size\":{\"value\":5.477225575051661},\"x\":{\"field\":\"feature_1\"},\"y\":{\"field\":\"feature_2\"}},\"id\":\"1666\",\"type\":\"Scatter\"},{\"attributes\":{},\"id\":\"1705\",\"type\":\"Selection\"},{\"attributes\":{\"below\":[{\"id\":\"1634\"}],\"center\":[{\"id\":\"1637\"},{\"id\":\"1641\"}],\"height\":300,\"left\":[{\"id\":\"1638\"}],\"margin\":[5,5,5,5],\"min_border_bottom\":10,\"min_border_left\":10,\"min_border_right\":10,\"min_border_top\":10,\"renderers\":[{\"id\":\"1667\"},{\"id\":\"1688\"},{\"id\":\"1710\"}],\"right\":[{\"id\":\"1679\"}],\"sizing_mode\":\"fixed\",\"title\":{\"id\":\"1626\"},\"toolbar\":{\"id\":\"1648\"},\"width\":700,\"x_range\":{\"id\":\"1620\"},\"x_scale\":{\"id\":\"1630\"},\"y_range\":{\"id\":\"1621\"},\"y_scale\":{\"id\":\"1632\"}},\"id\":\"1625\",\"subtype\":\"Figure\",\"type\":\"Plot\"},{\"attributes\":{\"fill_alpha\":{\"value\":0.2},\"fill_color\":{\"value\":\"#fc4f30\"},\"hatch_alpha\":{\"value\":0.2},\"hatch_color\":{\"value\":\"#fc4f30\"},\"line_alpha\":{\"value\":0.2},\"line_color\":{\"value\":\"#fc4f30\"},\"size\":{\"value\":5.477225575051661},\"x\":{\"field\":\"feature_1\"},\"y\":{\"field\":\"feature_2\"}},\"id\":\"1687\",\"type\":\"Scatter\"},{\"attributes\":{\"overlay\":{\"id\":\"1647\"}},\"id\":\"1645\",\"type\":\"BoxZoomTool\"},{\"attributes\":{\"fill_color\":{\"value\":\"#fc4f30\"},\"hatch_color\":{\"value\":\"#fc4f30\"},\"line_color\":{\"value\":\"#fc4f30\"},\"size\":{\"value\":5.477225575051661},\"x\":{\"field\":\"feature_1\"},\"y\":{\"field\":\"feature_2\"}},\"id\":\"1685\",\"type\":\"Scatter\"},{\"attributes\":{\"label\":{\"value\":\"1\"},\"renderers\":[{\"id\":\"1688\"}]},\"id\":\"1702\",\"type\":\"LegendItem\"},{\"attributes\":{\"source\":{\"id\":\"1682\"}},\"id\":\"1689\",\"type\":\"CDSView\"},{\"attributes\":{\"end\":6.812945338442532,\"reset_end\":6.812945338442532,\"reset_start\":-6.796693307805908,\"start\":-6.796693307805908,\"tags\":[[[\"feature_1\",\"feature_1\",null]]]},\"id\":\"1620\",\"type\":\"Range1d\"},{\"attributes\":{},\"id\":\"1639\",\"type\":\"BasicTicker\"},{\"attributes\":{},\"id\":\"1630\",\"type\":\"LinearScale\"},{\"attributes\":{\"fill_alpha\":{\"value\":0.2},\"fill_color\":{\"value\":\"#e5ae38\"},\"hatch_alpha\":{\"value\":0.2},\"hatch_color\":{\"value\":\"#e5ae38\"},\"line_alpha\":{\"value\":0.2},\"line_color\":{\"value\":\"#e5ae38\"},\"size\":{\"value\":5.477225575051661},\"x\":{\"field\":\"feature_1\"},\"y\":{\"field\":\"feature_2\"}},\"id\":\"1709\",\"type\":\"Scatter\"},{\"attributes\":{},\"id\":\"1635\",\"type\":\"BasicTicker\"},{\"attributes\":{},\"id\":\"1657\",\"type\":\"AllLabels\"},{\"attributes\":{\"data\":{\"agglo_hyphen_minus_labels\":[0,0,0,0,0,0,0,0,0,0,0,0,0,0,0,0,0,0,0,0,0,0,0,0,0,0,0,0,0,0,0,0,0,0,0,0,0,0,0,0,0,0,0,0,0,0,0,0,0,0,0,0,0,0,0,0,0,0,0,0,0,0,0,0,0,0,0,0,0,0,0,0,0,0,0,0,0,0,0,0,0,0,0,0,0,0,0,0,0,0,0,0,0,0,0,0,0,0,0,0,0,0,0,0,0,0,0,0,0,0,0,0,0,0,0,0,0,0,0,0,0,0,0,0,0,0,0,0,0,0,0,0,0,0,0,0,0,0,0,0,0,0,0,0,0,0,0,0,0,0,0,0,0,0,0,0,0,0,0,0,0,0,0,0,0,0,0,0,0,0,0,0,0,0,0,0,0,0,0,0,0,0,0,0,0,0,0,0,0,0,0,0,0,0,0,0,0,0,0,0,0,0,0,0,0,0,0,0,0,0,0,0,0,0,0,0,0,0,0,0,0,0,0,0,0,0,0,0,0,0,0,0,0,0,0,0,0,0,0,0,0,0,0,0,0,0,0,0,0,0,0,0,0,0,0,0,0,0,0,0,0,0,0,0,0,0,0,0,0,0,0,0,0,0,0,0,0,0,0,0,0,0,0,0,0,0,0,0,0,0,0,0,0,0,0,0,0,0],\"feature_1\":{\"__ndarray__\":\"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\",\"dtype\":\"float64\",\"order\":\"little\",\"shape\":[298]},\"feature_2\":{\"__ndarray__\":\"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\",\"dtype\":\"float64\",\"order\":\"little\",\"shape\":[298]}},\"selected\":{\"id\":\"1662\"},\"selection_policy\":{\"id\":\"1676\"}},\"id\":\"1661\",\"type\":\"ColumnDataSource\"},{\"attributes\":{\"axis\":{\"id\":\"1634\"},\"coordinates\":null,\"grid_line_color\":null,\"group\":null,\"ticker\":null},\"id\":\"1637\",\"type\":\"Grid\"}],\"root_ids\":[\"1618\"]},\"title\":\"Bokeh Application\",\"version\":\"2.4.3\"}};\n",
       "    var render_items = [{\"docid\":\"af9712f9-ee9c-45e1-9559-26191944a8c7\",\"root_ids\":[\"1618\"],\"roots\":{\"1618\":\"685909d9-aaf7-42b8-98df-a83167aec5fa\"}}];\n",
       "    root.Bokeh.embed.embed_items_notebook(docs_json, render_items);\n",
       "  }\n",
       "  if (root.Bokeh !== undefined && root.Bokeh.Panel !== undefined) {\n",
       "    embed_document(root);\n",
       "  } else {\n",
       "    var attempts = 0;\n",
       "    var timer = setInterval(function(root) {\n",
       "      if (root.Bokeh !== undefined && root.Bokeh.Panel !== undefined) {\n",
       "        clearInterval(timer);\n",
       "        embed_document(root);\n",
       "      } else if (document.readyState == \"complete\") {\n",
       "        attempts++;\n",
       "        if (attempts > 200) {\n",
       "          clearInterval(timer);\n",
       "          console.log(\"Bokeh: ERROR: Unable to run BokehJS code because BokehJS library is missing\");\n",
       "        }\n",
       "      }\n",
       "    }, 25, root)\n",
       "  }\n",
       "})(window);</script>"
      ],
      "text/plain": [
       ":NdOverlay   [agglo-labels]\n",
       "   :Scatter   [feature_1]   (feature_2)"
      ]
     },
     "execution_count": 46,
     "metadata": {
      "application/vnd.holoviews_exec.v0+json": {
       "id": "1618"
      }
     },
     "output_type": "execute_result"
    }
   ],
   "source": [
    "# Plot the agglomerative clusters using the \"feature_1\" and \"feature_2\" columns\n",
    "customers_predictions_df.hvplot.scatter(\n",
    "    x = 'feature_1',\n",
    "    y = 'feature_2', \n",
    "    by = 'agglo-labels'\n",
    ")"
   ]
  },
  {
   "cell_type": "code",
   "execution_count": 47,
   "metadata": {},
   "outputs": [
    {
     "data": {},
     "metadata": {},
     "output_type": "display_data"
    },
    {
     "data": {
      "application/vnd.holoviews_exec.v0+json": "",
      "text/html": [
       "<div id='1814'>\n",
       "  <div class=\"bk-root\" id=\"f3e87f70-df3b-4a3f-8787-e4fbf2bd7f56\" data-root-id=\"1814\"></div>\n",
       "</div>\n",
       "<script type=\"application/javascript\">(function(root) {\n",
       "  function embed_document(root) {\n",
       "    var docs_json = {\"f1ea9293-99df-4ebc-824f-20f85bcd6e5a\":{\"defs\":[{\"extends\":null,\"module\":null,\"name\":\"ReactiveHTML1\",\"overrides\":[],\"properties\":[]},{\"extends\":null,\"module\":null,\"name\":\"FlexBox1\",\"overrides\":[],\"properties\":[{\"default\":\"flex-start\",\"kind\":null,\"name\":\"align_content\"},{\"default\":\"flex-start\",\"kind\":null,\"name\":\"align_items\"},{\"default\":\"row\",\"kind\":null,\"name\":\"flex_direction\"},{\"default\":\"wrap\",\"kind\":null,\"name\":\"flex_wrap\"},{\"default\":\"flex-start\",\"kind\":null,\"name\":\"justify_content\"}]},{\"extends\":null,\"module\":null,\"name\":\"GridStack1\",\"overrides\":[],\"properties\":[{\"default\":\"warn\",\"kind\":null,\"name\":\"mode\"},{\"default\":null,\"kind\":null,\"name\":\"ncols\"},{\"default\":null,\"kind\":null,\"name\":\"nrows\"},{\"default\":true,\"kind\":null,\"name\":\"allow_resize\"},{\"default\":true,\"kind\":null,\"name\":\"allow_drag\"},{\"default\":[],\"kind\":null,\"name\":\"state\"}]},{\"extends\":null,\"module\":null,\"name\":\"click1\",\"overrides\":[],\"properties\":[{\"default\":\"\",\"kind\":null,\"name\":\"terminal_output\"},{\"default\":\"\",\"kind\":null,\"name\":\"debug_name\"},{\"default\":0,\"kind\":null,\"name\":\"clears\"}]},{\"extends\":null,\"module\":null,\"name\":\"NotificationAreaBase1\",\"overrides\":[],\"properties\":[{\"default\":\"bottom-right\",\"kind\":null,\"name\":\"position\"},{\"default\":0,\"kind\":null,\"name\":\"_clear\"}]},{\"extends\":null,\"module\":null,\"name\":\"NotificationArea1\",\"overrides\":[],\"properties\":[{\"default\":[],\"kind\":null,\"name\":\"notifications\"},{\"default\":\"bottom-right\",\"kind\":null,\"name\":\"position\"},{\"default\":0,\"kind\":null,\"name\":\"_clear\"},{\"default\":[{\"background\":\"#ffc107\",\"icon\":{\"className\":\"fas fa-exclamation-triangle\",\"color\":\"white\",\"tagName\":\"i\"},\"type\":\"warning\"},{\"background\":\"#007bff\",\"icon\":{\"className\":\"fas fa-info-circle\",\"color\":\"white\",\"tagName\":\"i\"},\"type\":\"info\"}],\"kind\":null,\"name\":\"types\"}]},{\"extends\":null,\"module\":null,\"name\":\"Notification\",\"overrides\":[],\"properties\":[{\"default\":null,\"kind\":null,\"name\":\"background\"},{\"default\":3000,\"kind\":null,\"name\":\"duration\"},{\"default\":null,\"kind\":null,\"name\":\"icon\"},{\"default\":\"\",\"kind\":null,\"name\":\"message\"},{\"default\":null,\"kind\":null,\"name\":\"notification_type\"},{\"default\":false,\"kind\":null,\"name\":\"_destroyed\"}]},{\"extends\":null,\"module\":null,\"name\":\"TemplateActions1\",\"overrides\":[],\"properties\":[{\"default\":0,\"kind\":null,\"name\":\"open_modal\"},{\"default\":0,\"kind\":null,\"name\":\"close_modal\"}]},{\"extends\":null,\"module\":null,\"name\":\"MaterialTemplateActions1\",\"overrides\":[],\"properties\":[{\"default\":0,\"kind\":null,\"name\":\"open_modal\"},{\"default\":0,\"kind\":null,\"name\":\"close_modal\"}]}],\"roots\":{\"references\":[{\"attributes\":{},\"id\":\"1842\",\"type\":\"ResetTool\"},{\"attributes\":{},\"id\":\"1835\",\"type\":\"BasicTicker\"},{\"attributes\":{},\"id\":\"1826\",\"type\":\"LinearScale\"},{\"attributes\":{\"coordinates\":null,\"data_source\":{\"id\":\"1900\"},\"glyph\":{\"id\":\"1903\"},\"group\":null,\"hover_glyph\":null,\"muted_glyph\":{\"id\":\"1905\"},\"nonselection_glyph\":{\"id\":\"1904\"},\"selection_glyph\":{\"id\":\"1923\"},\"view\":{\"id\":\"1907\"}},\"id\":\"1906\",\"type\":\"GlyphRenderer\"},{\"attributes\":{},\"id\":\"1831\",\"type\":\"BasicTicker\"},{\"attributes\":{\"margin\":[5,5,5,5],\"name\":\"HSpacer01750\",\"sizing_mode\":\"stretch_width\"},\"id\":\"1938\",\"type\":\"Spacer\"},{\"attributes\":{\"axis\":{\"id\":\"1830\"},\"coordinates\":null,\"grid_line_color\":null,\"group\":null,\"ticker\":null},\"id\":\"1833\",\"type\":\"Grid\"},{\"attributes\":{\"source\":{\"id\":\"1878\"}},\"id\":\"1885\",\"type\":\"CDSView\"},{\"attributes\":{\"source\":{\"id\":\"1900\"}},\"id\":\"1907\",\"type\":\"CDSView\"},{\"attributes\":{\"fill_color\":{\"value\":\"#e5ae38\"},\"hatch_color\":{\"value\":\"#e5ae38\"},\"line_color\":{\"value\":\"#e5ae38\"},\"size\":{\"value\":5.477225575051661},\"x\":{\"field\":\"feature_1\"},\"y\":{\"field\":\"feature_2\"}},\"id\":\"1903\",\"type\":\"Scatter\"},{\"attributes\":{\"label\":{\"value\":\"1\"},\"renderers\":[{\"id\":\"1884\"}]},\"id\":\"1898\",\"type\":\"LegendItem\"},{\"attributes\":{},\"id\":\"1852\",\"type\":\"BasicTickFormatter\"},{\"attributes\":{\"end\":6.812945338442532,\"reset_end\":6.812945338442532,\"reset_start\":-6.796693307805908,\"start\":-6.796693307805908,\"tags\":[[[\"feature_1\",\"feature_1\",null]]]},\"id\":\"1816\",\"type\":\"Range1d\"},{\"attributes\":{},\"id\":\"1828\",\"type\":\"LinearScale\"},{\"attributes\":{\"tools\":[{\"id\":\"1818\"},{\"id\":\"1838\"},{\"id\":\"1839\"},{\"id\":\"1840\"},{\"id\":\"1841\"},{\"id\":\"1842\"}]},\"id\":\"1844\",\"type\":\"Toolbar\"},{\"attributes\":{\"data\":{\"birch_hyphen_minus_labels\":[1,1,1,1,1,1,1,1,1,1,1,1,1,1,1,1,1,1,1,1,1,1,1,1,1,1,1,1,1,1,1,1,1,1,1,1,1,1,1,1,1,1,1,1,1,1,1,1,1,1,1,1,1,1,1,1,1,1,1,1,1,1,1,1,1,1,1,1,1,1,1,1,1,1,1,1,1,1,1,1,1,1,1,1,1,1,1,1,1,1,1,1,1,1,1,1,1,1,1,1,1,1,1,1,1,1,1,1,1,1,1,1,1,1,1,1,1,1,1,1,1,1,1,1,1,1,1,1,1,1,1,1,1,1,1,1,1,1,1,1,1,1,1,1,1,1,1,1,1,1,1,1,1,1,1,1,1,1,1,1,1,1,1,1,1,1,1,1,1,1,1,1,1,1,1,1,1,1,1,1,1,1,1,1,1,1,1,1,1,1,1,1,1,1,1,1,1,1,1,1,1,1,1,1,1,1,1,1,1,1,1,1,1,1,1,1,1,1,1,1,1,1,1,1,1,1,1,1,1,1,1,1,1,1,1,1,1,1,1,1,1,1,1,1,1,1,1,1,1,1,1,1,1,1,1,1,1,1,1,1,1,1,1,1,1,1,1,1,1,1,1,1,1,1,1,1,1,1,1,1,1,1,1,1,1,1,1,1,1,1,1,1,1,1,1,1,1,1,1],\"feature_1\":{\"__ndarray__\":\"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\",\"dtype\":\"float64\",\"order\":\"little\",\"shape\":[299]},\"feature_2\":{\"__ndarray__\":\"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\",\"dtype\":\"float64\",\"order\":\"little\",\"shape\":[299]}},\"selected\":{\"id\":\"1879\"},\"selection_policy\":{\"id\":\"1895\"}},\"id\":\"1878\",\"type\":\"ColumnDataSource\"},{\"attributes\":{\"below\":[{\"id\":\"1830\"}],\"center\":[{\"id\":\"1833\"},{\"id\":\"1837\"}],\"height\":300,\"left\":[{\"id\":\"1834\"}],\"margin\":[5,5,5,5],\"min_border_bottom\":10,\"min_border_left\":10,\"min_border_right\":10,\"min_border_top\":10,\"renderers\":[{\"id\":\"1863\"},{\"id\":\"1884\"},{\"id\":\"1906\"}],\"right\":[{\"id\":\"1875\"}],\"sizing_mode\":\"fixed\",\"title\":{\"id\":\"1822\"},\"toolbar\":{\"id\":\"1844\"},\"width\":700,\"x_range\":{\"id\":\"1816\"},\"x_scale\":{\"id\":\"1826\"},\"y_range\":{\"id\":\"1817\"},\"y_scale\":{\"id\":\"1828\"}},\"id\":\"1821\",\"subtype\":\"Figure\",\"type\":\"Plot\"},{\"attributes\":{\"axis_label\":\"feature_2\",\"coordinates\":null,\"formatter\":{\"id\":\"1855\"},\"group\":null,\"major_label_policy\":{\"id\":\"1856\"},\"ticker\":{\"id\":\"1835\"}},\"id\":\"1834\",\"type\":\"LinearAxis\"},{\"attributes\":{\"axis_label\":\"feature_1\",\"coordinates\":null,\"formatter\":{\"id\":\"1852\"},\"group\":null,\"major_label_policy\":{\"id\":\"1853\"},\"ticker\":{\"id\":\"1831\"}},\"id\":\"1830\",\"type\":\"LinearAxis\"},{\"attributes\":{\"fill_alpha\":{\"value\":0.1},\"fill_color\":{\"value\":\"#fc4f30\"},\"hatch_alpha\":{\"value\":0.1},\"hatch_color\":{\"value\":\"#fc4f30\"},\"line_alpha\":{\"value\":0.1},\"line_color\":{\"value\":\"#fc4f30\"},\"size\":{\"value\":5.477225575051661},\"x\":{\"field\":\"feature_1\"},\"y\":{\"field\":\"feature_2\"}},\"id\":\"1882\",\"type\":\"Scatter\"},{\"attributes\":{\"bottom_units\":\"screen\",\"coordinates\":null,\"fill_alpha\":0.5,\"fill_color\":\"lightgrey\",\"group\":null,\"left_units\":\"screen\",\"level\":\"overlay\",\"line_alpha\":1.0,\"line_color\":\"black\",\"line_dash\":[4,4],\"line_width\":2,\"right_units\":\"screen\",\"syncable\":false,\"top_units\":\"screen\"},\"id\":\"1843\",\"type\":\"BoxAnnotation\"},{\"attributes\":{},\"id\":\"1879\",\"type\":\"Selection\"},{\"attributes\":{},\"id\":\"1919\",\"type\":\"UnionRenderers\"},{\"attributes\":{},\"id\":\"1901\",\"type\":\"Selection\"},{\"attributes\":{\"callback\":null,\"renderers\":[{\"id\":\"1863\"},{\"id\":\"1884\"},{\"id\":\"1906\"}],\"tags\":[\"hv_created\"],\"tooltips\":[[\"birch-labels\",\"@{birch_hyphen_minus_labels}\"],[\"feature_1\",\"@{feature_1}\"],[\"feature_2\",\"@{feature_2}\"]]},\"id\":\"1818\",\"type\":\"HoverTool\"},{\"attributes\":{},\"id\":\"1858\",\"type\":\"Selection\"},{\"attributes\":{\"axis\":{\"id\":\"1834\"},\"coordinates\":null,\"dimension\":1,\"grid_line_color\":null,\"group\":null,\"ticker\":null},\"id\":\"1837\",\"type\":\"Grid\"},{\"attributes\":{\"fill_color\":{\"value\":\"#fc4f30\"},\"hatch_color\":{\"value\":\"#fc4f30\"},\"line_color\":{\"value\":\"#fc4f30\"},\"size\":{\"value\":5.477225575051661},\"x\":{\"field\":\"feature_1\"},\"y\":{\"field\":\"feature_2\"}},\"id\":\"1881\",\"type\":\"Scatter\"},{\"attributes\":{\"label\":{\"value\":\"2\"},\"renderers\":[{\"id\":\"1906\"}]},\"id\":\"1922\",\"type\":\"LegendItem\"},{\"attributes\":{\"overlay\":{\"id\":\"1843\"}},\"id\":\"1841\",\"type\":\"BoxZoomTool\"},{\"attributes\":{\"coordinates\":null,\"data_source\":{\"id\":\"1857\"},\"glyph\":{\"id\":\"1860\"},\"group\":null,\"hover_glyph\":null,\"muted_glyph\":{\"id\":\"1862\"},\"nonselection_glyph\":{\"id\":\"1861\"},\"selection_glyph\":{\"id\":\"1877\"},\"view\":{\"id\":\"1864\"}},\"id\":\"1863\",\"type\":\"GlyphRenderer\"},{\"attributes\":{\"angle\":{\"value\":0.0},\"fill_alpha\":{\"value\":1.0},\"fill_color\":{\"value\":\"#e5ae38\"},\"hatch_alpha\":{\"value\":1.0},\"hatch_color\":{\"value\":\"#e5ae38\"},\"hatch_scale\":{\"value\":12.0},\"hatch_weight\":{\"value\":1.0},\"line_alpha\":{\"value\":1.0},\"line_cap\":{\"value\":\"butt\"},\"line_color\":{\"value\":\"#e5ae38\"},\"line_dash\":{\"value\":[]},\"line_dash_offset\":{\"value\":0},\"line_join\":{\"value\":\"bevel\"},\"line_width\":{\"value\":1},\"marker\":{\"value\":\"circle\"},\"size\":{\"value\":5.477225575051661},\"x\":{\"field\":\"feature_1\"},\"y\":{\"field\":\"feature_2\"}},\"id\":\"1923\",\"type\":\"Scatter\"},{\"attributes\":{},\"id\":\"1895\",\"type\":\"UnionRenderers\"},{\"attributes\":{\"fill_alpha\":{\"value\":0.2},\"fill_color\":{\"value\":\"#fc4f30\"},\"hatch_alpha\":{\"value\":0.2},\"hatch_color\":{\"value\":\"#fc4f30\"},\"line_alpha\":{\"value\":0.2},\"line_color\":{\"value\":\"#fc4f30\"},\"size\":{\"value\":5.477225575051661},\"x\":{\"field\":\"feature_1\"},\"y\":{\"field\":\"feature_2\"}},\"id\":\"1883\",\"type\":\"Scatter\"},{\"attributes\":{\"fill_alpha\":{\"value\":0.2},\"fill_color\":{\"value\":\"#e5ae38\"},\"hatch_alpha\":{\"value\":0.2},\"hatch_color\":{\"value\":\"#e5ae38\"},\"line_alpha\":{\"value\":0.2},\"line_color\":{\"value\":\"#e5ae38\"},\"size\":{\"value\":5.477225575051661},\"x\":{\"field\":\"feature_1\"},\"y\":{\"field\":\"feature_2\"}},\"id\":\"1905\",\"type\":\"Scatter\"},{\"attributes\":{},\"id\":\"1872\",\"type\":\"UnionRenderers\"},{\"attributes\":{},\"id\":\"1856\",\"type\":\"AllLabels\"},{\"attributes\":{\"label\":{\"value\":\"0\"},\"renderers\":[{\"id\":\"1863\"}]},\"id\":\"1876\",\"type\":\"LegendItem\"},{\"attributes\":{\"source\":{\"id\":\"1857\"}},\"id\":\"1864\",\"type\":\"CDSView\"},{\"attributes\":{\"data\":{\"birch_hyphen_minus_labels\":[2,2,2,2,2,2,2,2,2,2,2,2,2,2,2,2,2,2,2,2,2,2,2,2,2,2,2,2,2,2,2,2,2,2,2,2,2,2,2,2,2,2,2,2,2,2,2,2,2,2,2,2,2,2,2,2,2,2,2,2,2,2,2,2,2,2,2,2,2,2,2,2,2,2,2,2,2,2,2,2,2,2,2,2,2,2,2,2,2,2,2,2,2,2,2,2,2,2,2,2,2,2,2,2,2,2,2,2,2,2,2,2,2,2,2,2,2,2,2,2,2,2,2,2,2,2,2,2,2,2,2,2,2,2,2,2,2,2,2,2,2,2,2,2,2,2,2,2,2,2,2,2,2,2,2,2,2,2,2,2,2,2,2,2,2,2,2,2,2,2,2,2,2,2,2,2,2,2,2,2,2,2,2,2,2,2,2,2,2,2,2,2,2,2,2,2,2,2,2,2],\"feature_1\":{\"__ndarray__\":\"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\",\"dtype\":\"float64\",\"order\":\"little\",\"shape\":[200]},\"feature_2\":{\"__ndarray__\":\"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\",\"dtype\":\"float64\",\"order\":\"little\",\"shape\":[200]}},\"selected\":{\"id\":\"1901\"},\"selection_policy\":{\"id\":\"1919\"}},\"id\":\"1900\",\"type\":\"ColumnDataSource\"},{\"attributes\":{\"children\":[{\"id\":\"1815\"},{\"id\":\"1821\"},{\"id\":\"1938\"}],\"margin\":[0,0,0,0],\"name\":\"Row01745\",\"tags\":[\"embedded\"]},\"id\":\"1814\",\"type\":\"Row\"},{\"attributes\":{\"fill_alpha\":{\"value\":0.1},\"fill_color\":{\"value\":\"#30a2da\"},\"hatch_alpha\":{\"value\":0.1},\"hatch_color\":{\"value\":\"#30a2da\"},\"line_alpha\":{\"value\":0.1},\"line_color\":{\"value\":\"#30a2da\"},\"size\":{\"value\":5.477225575051661},\"x\":{\"field\":\"feature_1\"},\"y\":{\"field\":\"feature_2\"}},\"id\":\"1861\",\"type\":\"Scatter\"},{\"attributes\":{\"margin\":[5,5,5,5],\"name\":\"HSpacer01749\",\"sizing_mode\":\"stretch_width\"},\"id\":\"1815\",\"type\":\"Spacer\"},{\"attributes\":{\"end\":9.215602229847773,\"reset_end\":9.215602229847773,\"reset_start\":-5.909730475924883,\"start\":-5.909730475924883,\"tags\":[[[\"feature_2\",\"feature_2\",null]]]},\"id\":\"1817\",\"type\":\"Range1d\"},{\"attributes\":{\"click_policy\":\"mute\",\"coordinates\":null,\"group\":null,\"items\":[{\"id\":\"1876\"},{\"id\":\"1898\"},{\"id\":\"1922\"}],\"location\":[0,0],\"title\":\"birch-labels\"},\"id\":\"1875\",\"type\":\"Legend\"},{\"attributes\":{\"fill_alpha\":{\"value\":0.2},\"fill_color\":{\"value\":\"#30a2da\"},\"hatch_alpha\":{\"value\":0.2},\"hatch_color\":{\"value\":\"#30a2da\"},\"line_alpha\":{\"value\":0.2},\"line_color\":{\"value\":\"#30a2da\"},\"size\":{\"value\":5.477225575051661},\"x\":{\"field\":\"feature_1\"},\"y\":{\"field\":\"feature_2\"}},\"id\":\"1862\",\"type\":\"Scatter\"},{\"attributes\":{\"angle\":{\"value\":0.0},\"fill_alpha\":{\"value\":1.0},\"fill_color\":{\"value\":\"#30a2da\"},\"hatch_alpha\":{\"value\":1.0},\"hatch_color\":{\"value\":\"#30a2da\"},\"hatch_scale\":{\"value\":12.0},\"hatch_weight\":{\"value\":1.0},\"line_alpha\":{\"value\":1.0},\"line_cap\":{\"value\":\"butt\"},\"line_color\":{\"value\":\"#30a2da\"},\"line_dash\":{\"value\":[]},\"line_dash_offset\":{\"value\":0},\"line_join\":{\"value\":\"bevel\"},\"line_width\":{\"value\":1},\"marker\":{\"value\":\"circle\"},\"size\":{\"value\":5.477225575051661},\"x\":{\"field\":\"feature_1\"},\"y\":{\"field\":\"feature_2\"}},\"id\":\"1877\",\"type\":\"Scatter\"},{\"attributes\":{\"fill_alpha\":{\"value\":0.1},\"fill_color\":{\"value\":\"#e5ae38\"},\"hatch_alpha\":{\"value\":0.1},\"hatch_color\":{\"value\":\"#e5ae38\"},\"line_alpha\":{\"value\":0.1},\"line_color\":{\"value\":\"#e5ae38\"},\"size\":{\"value\":5.477225575051661},\"x\":{\"field\":\"feature_1\"},\"y\":{\"field\":\"feature_2\"}},\"id\":\"1904\",\"type\":\"Scatter\"},{\"attributes\":{},\"id\":\"1838\",\"type\":\"SaveTool\"},{\"attributes\":{},\"id\":\"1839\",\"type\":\"PanTool\"},{\"attributes\":{},\"id\":\"1855\",\"type\":\"BasicTickFormatter\"},{\"attributes\":{\"angle\":{\"value\":0.0},\"fill_alpha\":{\"value\":1.0},\"fill_color\":{\"value\":\"#fc4f30\"},\"hatch_alpha\":{\"value\":1.0},\"hatch_color\":{\"value\":\"#fc4f30\"},\"hatch_scale\":{\"value\":12.0},\"hatch_weight\":{\"value\":1.0},\"line_alpha\":{\"value\":1.0},\"line_cap\":{\"value\":\"butt\"},\"line_color\":{\"value\":\"#fc4f30\"},\"line_dash\":{\"value\":[]},\"line_dash_offset\":{\"value\":0},\"line_join\":{\"value\":\"bevel\"},\"line_width\":{\"value\":1},\"marker\":{\"value\":\"circle\"},\"size\":{\"value\":5.477225575051661},\"x\":{\"field\":\"feature_1\"},\"y\":{\"field\":\"feature_2\"}},\"id\":\"1899\",\"type\":\"Scatter\"},{\"attributes\":{},\"id\":\"1840\",\"type\":\"WheelZoomTool\"},{\"attributes\":{},\"id\":\"1853\",\"type\":\"AllLabels\"},{\"attributes\":{\"coordinates\":null,\"group\":null,\"text_color\":\"black\",\"text_font_size\":\"12pt\"},\"id\":\"1822\",\"type\":\"Title\"},{\"attributes\":{\"fill_color\":{\"value\":\"#30a2da\"},\"hatch_color\":{\"value\":\"#30a2da\"},\"line_color\":{\"value\":\"#30a2da\"},\"size\":{\"value\":5.477225575051661},\"x\":{\"field\":\"feature_1\"},\"y\":{\"field\":\"feature_2\"}},\"id\":\"1860\",\"type\":\"Scatter\"},{\"attributes\":{\"coordinates\":null,\"data_source\":{\"id\":\"1878\"},\"glyph\":{\"id\":\"1881\"},\"group\":null,\"hover_glyph\":null,\"muted_glyph\":{\"id\":\"1883\"},\"nonselection_glyph\":{\"id\":\"1882\"},\"selection_glyph\":{\"id\":\"1899\"},\"view\":{\"id\":\"1885\"}},\"id\":\"1884\",\"type\":\"GlyphRenderer\"},{\"attributes\":{\"data\":{\"birch_hyphen_minus_labels\":[0,0,0,0,0,0,0,0,0,0,0,0,0,0,0,0,0,0,0,0,0,0,0,0,0,0,0,0,0,0,0,0,0,0,0,0,0,0,0,0,0,0,0,0,0,0,0,0,0,0,0,0,0,0,0,0,0,0,0,0,0,0,0,0,0,0,0,0,0,0,0,0,0,0,0,0,0,0,0,0,0,0,0,0,0,0,0,0,0,0,0,0,0,0,0,0,0,0,0,0,0,0,0,0,0,0,0,0,0,0,0,0,0,0,0,0,0,0,0,0,0,0,0,0,0,0,0,0,0,0,0,0,0,0,0,0,0,0,0,0,0,0,0,0,0,0,0,0,0,0,0,0,0,0,0,0,0,0,0,0,0,0,0,0,0,0,0,0,0,0,0,0,0,0,0,0,0,0,0,0,0,0,0,0,0,0,0,0,0,0,0,0,0,0,0,0,0,0,0,0,0,0,0,0,0,0,0,0,0,0,0,0,0,0,0,0,0,0,0,0,0,0,0,0,0,0,0,0,0,0,0,0,0,0,0,0,0,0,0,0,0,0,0,0,0,0,0,0,0,0,0,0,0,0,0,0,0,0,0,0,0,0,0,0,0,0,0,0,0,0,0,0,0,0,0,0,0,0,0,0,0,0,0,0,0,0,0,0,0,0,0,0,0,0,0,0,0,0,0,0,0,0,0,0,0,0,0,0,0,0,0,0,0,0,0,0,0,0,0,0,0,0,0,0,0,0,0,0,0,0,0,0,0,0,0,0,0,0,0,0,0,0,0,0,0,0,0,0,0,0,0,0,0,0,0,0,0,0,0,0,0,0,0,0,0,0,0,0,0,0,0,0,0,0,0,0,0,0,0,0,0,0,0,0,0,0,0,0,0,0,0,0,0,0,0,0,0,0,0,0,0,0,0,0,0,0,0,0,0,0,0,0,0,0,0,0,0,0,0,0,0,0,0,0,0,0,0,0,0,0,0,0,0,0,0,0,0,0,0,0,0,0,0,0,0,0,0,0,0,0,0,0,0,0,0,0,0,0,0,0,0,0,0,0,0,0,0,0,0,0,0,0,0,0,0,0,0,0,0,0,0,0,0,0,0,0,0,0,0,0,0,0,0,0,0,0,0,0,0,0,0],\"feature_1\":{\"__ndarray__\":\"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\",\"dtype\":\"float64\",\"order\":\"little\",\"shape\":[501]},\"feature_2\":{\"__ndarray__\":\"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\",\"dtype\":\"float64\",\"order\":\"little\",\"shape\":[501]}},\"selected\":{\"id\":\"1858\"},\"selection_policy\":{\"id\":\"1872\"}},\"id\":\"1857\",\"type\":\"ColumnDataSource\"}],\"root_ids\":[\"1814\"]},\"title\":\"Bokeh Application\",\"version\":\"2.4.3\"}};\n",
       "    var render_items = [{\"docid\":\"f1ea9293-99df-4ebc-824f-20f85bcd6e5a\",\"root_ids\":[\"1814\"],\"roots\":{\"1814\":\"f3e87f70-df3b-4a3f-8787-e4fbf2bd7f56\"}}];\n",
       "    root.Bokeh.embed.embed_items_notebook(docs_json, render_items);\n",
       "  }\n",
       "  if (root.Bokeh !== undefined && root.Bokeh.Panel !== undefined) {\n",
       "    embed_document(root);\n",
       "  } else {\n",
       "    var attempts = 0;\n",
       "    var timer = setInterval(function(root) {\n",
       "      if (root.Bokeh !== undefined && root.Bokeh.Panel !== undefined) {\n",
       "        clearInterval(timer);\n",
       "        embed_document(root);\n",
       "      } else if (document.readyState == \"complete\") {\n",
       "        attempts++;\n",
       "        if (attempts > 200) {\n",
       "          clearInterval(timer);\n",
       "          console.log(\"Bokeh: ERROR: Unable to run BokehJS code because BokehJS library is missing\");\n",
       "        }\n",
       "      }\n",
       "    }, 25, root)\n",
       "  }\n",
       "})(window);</script>"
      ],
      "text/plain": [
       ":NdOverlay   [birch-labels]\n",
       "   :Scatter   [feature_1]   (feature_2)"
      ]
     },
     "execution_count": 47,
     "metadata": {
      "application/vnd.holoviews_exec.v0+json": {
       "id": "1814"
      }
     },
     "output_type": "execute_result"
    }
   ],
   "source": [
    "# Plot the birch clusters using the \"feature_1\" and \"feature_2\" columns\n",
    "customers_predictions_df.hvplot.scatter(\n",
    "    x = 'feature_1',\n",
    "    y = 'feature_2', \n",
    "    by = 'birch-labels'\n",
    ")"
   ]
  },
  {
   "cell_type": "markdown",
   "metadata": {},
   "source": [
    "#### Optional Challenge: Loop through each clustering algorithm, using an alternative metric to determine the optimal number of clusters.\n",
    "\n",
    "1. Create three lists (or a dictionary, or dataframe) to contain the metrics to measure optimal clusters.\n",
    "2. Using a for loop, cycle through a list of cluster counts, fiting each of the three clustering algorithms.\n",
    "3. When fitting the clustering algorithms in the loop, estimate the [`Variance Ratio Criterion (Calinski-Harabasz Index)`](https://scikit-learn.org/stable/modules/clustering.html#calinski-harabasz-index) and save that metric to your metrics lists in (1).\n",
    "    Hint: Code samples for these and other metrics can be found in SKLearn's documention on [clustering performance evaluation](https://scikit-learn.org/stable/modules/clustering.html#clustering-performance-evaluation).\n",
    "4. Output each of the three lists. If larger metric values indicate a better number of clusters, what cluster count is best? Does it vary by the algorithm selected?"
   ]
  },
  {
   "cell_type": "code",
   "execution_count": null,
   "metadata": {},
   "outputs": [],
   "source": [
    "# Preview the predictions for one of the algorithms\n",
    "birch_predictions[0:10]"
   ]
  },
  {
   "cell_type": "code",
   "execution_count": null,
   "metadata": {},
   "outputs": [],
   "source": [
    "# Equivalently, preview the labels_ attribute for one of the algorithms\n",
    "birch_model.labels_[0:10]"
   ]
  },
  {
   "cell_type": "code",
   "execution_count": null,
   "metadata": {},
   "outputs": [],
   "source": [
    "# Create a list to store values and the values of k\n",
    "# Your Code Here!\n",
    "\n",
    "# Create a list to set the range of k values to test\n",
    "# Your Code Here!"
   ]
  },
  {
   "cell_type": "code",
   "execution_count": null,
   "metadata": {},
   "outputs": [],
   "source": [
    "from sklearn import metrics\n",
    "\n",
    "for i in k:\n",
    "    # Your Code Here!"
   ]
  },
  {
   "cell_type": "code",
   "execution_count": null,
   "metadata": {},
   "outputs": [],
   "source": [
    "display(score_kmeans)"
   ]
  },
  {
   "cell_type": "code",
   "execution_count": null,
   "metadata": {},
   "outputs": [],
   "source": [
    "score_agglomerative"
   ]
  },
  {
   "cell_type": "code",
   "execution_count": null,
   "metadata": {},
   "outputs": [],
   "source": [
    "score_birch"
   ]
  },
  {
   "cell_type": "markdown",
   "metadata": {},
   "source": [
    "**Optional Challenge Question:**: If larger metric values indicate a better number of clusters, what cluster count is best? Does it vary by the algorithm selected?"
   ]
  }
 ],
 "metadata": {
  "kernelspec": {
   "display_name": "Python 3.7.13 ('dev')",
   "language": "python",
   "name": "python3"
  },
  "language_info": {
   "codemirror_mode": {
    "name": "ipython",
    "version": 3
   },
   "file_extension": ".py",
   "mimetype": "text/x-python",
   "name": "python",
   "nbconvert_exporter": "python",
   "pygments_lexer": "ipython3",
   "version": "3.7.13"
  },
  "vscode": {
   "interpreter": {
    "hash": "6a7ae136a53a24601e63a177d18d4029f938b6714f24b844ae865dcffb9f6766"
   }
  }
 },
 "nbformat": 4,
 "nbformat_minor": 4
}
