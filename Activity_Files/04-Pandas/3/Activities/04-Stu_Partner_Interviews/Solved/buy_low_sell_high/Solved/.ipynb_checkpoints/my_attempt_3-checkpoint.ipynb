{
 "cells": [
  {
   "cell_type": "code",
   "execution_count": null,
   "metadata": {},
   "outputs": [],
   "source": [
    "# define function that takes IAG list and finds the best trade possible by calculating the maximum profit \n",
    "def calculate_max_possible_profit(IAG_list):\n",
    "\n",
    "    # initialize min, max, shares variables \n",
    "    min_price = 0.0 \n",
    "    max_price = 0.0\n",
    "    num_shares = 10_000\n",
    "\n",
    "    # loop through the IAG list to determine min and max values \n",
    "    for price in IAG_list: \n",
    "\n",
    "        # set initial min and max values to the price in list \n",
    "        if min_price == 0.0 and max_price == 0.0: \n",
    "            min_price = price \n",
    "            max_price = price \n",
    "        \n",
    "        # write min-max logic \n",
    "        \n",
    "        # if price in IAG_list is greater than the max_price, set max_price to price \n",
    "        if price > max_price: \n",
    "            max_price = price\n",
    "\n",
    "        # if price in IAG_list is less than the min_price, set min_price to price \n",
    "        if price < min_price: \n",
    "            min_price = price\n",
    "\n",
    "        # calculate maximum possible profit \n",
    "        max_possible_profit = round((max_price - min_price) * num_shares, 2)\n",
    "\n",
    "        # return output \n",
    "        return max_possible_profit\n",
    "\n",
    "\n",
    "\n",
    "# IAG price list \n",
    "IAG_list = [1.42, 1.32, 1.45, 1.20, 1.34, 1.74, 1.10, 1.89, 1.42, 1.90, 1.80, 1.85]\n",
    "\n",
    "# call function \n",
    "calculate_max_possible_profit(IAG_list)"
   ]
  }
 ],
 "metadata": {
  "kernelspec": {
   "display_name": "Python 3.7.13 ('dev')",
   "language": "python",
   "name": "python3"
  },
  "language_info": {
   "name": "python",
   "version": "3.7.13"
  },
  "orig_nbformat": 4,
  "vscode": {
   "interpreter": {
    "hash": "6a7ae136a53a24601e63a177d18d4029f938b6714f24b844ae865dcffb9f6766"
   }
  }
 },
 "nbformat": 4,
 "nbformat_minor": 2
}
