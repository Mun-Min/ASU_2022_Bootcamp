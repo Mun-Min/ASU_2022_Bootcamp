{
 "cells": [
  {
   "cell_type": "code",
   "execution_count": 3,
   "metadata": {},
   "outputs": [
    {
     "data": {
      "text/plain": [
       "8000.0"
      ]
     },
     "execution_count": 3,
     "metadata": {},
     "output_type": "execute_result"
    }
   ],
   "source": [
    "# write a function that takes a list of stock prices \n",
    "# to calculate the maximum possible profit \n",
    "def calculate_maximum_profit(IAG_list):\n",
    "\n",
    "    # initialize min, max, shares variables \n",
    "    min_price = 0.0\n",
    "    max_price = 0.0 \n",
    "    shares = 10_000 \n",
    "\n",
    "    for price in IAG_list:\n",
    "\n",
    "    # write our min-max logic \n",
    "        if min_price == 0.0 and max_price == 0.0:\n",
    "            min_price = price\n",
    "            max_price = price \n",
    "        \n",
    "        # if min_price is less than the price in IAG list \n",
    "        elif price < min_price: \n",
    "            min_price = price \n",
    "\n",
    "        elif price > max_price: \n",
    "            max_price = price \n",
    "\n",
    "    # calculate maximum possible profit \n",
    "    max_possible_profit = round((max_price - min_price) * shares, 2)\n",
    "\n",
    "    return max_possible_profit\n",
    "\n",
    "# IAG list \n",
    "IAG_list = [1.42, 1.32, 1.45, 1.20, 1.34, 1.74, 1.10, 1.89, 1.42, 1.90, 1.80, 1.85]\n",
    "\n",
    "calculate_maximum_profit(IAG_list)\n"
   ]
  }
 ],
 "metadata": {
  "kernelspec": {
   "display_name": "Python 3 (ipykernel)",
   "language": "python",
   "name": "python3"
  },
  "language_info": {
   "codemirror_mode": {
    "name": "ipython",
    "version": 3
   },
   "file_extension": ".py",
   "mimetype": "text/x-python",
   "name": "python",
   "nbconvert_exporter": "python",
   "pygments_lexer": "ipython3",
   "version": "3.7.13"
  },
  "vscode": {
   "interpreter": {
    "hash": "6a7ae136a53a24601e63a177d18d4029f938b6714f24b844ae865dcffb9f6766"
   }
  }
 },
 "nbformat": 4,
 "nbformat_minor": 4
}
