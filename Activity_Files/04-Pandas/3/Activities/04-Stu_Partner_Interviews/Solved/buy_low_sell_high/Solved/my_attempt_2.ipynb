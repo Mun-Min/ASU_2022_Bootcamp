{
 "cells": [
  {
   "cell_type": "code",
   "execution_count": 6,
   "id": "162d1817-f942-42af-8075-cb157a6a9220",
   "metadata": {},
   "outputs": [
    {
     "name": "stdout",
     "output_type": "stream",
     "text": [
      "The best possible profit Xena could have made is: $8000.0\n"
     ]
    }
   ],
   "source": [
    "# Write an efficient function that takes a list of stock prices in chronological order \n",
    "# and finds the best trade by calculating the maximum profit through the determination of the minimum (buy) and maximum (sell) stock prices.\n",
    "\n",
    "# create a function that will calculate the max profit \n",
    "def calculate_max_profit(IAG_list): \n",
    "\n",
    "    # initialize variables, number of shares, min-max prices \n",
    "    num_shares = 10_000 \n",
    "    min_price = 0.0 \n",
    "    max_price = 0.0 \n",
    "    \n",
    "    # loop through the list to compare prices \n",
    "    for prices in IAG_list: \n",
    "        \n",
    "        # create conditional logic for finding the min and max prices in list \n",
    "        if max_price == 0.0 and min_price == 0.0: \n",
    "            min_price = prices \n",
    "            max_price = prices \n",
    "        \n",
    "        # if prices is greater than max_price, set max_price to prices \n",
    "        elif prices > max_price: \n",
    "            max_price = prices \n",
    "        \n",
    "        # if prices is lesser than min_price, set min_price to prices \n",
    "        elif prices < min_price: \n",
    "            min_price = prices \n",
    "    \n",
    "    # calculate the maximum possible profit that Xena could have made \n",
    "    maximum_possible_profit = round((max_price - min_price) * num_shares, 2) \n",
    "    \n",
    "    # return the max possible profit \n",
    "    return maximum_possible_profit\n",
    "    \n",
    "# add list of IAG stock prices from December 12, 2015, 10 AM to 11 AM \n",
    "IAG_list = [1.42, 1.32, 1.45, 1.20, 1.34, 1.74, 1.10, 1.89, 1.42, 1.90, 1.80, 1.85]\n",
    "\n",
    "# call the function \n",
    "best_possible_profit = calculate_max_profit(IAG_list) \n",
    "\n",
    "# print the output \n",
    "print(f\"The best possible profit Xena could have made is: ${best_possible_profit}\")"
   ]
  }
 ],
 "metadata": {
  "kernelspec": {
   "display_name": "Python 3 (ipykernel)",
   "language": "python",
   "name": "python3"
  },
  "language_info": {
   "codemirror_mode": {
    "name": "ipython",
    "version": 3
   },
   "file_extension": ".py",
   "mimetype": "text/x-python",
   "name": "python",
   "nbconvert_exporter": "python",
   "pygments_lexer": "ipython3",
   "version": "3.10.7"
  },
  "vscode": {
   "interpreter": {
    "hash": "bc1e713dd8b66e08dcc6b91ae5dd11b0a1fb79dd944f8108ac9145877f0bd675"
   }
  }
 },
 "nbformat": 4,
 "nbformat_minor": 5
}
