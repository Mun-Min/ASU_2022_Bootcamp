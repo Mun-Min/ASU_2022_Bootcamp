{
 "cells": [
  {
   "cell_type": "code",
   "execution_count": null,
   "id": "b7a8f256-2a22-4441-aced-51c319dc3bca",
   "metadata": {},
   "outputs": [],
   "source": [
    "'''\n",
    "Xena is an amateur day trader who is trading IAG, a mineral exploration company. On December 12, 2015 at 10 a.m., \n",
    "Xena determined that IAG was a buying opportunity and bought 10,000 shares at $1.42 per share; she ended up selling it an hour later (11 a.m.) at $1.85 per share, \n",
    "generating a profit of $4,300. Although a fantastic trade in and of itself, Xena wants to know if she could have possibly made more money.\n",
    "\n",
    "These were all the prices of IAG at 5-minute intervals on December 12, 2015, between the hours of 10 a.m. and 11 a.m.:\n",
    "[$1.42, $1.32, $1.45, $1.20, $1.34, $1.74, $1.10, $1.89, $1.42, $1.90, $1.80, $1.85]\n",
    "\n",
    "Write an efficient function that takes a list of stock prices in chronological order \n",
    "and finds the best trade by calculating the maximum profit through the determination of the minimum (buy) and maximum (sell) stock prices.\n",
    "'''"
   ]
  },
  {
   "cell_type": "code",
   "execution_count": null,
   "id": "4ff9a614",
   "metadata": {},
   "outputs": [],
   "source": [
    "# define a function that calculates the maximum possible profit ((maximum price - minimum price() * number of shares)\n",
    "def calculate_max_profit(IAG_list): \n",
    "\n",
    "    # initialize variables \n",
    "    num_shares = 10_000 \n",
    "    min_price = 0.0 \n",
    "    max_price = 0.0\n",
    "    \n",
    "    # loop through the list \n",
    "    for price in IAG_list: \n",
    "        \n",
    "        # intialize first min-max variable to the first value in list\n",
    "        if min_price == 0.0 and max_price == 0.0: \n",
    "            min_price = price\n",
    "            max_price = price \n",
    "\n",
    "        # create min-max logic \n",
    "        elif price > max_price: \n",
    "            max_price = price \n",
    "\n",
    "        elif price < min_price: \n",
    "            min_price = price\n",
    "\n",
    "    # calculate the maximum possible profit\n",
    "    max_possible_profit = round((max_price - min_price) * num_shares)\n",
    "\n",
    "    # return max_possible_profit\n",
    "    return max_possible_profit"
   ]
  },
  {
   "cell_type": "code",
   "execution_count": null,
   "id": "ad22322a",
   "metadata": {},
   "outputs": [],
   "source": [
    "# prices of IAG at 5-minute intervals on December 12, 2015, between the hours of 10 a.m. and 11 a.m\n",
    "IAG_list = [1.42, 1.32, 1.45, 1.20, 1.34, 1.74, 1.10, 1.89, 1.42, 1.90, 1.80, 1.85]"
   ]
  },
  {
   "cell_type": "code",
   "execution_count": null,
   "id": "50425305",
   "metadata": {},
   "outputs": [],
   "source": [
    "# call the function \n",
    "best_possible_profit = calculate_max_profit(IAG_list)\n",
    "\n",
    "# print output \n",
    "print(f'The best profit Xena could have made was: ${best_possible_profit}')"
   ]
  }
 ],
 "metadata": {
  "kernelspec": {
   "display_name": "Python 3 (ipykernel)",
   "language": "python",
   "name": "python3"
  },
  "language_info": {
   "codemirror_mode": {
    "name": "ipython",
    "version": 3
   },
   "file_extension": ".py",
   "mimetype": "text/x-python",
   "name": "python",
   "nbconvert_exporter": "python",
   "pygments_lexer": "ipython3",
   "version": "3.7.13"
  },
  "vscode": {
   "interpreter": {
    "hash": "6a7ae136a53a24601e63a177d18d4029f938b6714f24b844ae865dcffb9f6766"
   }
  }
 },
 "nbformat": 4,
 "nbformat_minor": 5
}
