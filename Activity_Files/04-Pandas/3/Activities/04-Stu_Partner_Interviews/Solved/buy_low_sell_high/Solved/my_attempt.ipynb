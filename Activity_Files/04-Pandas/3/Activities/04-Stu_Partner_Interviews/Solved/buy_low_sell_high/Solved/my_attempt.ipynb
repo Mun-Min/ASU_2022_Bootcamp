{
 "cells": [
  {
   "cell_type": "code",
   "execution_count": 1,
   "id": "b7a8f256-2a22-4441-aced-51c319dc3bca",
   "metadata": {},
   "outputs": [
    {
     "name": "stdout",
     "output_type": "stream",
     "text": [
      "The best possible profit Xena could have made within that timeframe is: $8000.0\n"
     ]
    }
   ],
   "source": [
    "# Write an efficient function that takes a list of stock prices in chronological order and\n",
    "# finds the best trade by calculating the maximum profit through the determination of the minimum (buy) and maximum (sell) stock prices. \n",
    "\n",
    "\n",
    "# define a function that calculates the maximum profit Xena could have made \n",
    "def calculate_maximum_profit(IAG_list): \n",
    "    \n",
    "    # initialize variables: number of shares, min price, max price, max possible profit\n",
    "    num_shares = 10_000\n",
    "    max_price = 0.0\n",
    "    min_price = 0.0 \n",
    "    max_possible_profit = 0.0\n",
    "    \n",
    "    # iterate over the list and find min-max prices \n",
    "    for price in IAG_list: \n",
    "        \n",
    "        # initialize the min and max prices to the first price in the list \n",
    "        if max_price == 0.0 and min_price == 0.0: \n",
    "            max_price = price\n",
    "            min_price = price\n",
    "        \n",
    "        # if price in list is greater than the max_price, assign max_price to price \n",
    "        elif price > max_price: \n",
    "            max_price = price\n",
    "            \n",
    "        # if price in list is less than the min_price, assign min_price to price \n",
    "        elif price < min_price: \n",
    "            min_price = price\n",
    "            \n",
    "    # calculate the maximum profit Xena could have made \n",
    "    max_possible_profit = round((max_price - min_price) * num_shares, 2)\n",
    "    \n",
    "    # return the max profit value \n",
    "    return max_possible_profit\n",
    "    \n",
    "# create IAG stock prices list \n",
    "IAG_list = [1.42, 1.32, 1.45, 1.20, 1.34, 1.74, 1.10, 1.89, 1.42, 1.90, 1.80, 1.85]\n",
    "\n",
    "# call the function for calculations \n",
    "best_possible_profit = calculate_maximum_profit(IAG_list)\n",
    "\n",
    "# print output \n",
    "print(f\"The best possible profit Xena could have made within that timeframe is: ${best_possible_profit}\")"
   ]
  }
 ],
 "metadata": {
  "kernelspec": {
   "display_name": "Python 3 (ipykernel)",
   "language": "python",
   "name": "python3"
  },
  "language_info": {
   "codemirror_mode": {
    "name": "ipython",
    "version": 3
   },
   "file_extension": ".py",
   "mimetype": "text/x-python",
   "name": "python",
   "nbconvert_exporter": "python",
   "pygments_lexer": "ipython3",
   "version": "3.7.13"
  }
 },
 "nbformat": 4,
 "nbformat_minor": 5
}
