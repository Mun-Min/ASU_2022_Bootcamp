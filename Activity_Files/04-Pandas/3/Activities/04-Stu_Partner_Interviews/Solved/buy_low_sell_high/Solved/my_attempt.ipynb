{
 "cells": [
  {
   "cell_type": "code",
   "execution_count": 2,
   "id": "b7a8f256-2a22-4441-aced-51c319dc3bca",
   "metadata": {},
   "outputs": [
    {
     "name": "stdout",
     "output_type": "stream",
     "text": [
      "The best profit is $8000.0\n"
     ]
    }
   ],
   "source": [
    "# write a function that takes a list of stock prices and finds the best trade by calculating min and max profit \n",
    "def calculate_max_profit(IAG_list):\n",
    "    \n",
    "    # Check if there are less than two prices in the list\n",
    "    # If so, the function cannot calculate max profit\n",
    "    # Else, there are at least two prices in the list and so run the function\n",
    "    \n",
    "    if len(IAG_list) < 2: \n",
    "        print(\"The list contains less than 2 elements, cannot run function\") \n",
    "    else: \n",
    "        # initialize initial investment \n",
    "        initial_investment = 10_000\n",
    "        \n",
    "        # initialize min and max variables \n",
    "        min_price = 0.0 \n",
    "        max_price = 0.0\n",
    "        \n",
    "        # create conditional logic for calculating maximum profit \n",
    "        \n",
    "        # loop through the list \n",
    "        for price in IAG_list: \n",
    "            \n",
    "            # write min--max logic \n",
    "            \n",
    "            # assign min and max values to the first values in the list \n",
    "            if min_price == 0.0 and max_price == 0.0: \n",
    "                min_price = price\n",
    "                max_price = price\n",
    "\n",
    "            # Check if price is less than the min profit\n",
    "            # If so, set the min profit to the current price\n",
    "            elif price < min_price: \n",
    "                min_price = price \n",
    "            \n",
    "            # Check if prices is greater than the max_profit \n",
    "            # If so, set the max profit to the current price \n",
    "            elif price > max_price: \n",
    "                max_price = price \n",
    "                 \n",
    "        # calculate the maximum profit \n",
    "        maximum_possible_profit = round((max_price - min_price) * initial_investment, 2)\n",
    "        \n",
    "        # return the maximum profit Xena could have made \n",
    "        return maximum_possible_profit\n",
    "\n",
    "# IAG stock prices on December 12, 2015 between the hours of 10 AM and 11 AM \n",
    "# Use list to pass into function \n",
    "IAG_price_list = [1.42, 1.32, 1.45, 1.20, 1.34, 1.74, 1.10, 1.89, 1.42, 1.90, 1.80, 1.85] \n",
    "\n",
    "# call function \n",
    "best_possible_profit = calculate_max_profit(IAG_price_list) \n",
    "\n",
    "# print outcome \n",
    "print(f\"The best profit is ${best_possible_profit}\") "
   ]
  }
 ],
 "metadata": {
  "kernelspec": {
   "display_name": "Python 3 (ipykernel)",
   "language": "python",
   "name": "python3"
  },
  "language_info": {
   "codemirror_mode": {
    "name": "ipython",
    "version": 3
   },
   "file_extension": ".py",
   "mimetype": "text/x-python",
   "name": "python",
   "nbconvert_exporter": "python",
   "pygments_lexer": "ipython3",
   "version": "3.7.13"
  }
 },
 "nbformat": 4,
 "nbformat_minor": 5
}
