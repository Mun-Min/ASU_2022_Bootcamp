{
 "cells": [
  {
   "cell_type": "code",
   "execution_count": 2,
   "id": "75a69019-dc6c-4119-97c8-1476fdb1a617",
   "metadata": {},
   "outputs": [
    {
     "data": {
      "text/plain": [
       "False"
      ]
     },
     "execution_count": 2,
     "metadata": {},
     "output_type": "execute_result"
    }
   ],
   "source": [
    "# write a function that tests if the contents of two lists are equal \n",
    "\n",
    "def are_lists_equal(list_1, list_2): \n",
    "    \n",
    "    # if length of lists do not match return False (lists do not match)\n",
    "    if len(list_1) != len(list_2): \n",
    "        return False\n",
    "    \n",
    "    # iterate through list 1 \n",
    "    for values in list_1: \n",
    "        \n",
    "        # if numbers in list 1 do not match numbers in list 2 return False (lists do not match)\n",
    "        if values not in list_2: \n",
    "            return False \n",
    "        \n",
    "    # iterate through list 2   \n",
    "    for values in list_2: \n",
    "        \n",
    "        # if numbers in list 2 do not match numbers in list 1 return False (lists do not match)\n",
    "        if values not in list_1: \n",
    "            return False \n",
    "    \n",
    "    # otherwise return True if no conditions are met \n",
    "    return True \n",
    "\n",
    "# create lists\n",
    "list_1 = [1, 2, 3] \n",
    "list_2 = [3, 2, 1] \n",
    "c = [1, 2, 3, 4]\n",
    "\n",
    "# call function \n",
    "# are_lists_equal(list_1, list_2)\n",
    "are_lists_equal(list_1, c)"
   ]
  }
 ],
 "metadata": {
  "kernelspec": {
   "display_name": "Python 3 (ipykernel)",
   "language": "python",
   "name": "python3"
  },
  "language_info": {
   "codemirror_mode": {
    "name": "ipython",
    "version": 3
   },
   "file_extension": ".py",
   "mimetype": "text/x-python",
   "name": "python",
   "nbconvert_exporter": "python",
   "pygments_lexer": "ipython3",
   "version": "3.7.13"
  }
 },
 "nbformat": 4,
 "nbformat_minor": 5
}
