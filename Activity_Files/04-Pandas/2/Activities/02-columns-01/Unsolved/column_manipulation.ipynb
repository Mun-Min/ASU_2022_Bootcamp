{
 "cells": [
  {
   "cell_type": "markdown",
   "metadata": {},
   "source": [
    "# Column Manipulation of Pandas DataFrames"
   ]
  },
  {
   "cell_type": "markdown",
   "metadata": {},
   "source": [
    "### 1. Import libraries and dependencies"
   ]
  },
  {
   "cell_type": "code",
   "execution_count": null,
   "metadata": {},
   "outputs": [],
   "source": [
    "# Import pandas, pathlib, and numpy libraries\n",
    "import pandas as pd \n",
    "import pathlib as Path \n",
    "import numpy as np \n",
    "import random "
   ]
  },
  {
   "cell_type": "markdown",
   "metadata": {},
   "source": [
    "### 7. Rename Columns Using Dictionary"
   ]
  },
  {
   "cell_type": "markdown",
   "metadata": {},
   "source": [
    "### 2. Create a Path to the File Using Pathlib"
   ]
  },
  {
   "cell_type": "code",
   "execution_count": null,
   "metadata": {},
   "outputs": [],
   "source": [
    "# Use the Pathlib libary to set the path to the CSV\n",
    "csv_path = (r\"C:\\Users\\minha\\OneDrive\\Documents\\ASU_2022_Bootcamp\\Activity_Files\\04-Pandas\\2\\Activities\\02-columns-01\\Resources\\people.csv\")"
   ]
  },
  {
   "cell_type": "markdown",
   "metadata": {},
   "source": [
    "### 3. Read the CSV into a Pandas DataFrame and Display a Few Rows"
   ]
  },
  {
   "cell_type": "code",
   "execution_count": null,
   "metadata": {},
   "outputs": [],
   "source": [
    "# Use the file path to read the CSV into a DataFrame and display a few rows\n",
    "csv_df = pd.read_csv(csv_path) \n",
    "csv_df.head()"
   ]
  },
  {
   "cell_type": "markdown",
   "metadata": {},
   "source": [
    "### 4. View Columns Names"
   ]
  },
  {
   "cell_type": "code",
   "execution_count": null,
   "metadata": {},
   "outputs": [],
   "source": [
    "# Use the `columns` attribute to output the column names\n",
    "csv_df.columns"
   ]
  },
  {
   "cell_type": "markdown",
   "metadata": {},
   "source": [
    "### 5. View Column Data Types"
   ]
  },
  {
   "cell_type": "code",
   "execution_count": null,
   "metadata": {},
   "outputs": [],
   "source": [
    "# Use the `dtypes` attribute to output the column names and data types\n",
    "csv_df.dtypes"
   ]
  },
  {
   "cell_type": "markdown",
   "metadata": {},
   "source": [
    "### 6. Rename Columns Using List"
   ]
  },
  {
   "cell_type": "code",
   "execution_count": null,
   "metadata": {},
   "outputs": [],
   "source": [
    "# Use the `rename` function and set the `columns` parameter to a dictionary of new column names\n",
    "csv_df.rename(columns = {\n",
    "    \"id\" : \"Person_ID\", \n",
    "    \"first_name\" : \"First_Name\", \n",
    "    \"last_name\" : \"Last_Name\", \n",
    "    \"email\" : \"Email\", \n",
    "    \"gender\" : \"Gender\", \n",
    "    \"uni_grad\" : \"University\", \n",
    "    \"job_title\" : \"Occupation\", \n",
    "    \"Income\" : \"Salary\", \n",
    "}, inplace = True)\n",
    "csv_df.head()"
   ]
  },
  {
   "cell_type": "markdown",
   "metadata": {},
   "source": [
    "### 7. Re-order Columns"
   ]
  },
  {
   "cell_type": "code",
   "execution_count": null,
   "metadata": {},
   "outputs": [],
   "source": [
    "# Use a list of re-ordered column names to alter the column order of the original DataFrame\n",
    "csv_df = csv_df[[\"Person_ID\", \"Last_Name\", \"First_Name\", \"Gender\", \"University\", \"Occupation\", \"Salary\", \"Email\"]] \n",
    "csv_df.head()"
   ]
  },
  {
   "cell_type": "markdown",
   "metadata": {},
   "source": [
    "### 9. Create Additional Column"
   ]
  },
  {
   "cell_type": "code",
   "execution_count": null,
   "metadata": {},
   "outputs": [],
   "source": [
    "# Use the `randint` function to randomly generate an `Age` from 22 to 65 for 1000 rows\n",
    "csv_df[\"Age\"] = np.random.randint(low = 22, high = 65, size = 1000) \n",
    "csv_df[\"Age_Copy\"] = np.random.randint(low = 22, high = 65, size = 1000) \n",
    "csv_df.head()"
   ]
  },
  {
   "cell_type": "markdown",
   "metadata": {},
   "source": [
    "### 10. Delete Columns"
   ]
  },
  {
   "cell_type": "code",
   "execution_count": null,
   "metadata": {},
   "outputs": [],
   "source": [
    "# Use the `drop` function to delete the newly created `Age` column\n",
    "csv_df.drop(\"Age\", axis = 1, inplace = True) \n",
    "csv_df.head()"
   ]
  },
  {
   "cell_type": "markdown",
   "metadata": {},
   "source": [
    "### 11. Save Modified DataFrame to New CSV"
   ]
  },
  {
   "cell_type": "code",
   "execution_count": null,
   "metadata": {},
   "outputs": [],
   "source": [
    "# Save the DataFrame to the `Resources` folder\n",
    "csv_df.to_csv(\"../Resources/people_reordered_my_attempt.csv\")"
   ]
  }
 ],
 "metadata": {
  "kernelspec": {
   "display_name": "Python 3 (ipykernel)",
   "language": "python",
   "name": "python3"
  },
  "language_info": {
   "codemirror_mode": {
    "name": "ipython",
    "version": 3
   },
   "file_extension": ".py",
   "mimetype": "text/x-python",
   "name": "python",
   "nbconvert_exporter": "python",
   "pygments_lexer": "ipython3",
   "version": "3.7.13"
  }
 },
 "nbformat": 4,
 "nbformat_minor": 4
}
