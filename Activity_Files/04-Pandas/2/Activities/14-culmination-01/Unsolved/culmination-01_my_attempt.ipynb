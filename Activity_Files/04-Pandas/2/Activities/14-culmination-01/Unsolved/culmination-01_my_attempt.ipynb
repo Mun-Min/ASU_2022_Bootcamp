{
 "cells": [
  {
   "cell_type": "markdown",
   "metadata": {},
   "source": [
    "# Bank of America Stock Data"
   ]
  },
  {
   "cell_type": "markdown",
   "metadata": {},
   "source": [
    "## 1. Import Libraries and Dependencies"
   ]
  },
  {
   "cell_type": "code",
   "execution_count": 20,
   "metadata": {},
   "outputs": [],
   "source": [
    "# Import libraries and dependencies\n",
    "import pandas as pd \n",
    "import pathlib as Path"
   ]
  },
  {
   "cell_type": "markdown",
   "metadata": {},
   "source": [
    "## 2. Set File Path for CSV using Pathlib"
   ]
  },
  {
   "cell_type": "code",
   "execution_count": 21,
   "metadata": {},
   "outputs": [],
   "source": [
    "# Set the file path for the CSV using the Path class from the pathlib library\n",
    "bac_path = (r'C:\\Users\\minha\\OneDrive\\Documents\\ASU_2022_Bootcamp\\Activity_Files\\04-Pandas\\2\\Activities\\14-culmination-01\\Resources\\BAC.csv')"
   ]
  },
  {
   "cell_type": "markdown",
   "metadata": {},
   "source": [
    "## 3. Read the CSV into a Pandas DataFrame"
   ]
  },
  {
   "cell_type": "code",
   "execution_count": 22,
   "metadata": {},
   "outputs": [
    {
     "data": {
      "text/html": [
       "<div>\n",
       "<style scoped>\n",
       "    .dataframe tbody tr th:only-of-type {\n",
       "        vertical-align: middle;\n",
       "    }\n",
       "\n",
       "    .dataframe tbody tr th {\n",
       "        vertical-align: top;\n",
       "    }\n",
       "\n",
       "    .dataframe thead th {\n",
       "        text-align: right;\n",
       "    }\n",
       "</style>\n",
       "<table border=\"1\" class=\"dataframe\">\n",
       "  <thead>\n",
       "    <tr style=\"text-align: right;\">\n",
       "      <th></th>\n",
       "      <th>Date</th>\n",
       "      <th>Open</th>\n",
       "      <th>High</th>\n",
       "      <th>Low</th>\n",
       "      <th>Close</th>\n",
       "      <th>Adj Close</th>\n",
       "      <th>Volume</th>\n",
       "    </tr>\n",
       "  </thead>\n",
       "  <tbody>\n",
       "    <tr>\n",
       "      <th>0</th>\n",
       "      <td>2017-01-03</td>\n",
       "      <td>22.600000</td>\n",
       "      <td>22.680000</td>\n",
       "      <td>22.200001</td>\n",
       "      <td>22.530001</td>\n",
       "      <td>22.006727</td>\n",
       "      <td>99298100</td>\n",
       "    </tr>\n",
       "    <tr>\n",
       "      <th>1</th>\n",
       "      <td>2017-01-04</td>\n",
       "      <td>22.719999</td>\n",
       "      <td>22.959999</td>\n",
       "      <td>22.600000</td>\n",
       "      <td>22.950001</td>\n",
       "      <td>22.416971</td>\n",
       "      <td>76875100</td>\n",
       "    </tr>\n",
       "    <tr>\n",
       "      <th>2</th>\n",
       "      <td>2017-01-05</td>\n",
       "      <td>22.820000</td>\n",
       "      <td>22.930000</td>\n",
       "      <td>22.350000</td>\n",
       "      <td>22.680000</td>\n",
       "      <td>22.153240</td>\n",
       "      <td>86826400</td>\n",
       "    </tr>\n",
       "    <tr>\n",
       "      <th>3</th>\n",
       "      <td>2017-01-06</td>\n",
       "      <td>22.780001</td>\n",
       "      <td>22.850000</td>\n",
       "      <td>22.559999</td>\n",
       "      <td>22.680000</td>\n",
       "      <td>22.153240</td>\n",
       "      <td>66281500</td>\n",
       "    </tr>\n",
       "    <tr>\n",
       "      <th>4</th>\n",
       "      <td>2017-01-09</td>\n",
       "      <td>22.510000</td>\n",
       "      <td>22.709999</td>\n",
       "      <td>22.400000</td>\n",
       "      <td>22.549999</td>\n",
       "      <td>22.026258</td>\n",
       "      <td>75744700</td>\n",
       "    </tr>\n",
       "  </tbody>\n",
       "</table>\n",
       "</div>"
      ],
      "text/plain": [
       "         Date       Open       High        Low      Close  Adj Close    Volume\n",
       "0  2017-01-03  22.600000  22.680000  22.200001  22.530001  22.006727  99298100\n",
       "1  2017-01-04  22.719999  22.959999  22.600000  22.950001  22.416971  76875100\n",
       "2  2017-01-05  22.820000  22.930000  22.350000  22.680000  22.153240  86826400\n",
       "3  2017-01-06  22.780001  22.850000  22.559999  22.680000  22.153240  66281500\n",
       "4  2017-01-09  22.510000  22.709999  22.400000  22.549999  22.026258  75744700"
      ]
     },
     "execution_count": 22,
     "metadata": {},
     "output_type": "execute_result"
    }
   ],
   "source": [
    "# Define a variable \"BAC_df\" and store the BAC.csv into Pandas DataFrame using the BAC_path\n",
    "bac_df = pd.read_csv(bac_path)\n",
    "bac_df.head()"
   ]
  },
  {
   "cell_type": "markdown",
   "metadata": {},
   "source": [
    "## 4. Count Number of Rows in the DataFrame"
   ]
  },
  {
   "cell_type": "code",
   "execution_count": 23,
   "metadata": {},
   "outputs": [
    {
     "data": {
      "text/plain": [
       "Date         251\n",
       "Open         251\n",
       "High         251\n",
       "Low          251\n",
       "Close        251\n",
       "Adj Close    251\n",
       "Volume       251\n",
       "dtype: int64"
      ]
     },
     "execution_count": 23,
     "metadata": {},
     "output_type": "execute_result"
    }
   ],
   "source": [
    "# Use the `count` function to count the number of non-null rows for each column\n",
    "bac_df.count()"
   ]
  },
  {
   "cell_type": "markdown",
   "metadata": {},
   "source": [
    "## 5. Calculate the Min and Max Dates"
   ]
  },
  {
   "cell_type": "code",
   "execution_count": 24,
   "metadata": {},
   "outputs": [
    {
     "name": "stdout",
     "output_type": "stream",
     "text": [
      "2017-01-03\n",
      "2017-12-29\n"
     ]
    }
   ],
   "source": [
    "# Define two variables labeled \"earliest_date\" and \"latest_date\"\n",
    "# Set them equal to the earliest/lastest of Date in bac_df\n",
    "earliest_date = bac_df['Date'].min()\n",
    "latest_date = bac_df['Date'].max()\n",
    "\n",
    "# print the earliest and latest dates\n",
    "print(earliest_date)\n",
    "print(latest_date)"
   ]
  },
  {
   "cell_type": "markdown",
   "metadata": {},
   "source": [
    "## 6. Set Date as Index"
   ]
  },
  {
   "cell_type": "code",
   "execution_count": 25,
   "metadata": {},
   "outputs": [
    {
     "data": {
      "text/html": [
       "<div>\n",
       "<style scoped>\n",
       "    .dataframe tbody tr th:only-of-type {\n",
       "        vertical-align: middle;\n",
       "    }\n",
       "\n",
       "    .dataframe tbody tr th {\n",
       "        vertical-align: top;\n",
       "    }\n",
       "\n",
       "    .dataframe thead th {\n",
       "        text-align: right;\n",
       "    }\n",
       "</style>\n",
       "<table border=\"1\" class=\"dataframe\">\n",
       "  <thead>\n",
       "    <tr style=\"text-align: right;\">\n",
       "      <th></th>\n",
       "      <th>Open</th>\n",
       "      <th>High</th>\n",
       "      <th>Low</th>\n",
       "      <th>Close</th>\n",
       "      <th>Adj Close</th>\n",
       "      <th>Volume</th>\n",
       "    </tr>\n",
       "    <tr>\n",
       "      <th>Date</th>\n",
       "      <th></th>\n",
       "      <th></th>\n",
       "      <th></th>\n",
       "      <th></th>\n",
       "      <th></th>\n",
       "      <th></th>\n",
       "    </tr>\n",
       "  </thead>\n",
       "  <tbody>\n",
       "    <tr>\n",
       "      <th>2017-01-03</th>\n",
       "      <td>22.600000</td>\n",
       "      <td>22.680000</td>\n",
       "      <td>22.200001</td>\n",
       "      <td>22.530001</td>\n",
       "      <td>22.006727</td>\n",
       "      <td>99298100</td>\n",
       "    </tr>\n",
       "    <tr>\n",
       "      <th>2017-01-04</th>\n",
       "      <td>22.719999</td>\n",
       "      <td>22.959999</td>\n",
       "      <td>22.600000</td>\n",
       "      <td>22.950001</td>\n",
       "      <td>22.416971</td>\n",
       "      <td>76875100</td>\n",
       "    </tr>\n",
       "    <tr>\n",
       "      <th>2017-01-05</th>\n",
       "      <td>22.820000</td>\n",
       "      <td>22.930000</td>\n",
       "      <td>22.350000</td>\n",
       "      <td>22.680000</td>\n",
       "      <td>22.153240</td>\n",
       "      <td>86826400</td>\n",
       "    </tr>\n",
       "    <tr>\n",
       "      <th>2017-01-06</th>\n",
       "      <td>22.780001</td>\n",
       "      <td>22.850000</td>\n",
       "      <td>22.559999</td>\n",
       "      <td>22.680000</td>\n",
       "      <td>22.153240</td>\n",
       "      <td>66281500</td>\n",
       "    </tr>\n",
       "    <tr>\n",
       "      <th>2017-01-09</th>\n",
       "      <td>22.510000</td>\n",
       "      <td>22.709999</td>\n",
       "      <td>22.400000</td>\n",
       "      <td>22.549999</td>\n",
       "      <td>22.026258</td>\n",
       "      <td>75744700</td>\n",
       "    </tr>\n",
       "  </tbody>\n",
       "</table>\n",
       "</div>"
      ],
      "text/plain": [
       "                 Open       High        Low      Close  Adj Close    Volume\n",
       "Date                                                                       \n",
       "2017-01-03  22.600000  22.680000  22.200001  22.530001  22.006727  99298100\n",
       "2017-01-04  22.719999  22.959999  22.600000  22.950001  22.416971  76875100\n",
       "2017-01-05  22.820000  22.930000  22.350000  22.680000  22.153240  86826400\n",
       "2017-01-06  22.780001  22.850000  22.559999  22.680000  22.153240  66281500\n",
       "2017-01-09  22.510000  22.709999  22.400000  22.549999  22.026258  75744700"
      ]
     },
     "execution_count": 25,
     "metadata": {},
     "output_type": "execute_result"
    }
   ],
   "source": [
    "# Use the `set_index` function to set the `Date` as the index to the DataFrame\n",
    "bac_df.set_index(pd.to_datetime(bac_df['Date'], infer_datetime_format = True), inplace = True)\n",
    "bac_df.drop(columns = ['Date'], inplace = True)\n",
    "bac_df.head()"
   ]
  },
  {
   "cell_type": "markdown",
   "metadata": {},
   "source": [
    "## 7. Filter DataFrame Between 2017-01-03 to 2017-06-03"
   ]
  },
  {
   "cell_type": "code",
   "execution_count": 26,
   "metadata": {},
   "outputs": [
    {
     "data": {
      "text/html": [
       "<div>\n",
       "<style scoped>\n",
       "    .dataframe tbody tr th:only-of-type {\n",
       "        vertical-align: middle;\n",
       "    }\n",
       "\n",
       "    .dataframe tbody tr th {\n",
       "        vertical-align: top;\n",
       "    }\n",
       "\n",
       "    .dataframe thead th {\n",
       "        text-align: right;\n",
       "    }\n",
       "</style>\n",
       "<table border=\"1\" class=\"dataframe\">\n",
       "  <thead>\n",
       "    <tr style=\"text-align: right;\">\n",
       "      <th></th>\n",
       "      <th>Open</th>\n",
       "      <th>High</th>\n",
       "      <th>Low</th>\n",
       "      <th>Close</th>\n",
       "      <th>Adj Close</th>\n",
       "      <th>Volume</th>\n",
       "    </tr>\n",
       "    <tr>\n",
       "      <th>Date</th>\n",
       "      <th></th>\n",
       "      <th></th>\n",
       "      <th></th>\n",
       "      <th></th>\n",
       "      <th></th>\n",
       "      <th></th>\n",
       "    </tr>\n",
       "  </thead>\n",
       "  <tbody>\n",
       "    <tr>\n",
       "      <th>2017-01-03</th>\n",
       "      <td>22.600000</td>\n",
       "      <td>22.680000</td>\n",
       "      <td>22.200001</td>\n",
       "      <td>22.530001</td>\n",
       "      <td>22.006727</td>\n",
       "      <td>99298100</td>\n",
       "    </tr>\n",
       "    <tr>\n",
       "      <th>2017-01-04</th>\n",
       "      <td>22.719999</td>\n",
       "      <td>22.959999</td>\n",
       "      <td>22.600000</td>\n",
       "      <td>22.950001</td>\n",
       "      <td>22.416971</td>\n",
       "      <td>76875100</td>\n",
       "    </tr>\n",
       "    <tr>\n",
       "      <th>2017-01-05</th>\n",
       "      <td>22.820000</td>\n",
       "      <td>22.930000</td>\n",
       "      <td>22.350000</td>\n",
       "      <td>22.680000</td>\n",
       "      <td>22.153240</td>\n",
       "      <td>86826400</td>\n",
       "    </tr>\n",
       "    <tr>\n",
       "      <th>2017-01-06</th>\n",
       "      <td>22.780001</td>\n",
       "      <td>22.850000</td>\n",
       "      <td>22.559999</td>\n",
       "      <td>22.680000</td>\n",
       "      <td>22.153240</td>\n",
       "      <td>66281500</td>\n",
       "    </tr>\n",
       "    <tr>\n",
       "      <th>2017-01-09</th>\n",
       "      <td>22.510000</td>\n",
       "      <td>22.709999</td>\n",
       "      <td>22.400000</td>\n",
       "      <td>22.549999</td>\n",
       "      <td>22.026258</td>\n",
       "      <td>75744700</td>\n",
       "    </tr>\n",
       "    <tr>\n",
       "      <th>...</th>\n",
       "      <td>...</td>\n",
       "      <td>...</td>\n",
       "      <td>...</td>\n",
       "      <td>...</td>\n",
       "      <td>...</td>\n",
       "      <td>...</td>\n",
       "    </tr>\n",
       "    <tr>\n",
       "      <th>2017-05-26</th>\n",
       "      <td>23.230000</td>\n",
       "      <td>23.420000</td>\n",
       "      <td>23.170000</td>\n",
       "      <td>23.240000</td>\n",
       "      <td>22.769428</td>\n",
       "      <td>50399500</td>\n",
       "    </tr>\n",
       "    <tr>\n",
       "      <th>2017-05-30</th>\n",
       "      <td>23.129999</td>\n",
       "      <td>23.209999</td>\n",
       "      <td>22.879999</td>\n",
       "      <td>22.910000</td>\n",
       "      <td>22.446112</td>\n",
       "      <td>61307900</td>\n",
       "    </tr>\n",
       "    <tr>\n",
       "      <th>2017-05-31</th>\n",
       "      <td>22.780001</td>\n",
       "      <td>22.799999</td>\n",
       "      <td>22.090000</td>\n",
       "      <td>22.410000</td>\n",
       "      <td>22.028347</td>\n",
       "      <td>138636300</td>\n",
       "    </tr>\n",
       "    <tr>\n",
       "      <th>2017-06-01</th>\n",
       "      <td>22.480000</td>\n",
       "      <td>22.639999</td>\n",
       "      <td>22.299999</td>\n",
       "      <td>22.629999</td>\n",
       "      <td>22.244600</td>\n",
       "      <td>69725100</td>\n",
       "    </tr>\n",
       "    <tr>\n",
       "      <th>2017-06-02</th>\n",
       "      <td>22.270000</td>\n",
       "      <td>22.590000</td>\n",
       "      <td>22.160000</td>\n",
       "      <td>22.450001</td>\n",
       "      <td>22.067667</td>\n",
       "      <td>79722300</td>\n",
       "    </tr>\n",
       "  </tbody>\n",
       "</table>\n",
       "<p>105 rows × 6 columns</p>\n",
       "</div>"
      ],
      "text/plain": [
       "                 Open       High        Low      Close  Adj Close     Volume\n",
       "Date                                                                        \n",
       "2017-01-03  22.600000  22.680000  22.200001  22.530001  22.006727   99298100\n",
       "2017-01-04  22.719999  22.959999  22.600000  22.950001  22.416971   76875100\n",
       "2017-01-05  22.820000  22.930000  22.350000  22.680000  22.153240   86826400\n",
       "2017-01-06  22.780001  22.850000  22.559999  22.680000  22.153240   66281500\n",
       "2017-01-09  22.510000  22.709999  22.400000  22.549999  22.026258   75744700\n",
       "...               ...        ...        ...        ...        ...        ...\n",
       "2017-05-26  23.230000  23.420000  23.170000  23.240000  22.769428   50399500\n",
       "2017-05-30  23.129999  23.209999  22.879999  22.910000  22.446112   61307900\n",
       "2017-05-31  22.780001  22.799999  22.090000  22.410000  22.028347  138636300\n",
       "2017-06-01  22.480000  22.639999  22.299999  22.629999  22.244600   69725100\n",
       "2017-06-02  22.270000  22.590000  22.160000  22.450001  22.067667   79722300\n",
       "\n",
       "[105 rows x 6 columns]"
      ]
     },
     "execution_count": 26,
     "metadata": {},
     "output_type": "execute_result"
    }
   ],
   "source": [
    "# After setting the `Date` as the index, loc can be used to specify a range of dates\n",
    "six_month_filtered_df = bac_df.loc['2017-01-03':'2017-06-03', :]\n",
    "six_month_filtered_df"
   ]
  },
  {
   "cell_type": "markdown",
   "metadata": {},
   "source": [
    "## 8. Drop Extra Columns"
   ]
  },
  {
   "cell_type": "code",
   "execution_count": 27,
   "metadata": {},
   "outputs": [
    {
     "data": {
      "text/html": [
       "<div>\n",
       "<style scoped>\n",
       "    .dataframe tbody tr th:only-of-type {\n",
       "        vertical-align: middle;\n",
       "    }\n",
       "\n",
       "    .dataframe tbody tr th {\n",
       "        vertical-align: top;\n",
       "    }\n",
       "\n",
       "    .dataframe thead th {\n",
       "        text-align: right;\n",
       "    }\n",
       "</style>\n",
       "<table border=\"1\" class=\"dataframe\">\n",
       "  <thead>\n",
       "    <tr style=\"text-align: right;\">\n",
       "      <th></th>\n",
       "      <th>Adj Close</th>\n",
       "    </tr>\n",
       "    <tr>\n",
       "      <th>Date</th>\n",
       "      <th></th>\n",
       "    </tr>\n",
       "  </thead>\n",
       "  <tbody>\n",
       "    <tr>\n",
       "      <th>2017-01-03</th>\n",
       "      <td>22.006727</td>\n",
       "    </tr>\n",
       "    <tr>\n",
       "      <th>2017-01-04</th>\n",
       "      <td>22.416971</td>\n",
       "    </tr>\n",
       "    <tr>\n",
       "      <th>2017-01-05</th>\n",
       "      <td>22.153240</td>\n",
       "    </tr>\n",
       "    <tr>\n",
       "      <th>2017-01-06</th>\n",
       "      <td>22.153240</td>\n",
       "    </tr>\n",
       "    <tr>\n",
       "      <th>2017-01-09</th>\n",
       "      <td>22.026258</td>\n",
       "    </tr>\n",
       "  </tbody>\n",
       "</table>\n",
       "</div>"
      ],
      "text/plain": [
       "            Adj Close\n",
       "Date                 \n",
       "2017-01-03  22.006727\n",
       "2017-01-04  22.416971\n",
       "2017-01-05  22.153240\n",
       "2017-01-06  22.153240\n",
       "2017-01-09  22.026258"
      ]
     },
     "execution_count": 27,
     "metadata": {},
     "output_type": "execute_result"
    }
   ],
   "source": [
    "# Drop the extra columns (Close is dropped because there is an Adj Close column)\n",
    "six_month_closing_prices_df = six_month_filtered_df.drop(columns=['Open', 'High', 'Low', 'Close', 'Volume'])\n",
    "six_month_closing_prices_df.head()"
   ]
  },
  {
   "cell_type": "markdown",
   "metadata": {},
   "source": [
    "## 9. Calculate Daily Returns for Six Months of BAC Closing Prices"
   ]
  },
  {
   "cell_type": "code",
   "execution_count": 29,
   "metadata": {},
   "outputs": [
    {
     "data": {
      "text/html": [
       "<div>\n",
       "<style scoped>\n",
       "    .dataframe tbody tr th:only-of-type {\n",
       "        vertical-align: middle;\n",
       "    }\n",
       "\n",
       "    .dataframe tbody tr th {\n",
       "        vertical-align: top;\n",
       "    }\n",
       "\n",
       "    .dataframe thead th {\n",
       "        text-align: right;\n",
       "    }\n",
       "</style>\n",
       "<table border=\"1\" class=\"dataframe\">\n",
       "  <thead>\n",
       "    <tr style=\"text-align: right;\">\n",
       "      <th></th>\n",
       "      <th>Adj Close</th>\n",
       "    </tr>\n",
       "    <tr>\n",
       "      <th>Date</th>\n",
       "      <th></th>\n",
       "    </tr>\n",
       "  </thead>\n",
       "  <tbody>\n",
       "    <tr>\n",
       "      <th>2017-01-04</th>\n",
       "      <td>0.018642</td>\n",
       "    </tr>\n",
       "    <tr>\n",
       "      <th>2017-01-05</th>\n",
       "      <td>-0.011765</td>\n",
       "    </tr>\n",
       "    <tr>\n",
       "      <th>2017-01-06</th>\n",
       "      <td>0.000000</td>\n",
       "    </tr>\n",
       "    <tr>\n",
       "      <th>2017-01-09</th>\n",
       "      <td>-0.005732</td>\n",
       "    </tr>\n",
       "    <tr>\n",
       "      <th>2017-01-10</th>\n",
       "      <td>0.017295</td>\n",
       "    </tr>\n",
       "    <tr>\n",
       "      <th>...</th>\n",
       "      <td>...</td>\n",
       "    </tr>\n",
       "    <tr>\n",
       "      <th>2017-05-26</th>\n",
       "      <td>-0.000430</td>\n",
       "    </tr>\n",
       "    <tr>\n",
       "      <th>2017-05-30</th>\n",
       "      <td>-0.014200</td>\n",
       "    </tr>\n",
       "    <tr>\n",
       "      <th>2017-05-31</th>\n",
       "      <td>-0.018612</td>\n",
       "    </tr>\n",
       "    <tr>\n",
       "      <th>2017-06-01</th>\n",
       "      <td>0.009817</td>\n",
       "    </tr>\n",
       "    <tr>\n",
       "      <th>2017-06-02</th>\n",
       "      <td>-0.007954</td>\n",
       "    </tr>\n",
       "  </tbody>\n",
       "</table>\n",
       "<p>104 rows × 1 columns</p>\n",
       "</div>"
      ],
      "text/plain": [
       "            Adj Close\n",
       "Date                 \n",
       "2017-01-04   0.018642\n",
       "2017-01-05  -0.011765\n",
       "2017-01-06   0.000000\n",
       "2017-01-09  -0.005732\n",
       "2017-01-10   0.017295\n",
       "...               ...\n",
       "2017-05-26  -0.000430\n",
       "2017-05-30  -0.014200\n",
       "2017-05-31  -0.018612\n",
       "2017-06-01   0.009817\n",
       "2017-06-02  -0.007954\n",
       "\n",
       "[104 rows x 1 columns]"
      ]
     },
     "execution_count": 29,
     "metadata": {},
     "output_type": "execute_result"
    }
   ],
   "source": [
    "# Use the `pct_change` function to calculate the daily returns over the date range of closing BAC prices\n",
    "daily_returns = six_month_closing_prices_df.pct_change()\n",
    "daily_returns = daily_returns.dropna()\n",
    "daily_returns"
   ]
  },
  {
   "cell_type": "markdown",
   "metadata": {},
   "source": [
    "## 10. Plot the Daily Returns for 6 Months of BAC Stock"
   ]
  },
  {
   "cell_type": "code",
   "execution_count": 30,
   "metadata": {},
   "outputs": [
    {
     "data": {
      "text/plain": [
       "<AxesSubplot:title={'center':'daily returns over the 6 month period for BAC'}, xlabel='Date'>"
      ]
     },
     "execution_count": 30,
     "metadata": {},
     "output_type": "execute_result"
    },
    {
     "data": {
      "image/png": "[encoded data removed]",
      "text/plain": [
       "<Figure size 1080x360 with 1 Axes>"
      ]
     },
     "metadata": {
      "needs_background": "light"
     },
     "output_type": "display_data"
    }
   ],
   "source": [
    "# Use the `plot` function to visualize the daily returns over the 6 month period for BAC\n",
    "daily_returns.plot(title = 'daily returns over the 6 month period for BAC', figsize = (15, 5))"
   ]
  }
 ],
 "metadata": {
  "kernelspec": {
   "display_name": "Python 3.7.13 ('dev')",
   "language": "python",
   "name": "python3"
  },
  "language_info": {
   "codemirror_mode": {
    "name": "ipython",
    "version": 3
   },
   "file_extension": ".py",
   "mimetype": "text/x-python",
   "name": "python",
   "nbconvert_exporter": "python",
   "pygments_lexer": "ipython3",
   "version": "3.7.13"
  },
  "vscode": {
   "interpreter": {
    "hash": "6a7ae136a53a24601e63a177d18d4029f938b6714f24b844ae865dcffb9f6766"
   }
  }
 },
 "nbformat": 4,
 "nbformat_minor": 2
}
