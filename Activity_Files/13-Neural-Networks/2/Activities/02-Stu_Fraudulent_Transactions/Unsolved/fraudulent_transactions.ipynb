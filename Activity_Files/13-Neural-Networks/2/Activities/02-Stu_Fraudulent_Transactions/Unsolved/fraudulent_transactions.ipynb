{
 "cells": [
  {
   "cell_type": "markdown",
   "metadata": {},
   "source": [
    "# Predicting Fraudulent Transactions Using Neural Networks\n",
    "\n",
    "Now that you’ve learned how to build a deep neural network, you’ll apply those skills to create a deep learning model that can predict financial fraud. But in this activity, rather than a regression deep learning model, you will create a classification deep learning model.\n",
    "\n",
    "## Instructions:\n",
    "\n",
    "### Load and Preprocess the Data\n",
    "\n",
    "1. Read the data from the CSV file into a Pandas DataFrame.\n",
    "\n",
    "2. Create the target set `y` by assigning the values of the “isFraud” column of the DataFrame.\n",
    "\n",
    "3. Define the features set `X` by including all of the columns of the DataFrame except for the “isFraud” column.\n",
    "\n",
    "4. Create the training and testing sets using the `train_test_split` function from scikit-learn.\n",
    "\n",
    "5. Scale the features data using the `StandardScaler` from scikit-learn.\n",
    "\n",
    "### Create and Evaluate a Deep Neural Network Model\n",
    "\n",
    "1. Create a deep neural network model with the following structure:\n",
    "\n",
    "    * 9 inputs\n",
    "    * First hidden layer with 18 neurons\n",
    "    * Second hidden layer with 8 neurons\n",
    "    * Output layer with a single output\n",
    "    * Hidden layers use the ReLU activation function, and output layer uses the sigmoid activation function\n",
    "\n",
    "2. Display the model structure using the 'summary` function.\n",
    "\n",
    "3. Compile the neural network model using the `binary_crossentropy` loss function, the `adam` optimizer, and `accuracy` as an additional metric.\n",
    "\n",
    "4. Fit the model with the training data, using 100 epochs.\n",
    "\n",
    "5. Evaluate the model using testing data and the `evaluate` method.\n",
    "\n",
    "\n",
    "## References:\n",
    "\n",
    "[Keras Sequential model](https://keras.io/api/models/sequential/)\n",
    "\n",
    "[Keras Dense module](https://keras.io/api/layers/core_layers/dense/)\n",
    "\n",
    "[Keras evaluate](https://keras.io/api/models/model_training_apis/)"
   ]
  },
  {
   "cell_type": "code",
   "execution_count": 15,
   "metadata": {},
   "outputs": [],
   "source": [
    "# Imports\n",
    "import pandas as pd\n",
    "from pathlib import Path\n",
    "import tensorflow as tf\n",
    "from tensorflow.keras.layers import Dense\n",
    "from tensorflow.keras.models import Sequential\n",
    "from sklearn.preprocessing import StandardScaler\n",
    "from sklearn.model_selection import train_test_split"
   ]
  },
  {
   "cell_type": "markdown",
   "metadata": {},
   "source": [
    "## Load and Preprocess the Data"
   ]
  },
  {
   "cell_type": "markdown",
   "metadata": {},
   "source": [
    "### Step 1: Read the data from the CSV file into a Pandas DataFrame."
   ]
  },
  {
   "cell_type": "code",
   "execution_count": 16,
   "metadata": {},
   "outputs": [
    {
     "data": {
      "text/html": [
       "<div>\n",
       "<style scoped>\n",
       "    .dataframe tbody tr th:only-of-type {\n",
       "        vertical-align: middle;\n",
       "    }\n",
       "\n",
       "    .dataframe tbody tr th {\n",
       "        vertical-align: top;\n",
       "    }\n",
       "\n",
       "    .dataframe thead th {\n",
       "        text-align: right;\n",
       "    }\n",
       "</style>\n",
       "<table border=\"1\" class=\"dataframe\">\n",
       "  <thead>\n",
       "    <tr style=\"text-align: right;\">\n",
       "      <th></th>\n",
       "      <th>dateMonth</th>\n",
       "      <th>dateWeekday</th>\n",
       "      <th>dateQuarter</th>\n",
       "      <th>operationType</th>\n",
       "      <th>amount</th>\n",
       "      <th>oldbalanceOrig</th>\n",
       "      <th>newbalanceOrig</th>\n",
       "      <th>oldbalanceDest</th>\n",
       "      <th>newbalanceDest</th>\n",
       "      <th>isFraud</th>\n",
       "    </tr>\n",
       "  </thead>\n",
       "  <tbody>\n",
       "    <tr>\n",
       "      <th>0</th>\n",
       "      <td>1</td>\n",
       "      <td>1</td>\n",
       "      <td>1</td>\n",
       "      <td>4</td>\n",
       "      <td>736.76</td>\n",
       "      <td>1120.00</td>\n",
       "      <td>383.24</td>\n",
       "      <td>0.00</td>\n",
       "      <td>0.00</td>\n",
       "      <td>0</td>\n",
       "    </tr>\n",
       "    <tr>\n",
       "      <th>1</th>\n",
       "      <td>1</td>\n",
       "      <td>1</td>\n",
       "      <td>1</td>\n",
       "      <td>2</td>\n",
       "      <td>256226.20</td>\n",
       "      <td>0.00</td>\n",
       "      <td>0.00</td>\n",
       "      <td>518041.64</td>\n",
       "      <td>1305828.01</td>\n",
       "      <td>0</td>\n",
       "    </tr>\n",
       "    <tr>\n",
       "      <th>2</th>\n",
       "      <td>1</td>\n",
       "      <td>1</td>\n",
       "      <td>1</td>\n",
       "      <td>5</td>\n",
       "      <td>310027.49</td>\n",
       "      <td>61594.00</td>\n",
       "      <td>0.00</td>\n",
       "      <td>10089.00</td>\n",
       "      <td>1157398.83</td>\n",
       "      <td>0</td>\n",
       "    </tr>\n",
       "    <tr>\n",
       "      <th>3</th>\n",
       "      <td>1</td>\n",
       "      <td>1</td>\n",
       "      <td>1</td>\n",
       "      <td>1</td>\n",
       "      <td>76695.35</td>\n",
       "      <td>9064440.33</td>\n",
       "      <td>9141135.68</td>\n",
       "      <td>880045.33</td>\n",
       "      <td>206147.08</td>\n",
       "      <td>0</td>\n",
       "    </tr>\n",
       "    <tr>\n",
       "      <th>4</th>\n",
       "      <td>1</td>\n",
       "      <td>1</td>\n",
       "      <td>1</td>\n",
       "      <td>4</td>\n",
       "      <td>4761.57</td>\n",
       "      <td>0.00</td>\n",
       "      <td>0.00</td>\n",
       "      <td>0.00</td>\n",
       "      <td>0.00</td>\n",
       "      <td>0</td>\n",
       "    </tr>\n",
       "  </tbody>\n",
       "</table>\n",
       "</div>"
      ],
      "text/plain": [
       "   dateMonth  dateWeekday  dateQuarter  operationType     amount  \\\n",
       "0          1            1            1              4     736.76   \n",
       "1          1            1            1              2  256226.20   \n",
       "2          1            1            1              5  310027.49   \n",
       "3          1            1            1              1   76695.35   \n",
       "4          1            1            1              4    4761.57   \n",
       "\n",
       "   oldbalanceOrig  newbalanceOrig  oldbalanceDest  newbalanceDest  isFraud  \n",
       "0         1120.00          383.24            0.00            0.00        0  \n",
       "1            0.00            0.00       518041.64      1305828.01        0  \n",
       "2        61594.00            0.00        10089.00      1157398.83        0  \n",
       "3      9064440.33      9141135.68       880045.33       206147.08        0  \n",
       "4            0.00            0.00            0.00            0.00        0  "
      ]
     },
     "execution_count": 16,
     "metadata": {},
     "output_type": "execute_result"
    }
   ],
   "source": [
    "# Read the credit_card_transactions.csv file from the Resources folder into a Pandas DataFrame\n",
    "cc_transactions_df = pd.read_csv(\n",
    "    Path('../Resources/credit_card_transactions.csv')\n",
    ")\n",
    "\n",
    "# Review the DataFrame\n",
    "cc_transactions_df.head()\n"
   ]
  },
  {
   "cell_type": "markdown",
   "metadata": {},
   "source": [
    "### Step 2: Create the target set `y` by assigning the values of the “isFraud” column of the DataFrame."
   ]
  },
  {
   "cell_type": "code",
   "execution_count": 17,
   "metadata": {},
   "outputs": [
    {
     "data": {
      "text/plain": [
       "0    0\n",
       "1    0\n",
       "2    0\n",
       "3    0\n",
       "4    0\n",
       "Name: isFraud, dtype: int64"
      ]
     },
     "execution_count": 17,
     "metadata": {},
     "output_type": "execute_result"
    }
   ],
   "source": [
    "# Define the target set by selecting the isFraud column\n",
    "y = cc_transactions_df.isFraud\n",
    "\n",
    "# Display a sample of y\n",
    "y[:5]"
   ]
  },
  {
   "cell_type": "markdown",
   "metadata": {},
   "source": [
    "### Step 3: Define the features set `X` by including all of the columns of the DataFrame except for the “isFraud” column."
   ]
  },
  {
   "cell_type": "code",
   "execution_count": 18,
   "metadata": {},
   "outputs": [
    {
     "data": {
      "text/html": [
       "<div>\n",
       "<style scoped>\n",
       "    .dataframe tbody tr th:only-of-type {\n",
       "        vertical-align: middle;\n",
       "    }\n",
       "\n",
       "    .dataframe tbody tr th {\n",
       "        vertical-align: top;\n",
       "    }\n",
       "\n",
       "    .dataframe thead th {\n",
       "        text-align: right;\n",
       "    }\n",
       "</style>\n",
       "<table border=\"1\" class=\"dataframe\">\n",
       "  <thead>\n",
       "    <tr style=\"text-align: right;\">\n",
       "      <th></th>\n",
       "      <th>dateMonth</th>\n",
       "      <th>dateWeekday</th>\n",
       "      <th>dateQuarter</th>\n",
       "      <th>operationType</th>\n",
       "      <th>amount</th>\n",
       "      <th>oldbalanceOrig</th>\n",
       "      <th>newbalanceOrig</th>\n",
       "      <th>oldbalanceDest</th>\n",
       "      <th>newbalanceDest</th>\n",
       "    </tr>\n",
       "  </thead>\n",
       "  <tbody>\n",
       "    <tr>\n",
       "      <th>0</th>\n",
       "      <td>1</td>\n",
       "      <td>1</td>\n",
       "      <td>1</td>\n",
       "      <td>4</td>\n",
       "      <td>736.76</td>\n",
       "      <td>1120.00</td>\n",
       "      <td>383.24</td>\n",
       "      <td>0.00</td>\n",
       "      <td>0.00</td>\n",
       "    </tr>\n",
       "    <tr>\n",
       "      <th>1</th>\n",
       "      <td>1</td>\n",
       "      <td>1</td>\n",
       "      <td>1</td>\n",
       "      <td>2</td>\n",
       "      <td>256226.20</td>\n",
       "      <td>0.00</td>\n",
       "      <td>0.00</td>\n",
       "      <td>518041.64</td>\n",
       "      <td>1305828.01</td>\n",
       "    </tr>\n",
       "    <tr>\n",
       "      <th>2</th>\n",
       "      <td>1</td>\n",
       "      <td>1</td>\n",
       "      <td>1</td>\n",
       "      <td>5</td>\n",
       "      <td>310027.49</td>\n",
       "      <td>61594.00</td>\n",
       "      <td>0.00</td>\n",
       "      <td>10089.00</td>\n",
       "      <td>1157398.83</td>\n",
       "    </tr>\n",
       "    <tr>\n",
       "      <th>3</th>\n",
       "      <td>1</td>\n",
       "      <td>1</td>\n",
       "      <td>1</td>\n",
       "      <td>1</td>\n",
       "      <td>76695.35</td>\n",
       "      <td>9064440.33</td>\n",
       "      <td>9141135.68</td>\n",
       "      <td>880045.33</td>\n",
       "      <td>206147.08</td>\n",
       "    </tr>\n",
       "    <tr>\n",
       "      <th>4</th>\n",
       "      <td>1</td>\n",
       "      <td>1</td>\n",
       "      <td>1</td>\n",
       "      <td>4</td>\n",
       "      <td>4761.57</td>\n",
       "      <td>0.00</td>\n",
       "      <td>0.00</td>\n",
       "      <td>0.00</td>\n",
       "      <td>0.00</td>\n",
       "    </tr>\n",
       "  </tbody>\n",
       "</table>\n",
       "</div>"
      ],
      "text/plain": [
       "   dateMonth  dateWeekday  dateQuarter  operationType     amount  \\\n",
       "0          1            1            1              4     736.76   \n",
       "1          1            1            1              2  256226.20   \n",
       "2          1            1            1              5  310027.49   \n",
       "3          1            1            1              1   76695.35   \n",
       "4          1            1            1              4    4761.57   \n",
       "\n",
       "   oldbalanceOrig  newbalanceOrig  oldbalanceDest  newbalanceDest  \n",
       "0         1120.00          383.24            0.00            0.00  \n",
       "1            0.00            0.00       518041.64      1305828.01  \n",
       "2        61594.00            0.00        10089.00      1157398.83  \n",
       "3      9064440.33      9141135.68       880045.33       206147.08  \n",
       "4            0.00            0.00            0.00            0.00  "
      ]
     },
     "execution_count": 18,
     "metadata": {},
     "output_type": "execute_result"
    }
   ],
   "source": [
    "# Define features set X by selecting all columns but the isFraud\n",
    "X = cc_transactions_df.drop(columns = 'isFraud').copy()\n",
    "\n",
    "# Display the features DataFrame\n",
    "X.head()\n"
   ]
  },
  {
   "cell_type": "markdown",
   "metadata": {},
   "source": [
    "### Step 4: Create the training and testing sets using the `train_test_split` function from scikit-learn."
   ]
  },
  {
   "cell_type": "code",
   "execution_count": 19,
   "metadata": {},
   "outputs": [],
   "source": [
    "# Create training and testing datasets using train_teat_split\n",
    "# Assign the function a random_state equal to 1\n",
    "X_train, X_test, y_train, y_test = train_test_split(X, y, random_state = 1)\n"
   ]
  },
  {
   "cell_type": "markdown",
   "metadata": {},
   "source": [
    "### Step 5:  Scale the features data using the `StandardScaler` from scikit-learn."
   ]
  },
  {
   "cell_type": "code",
   "execution_count": 20,
   "metadata": {},
   "outputs": [],
   "source": [
    "# Create the StandardScaler instance\n",
    "X_scaler = StandardScaler() "
   ]
  },
  {
   "cell_type": "code",
   "execution_count": 21,
   "metadata": {},
   "outputs": [
    {
     "data": {
      "text/plain": [
       "StandardScaler()"
      ]
     },
     "execution_count": 21,
     "metadata": {},
     "output_type": "execute_result"
    }
   ],
   "source": [
    "# Fit the scaler to the features training dataset\n",
    "X_scaler.fit(X)\n"
   ]
  },
  {
   "cell_type": "code",
   "execution_count": 22,
   "metadata": {},
   "outputs": [],
   "source": [
    "# Scale both the training and testing data from the features dataset\n",
    "X_train_scaled = X_scaler.transform(X_train)\n",
    "X_test_scaled = X_scaler.transform(X_test)\n"
   ]
  },
  {
   "cell_type": "markdown",
   "metadata": {},
   "source": [
    "---\n",
    "\n",
    "## Create and Evaluate a Deep Neural Network Model"
   ]
  },
  {
   "cell_type": "markdown",
   "metadata": {},
   "source": [
    "### Step 1: Create a deep neural network model with the following structure:\n",
    "\n",
    "    * 9 inputs\n",
    "    * First hidden layer with 18 neurons\n",
    "    * Second hidden layer with 8 neurons\n",
    "    * Output layer with a single output\n",
    "    * Hidden layers use the ReLU activation function, and output layer uses the sigmoid activation function\n"
   ]
  },
  {
   "cell_type": "code",
   "execution_count": 23,
   "metadata": {},
   "outputs": [],
   "source": [
    "# Define the the number of inputs to the model\n",
    "number_inputs = 9\n",
    "\n",
    "# Define the number of hidden nodes for the first hidden layer\n",
    "hidden_nodes_layer1 = 18\n",
    "\n",
    "# Define the number of hidden nodes for the second hidden layer\n",
    "hidden_nodes_layer2 = 8\n",
    "\n",
    "# Create the Sequential model instance\n",
    "nn = Sequential()\n",
    "\n",
    "# Add the first Dense layer specifying the number of inputs, the number of hidden nodes, and the activation function\n",
    "nn.add(Dense(units=hidden_nodes_layer1, input_dim=number_inputs, activation=\"relu\"))\n",
    "\n",
    "# Add the second Dense layer specifying the number of hidden nodes and the activation function\n",
    "nn.add(Dense(units=hidden_nodes_layer2, input_dim=number_inputs, activation=\"relu\"))\n",
    "\n",
    "# Add the output layer to the model specifying the number of output neurons and activation function\n",
    "nn.add(Dense(1, activation=\"sigmoid\"))"
   ]
  },
  {
   "cell_type": "markdown",
   "metadata": {},
   "source": [
    "### Step 2. Display the model structure using the `summary` function."
   ]
  },
  {
   "cell_type": "code",
   "execution_count": 24,
   "metadata": {},
   "outputs": [
    {
     "name": "stdout",
     "output_type": "stream",
     "text": [
      "Model: \"sequential_1\"\n",
      "_________________________________________________________________\n",
      " Layer (type)                Output Shape              Param #   \n",
      "=================================================================\n",
      " dense_3 (Dense)             (None, 18)                180       \n",
      "                                                                 \n",
      " dense_4 (Dense)             (None, 8)                 152       \n",
      "                                                                 \n",
      " dense_5 (Dense)             (None, 1)                 9         \n",
      "                                                                 \n",
      "=================================================================\n",
      "Total params: 341\n",
      "Trainable params: 341\n",
      "Non-trainable params: 0\n",
      "_________________________________________________________________\n"
     ]
    }
   ],
   "source": [
    "# Display the Sequential model summary\n",
    "nn.summary()"
   ]
  },
  {
   "cell_type": "markdown",
   "metadata": {},
   "source": [
    "### Step 3: Compile the neural network model using the `binary_crossentropy` loss function, the `adam` optimizer, and `accuracy` as an additional metric."
   ]
  },
  {
   "cell_type": "code",
   "execution_count": 25,
   "metadata": {},
   "outputs": [],
   "source": [
    "# Compile the Sequential model\n",
    "nn.compile(loss=\"binary_crossentropy\", optimizer=\"adam\", metrics=[\"accuracy\"])"
   ]
  },
  {
   "cell_type": "markdown",
   "metadata": {},
   "source": [
    "### Step 4: Fit the model with the training data, using 100 epochs."
   ]
  },
  {
   "cell_type": "code",
   "execution_count": 26,
   "metadata": {},
   "outputs": [
    {
     "name": "stdout",
     "output_type": "stream",
     "text": [
      "Epoch 1/100\n",
      "2344/2344 [==============================] - 12s 4ms/step - loss: 0.0513 - accuracy: 0.9852\n",
      "Epoch 2/100\n",
      "2344/2344 [==============================] - 9s 4ms/step - loss: 0.0098 - accuracy: 0.9988\n",
      "Epoch 3/100\n",
      "2344/2344 [==============================] - 9s 4ms/step - loss: 0.0088 - accuracy: 0.9989\n",
      "Epoch 4/100\n",
      "2344/2344 [==============================] - 9s 4ms/step - loss: 0.0084 - accuracy: 0.9989\n",
      "Epoch 5/100\n",
      "2344/2344 [==============================] - 9s 4ms/step - loss: 0.0080 - accuracy: 0.9989\n",
      "Epoch 6/100\n",
      "2344/2344 [==============================] - 9s 4ms/step - loss: 0.0077 - accuracy: 0.9989\n",
      "Epoch 7/100\n",
      "2344/2344 [==============================] - 9s 4ms/step - loss: 0.0073 - accuracy: 0.9989\n",
      "Epoch 8/100\n",
      "2344/2344 [==============================] - 9s 4ms/step - loss: 0.0069 - accuracy: 0.9989\n",
      "Epoch 9/100\n",
      "2344/2344 [==============================] - 10s 4ms/step - loss: 0.0067 - accuracy: 0.9989\n",
      "Epoch 10/100\n",
      "2344/2344 [==============================] - 10s 4ms/step - loss: 0.0064 - accuracy: 0.9989\n",
      "Epoch 11/100\n",
      "2344/2344 [==============================] - 9s 4ms/step - loss: 0.0062 - accuracy: 0.9989\n",
      "Epoch 12/100\n",
      "2344/2344 [==============================] - 9s 4ms/step - loss: 0.0061 - accuracy: 0.9989\n",
      "Epoch 13/100\n",
      "2344/2344 [==============================] - 9s 4ms/step - loss: 0.0060 - accuracy: 0.9989\n",
      "Epoch 14/100\n",
      "2344/2344 [==============================] - 9s 4ms/step - loss: 0.0059 - accuracy: 0.9989\n",
      "Epoch 15/100\n",
      "2344/2344 [==============================] - 9s 4ms/step - loss: 0.0059 - accuracy: 0.9990\n",
      "Epoch 16/100\n",
      "2344/2344 [==============================] - 9s 4ms/step - loss: 0.0057 - accuracy: 0.9989\n",
      "Epoch 17/100\n",
      "2344/2344 [==============================] - 9s 4ms/step - loss: 0.0057 - accuracy: 0.9990\n",
      "Epoch 18/100\n",
      "2344/2344 [==============================] - 9s 4ms/step - loss: 0.0057 - accuracy: 0.9990\n",
      "Epoch 19/100\n",
      "2344/2344 [==============================] - 9s 4ms/step - loss: 0.0056 - accuracy: 0.9990\n",
      "Epoch 20/100\n",
      "2344/2344 [==============================] - 9s 4ms/step - loss: 0.0056 - accuracy: 0.9990\n",
      "Epoch 21/100\n",
      "2344/2344 [==============================] - 10s 4ms/step - loss: 0.0056 - accuracy: 0.9990\n",
      "Epoch 22/100\n",
      "2344/2344 [==============================] - 9s 4ms/step - loss: 0.0055 - accuracy: 0.9990\n",
      "Epoch 23/100\n",
      "2344/2344 [==============================] - 10s 4ms/step - loss: 0.0054 - accuracy: 0.9990\n",
      "Epoch 24/100\n",
      "2344/2344 [==============================] - 11s 5ms/step - loss: 0.0053 - accuracy: 0.9990\n",
      "Epoch 25/100\n",
      "2344/2344 [==============================] - 12s 5ms/step - loss: 0.0054 - accuracy: 0.9990\n",
      "Epoch 26/100\n",
      "2344/2344 [==============================] - 12s 5ms/step - loss: 0.0053 - accuracy: 0.9990\n",
      "Epoch 27/100\n",
      "2344/2344 [==============================] - 11s 5ms/step - loss: 0.0052 - accuracy: 0.9990\n",
      "Epoch 28/100\n",
      "2344/2344 [==============================] - 11s 5ms/step - loss: 0.0053 - accuracy: 0.9990\n",
      "Epoch 29/100\n",
      "2344/2344 [==============================] - 11s 4ms/step - loss: 0.0051 - accuracy: 0.9990\n",
      "Epoch 30/100\n",
      "2344/2344 [==============================] - 10s 4ms/step - loss: 0.0053 - accuracy: 0.9989\n",
      "Epoch 31/100\n",
      "2344/2344 [==============================] - 10s 4ms/step - loss: 0.0052 - accuracy: 0.9989\n",
      "Epoch 32/100\n",
      "2344/2344 [==============================] - 10s 4ms/step - loss: 0.0052 - accuracy: 0.9990\n",
      "Epoch 33/100\n",
      "2344/2344 [==============================] - 10s 4ms/step - loss: 0.0052 - accuracy: 0.9990\n",
      "Epoch 34/100\n",
      "2344/2344 [==============================] - 10s 4ms/step - loss: 0.0052 - accuracy: 0.9990\n",
      "Epoch 35/100\n",
      "2344/2344 [==============================] - 10s 4ms/step - loss: 0.0052 - accuracy: 0.9990\n",
      "Epoch 36/100\n",
      "2344/2344 [==============================] - 9s 4ms/step - loss: 0.0052 - accuracy: 0.9990\n",
      "Epoch 37/100\n",
      "2344/2344 [==============================] - 10s 4ms/step - loss: 0.0052 - accuracy: 0.9990\n",
      "Epoch 38/100\n",
      "2344/2344 [==============================] - 9s 4ms/step - loss: 0.0050 - accuracy: 0.9990\n",
      "Epoch 39/100\n",
      "2344/2344 [==============================] - 10s 4ms/step - loss: 0.0052 - accuracy: 0.9990\n",
      "Epoch 40/100\n",
      "2344/2344 [==============================] - 10s 4ms/step - loss: 0.0050 - accuracy: 0.9990\n",
      "Epoch 41/100\n",
      "2344/2344 [==============================] - 10s 4ms/step - loss: 0.0051 - accuracy: 0.9990\n",
      "Epoch 42/100\n",
      "2344/2344 [==============================] - 9s 4ms/step - loss: 0.0050 - accuracy: 0.9990\n",
      "Epoch 43/100\n",
      "2344/2344 [==============================] - 9s 4ms/step - loss: 0.0052 - accuracy: 0.9990\n",
      "Epoch 44/100\n",
      "2344/2344 [==============================] - 9s 4ms/step - loss: 0.0051 - accuracy: 0.9990\n",
      "Epoch 45/100\n",
      "2344/2344 [==============================] - 9s 4ms/step - loss: 0.0050 - accuracy: 0.9990\n",
      "Epoch 46/100\n",
      "2344/2344 [==============================] - 9s 4ms/step - loss: 0.0050 - accuracy: 0.9990\n",
      "Epoch 47/100\n",
      "2344/2344 [==============================] - 9s 4ms/step - loss: 0.0050 - accuracy: 0.9990\n",
      "Epoch 48/100\n",
      "2344/2344 [==============================] - 9s 4ms/step - loss: 0.0049 - accuracy: 0.9990\n",
      "Epoch 49/100\n",
      "2344/2344 [==============================] - 9s 4ms/step - loss: 0.0049 - accuracy: 0.9990\n",
      "Epoch 50/100\n",
      "2344/2344 [==============================] - 9s 4ms/step - loss: 0.0050 - accuracy: 0.9990\n",
      "Epoch 51/100\n",
      "2344/2344 [==============================] - 9s 4ms/step - loss: 0.0050 - accuracy: 0.9990\n",
      "Epoch 52/100\n",
      "2344/2344 [==============================] - 9s 4ms/step - loss: 0.0051 - accuracy: 0.9990\n",
      "Epoch 53/100\n",
      "2344/2344 [==============================] - 9s 4ms/step - loss: 0.0050 - accuracy: 0.9990\n",
      "Epoch 54/100\n",
      "2344/2344 [==============================] - 10s 4ms/step - loss: 0.0049 - accuracy: 0.9990\n",
      "Epoch 55/100\n",
      "2344/2344 [==============================] - 9s 4ms/step - loss: 0.0049 - accuracy: 0.9990\n",
      "Epoch 56/100\n",
      "2344/2344 [==============================] - 9s 4ms/step - loss: 0.0048 - accuracy: 0.9990\n",
      "Epoch 57/100\n",
      "2344/2344 [==============================] - 9s 4ms/step - loss: 0.0049 - accuracy: 0.9990\n",
      "Epoch 58/100\n",
      "2344/2344 [==============================] - 9s 4ms/step - loss: 0.0050 - accuracy: 0.9990\n",
      "Epoch 59/100\n",
      "2344/2344 [==============================] - 10s 4ms/step - loss: 0.0049 - accuracy: 0.9990\n",
      "Epoch 60/100\n",
      "2344/2344 [==============================] - 9s 4ms/step - loss: 0.0050 - accuracy: 0.9990\n",
      "Epoch 61/100\n",
      "2344/2344 [==============================] - 9s 4ms/step - loss: 0.0049 - accuracy: 0.9990\n",
      "Epoch 62/100\n",
      "2344/2344 [==============================] - 9s 4ms/step - loss: 0.0049 - accuracy: 0.9990\n",
      "Epoch 63/100\n",
      "2344/2344 [==============================] - 9s 4ms/step - loss: 0.0049 - accuracy: 0.9990\n",
      "Epoch 64/100\n",
      "2344/2344 [==============================] - 9s 4ms/step - loss: 0.0049 - accuracy: 0.9990\n",
      "Epoch 65/100\n",
      "2344/2344 [==============================] - 9s 4ms/step - loss: 0.0049 - accuracy: 0.9990\n",
      "Epoch 66/100\n",
      "2344/2344 [==============================] - 10s 4ms/step - loss: 0.0049 - accuracy: 0.9990\n",
      "Epoch 67/100\n",
      "2344/2344 [==============================] - 10s 4ms/step - loss: 0.0049 - accuracy: 0.9990\n",
      "Epoch 68/100\n",
      "2344/2344 [==============================] - 9s 4ms/step - loss: 0.0048 - accuracy: 0.9990\n",
      "Epoch 69/100\n",
      "2344/2344 [==============================] - 9s 4ms/step - loss: 0.0049 - accuracy: 0.9990\n",
      "Epoch 70/100\n",
      "2344/2344 [==============================] - 9s 4ms/step - loss: 0.0047 - accuracy: 0.9990\n",
      "Epoch 71/100\n",
      "2344/2344 [==============================] - 9s 4ms/step - loss: 0.0048 - accuracy: 0.9990\n",
      "Epoch 72/100\n",
      "2344/2344 [==============================] - 9s 4ms/step - loss: 0.0049 - accuracy: 0.9990\n",
      "Epoch 73/100\n",
      "2344/2344 [==============================] - 9s 4ms/step - loss: 0.0049 - accuracy: 0.9990\n",
      "Epoch 74/100\n",
      "2344/2344 [==============================] - 9s 4ms/step - loss: 0.0047 - accuracy: 0.9990\n",
      "Epoch 75/100\n",
      "2344/2344 [==============================] - 9s 4ms/step - loss: 0.0048 - accuracy: 0.9990\n",
      "Epoch 76/100\n",
      "2344/2344 [==============================] - 9s 4ms/step - loss: 0.0049 - accuracy: 0.9990\n",
      "Epoch 77/100\n",
      "2344/2344 [==============================] - 9s 4ms/step - loss: 0.0048 - accuracy: 0.9990\n",
      "Epoch 78/100\n",
      "2344/2344 [==============================] - 9s 4ms/step - loss: 0.0048 - accuracy: 0.9990\n",
      "Epoch 79/100\n",
      "2344/2344 [==============================] - 9s 4ms/step - loss: 0.0048 - accuracy: 0.9990\n",
      "Epoch 80/100\n",
      "2344/2344 [==============================] - 9s 4ms/step - loss: 0.0048 - accuracy: 0.9990\n",
      "Epoch 81/100\n",
      "2344/2344 [==============================] - 9s 4ms/step - loss: 0.0047 - accuracy: 0.9990\n",
      "Epoch 82/100\n",
      "2344/2344 [==============================] - 9s 4ms/step - loss: 0.0048 - accuracy: 0.9990\n",
      "Epoch 83/100\n",
      "2344/2344 [==============================] - 9s 4ms/step - loss: 0.0047 - accuracy: 0.9990\n",
      "Epoch 84/100\n",
      "2344/2344 [==============================] - 9s 4ms/step - loss: 0.0047 - accuracy: 0.9990\n",
      "Epoch 85/100\n",
      "2344/2344 [==============================] - 9s 4ms/step - loss: 0.0047 - accuracy: 0.9990\n",
      "Epoch 86/100\n",
      "2344/2344 [==============================] - 9s 4ms/step - loss: 0.0046 - accuracy: 0.9990\n",
      "Epoch 87/100\n",
      "2344/2344 [==============================] - 10s 4ms/step - loss: 0.0046 - accuracy: 0.9990\n",
      "Epoch 88/100\n",
      "2344/2344 [==============================] - 9s 4ms/step - loss: 0.0047 - accuracy: 0.9990\n",
      "Epoch 89/100\n",
      "2344/2344 [==============================] - 10s 4ms/step - loss: 0.0047 - accuracy: 0.9990\n",
      "Epoch 90/100\n",
      "2344/2344 [==============================] - 9s 4ms/step - loss: 0.0047 - accuracy: 0.9990\n",
      "Epoch 91/100\n",
      "2344/2344 [==============================] - 10s 4ms/step - loss: 0.0047 - accuracy: 0.9990\n",
      "Epoch 92/100\n",
      "2344/2344 [==============================] - 9s 4ms/step - loss: 0.0047 - accuracy: 0.9990\n",
      "Epoch 93/100\n",
      "2344/2344 [==============================] - 9s 4ms/step - loss: 0.0047 - accuracy: 0.9990\n",
      "Epoch 94/100\n",
      "2344/2344 [==============================] - 9s 4ms/step - loss: 0.0047 - accuracy: 0.9990\n",
      "Epoch 95/100\n",
      "2344/2344 [==============================] - 9s 4ms/step - loss: 0.0045 - accuracy: 0.9990\n",
      "Epoch 96/100\n",
      "2344/2344 [==============================] - 9s 4ms/step - loss: 0.0047 - accuracy: 0.9990\n",
      "Epoch 97/100\n",
      "2344/2344 [==============================] - 8s 4ms/step - loss: 0.0046 - accuracy: 0.9990\n",
      "Epoch 98/100\n",
      "2344/2344 [==============================] - 9s 4ms/step - loss: 0.0046 - accuracy: 0.9990\n",
      "Epoch 99/100\n",
      "2344/2344 [==============================] - 9s 4ms/step - loss: 0.0049 - accuracy: 0.9990\n",
      "Epoch 100/100\n",
      "2344/2344 [==============================] - 9s 4ms/step - loss: 0.0046 - accuracy: 0.9990\n"
     ]
    }
   ],
   "source": [
    "# Fit the model using 100 epochs and the training data\n",
    "model = nn.fit(X_train_scaled, y_train, epochs=100)\n"
   ]
  },
  {
   "cell_type": "markdown",
   "metadata": {},
   "source": [
    "### Step 5: Evaluate the model using testing data and the `evaluate` method."
   ]
  },
  {
   "cell_type": "code",
   "execution_count": 27,
   "metadata": {},
   "outputs": [
    {
     "name": "stdout",
     "output_type": "stream",
     "text": [
      "782/782 - 3s - loss: 0.0054 - accuracy: 0.9988 - 3s/epoch - 4ms/step\n",
      "Loss: 0.005382806994020939, Accuracy: 0.9988399744033813\n"
     ]
    }
   ],
   "source": [
    "# Evaluate the model loss and accuracy metrics using the evaluate method and the test data\n",
    "model_loss, model_accuracy = nn.evaluate(X_test_scaled, y_test, verbose=2)\n",
    "\n",
    "# Display the evaluation results\n",
    "print(f\"Loss: {model_loss}, Accuracy: {model_accuracy}\")"
   ]
  },
  {
   "cell_type": "code",
   "execution_count": 28,
   "metadata": {},
   "outputs": [
    {
     "data": {
      "text/plain": [
       "<AxesSubplot:>"
      ]
     },
     "execution_count": 28,
     "metadata": {},
     "output_type": "execute_result"
    },
    {
     "data": {
      "image/png": "[encoded data removed]",
      "text/plain": [
       "<Figure size 1080x360 with 1 Axes>"
      ]
     },
     "metadata": {
      "needs_background": "light"
     },
     "output_type": "display_data"
    }
   ],
   "source": [
    "model_df = pd.DataFrame(model.history, index=range(1, len(model.history[\"loss\"]) + 1))\n",
    "model_df.plot(y = 'loss', figsize = (15,5))"
   ]
  },
  {
   "cell_type": "code",
   "execution_count": 29,
   "metadata": {},
   "outputs": [
    {
     "data": {
      "text/plain": [
       "<AxesSubplot:>"
      ]
     },
     "execution_count": 29,
     "metadata": {},
     "output_type": "execute_result"
    },
    {
     "data": {
      "image/png": "[encoded data removed]",
      "text/plain": [
       "<Figure size 1080x360 with 1 Axes>"
      ]
     },
     "metadata": {
      "needs_background": "light"
     },
     "output_type": "display_data"
    }
   ],
   "source": [
    "model_df = pd.DataFrame(model.history, index=range(1, len(model.history[\"accuracy\"]) + 1))\n",
    "model_df.plot(y = 'accuracy', figsize = (15,5))"
   ]
  }
 ],
 "metadata": {
  "kernelspec": {
   "display_name": "Python 3.7.13 ('dev')",
   "language": "python",
   "name": "python3"
  },
  "language_info": {
   "codemirror_mode": {
    "name": "ipython",
    "version": 3
   },
   "file_extension": ".py",
   "mimetype": "text/x-python",
   "name": "python",
   "nbconvert_exporter": "python",
   "pygments_lexer": "ipython3",
   "version": "3.7.13"
  },
  "vscode": {
   "interpreter": {
    "hash": "6a7ae136a53a24601e63a177d18d4029f938b6714f24b844ae865dcffb9f6766"
   }
  }
 },
 "nbformat": 4,
 "nbformat_minor": 4
}
