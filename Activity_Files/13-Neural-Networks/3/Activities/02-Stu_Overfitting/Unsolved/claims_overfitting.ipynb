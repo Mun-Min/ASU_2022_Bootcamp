{
 "cells": [
  {
   "cell_type": "markdown",
   "id": "e8790310",
   "metadata": {},
   "source": [
    "# Insurtech: Categorical Risk\n",
    "\n",
    "## Background\n",
    "\n",
    "The insurance business revolves around quantifying risk: the insurer invests insurance premiums in financial markets, and makes payouts in the form of insurance claims. Both investments and claims payouts require models in order to quantify and predict risk, or the level of potential financial loss. \n",
    "\n",
    "This dataset contains historical claims payouts for a number of different medical insurance buyers, along with their characteristics (\"age\", \"smoker\", and so forth). Can you build a deep neural network that uses people's characteristics to quantify the potential level of dollar claims, and can you model be made robust to overfitting? \n",
    "\n",
    "## Instructions\n",
    "\n",
    "### Preparing the Data\n",
    "1) Read in the data.\n",
    "\n",
    "2) Use `pd.qcut` to split the dependent variable, `charges`, into 5 categorical buckets. Save this result to a `charges_quantile` column.\n",
    "\n",
    "3) Use `LabelEncoder` and `to_categorical` to set this column as your `y` variable. \n",
    "\n",
    "4) Set the remaining data as your `X` data.\n",
    "\n",
    "5) Split the data into training and test windows using `train_test_split`.\n",
    "\n",
    "### Fitting the Model\n",
    "\n",
    "1) Fit and evaluate the model, including at least one dropout layer, and one layer with regularization. Include a validation set as part of fitting the model.\n",
    "\n",
    "2) Plot performance on the training and validation set across epochs. \n",
    "\n",
    "3) Finally, re-fit the new model, adjusting the amount of epochs for training so as to avoid overfitting as much as possible."
   ]
  },
  {
   "cell_type": "code",
   "execution_count": 1,
   "id": "038c919a",
   "metadata": {},
   "outputs": [],
   "source": [
    "import pandas as pd\n",
    "import numpy as np"
   ]
  },
  {
   "cell_type": "code",
   "execution_count": 2,
   "id": "292c574b",
   "metadata": {},
   "outputs": [],
   "source": [
    "from keras.models import Sequential\n",
    "from keras.layers import Dense, Activation\n",
    "\n",
    "# This code is neccessary to produce the same results every time\n",
    "import tensorflow as tf\n",
    "tf.keras.utils.set_random_seed(1)"
   ]
  },
  {
   "cell_type": "code",
   "execution_count": 3,
   "id": "322048df",
   "metadata": {},
   "outputs": [],
   "source": [
    "# Read in the data\n",
    "df = pd.read_csv('../Resources/insurance_claims.csv')"
   ]
  },
  {
   "cell_type": "code",
   "execution_count": 4,
   "id": "6445c810",
   "metadata": {},
   "outputs": [
    {
     "data": {
      "text/html": [
       "<div>\n",
       "<style scoped>\n",
       "    .dataframe tbody tr th:only-of-type {\n",
       "        vertical-align: middle;\n",
       "    }\n",
       "\n",
       "    .dataframe tbody tr th {\n",
       "        vertical-align: top;\n",
       "    }\n",
       "\n",
       "    .dataframe thead th {\n",
       "        text-align: right;\n",
       "    }\n",
       "</style>\n",
       "<table border=\"1\" class=\"dataframe\">\n",
       "  <thead>\n",
       "    <tr style=\"text-align: right;\">\n",
       "      <th></th>\n",
       "      <th>age</th>\n",
       "      <th>bmi</th>\n",
       "      <th>children</th>\n",
       "      <th>smoker</th>\n",
       "      <th>charges</th>\n",
       "    </tr>\n",
       "  </thead>\n",
       "  <tbody>\n",
       "    <tr>\n",
       "      <th>0</th>\n",
       "      <td>19</td>\n",
       "      <td>27.900</td>\n",
       "      <td>0</td>\n",
       "      <td>1</td>\n",
       "      <td>16884.92400</td>\n",
       "    </tr>\n",
       "    <tr>\n",
       "      <th>1</th>\n",
       "      <td>18</td>\n",
       "      <td>33.770</td>\n",
       "      <td>1</td>\n",
       "      <td>0</td>\n",
       "      <td>1725.55230</td>\n",
       "    </tr>\n",
       "    <tr>\n",
       "      <th>2</th>\n",
       "      <td>28</td>\n",
       "      <td>33.000</td>\n",
       "      <td>3</td>\n",
       "      <td>0</td>\n",
       "      <td>4449.46200</td>\n",
       "    </tr>\n",
       "    <tr>\n",
       "      <th>3</th>\n",
       "      <td>33</td>\n",
       "      <td>22.705</td>\n",
       "      <td>0</td>\n",
       "      <td>0</td>\n",
       "      <td>21984.47061</td>\n",
       "    </tr>\n",
       "    <tr>\n",
       "      <th>4</th>\n",
       "      <td>32</td>\n",
       "      <td>28.880</td>\n",
       "      <td>0</td>\n",
       "      <td>0</td>\n",
       "      <td>3866.85520</td>\n",
       "    </tr>\n",
       "  </tbody>\n",
       "</table>\n",
       "</div>"
      ],
      "text/plain": [
       "   age     bmi  children  smoker      charges\n",
       "0   19  27.900         0       1  16884.92400\n",
       "1   18  33.770         1       0   1725.55230\n",
       "2   28  33.000         3       0   4449.46200\n",
       "3   33  22.705         0       0  21984.47061\n",
       "4   32  28.880         0       0   3866.85520"
      ]
     },
     "execution_count": 4,
     "metadata": {},
     "output_type": "execute_result"
    }
   ],
   "source": [
    "df.head()"
   ]
  },
  {
   "cell_type": "code",
   "execution_count": 5,
   "id": "f5765905",
   "metadata": {},
   "outputs": [
    {
     "data": {
      "text/plain": [
       "1    268\n",
       "5    268\n",
       "3    268\n",
       "4    267\n",
       "2    267\n",
       "Name: charges_quantile, dtype: int64"
      ]
     },
     "execution_count": 5,
     "metadata": {},
     "output_type": "execute_result"
    }
   ],
   "source": [
    "# Use qcut to group claims data (\"charges\") into 5 buckets\n",
    "df['charges_quantile'] = (pd.qcut(df['charges'], q=5, labels=False))+1\n",
    "\n",
    "# Verify buckets are approximately balanced \n",
    "df['charges_quantile'].value_counts()"
   ]
  },
  {
   "cell_type": "code",
   "execution_count": 6,
   "id": "e029a4ce",
   "metadata": {},
   "outputs": [],
   "source": [
    "# Save bucket (\"quantile\") value as the new  `y` variable\n",
    "y_quantile = df['charges_quantile']"
   ]
  },
  {
   "cell_type": "code",
   "execution_count": 7,
   "id": "56854242",
   "metadata": {},
   "outputs": [],
   "source": [
    "# Save the unique count of categories for later use\n",
    "number_of_classes = len(y_quantile.unique())"
   ]
  },
  {
   "cell_type": "code",
   "execution_count": 8,
   "id": "b225898d",
   "metadata": {},
   "outputs": [
    {
     "data": {
      "text/plain": [
       "array([3, 0, 1, ..., 0, 0, 4], dtype=int64)"
      ]
     },
     "execution_count": 8,
     "metadata": {},
     "output_type": "execute_result"
    }
   ],
   "source": [
    "# Encode quantiles into labels\n",
    "from sklearn.preprocessing import LabelEncoder\n",
    "encoder = LabelEncoder()\n",
    "encoder.fit(y_quantile)\n",
    "encoded_y = encoder.transform(y_quantile)\n",
    "encoded_y"
   ]
  },
  {
   "cell_type": "code",
   "execution_count": 9,
   "id": "fa4a563f",
   "metadata": {},
   "outputs": [],
   "source": [
    "# Encode labels into categories\n",
    "from keras.utils.np_utils import to_categorical\n",
    "y_categorical = to_categorical(encoded_y, num_classes=number_of_classes)"
   ]
  },
  {
   "cell_type": "code",
   "execution_count": 10,
   "id": "f1219ca4",
   "metadata": {},
   "outputs": [
    {
     "data": {
      "text/html": [
       "<div>\n",
       "<style scoped>\n",
       "    .dataframe tbody tr th:only-of-type {\n",
       "        vertical-align: middle;\n",
       "    }\n",
       "\n",
       "    .dataframe tbody tr th {\n",
       "        vertical-align: top;\n",
       "    }\n",
       "\n",
       "    .dataframe thead th {\n",
       "        text-align: right;\n",
       "    }\n",
       "</style>\n",
       "<table border=\"1\" class=\"dataframe\">\n",
       "  <thead>\n",
       "    <tr style=\"text-align: right;\">\n",
       "      <th></th>\n",
       "      <th>age</th>\n",
       "      <th>bmi</th>\n",
       "      <th>children</th>\n",
       "      <th>smoker</th>\n",
       "    </tr>\n",
       "  </thead>\n",
       "  <tbody>\n",
       "    <tr>\n",
       "      <th>0</th>\n",
       "      <td>19</td>\n",
       "      <td>27.90</td>\n",
       "      <td>0</td>\n",
       "      <td>1</td>\n",
       "    </tr>\n",
       "    <tr>\n",
       "      <th>1</th>\n",
       "      <td>18</td>\n",
       "      <td>33.77</td>\n",
       "      <td>1</td>\n",
       "      <td>0</td>\n",
       "    </tr>\n",
       "    <tr>\n",
       "      <th>2</th>\n",
       "      <td>28</td>\n",
       "      <td>33.00</td>\n",
       "      <td>3</td>\n",
       "      <td>0</td>\n",
       "    </tr>\n",
       "  </tbody>\n",
       "</table>\n",
       "</div>"
      ],
      "text/plain": [
       "   age    bmi  children  smoker\n",
       "0   19  27.90         0       1\n",
       "1   18  33.77         1       0\n",
       "2   28  33.00         3       0"
      ]
     },
     "execution_count": 10,
     "metadata": {},
     "output_type": "execute_result"
    }
   ],
   "source": [
    "# Specify X (predictor) variables\n",
    "X = df[['age', 'bmi', 'children', 'smoker']]\n",
    "\n",
    "X.head(3)"
   ]
  },
  {
   "cell_type": "code",
   "execution_count": 11,
   "id": "09f6d2b3",
   "metadata": {},
   "outputs": [],
   "source": [
    "# Split into training and testing windows\n",
    "from sklearn.model_selection import train_test_split\n",
    "X_train, X_test, y_train, y_test = train_test_split(X, y_categorical, random_state=1)"
   ]
  },
  {
   "cell_type": "code",
   "execution_count": 12,
   "id": "047e581e",
   "metadata": {},
   "outputs": [
    {
     "data": {
      "text/plain": [
       "array([[1., 0., 0., 0., 0.],\n",
       "       [1., 0., 0., 0., 0.],\n",
       "       [0., 1., 0., 0., 0.],\n",
       "       ...,\n",
       "       [0., 0., 0., 0., 1.],\n",
       "       [0., 0., 0., 1., 0.],\n",
       "       [0., 0., 0., 1., 0.]], dtype=float32)"
      ]
     },
     "execution_count": 12,
     "metadata": {},
     "output_type": "execute_result"
    }
   ],
   "source": [
    "# Preview the `y_train` values\n",
    "y_train"
   ]
  },
  {
   "cell_type": "code",
   "execution_count": 13,
   "id": "d8a8314d",
   "metadata": {},
   "outputs": [
    {
     "data": {
      "text/plain": [
       "4"
      ]
     },
     "execution_count": 13,
     "metadata": {},
     "output_type": "execute_result"
    }
   ],
   "source": [
    "# Save the count of unique predictor variables for use in model\n",
    "number_of_predictors = len(X.columns)\n",
    "len(X.columns)"
   ]
  },
  {
   "cell_type": "markdown",
   "id": "a1c124ca",
   "metadata": {},
   "source": [
    "### Build the Model\n",
    "\n"
   ]
  },
  {
   "cell_type": "code",
   "execution_count": 14,
   "id": "88fff3da",
   "metadata": {},
   "outputs": [],
   "source": [
    "# Import the `Dropout` layer\n",
    "from keras.layers import Dropout\n",
    "# Import regularization functions\n",
    "from keras.regularizers import l1, l2"
   ]
  },
  {
   "cell_type": "code",
   "execution_count": 15,
   "id": "d3f0702b",
   "metadata": {},
   "outputs": [],
   "source": [
    "# Build the Model\n",
    "model = Sequential()\n",
    "\n",
    "# Add a dense layer (as before)\n",
    "model.add(Dense(10, input_dim=number_of_predictors, activation='relu'))\n",
    "\n",
    "# Now add a dropout layer\n",
    "model.add(Dropout(.2,input_shape=(10,)))\n",
    "\n",
    "# Add regularization to another dense layer\n",
    "model.add(Dense(5, activation='relu', kernel_regularizer=l2(0.01), bias_regularizer=l2(0.01)))"
   ]
  },
  {
   "cell_type": "code",
   "execution_count": 16,
   "id": "2e188acc",
   "metadata": {},
   "outputs": [],
   "source": [
    "# Add the final output layer\n",
    "# (Hint: Set the # of possible outputs equal to the number classes)\n",
    "model.add(Dense(number_of_classes, activation='softmax'))"
   ]
  },
  {
   "cell_type": "code",
   "execution_count": 17,
   "id": "234f97d9",
   "metadata": {},
   "outputs": [],
   "source": [
    "# Compile the model\n",
    "model.compile(loss=\"categorical_crossentropy\", \n",
    "              optimizer= \"adam\", \n",
    "              metrics=['categorical_accuracy'])"
   ]
  },
  {
   "cell_type": "code",
   "execution_count": 18,
   "id": "fb552948",
   "metadata": {},
   "outputs": [
    {
     "name": "stdout",
     "output_type": "stream",
     "text": [
      "Model: \"sequential\"\n",
      "_________________________________________________________________\n",
      " Layer (type)                Output Shape              Param #   \n",
      "=================================================================\n",
      " dense (Dense)               (None, 10)                50        \n",
      "                                                                 \n",
      " dropout (Dropout)           (None, 10)                0         \n",
      "                                                                 \n",
      " dense_1 (Dense)             (None, 5)                 55        \n",
      "                                                                 \n",
      " dense_2 (Dense)             (None, 5)                 30        \n",
      "                                                                 \n",
      "=================================================================\n",
      "Total params: 135\n",
      "Trainable params: 135\n",
      "Non-trainable params: 0\n",
      "_________________________________________________________________\n"
     ]
    }
   ],
   "source": [
    "# Summarise the model\n",
    "model.summary()"
   ]
  },
  {
   "cell_type": "code",
   "execution_count": 19,
   "id": "0cd4bbee",
   "metadata": {},
   "outputs": [
    {
     "name": "stdout",
     "output_type": "stream",
     "text": [
      "Epoch 1/50\n",
      "1/1 [==============================] - 3s 3s/step - loss: 15.9608 - categorical_accuracy: 0.2107 - val_loss: 15.3424 - val_categorical_accuracy: 0.2338\n",
      "Epoch 2/50\n",
      "1/1 [==============================] - 0s 84ms/step - loss: 15.6324 - categorical_accuracy: 0.2057 - val_loss: 15.1362 - val_categorical_accuracy: 0.2338\n",
      "Epoch 3/50\n",
      "1/1 [==============================] - 0s 88ms/step - loss: 15.3288 - categorical_accuracy: 0.2070 - val_loss: 14.9303 - val_categorical_accuracy: 0.2338\n",
      "Epoch 4/50\n",
      "1/1 [==============================] - 0s 80ms/step - loss: 15.1566 - categorical_accuracy: 0.2132 - val_loss: 14.7248 - val_categorical_accuracy: 0.2338\n",
      "Epoch 5/50\n",
      "1/1 [==============================] - 0s 95ms/step - loss: 15.0964 - categorical_accuracy: 0.2007 - val_loss: 14.5194 - val_categorical_accuracy: 0.2338\n",
      "Epoch 6/50\n",
      "1/1 [==============================] - 0s 69ms/step - loss: 14.4870 - categorical_accuracy: 0.2032 - val_loss: 14.3146 - val_categorical_accuracy: 0.2338\n",
      "Epoch 7/50\n",
      "1/1 [==============================] - 0s 97ms/step - loss: 14.7919 - categorical_accuracy: 0.2132 - val_loss: 14.1107 - val_categorical_accuracy: 0.2338\n",
      "Epoch 8/50\n",
      "1/1 [==============================] - 0s 97ms/step - loss: 14.7666 - categorical_accuracy: 0.2132 - val_loss: 13.9075 - val_categorical_accuracy: 0.2338\n",
      "Epoch 9/50\n",
      "1/1 [==============================] - 0s 88ms/step - loss: 13.9797 - categorical_accuracy: 0.2020 - val_loss: 13.7046 - val_categorical_accuracy: 0.2338\n",
      "Epoch 10/50\n",
      "1/1 [==============================] - 0s 92ms/step - loss: 14.1834 - categorical_accuracy: 0.2045 - val_loss: 13.5022 - val_categorical_accuracy: 0.2338\n",
      "Epoch 11/50\n",
      "1/1 [==============================] - 0s 99ms/step - loss: 13.7602 - categorical_accuracy: 0.2157 - val_loss: 13.3002 - val_categorical_accuracy: 0.2338\n",
      "Epoch 12/50\n",
      "1/1 [==============================] - 0s 81ms/step - loss: 13.5741 - categorical_accuracy: 0.2007 - val_loss: 13.0978 - val_categorical_accuracy: 0.2338\n",
      "Epoch 13/50\n",
      "1/1 [==============================] - 0s 98ms/step - loss: 13.4405 - categorical_accuracy: 0.2170 - val_loss: 12.8953 - val_categorical_accuracy: 0.2338\n",
      "Epoch 14/50\n",
      "1/1 [==============================] - 0s 76ms/step - loss: 13.3717 - categorical_accuracy: 0.2120 - val_loss: 12.6928 - val_categorical_accuracy: 0.2338\n",
      "Epoch 15/50\n",
      "1/1 [==============================] - 0s 89ms/step - loss: 13.1669 - categorical_accuracy: 0.2032 - val_loss: 12.4895 - val_categorical_accuracy: 0.2338\n",
      "Epoch 16/50\n",
      "1/1 [==============================] - 0s 112ms/step - loss: 13.2843 - categorical_accuracy: 0.2045 - val_loss: 12.2865 - val_categorical_accuracy: 0.2338\n",
      "Epoch 17/50\n",
      "1/1 [==============================] - 0s 99ms/step - loss: 12.7656 - categorical_accuracy: 0.1908 - val_loss: 12.0844 - val_categorical_accuracy: 0.2338\n",
      "Epoch 18/50\n",
      "1/1 [==============================] - 0s 108ms/step - loss: 12.4706 - categorical_accuracy: 0.2120 - val_loss: 11.8836 - val_categorical_accuracy: 0.2338\n",
      "Epoch 19/50\n",
      "1/1 [==============================] - 0s 68ms/step - loss: 12.5284 - categorical_accuracy: 0.1970 - val_loss: 11.6837 - val_categorical_accuracy: 0.2338\n",
      "Epoch 20/50\n",
      "1/1 [==============================] - 0s 127ms/step - loss: 12.4965 - categorical_accuracy: 0.1845 - val_loss: 11.4839 - val_categorical_accuracy: 0.2338\n",
      "Epoch 21/50\n",
      "1/1 [==============================] - 0s 133ms/step - loss: 12.0488 - categorical_accuracy: 0.1908 - val_loss: 11.2840 - val_categorical_accuracy: 0.2338\n",
      "Epoch 22/50\n",
      "1/1 [==============================] - 0s 139ms/step - loss: 11.5254 - categorical_accuracy: 0.1858 - val_loss: 11.0851 - val_categorical_accuracy: 0.2338\n",
      "Epoch 23/50\n",
      "1/1 [==============================] - 0s 139ms/step - loss: 11.9249 - categorical_accuracy: 0.1858 - val_loss: 10.8864 - val_categorical_accuracy: 0.2338\n",
      "Epoch 24/50\n",
      "1/1 [==============================] - 0s 127ms/step - loss: 11.6644 - categorical_accuracy: 0.1920 - val_loss: 10.6883 - val_categorical_accuracy: 0.2338\n",
      "Epoch 25/50\n",
      "1/1 [==============================] - 0s 182ms/step - loss: 11.2182 - categorical_accuracy: 0.2045 - val_loss: 10.4904 - val_categorical_accuracy: 0.2338\n",
      "Epoch 26/50\n",
      "1/1 [==============================] - 0s 138ms/step - loss: 10.9297 - categorical_accuracy: 0.1808 - val_loss: 10.2931 - val_categorical_accuracy: 0.2338\n",
      "Epoch 27/50\n",
      "1/1 [==============================] - 0s 121ms/step - loss: 10.9351 - categorical_accuracy: 0.2057 - val_loss: 10.0957 - val_categorical_accuracy: 0.2338\n",
      "Epoch 28/50\n",
      "1/1 [==============================] - 0s 137ms/step - loss: 10.7380 - categorical_accuracy: 0.2082 - val_loss: 9.8990 - val_categorical_accuracy: 0.2338\n",
      "Epoch 29/50\n",
      "1/1 [==============================] - 0s 127ms/step - loss: 10.4751 - categorical_accuracy: 0.2007 - val_loss: 9.7029 - val_categorical_accuracy: 0.2338\n",
      "Epoch 30/50\n",
      "1/1 [==============================] - 0s 126ms/step - loss: 10.5173 - categorical_accuracy: 0.1895 - val_loss: 9.5079 - val_categorical_accuracy: 0.2338\n",
      "Epoch 31/50\n",
      "1/1 [==============================] - 0s 129ms/step - loss: 10.4164 - categorical_accuracy: 0.1758 - val_loss: 9.3129 - val_categorical_accuracy: 0.2338\n",
      "Epoch 32/50\n",
      "1/1 [==============================] - 0s 73ms/step - loss: 10.3238 - categorical_accuracy: 0.1870 - val_loss: 9.1186 - val_categorical_accuracy: 0.2338\n",
      "Epoch 33/50\n",
      "1/1 [==============================] - 0s 68ms/step - loss: 10.0641 - categorical_accuracy: 0.1683 - val_loss: 8.9248 - val_categorical_accuracy: 0.2338\n",
      "Epoch 34/50\n",
      "1/1 [==============================] - 0s 65ms/step - loss: 9.7947 - categorical_accuracy: 0.1983 - val_loss: 8.7300 - val_categorical_accuracy: 0.2338\n",
      "Epoch 35/50\n",
      "1/1 [==============================] - 0s 65ms/step - loss: 9.7630 - categorical_accuracy: 0.1883 - val_loss: 8.5366 - val_categorical_accuracy: 0.2338\n",
      "Epoch 36/50\n",
      "1/1 [==============================] - 0s 69ms/step - loss: 9.4302 - categorical_accuracy: 0.1920 - val_loss: 8.3450 - val_categorical_accuracy: 0.2338\n",
      "Epoch 37/50\n",
      "1/1 [==============================] - 0s 87ms/step - loss: 9.4575 - categorical_accuracy: 0.1671 - val_loss: 8.1535 - val_categorical_accuracy: 0.2338\n",
      "Epoch 38/50\n",
      "1/1 [==============================] - 0s 81ms/step - loss: 9.3286 - categorical_accuracy: 0.2020 - val_loss: 7.9623 - val_categorical_accuracy: 0.2338\n",
      "Epoch 39/50\n",
      "1/1 [==============================] - 0s 72ms/step - loss: 8.9081 - categorical_accuracy: 0.1758 - val_loss: 7.7719 - val_categorical_accuracy: 0.2338\n",
      "Epoch 40/50\n",
      "1/1 [==============================] - 0s 73ms/step - loss: 9.1246 - categorical_accuracy: 0.1820 - val_loss: 7.5833 - val_categorical_accuracy: 0.2338\n",
      "Epoch 41/50\n",
      "1/1 [==============================] - 0s 87ms/step - loss: 8.6159 - categorical_accuracy: 0.1895 - val_loss: 7.3964 - val_categorical_accuracy: 0.2338\n",
      "Epoch 42/50\n",
      "1/1 [==============================] - 0s 75ms/step - loss: 8.4580 - categorical_accuracy: 0.2195 - val_loss: 7.2106 - val_categorical_accuracy: 0.2338\n",
      "Epoch 43/50\n",
      "1/1 [==============================] - 0s 72ms/step - loss: 8.3667 - categorical_accuracy: 0.1933 - val_loss: 7.0252 - val_categorical_accuracy: 0.2338\n",
      "Epoch 44/50\n",
      "1/1 [==============================] - 0s 72ms/step - loss: 8.2761 - categorical_accuracy: 0.1833 - val_loss: 6.8411 - val_categorical_accuracy: 0.2338\n",
      "Epoch 45/50\n",
      "1/1 [==============================] - 0s 74ms/step - loss: 8.2139 - categorical_accuracy: 0.1783 - val_loss: 6.6579 - val_categorical_accuracy: 0.2338\n",
      "Epoch 46/50\n",
      "1/1 [==============================] - 0s 88ms/step - loss: 7.8838 - categorical_accuracy: 0.1958 - val_loss: 6.4771 - val_categorical_accuracy: 0.2338\n",
      "Epoch 47/50\n",
      "1/1 [==============================] - 0s 88ms/step - loss: 8.1362 - categorical_accuracy: 0.1796 - val_loss: 6.2999 - val_categorical_accuracy: 0.2338\n",
      "Epoch 48/50\n",
      "1/1 [==============================] - 0s 94ms/step - loss: 7.8598 - categorical_accuracy: 0.1958 - val_loss: 6.1270 - val_categorical_accuracy: 0.2338\n",
      "Epoch 49/50\n",
      "1/1 [==============================] - 0s 64ms/step - loss: 7.5521 - categorical_accuracy: 0.1845 - val_loss: 5.9575 - val_categorical_accuracy: 0.2338\n",
      "Epoch 50/50\n",
      "1/1 [==============================] - 0s 73ms/step - loss: 7.7119 - categorical_accuracy: 0.1970 - val_loss: 5.7926 - val_categorical_accuracy: 0.2488\n"
     ]
    },
    {
     "data": {
      "text/plain": [
       "<keras.callbacks.History at 0x14d97529808>"
      ]
     },
     "execution_count": 19,
     "metadata": {},
     "output_type": "execute_result"
    }
   ],
   "source": [
    "# Add in validation loss to select the number of epochs\n",
    "# Fit the model\n",
    "number_of_epochs = 50\n",
    "model.fit(X_train,y_train, \n",
    "                    epochs=number_of_epochs,\n",
    "                    batch_size=1000,\n",
    "                      validation_split=0.2,\n",
    "                    shuffle=True)"
   ]
  },
  {
   "cell_type": "code",
   "execution_count": 20,
   "id": "53b0063a",
   "metadata": {},
   "outputs": [
    {
     "data": {
      "text/plain": [
       "dict_keys(['loss', 'categorical_accuracy', 'val_loss', 'val_categorical_accuracy'])"
      ]
     },
     "execution_count": 20,
     "metadata": {},
     "output_type": "execute_result"
    }
   ],
   "source": [
    "# Save model history across epochs\n",
    "model_history = model.history.history\n",
    "model_history.keys()"
   ]
  },
  {
   "cell_type": "code",
   "execution_count": 21,
   "id": "2124d070",
   "metadata": {},
   "outputs": [
    {
     "data": {
      "text/plain": [
       "[0.21072319149971008,\n",
       " 0.20573565363883972,\n",
       " 0.2069825381040573,\n",
       " 0.21321696043014526,\n",
       " 0.20074813067913055,\n",
       " 0.20324189960956573,\n",
       " 0.21321696043014526,\n",
       " 0.21321696043014526,\n",
       " 0.20199501514434814,\n",
       " 0.20448878407478333,\n",
       " 0.21571072936058044,\n",
       " 0.20074813067913055,\n",
       " 0.21695759892463684,\n",
       " 0.21197007596492767,\n",
       " 0.20324189960956573,\n",
       " 0.20448878407478333,\n",
       " 0.19077306985855103,\n",
       " 0.21197007596492767,\n",
       " 0.19700747728347778,\n",
       " 0.18453864753246307,\n",
       " 0.19077306985855103,\n",
       " 0.18578553199768066,\n",
       " 0.18578553199768066,\n",
       " 0.19201995432376862,\n",
       " 0.20448878407478333,\n",
       " 0.1807980090379715,\n",
       " 0.20573565363883972,\n",
       " 0.2082294225692749,\n",
       " 0.20074813067913055,\n",
       " 0.18952618539333344,\n",
       " 0.17581047117710114,\n",
       " 0.18703241646289825,\n",
       " 0.1683291792869568,\n",
       " 0.19825436174869537,\n",
       " 0.18827930092811584,\n",
       " 0.19201995432376862,\n",
       " 0.1670822948217392,\n",
       " 0.20199501514434814,\n",
       " 0.17581047117710114,\n",
       " 0.1820448935031891,\n",
       " 0.18952618539333344,\n",
       " 0.21945136785507202,\n",
       " 0.1932668387889862,\n",
       " 0.18329177796840668,\n",
       " 0.17830424010753632,\n",
       " 0.1957605928182602,\n",
       " 0.1795511245727539,\n",
       " 0.1957605928182602,\n",
       " 0.18453864753246307,\n",
       " 0.19700747728347778]"
      ]
     },
     "execution_count": 21,
     "metadata": {},
     "output_type": "execute_result"
    }
   ],
   "source": [
    "# View `categorical_accuracy` for the training dataset\n",
    "model_history['categorical_accuracy']"
   ]
  },
  {
   "cell_type": "code",
   "execution_count": 22,
   "id": "3ef4fda4",
   "metadata": {},
   "outputs": [
    {
     "data": {
      "text/plain": [
       "<AxesSubplot:title={'center':'Performance Across Training and Validation'}>"
      ]
     },
     "execution_count": 22,
     "metadata": {},
     "output_type": "execute_result"
    },
    {
     "data": {
      "image/png": "[encoded data removed]",
      "text/plain": [
       "<Figure size 432x288 with 1 Axes>"
      ]
     },
     "metadata": {
      "needs_background": "light"
     },
     "output_type": "display_data"
    }
   ],
   "source": [
    "# Save accuracy for training and validation set across epochs into a DataFrame and Plot\n",
    "training_results = pd.DataFrame(index=range(1,number_of_epochs+1))\n",
    "training_results['Training'] = model_history['categorical_accuracy']\n",
    "training_results['Validation'] = model_history['val_categorical_accuracy']\n",
    "training_results.plot(title = 'Performance Across Training and Validation')"
   ]
  },
  {
   "cell_type": "code",
   "execution_count": 23,
   "id": "e1dc8737",
   "metadata": {},
   "outputs": [
    {
     "name": "stdout",
     "output_type": "stream",
     "text": [
      "Epoch 1/20\n",
      "1/1 [==============================] - 0s 213ms/step - loss: 7.1529 - categorical_accuracy: 0.2207 - val_loss: 5.6333 - val_categorical_accuracy: 0.2488\n",
      "Epoch 2/20\n",
      "1/1 [==============================] - 0s 84ms/step - loss: 7.1811 - categorical_accuracy: 0.2032 - val_loss: 5.4804 - val_categorical_accuracy: 0.2488\n",
      "Epoch 3/20\n",
      "1/1 [==============================] - 0s 104ms/step - loss: 7.0417 - categorical_accuracy: 0.2170 - val_loss: 5.3362 - val_categorical_accuracy: 0.2488\n",
      "Epoch 4/20\n",
      "1/1 [==============================] - 0s 90ms/step - loss: 6.7469 - categorical_accuracy: 0.2120 - val_loss: 5.2002 - val_categorical_accuracy: 0.2537\n",
      "Epoch 5/20\n",
      "1/1 [==============================] - 0s 100ms/step - loss: 6.6670 - categorical_accuracy: 0.2145 - val_loss: 5.0714 - val_categorical_accuracy: 0.2587\n",
      "Epoch 6/20\n",
      "1/1 [==============================] - 0s 90ms/step - loss: 6.6016 - categorical_accuracy: 0.2120 - val_loss: 4.9494 - val_categorical_accuracy: 0.2736\n",
      "Epoch 7/20\n",
      "1/1 [==============================] - 0s 87ms/step - loss: 6.4191 - categorical_accuracy: 0.2145 - val_loss: 4.8350 - val_categorical_accuracy: 0.2786\n",
      "Epoch 8/20\n",
      "1/1 [==============================] - 0s 104ms/step - loss: 6.6405 - categorical_accuracy: 0.1870 - val_loss: 4.7277 - val_categorical_accuracy: 0.2786\n",
      "Epoch 9/20\n",
      "1/1 [==============================] - 0s 146ms/step - loss: 6.3631 - categorical_accuracy: 0.2182 - val_loss: 4.6270 - val_categorical_accuracy: 0.2886\n",
      "Epoch 10/20\n",
      "1/1 [==============================] - 0s 127ms/step - loss: 6.2556 - categorical_accuracy: 0.2294 - val_loss: 4.5329 - val_categorical_accuracy: 0.2985\n",
      "Epoch 11/20\n",
      "1/1 [==============================] - 0s 140ms/step - loss: 6.1976 - categorical_accuracy: 0.2344 - val_loss: 4.4445 - val_categorical_accuracy: 0.3234\n",
      "Epoch 12/20\n",
      "1/1 [==============================] - 0s 102ms/step - loss: 6.2480 - categorical_accuracy: 0.2257 - val_loss: 4.3613 - val_categorical_accuracy: 0.3383\n",
      "Epoch 13/20\n",
      "1/1 [==============================] - 0s 79ms/step - loss: 6.1313 - categorical_accuracy: 0.2444 - val_loss: 4.2819 - val_categorical_accuracy: 0.3383\n",
      "Epoch 14/20\n",
      "1/1 [==============================] - 0s 106ms/step - loss: 5.9688 - categorical_accuracy: 0.2506 - val_loss: 4.2062 - val_categorical_accuracy: 0.3433\n",
      "Epoch 15/20\n",
      "1/1 [==============================] - 0s 104ms/step - loss: 5.7746 - categorical_accuracy: 0.2431 - val_loss: 4.1340 - val_categorical_accuracy: 0.3483\n",
      "Epoch 16/20\n",
      "1/1 [==============================] - 0s 94ms/step - loss: 5.9141 - categorical_accuracy: 0.2469 - val_loss: 4.0650 - val_categorical_accuracy: 0.3483\n",
      "Epoch 17/20\n",
      "1/1 [==============================] - 0s 94ms/step - loss: 5.9349 - categorical_accuracy: 0.2269 - val_loss: 3.9983 - val_categorical_accuracy: 0.3532\n",
      "Epoch 18/20\n",
      "1/1 [==============================] - 0s 103ms/step - loss: 5.8048 - categorical_accuracy: 0.2643 - val_loss: 3.9333 - val_categorical_accuracy: 0.3532\n",
      "Epoch 19/20\n",
      "1/1 [==============================] - 0s 99ms/step - loss: 5.6055 - categorical_accuracy: 0.2706 - val_loss: 3.8701 - val_categorical_accuracy: 0.3582\n",
      "Epoch 20/20\n",
      "1/1 [==============================] - 0s 93ms/step - loss: 5.8273 - categorical_accuracy: 0.2569 - val_loss: 3.8087 - val_categorical_accuracy: 0.3582\n"
     ]
    },
    {
     "data": {
      "text/plain": [
       "<keras.callbacks.History at 0x14d9b034708>"
      ]
     },
     "execution_count": 23,
     "metadata": {},
     "output_type": "execute_result"
    }
   ],
   "source": [
    "# Re-Fit the model, this time with epoch count selected so as to avoid overfitting\n",
    "number_of_epochs = 20\n",
    "model.fit(X_train,y_train, \n",
    "                    epochs=number_of_epochs,\n",
    "                    batch_size=1000,\n",
    "                      validation_split=0.2,\n",
    "                    shuffle=True)"
   ]
  },
  {
   "cell_type": "code",
   "execution_count": 24,
   "id": "d0ac15da",
   "metadata": {},
   "outputs": [
    {
     "data": {
      "text/plain": [
       "dict_keys(['loss', 'categorical_accuracy', 'val_loss', 'val_categorical_accuracy'])"
      ]
     },
     "execution_count": 24,
     "metadata": {},
     "output_type": "execute_result"
    }
   ],
   "source": [
    "model_history_2 = model.history.history\n",
    "model_history_2.keys()"
   ]
  },
  {
   "cell_type": "code",
   "execution_count": 25,
   "id": "957c106f",
   "metadata": {},
   "outputs": [
    {
     "data": {
      "text/plain": [
       "<AxesSubplot:title={'center':'Performance Across Training and Validation'}>"
      ]
     },
     "execution_count": 25,
     "metadata": {},
     "output_type": "execute_result"
    },
    {
     "data": {
      "image/png": "[encoded data removed]",
      "text/plain": [
       "<Figure size 432x288 with 1 Axes>"
      ]
     },
     "metadata": {
      "needs_background": "light"
     },
     "output_type": "display_data"
    }
   ],
   "source": [
    "training_results = pd.DataFrame(index=range(1,number_of_epochs+1))\n",
    "training_results['Training'] = model_history_2['categorical_accuracy']\n",
    "training_results['Validation'] = model_history_2['val_categorical_accuracy']\n",
    "training_results.plot(title = 'Performance Across Training and Validation')"
   ]
  }
 ],
 "metadata": {
  "kernelspec": {
   "display_name": "Python 3.7.13 ('dev')",
   "language": "python",
   "name": "python3"
  },
  "language_info": {
   "codemirror_mode": {
    "name": "ipython",
    "version": 3
   },
   "file_extension": ".py",
   "mimetype": "text/x-python",
   "name": "python",
   "nbconvert_exporter": "python",
   "pygments_lexer": "ipython3",
   "version": "3.7.13"
  },
  "vscode": {
   "interpreter": {
    "hash": "6a7ae136a53a24601e63a177d18d4029f938b6714f24b844ae865dcffb9f6766"
   }
  }
 },
 "nbformat": 4,
 "nbformat_minor": 5
}
