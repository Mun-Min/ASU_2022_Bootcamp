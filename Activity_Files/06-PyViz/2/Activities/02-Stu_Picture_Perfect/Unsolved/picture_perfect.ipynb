{
 "cells": [
  {
   "cell_type": "markdown",
   "metadata": {},
   "source": [
    "# Picture Perfect\n",
    "\n",
    "Still in your role as a data analyst for a video streaming service, you have now been asked by your manager to compare and contrast the revenue numbers by quarter for the various international regions.\n",
    "\n",
    "Be sure to consult the [HvPlot Customization](https://hvplot.holoviz.org/user_guide/Customization.html) page for additional opportunities of aesthetic improvement."
   ]
  },
  {
   "cell_type": "code",
   "execution_count": 26,
   "metadata": {},
   "outputs": [],
   "source": [
    "# Import the required libraries and dependencies\n",
    "import pandas as pd\n",
    "import hvplot.pandas\n",
    "from pathlib import Path"
   ]
  },
  {
   "cell_type": "markdown",
   "metadata": {},
   "source": [
    "## Step 1: Prepare the Regional Revenue DataFrame"
   ]
  },
  {
   "cell_type": "code",
   "execution_count": 27,
   "metadata": {},
   "outputs": [
    {
     "data": {
      "text/html": [
       "<div>\n",
       "<style scoped>\n",
       "    .dataframe tbody tr th:only-of-type {\n",
       "        vertical-align: middle;\n",
       "    }\n",
       "\n",
       "    .dataframe tbody tr th {\n",
       "        vertical-align: top;\n",
       "    }\n",
       "\n",
       "    .dataframe thead th {\n",
       "        text-align: right;\n",
       "    }\n",
       "</style>\n",
       "<table border=\"1\" class=\"dataframe\">\n",
       "  <thead>\n",
       "    <tr style=\"text-align: right;\">\n",
       "      <th></th>\n",
       "      <th>Area</th>\n",
       "      <th>Years</th>\n",
       "      <th>Revenue</th>\n",
       "    </tr>\n",
       "  </thead>\n",
       "  <tbody>\n",
       "    <tr>\n",
       "      <th>0</th>\n",
       "      <td>United States and Canada</td>\n",
       "      <td>Q1 - 2018</td>\n",
       "      <td>1976157000</td>\n",
       "    </tr>\n",
       "    <tr>\n",
       "      <th>1</th>\n",
       "      <td>Europe, Middle East and Africa</td>\n",
       "      <td>Q1 - 2018</td>\n",
       "      <td>886649000</td>\n",
       "    </tr>\n",
       "    <tr>\n",
       "      <th>2</th>\n",
       "      <td>Latin America</td>\n",
       "      <td>Q1 - 2018</td>\n",
       "      <td>540182000</td>\n",
       "    </tr>\n",
       "    <tr>\n",
       "      <th>3</th>\n",
       "      <td>Asia-Pacific</td>\n",
       "      <td>Q1 - 2018</td>\n",
       "      <td>199117000</td>\n",
       "    </tr>\n",
       "    <tr>\n",
       "      <th>4</th>\n",
       "      <td>United States and Canada</td>\n",
       "      <td>Q2 - 2018</td>\n",
       "      <td>2049546000</td>\n",
       "    </tr>\n",
       "    <tr>\n",
       "      <th>5</th>\n",
       "      <td>Europe, Middle East and Africa</td>\n",
       "      <td>Q2 - 2018</td>\n",
       "      <td>975497000</td>\n",
       "    </tr>\n",
       "    <tr>\n",
       "      <th>6</th>\n",
       "      <td>Latin America</td>\n",
       "      <td>Q2 - 2018</td>\n",
       "      <td>568071000</td>\n",
       "    </tr>\n",
       "    <tr>\n",
       "      <th>7</th>\n",
       "      <td>Asia-Pacific</td>\n",
       "      <td>Q2 - 2018</td>\n",
       "      <td>221252000</td>\n",
       "    </tr>\n",
       "    <tr>\n",
       "      <th>8</th>\n",
       "      <td>United States and Canada</td>\n",
       "      <td>Q3 - 2018</td>\n",
       "      <td>2094850000</td>\n",
       "    </tr>\n",
       "    <tr>\n",
       "      <th>9</th>\n",
       "      <td>Europe, Middle East and Africa</td>\n",
       "      <td>Q3 - 2018</td>\n",
       "      <td>1004749000</td>\n",
       "    </tr>\n",
       "    <tr>\n",
       "      <th>10</th>\n",
       "      <td>Latin America</td>\n",
       "      <td>Q3 - 2018</td>\n",
       "      <td>562307000</td>\n",
       "    </tr>\n",
       "    <tr>\n",
       "      <th>11</th>\n",
       "      <td>Asia-Pacific</td>\n",
       "      <td>Q3 - 2018</td>\n",
       "      <td>248691000</td>\n",
       "    </tr>\n",
       "    <tr>\n",
       "      <th>12</th>\n",
       "      <td>United States and Canada</td>\n",
       "      <td>Q4 - 2018</td>\n",
       "      <td>2160979000</td>\n",
       "    </tr>\n",
       "    <tr>\n",
       "      <th>13</th>\n",
       "      <td>Europe, Middle East and Africa</td>\n",
       "      <td>Q4 - 2018</td>\n",
       "      <td>1096812000</td>\n",
       "    </tr>\n",
       "    <tr>\n",
       "      <th>14</th>\n",
       "      <td>Latin America</td>\n",
       "      <td>Q4 - 2018</td>\n",
       "      <td>567137000</td>\n",
       "    </tr>\n",
       "    <tr>\n",
       "      <th>15</th>\n",
       "      <td>Asia-Pacific</td>\n",
       "      <td>Q4 - 2018</td>\n",
       "      <td>276756000</td>\n",
       "    </tr>\n",
       "    <tr>\n",
       "      <th>16</th>\n",
       "      <td>United States and Canada</td>\n",
       "      <td>Q1 - 2019</td>\n",
       "      <td>2256851000</td>\n",
       "    </tr>\n",
       "    <tr>\n",
       "      <th>17</th>\n",
       "      <td>Europe, Middle East and Africa</td>\n",
       "      <td>Q1 - 2019</td>\n",
       "      <td>1233379000</td>\n",
       "    </tr>\n",
       "    <tr>\n",
       "      <th>18</th>\n",
       "      <td>Latin America</td>\n",
       "      <td>Q1 - 2019</td>\n",
       "      <td>630472000</td>\n",
       "    </tr>\n",
       "    <tr>\n",
       "      <th>19</th>\n",
       "      <td>Asia-Pacific</td>\n",
       "      <td>Q1 - 2019</td>\n",
       "      <td>319602000</td>\n",
       "    </tr>\n",
       "    <tr>\n",
       "      <th>20</th>\n",
       "      <td>United States and Canada</td>\n",
       "      <td>Q2 - 2019</td>\n",
       "      <td>2501199000</td>\n",
       "    </tr>\n",
       "    <tr>\n",
       "      <th>21</th>\n",
       "      <td>Europe, Middle East and Africa</td>\n",
       "      <td>Q2 - 2019</td>\n",
       "      <td>1319087000</td>\n",
       "    </tr>\n",
       "    <tr>\n",
       "      <th>22</th>\n",
       "      <td>Latin America</td>\n",
       "      <td>Q2 - 2019</td>\n",
       "      <td>677136000</td>\n",
       "    </tr>\n",
       "    <tr>\n",
       "      <th>23</th>\n",
       "      <td>Asia-Pacific</td>\n",
       "      <td>Q2 - 2019</td>\n",
       "      <td>349494000</td>\n",
       "    </tr>\n",
       "    <tr>\n",
       "      <th>24</th>\n",
       "      <td>United States and Canada</td>\n",
       "      <td>Q3 - 2019</td>\n",
       "      <td>2621250000</td>\n",
       "    </tr>\n",
       "    <tr>\n",
       "      <th>25</th>\n",
       "      <td>Europe, Middle East and Africa</td>\n",
       "      <td>Q3 - 2019</td>\n",
       "      <td>1428040000</td>\n",
       "    </tr>\n",
       "    <tr>\n",
       "      <th>26</th>\n",
       "      <td>Latin America</td>\n",
       "      <td>Q3 - 2019</td>\n",
       "      <td>741434000</td>\n",
       "    </tr>\n",
       "    <tr>\n",
       "      <th>27</th>\n",
       "      <td>Asia-Pacific</td>\n",
       "      <td>Q3 - 2019</td>\n",
       "      <td>382304000</td>\n",
       "    </tr>\n",
       "    <tr>\n",
       "      <th>28</th>\n",
       "      <td>United States and Canada</td>\n",
       "      <td>Q4 - 2019</td>\n",
       "      <td>2671908000</td>\n",
       "    </tr>\n",
       "    <tr>\n",
       "      <th>29</th>\n",
       "      <td>Europe, Middle East and Africa</td>\n",
       "      <td>Q4 - 2019</td>\n",
       "      <td>1562561000</td>\n",
       "    </tr>\n",
       "    <tr>\n",
       "      <th>30</th>\n",
       "      <td>Latin America</td>\n",
       "      <td>Q4 - 2019</td>\n",
       "      <td>746392000</td>\n",
       "    </tr>\n",
       "    <tr>\n",
       "      <th>31</th>\n",
       "      <td>Asia-Pacific</td>\n",
       "      <td>Q4 - 2019</td>\n",
       "      <td>418121000</td>\n",
       "    </tr>\n",
       "    <tr>\n",
       "      <th>32</th>\n",
       "      <td>United States and Canada</td>\n",
       "      <td>Q1 - 2020</td>\n",
       "      <td>2702776000</td>\n",
       "    </tr>\n",
       "    <tr>\n",
       "      <th>33</th>\n",
       "      <td>Europe, Middle East and Africa</td>\n",
       "      <td>Q1 - 2020</td>\n",
       "      <td>1723474000</td>\n",
       "    </tr>\n",
       "    <tr>\n",
       "      <th>34</th>\n",
       "      <td>Latin America</td>\n",
       "      <td>Q1 - 2020</td>\n",
       "      <td>793453000</td>\n",
       "    </tr>\n",
       "    <tr>\n",
       "      <th>35</th>\n",
       "      <td>Asia-Pacific</td>\n",
       "      <td>Q1 - 2020</td>\n",
       "      <td>483660000</td>\n",
       "    </tr>\n",
       "    <tr>\n",
       "      <th>36</th>\n",
       "      <td>United States and Canada</td>\n",
       "      <td>Q2 - 2020</td>\n",
       "      <td>2839670000</td>\n",
       "    </tr>\n",
       "    <tr>\n",
       "      <th>37</th>\n",
       "      <td>Europe, Middle East and Africa</td>\n",
       "      <td>Q2 - 2020</td>\n",
       "      <td>1892537000</td>\n",
       "    </tr>\n",
       "    <tr>\n",
       "      <th>38</th>\n",
       "      <td>Latin America</td>\n",
       "      <td>Q2 - 2020</td>\n",
       "      <td>785368000</td>\n",
       "    </tr>\n",
       "    <tr>\n",
       "      <th>39</th>\n",
       "      <td>Asia-Pacific</td>\n",
       "      <td>Q2 - 2020</td>\n",
       "      <td>569140000</td>\n",
       "    </tr>\n",
       "  </tbody>\n",
       "</table>\n",
       "</div>"
      ],
      "text/plain": [
       "                              Area      Years     Revenue\n",
       "0         United States and Canada  Q1 - 2018  1976157000\n",
       "1   Europe, Middle East and Africa  Q1 - 2018   886649000\n",
       "2                    Latin America  Q1 - 2018   540182000\n",
       "3                     Asia-Pacific  Q1 - 2018   199117000\n",
       "4         United States and Canada  Q2 - 2018  2049546000\n",
       "5   Europe, Middle East and Africa  Q2 - 2018   975497000\n",
       "6                    Latin America  Q2 - 2018   568071000\n",
       "7                     Asia-Pacific  Q2 - 2018   221252000\n",
       "8         United States and Canada  Q3 - 2018  2094850000\n",
       "9   Europe, Middle East and Africa  Q3 - 2018  1004749000\n",
       "10                   Latin America  Q3 - 2018   562307000\n",
       "11                    Asia-Pacific  Q3 - 2018   248691000\n",
       "12        United States and Canada  Q4 - 2018  2160979000\n",
       "13  Europe, Middle East and Africa  Q4 - 2018  1096812000\n",
       "14                   Latin America  Q4 - 2018   567137000\n",
       "15                    Asia-Pacific  Q4 - 2018   276756000\n",
       "16        United States and Canada  Q1 - 2019  2256851000\n",
       "17  Europe, Middle East and Africa  Q1 - 2019  1233379000\n",
       "18                   Latin America  Q1 - 2019   630472000\n",
       "19                    Asia-Pacific  Q1 - 2019   319602000\n",
       "20        United States and Canada  Q2 - 2019  2501199000\n",
       "21  Europe, Middle East and Africa  Q2 - 2019  1319087000\n",
       "22                   Latin America  Q2 - 2019   677136000\n",
       "23                    Asia-Pacific  Q2 - 2019   349494000\n",
       "24        United States and Canada  Q3 - 2019  2621250000\n",
       "25  Europe, Middle East and Africa  Q3 - 2019  1428040000\n",
       "26                   Latin America  Q3 - 2019   741434000\n",
       "27                    Asia-Pacific  Q3 - 2019   382304000\n",
       "28        United States and Canada  Q4 - 2019  2671908000\n",
       "29  Europe, Middle East and Africa  Q4 - 2019  1562561000\n",
       "30                   Latin America  Q4 - 2019   746392000\n",
       "31                    Asia-Pacific  Q4 - 2019   418121000\n",
       "32        United States and Canada  Q1 - 2020  2702776000\n",
       "33  Europe, Middle East and Africa  Q1 - 2020  1723474000\n",
       "34                   Latin America  Q1 - 2020   793453000\n",
       "35                    Asia-Pacific  Q1 - 2020   483660000\n",
       "36        United States and Canada  Q2 - 2020  2839670000\n",
       "37  Europe, Middle East and Africa  Q2 - 2020  1892537000\n",
       "38                   Latin America  Q2 - 2020   785368000\n",
       "39                    Asia-Pacific  Q2 - 2020   569140000"
      ]
     },
     "execution_count": 27,
     "metadata": {},
     "output_type": "execute_result"
    }
   ],
   "source": [
    "# Read in regional_revenue.csv file into a Pandas DataFrame\n",
    "regional_revenue_df = pd.read_csv(r'C:\\Users\\minha\\OneDrive\\Documents\\ASU_2022_Bootcamp\\Activity_Files\\06-PyViz\\2\\Activities\\02-Stu_Picture_Perfect\\Resources\\regional_revenue.csv') \n",
    "\n",
    "# Review the DataFrame\n",
    "regional_revenue_df"
   ]
  },
  {
   "cell_type": "markdown",
   "metadata": {},
   "source": [
    "## Step 2: Create a plot that visualizes the growth in revenue for the United States and Canada"
   ]
  },
  {
   "cell_type": "code",
   "execution_count": 28,
   "metadata": {},
   "outputs": [
    {
     "name": "stdout",
     "output_type": "stream",
     "text": [
      "                               Area     Revenue\n",
      "Years                                          \n",
      "Q1 - 2018  United States and Canada  1976157000\n",
      "Q2 - 2018  United States and Canada  2049546000\n",
      "Q3 - 2018  United States and Canada  2094850000\n",
      "Q4 - 2018  United States and Canada  2160979000\n",
      "Q1 - 2019  United States and Canada  2256851000\n",
      "Q2 - 2019  United States and Canada  2501199000\n",
      "Q3 - 2019  United States and Canada  2621250000\n",
      "Q4 - 2019  United States and Canada  2671908000\n",
      "Q1 - 2020  United States and Canada  2702776000\n",
      "Q2 - 2020  United States and Canada  2839670000\n"
     ]
    }
   ],
   "source": [
    "# Create a DataFrame that slices the subscriber data for the United States and Canada\n",
    "us_canada_revenue = regional_revenue_df.loc[regional_revenue_df['Area'] == 'United States and Canada']\n",
    "\n",
    "# Set the index of the DataFrame to Years\n",
    "us_canada_revenue = us_canada_revenue.set_index('Years')\n",
    "\n",
    "print(us_canada_revenue)\n",
    "\n",
    "# Create a line plot of the US and Canada Revenue data\n",
    "us_canada_revenue_plot = us_canada_revenue['Revenue'].hvplot.line(\n",
    "    xlabel = 'Years', \n",
    "    ylabel = 'Revenue', \n",
    "    title = 'Growth in Revenue for United States and Canada', \n",
    "    label = 'Revenue Growth for United States and Canada',\n",
    "    yformatter = '%.1f',\n",
    "    line_color = 'blue',\n",
    "    hover_line_color = 'yellow',\n",
    "    ).opts(xrotation = 45)\n"
   ]
  },
  {
   "cell_type": "markdown",
   "metadata": {},
   "source": [
    "## Step 3: Add x- and y-axis labels to your plot. Rotate the x-axis plot ticks 45 degrees."
   ]
  },
  {
   "cell_type": "code",
   "execution_count": 29,
   "metadata": {},
   "outputs": [],
   "source": [
    "# Rotate the x-axis ticks by 45 degrees\n",
    "\n",
    "# (done above)"
   ]
  },
  {
   "cell_type": "markdown",
   "metadata": {},
   "source": [
    "## Step 4:  Add a title to the US and Canada revenue plot\n"
   ]
  },
  {
   "cell_type": "code",
   "execution_count": 30,
   "metadata": {},
   "outputs": [],
   "source": [
    "# Add a title to your US and Canada revenue plot using the label parameter\n",
    "\n",
    "# (done above)\n"
   ]
  },
  {
   "cell_type": "markdown",
   "metadata": {},
   "source": [
    "## Step 5: Use the yformatter option to format the y-axis values."
   ]
  },
  {
   "cell_type": "code",
   "execution_count": 31,
   "metadata": {},
   "outputs": [],
   "source": [
    "# Use the yformatter to adjust the y-axis values\n",
    "\n",
    "# (done above)"
   ]
  },
  {
   "cell_type": "markdown",
   "metadata": {},
   "source": [
    "## Step 6: Add a line_color of blue and hover_line_color of yellow to the plot."
   ]
  },
  {
   "cell_type": "code",
   "execution_count": 32,
   "metadata": {},
   "outputs": [],
   "source": [
    "# Add a line_color of blue and a hover_line_color of yellow\n",
    "\n",
    "# (done above)"
   ]
  },
  {
   "cell_type": "markdown",
   "metadata": {},
   "source": [
    "## Step 7. Save the plot you just created to a variable so that it can eventually be utilized in an overlay plot."
   ]
  },
  {
   "cell_type": "code",
   "execution_count": 33,
   "metadata": {},
   "outputs": [
    {
     "data": {},
     "metadata": {},
     "output_type": "display_data"
    },
    {
     "data": {
      "application/vnd.holoviews_exec.v0+json": "",
      "text/html": [
       "<div id='1855'>\n",
       "  <div class=\"bk-root\" id=\"8f30894a-a9d6-4137-a304-b85f681b0a75\" data-root-id=\"1855\"></div>\n",
       "</div>\n",
       "<script type=\"application/javascript\">(function(root) {\n",
       "  function embed_document(root) {\n",
       "    var docs_json = {\"78aecaa0-702c-4a88-b42d-2f04abf85ae6\":{\"defs\":[{\"extends\":null,\"module\":null,\"name\":\"ReactiveHTML1\",\"overrides\":[],\"properties\":[]},{\"extends\":null,\"module\":null,\"name\":\"FlexBox1\",\"overrides\":[],\"properties\":[{\"default\":\"flex-start\",\"kind\":null,\"name\":\"align_content\"},{\"default\":\"flex-start\",\"kind\":null,\"name\":\"align_items\"},{\"default\":\"row\",\"kind\":null,\"name\":\"flex_direction\"},{\"default\":\"wrap\",\"kind\":null,\"name\":\"flex_wrap\"},{\"default\":\"flex-start\",\"kind\":null,\"name\":\"justify_content\"}]},{\"extends\":null,\"module\":null,\"name\":\"GridStack1\",\"overrides\":[],\"properties\":[{\"default\":\"warn\",\"kind\":null,\"name\":\"mode\"},{\"default\":null,\"kind\":null,\"name\":\"ncols\"},{\"default\":null,\"kind\":null,\"name\":\"nrows\"},{\"default\":true,\"kind\":null,\"name\":\"allow_resize\"},{\"default\":true,\"kind\":null,\"name\":\"allow_drag\"},{\"default\":[],\"kind\":null,\"name\":\"state\"}]},{\"extends\":null,\"module\":null,\"name\":\"click1\",\"overrides\":[],\"properties\":[{\"default\":\"\",\"kind\":null,\"name\":\"terminal_output\"},{\"default\":\"\",\"kind\":null,\"name\":\"debug_name\"},{\"default\":0,\"kind\":null,\"name\":\"clears\"}]},{\"extends\":null,\"module\":null,\"name\":\"NotificationAreaBase1\",\"overrides\":[],\"properties\":[{\"default\":\"bottom-right\",\"kind\":null,\"name\":\"position\"},{\"default\":0,\"kind\":null,\"name\":\"_clear\"}]},{\"extends\":null,\"module\":null,\"name\":\"NotificationArea1\",\"overrides\":[],\"properties\":[{\"default\":[],\"kind\":null,\"name\":\"notifications\"},{\"default\":\"bottom-right\",\"kind\":null,\"name\":\"position\"},{\"default\":0,\"kind\":null,\"name\":\"_clear\"},{\"default\":[{\"background\":\"#ffc107\",\"icon\":{\"className\":\"fas fa-exclamation-triangle\",\"color\":\"white\",\"tagName\":\"i\"},\"type\":\"warning\"},{\"background\":\"#007bff\",\"icon\":{\"className\":\"fas fa-info-circle\",\"color\":\"white\",\"tagName\":\"i\"},\"type\":\"info\"}],\"kind\":null,\"name\":\"types\"}]},{\"extends\":null,\"module\":null,\"name\":\"Notification\",\"overrides\":[],\"properties\":[{\"default\":null,\"kind\":null,\"name\":\"background\"},{\"default\":3000,\"kind\":null,\"name\":\"duration\"},{\"default\":null,\"kind\":null,\"name\":\"icon\"},{\"default\":\"\",\"kind\":null,\"name\":\"message\"},{\"default\":null,\"kind\":null,\"name\":\"notification_type\"},{\"default\":false,\"kind\":null,\"name\":\"_destroyed\"}]},{\"extends\":null,\"module\":null,\"name\":\"TemplateActions1\",\"overrides\":[],\"properties\":[{\"default\":0,\"kind\":null,\"name\":\"open_modal\"},{\"default\":0,\"kind\":null,\"name\":\"close_modal\"}]},{\"extends\":null,\"module\":null,\"name\":\"MaterialTemplateActions1\",\"overrides\":[],\"properties\":[{\"default\":0,\"kind\":null,\"name\":\"open_modal\"},{\"default\":0,\"kind\":null,\"name\":\"close_modal\"}]}],\"roots\":{\"references\":[{\"attributes\":{},\"id\":\"1867\",\"type\":\"LinearScale\"},{\"attributes\":{\"bottom_units\":\"screen\",\"coordinates\":null,\"fill_alpha\":0.5,\"fill_color\":\"lightgrey\",\"group\":null,\"left_units\":\"screen\",\"level\":\"overlay\",\"line_alpha\":1.0,\"line_color\":\"black\",\"line_dash\":[4,4],\"line_width\":2,\"right_units\":\"screen\",\"syncable\":false,\"top_units\":\"screen\"},\"id\":\"1881\",\"type\":\"BoxAnnotation\"},{\"attributes\":{\"tools\":[{\"id\":\"1859\"},{\"id\":\"1876\"},{\"id\":\"1877\"},{\"id\":\"1878\"},{\"id\":\"1879\"},{\"id\":\"1880\"}]},\"id\":\"1882\",\"type\":\"Toolbar\"},{\"attributes\":{\"line_color\":\"yellow\",\"line_width\":2,\"x\":{\"field\":\"Years\"},\"y\":{\"field\":\"Revenue\"}},\"id\":\"1894\",\"type\":\"Line\"},{\"attributes\":{\"line_alpha\":0.1,\"line_color\":\"blue\",\"line_width\":2,\"x\":{\"field\":\"Years\"},\"y\":{\"field\":\"Revenue\"}},\"id\":\"1893\",\"type\":\"Line\"},{\"attributes\":{},\"id\":\"1870\",\"type\":\"CategoricalTicker\"},{\"attributes\":{},\"id\":\"1914\",\"type\":\"UnionRenderers\"},{\"attributes\":{\"coordinates\":null,\"data_source\":{\"id\":\"1889\"},\"glyph\":{\"id\":\"1892\"},\"group\":null,\"hover_glyph\":{\"id\":\"1894\"},\"muted_glyph\":{\"id\":\"1895\"},\"nonselection_glyph\":{\"id\":\"1893\"},\"selection_glyph\":{\"id\":\"1898\"},\"view\":{\"id\":\"1897\"}},\"id\":\"1896\",\"type\":\"GlyphRenderer\"},{\"attributes\":{\"factors\":[\"Q1 - 2018\",\"Q2 - 2018\",\"Q3 - 2018\",\"Q4 - 2018\",\"Q1 - 2019\",\"Q2 - 2019\",\"Q3 - 2019\",\"Q4 - 2019\",\"Q1 - 2020\",\"Q2 - 2020\"],\"tags\":[[[\"Years\",\"Years\",null]]]},\"id\":\"1857\",\"type\":\"FactorRange\"},{\"attributes\":{},\"id\":\"1890\",\"type\":\"Selection\"},{\"attributes\":{\"axis\":{\"id\":\"1872\"},\"coordinates\":null,\"dimension\":1,\"grid_line_color\":null,\"group\":null,\"ticker\":null},\"id\":\"1875\",\"type\":\"Grid\"},{\"attributes\":{},\"id\":\"1902\",\"type\":\"AllLabels\"},{\"attributes\":{\"children\":[{\"id\":\"1856\"},{\"id\":\"1860\"},{\"id\":\"1917\"}],\"margin\":[0,0,0,0],\"name\":\"Row01719\",\"tags\":[\"embedded\"]},\"id\":\"1855\",\"type\":\"Row\"},{\"attributes\":{},\"id\":\"1901\",\"type\":\"CategoricalTickFormatter\"},{\"attributes\":{\"margin\":[5,5,5,5],\"name\":\"HSpacer01723\",\"sizing_mode\":\"stretch_width\"},\"id\":\"1856\",\"type\":\"Spacer\"},{\"attributes\":{},\"id\":\"1876\",\"type\":\"SaveTool\"},{\"attributes\":{\"axis_label\":\"Years\",\"coordinates\":null,\"formatter\":{\"id\":\"1901\"},\"group\":null,\"major_label_orientation\":0.7853981633974483,\"major_label_policy\":{\"id\":\"1902\"},\"ticker\":{\"id\":\"1870\"}},\"id\":\"1869\",\"type\":\"CategoricalAxis\"},{\"attributes\":{\"format\":\"%.1f\"},\"id\":\"1899\",\"type\":\"PrintfTickFormatter\"},{\"attributes\":{\"source\":{\"id\":\"1889\"}},\"id\":\"1897\",\"type\":\"CDSView\"},{\"attributes\":{\"margin\":[5,5,5,5],\"name\":\"HSpacer01724\",\"sizing_mode\":\"stretch_width\"},\"id\":\"1917\",\"type\":\"Spacer\"},{\"attributes\":{\"line_color\":\"blue\",\"line_width\":2,\"x\":{\"field\":\"Years\"},\"y\":{\"field\":\"Revenue\"}},\"id\":\"1892\",\"type\":\"Line\"},{\"attributes\":{\"data\":{\"Revenue\":[1976157000,2049546000,2094850000,2160979000,2256851000,2501199000,2621250000,2671908000,2702776000,2839670000],\"Years\":[\"Q1 - 2018\",\"Q2 - 2018\",\"Q3 - 2018\",\"Q4 - 2018\",\"Q1 - 2019\",\"Q2 - 2019\",\"Q3 - 2019\",\"Q4 - 2019\",\"Q1 - 2020\",\"Q2 - 2020\"]},\"selected\":{\"id\":\"1890\"},\"selection_policy\":{\"id\":\"1914\"}},\"id\":\"1889\",\"type\":\"ColumnDataSource\"},{\"attributes\":{\"coordinates\":null,\"group\":null,\"text\":\"Growth in Revenue for United States and Canada\",\"text_color\":\"black\",\"text_font_size\":\"12pt\"},\"id\":\"1861\",\"type\":\"Title\"},{\"attributes\":{\"axis\":{\"id\":\"1869\"},\"coordinates\":null,\"grid_line_color\":null,\"group\":null,\"ticker\":null},\"id\":\"1871\",\"type\":\"Grid\"},{\"attributes\":{},\"id\":\"1877\",\"type\":\"PanTool\"},{\"attributes\":{},\"id\":\"1865\",\"type\":\"CategoricalScale\"},{\"attributes\":{\"line_color\":\"blue\",\"line_width\":2,\"x\":{\"field\":\"Years\"},\"y\":{\"field\":\"Revenue\"}},\"id\":\"1898\",\"type\":\"Line\"},{\"attributes\":{},\"id\":\"1880\",\"type\":\"ResetTool\"},{\"attributes\":{\"end\":2926021300.0,\"reset_end\":2926021300.0,\"reset_start\":1889805700.0,\"start\":1889805700.0,\"tags\":[[[\"Revenue\",\"Revenue\",null]]]},\"id\":\"1858\",\"type\":\"Range1d\"},{\"attributes\":{},\"id\":\"1873\",\"type\":\"BasicTicker\"},{\"attributes\":{\"axis_label\":\"Revenue\",\"coordinates\":null,\"formatter\":{\"id\":\"1899\"},\"group\":null,\"major_label_policy\":{\"id\":\"1905\"},\"ticker\":{\"id\":\"1873\"}},\"id\":\"1872\",\"type\":\"LinearAxis\"},{\"attributes\":{\"callback\":null,\"renderers\":[{\"id\":\"1896\"}],\"tags\":[\"hv_created\"],\"tooltips\":[[\"Years\",\"@{Years}\"],[\"Revenue\",\"@{Revenue}\"]]},\"id\":\"1859\",\"type\":\"HoverTool\"},{\"attributes\":{},\"id\":\"1905\",\"type\":\"AllLabels\"},{\"attributes\":{\"line_alpha\":0.2,\"line_color\":\"blue\",\"line_width\":2,\"x\":{\"field\":\"Years\"},\"y\":{\"field\":\"Revenue\"}},\"id\":\"1895\",\"type\":\"Line\"},{\"attributes\":{},\"id\":\"1878\",\"type\":\"WheelZoomTool\"},{\"attributes\":{\"below\":[{\"id\":\"1869\"}],\"center\":[{\"id\":\"1871\"},{\"id\":\"1875\"}],\"height\":300,\"left\":[{\"id\":\"1872\"}],\"margin\":[5,5,5,5],\"min_border_bottom\":10,\"min_border_left\":10,\"min_border_right\":10,\"min_border_top\":10,\"renderers\":[{\"id\":\"1896\"}],\"sizing_mode\":\"fixed\",\"title\":{\"id\":\"1861\"},\"toolbar\":{\"id\":\"1882\"},\"width\":700,\"x_range\":{\"id\":\"1857\"},\"x_scale\":{\"id\":\"1865\"},\"y_range\":{\"id\":\"1858\"},\"y_scale\":{\"id\":\"1867\"}},\"id\":\"1860\",\"subtype\":\"Figure\",\"type\":\"Plot\"},{\"attributes\":{\"overlay\":{\"id\":\"1881\"}},\"id\":\"1879\",\"type\":\"BoxZoomTool\"}],\"root_ids\":[\"1855\"]},\"title\":\"Bokeh Application\",\"version\":\"2.4.3\"}};\n",
       "    var render_items = [{\"docid\":\"78aecaa0-702c-4a88-b42d-2f04abf85ae6\",\"root_ids\":[\"1855\"],\"roots\":{\"1855\":\"8f30894a-a9d6-4137-a304-b85f681b0a75\"}}];\n",
       "    root.Bokeh.embed.embed_items_notebook(docs_json, render_items);\n",
       "  }\n",
       "  if (root.Bokeh !== undefined && root.Bokeh.Panel !== undefined) {\n",
       "    embed_document(root);\n",
       "  } else {\n",
       "    var attempts = 0;\n",
       "    var timer = setInterval(function(root) {\n",
       "      if (root.Bokeh !== undefined && root.Bokeh.Panel !== undefined) {\n",
       "        clearInterval(timer);\n",
       "        embed_document(root);\n",
       "      } else if (document.readyState == \"complete\") {\n",
       "        attempts++;\n",
       "        if (attempts > 200) {\n",
       "          clearInterval(timer);\n",
       "          console.log(\"Bokeh: ERROR: Unable to run BokehJS code because BokehJS library is missing\");\n",
       "        }\n",
       "      }\n",
       "    }, 25, root)\n",
       "  }\n",
       "})(window);</script>"
      ],
      "text/plain": [
       ":Curve   [Years]   (Revenue)"
      ]
     },
     "execution_count": 33,
     "metadata": {
      "application/vnd.holoviews_exec.v0+json": {
       "id": "1855"
      }
     },
     "output_type": "execute_result"
    }
   ],
   "source": [
    "# Show the plot\n",
    "us_canada_revenue_plot"
   ]
  },
  {
   "cell_type": "markdown",
   "metadata": {},
   "source": [
    "## Step 8: Create a line plot that visualizes the growth in revenue for the Europe, Middle East and Africa region. Style it with the same options utilized in the first plot. However, make the line_color equal to orange. Be sure to save this plot to a variable as well."
   ]
  },
  {
   "cell_type": "code",
   "execution_count": 34,
   "metadata": {},
   "outputs": [],
   "source": [
    "# Create a DataFrame that slices the subscriber data for the Europe, Middle East and Africa\n",
    "emea_revenue = regional_revenue_df.loc[regional_revenue_df['Area'] == 'Europe, Middle East and Africa']\n",
    "\n",
    "# Set the index of the DataFrame to Years\n",
    "emea_revenue = emea_revenue.set_index('Years')\n"
   ]
  },
  {
   "cell_type": "code",
   "execution_count": 35,
   "metadata": {},
   "outputs": [
    {
     "data": {},
     "metadata": {},
     "output_type": "display_data"
    },
    {
     "data": {
      "application/vnd.holoviews_exec.v0+json": "",
      "text/html": [
       "<div id='1964'>\n",
       "  <div class=\"bk-root\" id=\"3414bbd3-2c46-4ab3-bafb-6f68aac62026\" data-root-id=\"1964\"></div>\n",
       "</div>\n",
       "<script type=\"application/javascript\">(function(root) {\n",
       "  function embed_document(root) {\n",
       "    var docs_json = {\"d2e331b2-2a8b-4bf3-8cd9-91c01fa71953\":{\"defs\":[{\"extends\":null,\"module\":null,\"name\":\"ReactiveHTML1\",\"overrides\":[],\"properties\":[]},{\"extends\":null,\"module\":null,\"name\":\"FlexBox1\",\"overrides\":[],\"properties\":[{\"default\":\"flex-start\",\"kind\":null,\"name\":\"align_content\"},{\"default\":\"flex-start\",\"kind\":null,\"name\":\"align_items\"},{\"default\":\"row\",\"kind\":null,\"name\":\"flex_direction\"},{\"default\":\"wrap\",\"kind\":null,\"name\":\"flex_wrap\"},{\"default\":\"flex-start\",\"kind\":null,\"name\":\"justify_content\"}]},{\"extends\":null,\"module\":null,\"name\":\"GridStack1\",\"overrides\":[],\"properties\":[{\"default\":\"warn\",\"kind\":null,\"name\":\"mode\"},{\"default\":null,\"kind\":null,\"name\":\"ncols\"},{\"default\":null,\"kind\":null,\"name\":\"nrows\"},{\"default\":true,\"kind\":null,\"name\":\"allow_resize\"},{\"default\":true,\"kind\":null,\"name\":\"allow_drag\"},{\"default\":[],\"kind\":null,\"name\":\"state\"}]},{\"extends\":null,\"module\":null,\"name\":\"click1\",\"overrides\":[],\"properties\":[{\"default\":\"\",\"kind\":null,\"name\":\"terminal_output\"},{\"default\":\"\",\"kind\":null,\"name\":\"debug_name\"},{\"default\":0,\"kind\":null,\"name\":\"clears\"}]},{\"extends\":null,\"module\":null,\"name\":\"NotificationAreaBase1\",\"overrides\":[],\"properties\":[{\"default\":\"bottom-right\",\"kind\":null,\"name\":\"position\"},{\"default\":0,\"kind\":null,\"name\":\"_clear\"}]},{\"extends\":null,\"module\":null,\"name\":\"NotificationArea1\",\"overrides\":[],\"properties\":[{\"default\":[],\"kind\":null,\"name\":\"notifications\"},{\"default\":\"bottom-right\",\"kind\":null,\"name\":\"position\"},{\"default\":0,\"kind\":null,\"name\":\"_clear\"},{\"default\":[{\"background\":\"#ffc107\",\"icon\":{\"className\":\"fas fa-exclamation-triangle\",\"color\":\"white\",\"tagName\":\"i\"},\"type\":\"warning\"},{\"background\":\"#007bff\",\"icon\":{\"className\":\"fas fa-info-circle\",\"color\":\"white\",\"tagName\":\"i\"},\"type\":\"info\"}],\"kind\":null,\"name\":\"types\"}]},{\"extends\":null,\"module\":null,\"name\":\"Notification\",\"overrides\":[],\"properties\":[{\"default\":null,\"kind\":null,\"name\":\"background\"},{\"default\":3000,\"kind\":null,\"name\":\"duration\"},{\"default\":null,\"kind\":null,\"name\":\"icon\"},{\"default\":\"\",\"kind\":null,\"name\":\"message\"},{\"default\":null,\"kind\":null,\"name\":\"notification_type\"},{\"default\":false,\"kind\":null,\"name\":\"_destroyed\"}]},{\"extends\":null,\"module\":null,\"name\":\"TemplateActions1\",\"overrides\":[],\"properties\":[{\"default\":0,\"kind\":null,\"name\":\"open_modal\"},{\"default\":0,\"kind\":null,\"name\":\"close_modal\"}]},{\"extends\":null,\"module\":null,\"name\":\"MaterialTemplateActions1\",\"overrides\":[],\"properties\":[{\"default\":0,\"kind\":null,\"name\":\"open_modal\"},{\"default\":0,\"kind\":null,\"name\":\"close_modal\"}]}],\"roots\":{\"references\":[{\"attributes\":{\"margin\":[5,5,5,5],\"name\":\"HSpacer01850\",\"sizing_mode\":\"stretch_width\"},\"id\":\"2026\",\"type\":\"Spacer\"},{\"attributes\":{\"factors\":[\"Q1 - 2018\",\"Q2 - 2018\",\"Q3 - 2018\",\"Q4 - 2018\",\"Q1 - 2019\",\"Q2 - 2019\",\"Q3 - 2019\",\"Q4 - 2019\",\"Q1 - 2020\",\"Q2 - 2020\"],\"tags\":[[[\"Years\",\"Years\",null]]]},\"id\":\"1966\",\"type\":\"FactorRange\"},{\"attributes\":{\"line_color\":\"orange\",\"line_width\":2,\"x\":{\"field\":\"Years\"},\"y\":{\"field\":\"Revenue\"}},\"id\":\"2007\",\"type\":\"Line\"},{\"attributes\":{\"bottom_units\":\"screen\",\"coordinates\":null,\"fill_alpha\":0.5,\"fill_color\":\"lightgrey\",\"group\":null,\"left_units\":\"screen\",\"level\":\"overlay\",\"line_alpha\":1.0,\"line_color\":\"black\",\"line_dash\":[4,4],\"line_width\":2,\"right_units\":\"screen\",\"syncable\":false,\"top_units\":\"screen\"},\"id\":\"1990\",\"type\":\"BoxAnnotation\"},{\"attributes\":{\"axis\":{\"id\":\"1978\"},\"coordinates\":null,\"grid_line_color\":null,\"group\":null,\"ticker\":null},\"id\":\"1980\",\"type\":\"Grid\"},{\"attributes\":{},\"id\":\"1982\",\"type\":\"BasicTicker\"},{\"attributes\":{},\"id\":\"2014\",\"type\":\"AllLabels\"},{\"attributes\":{},\"id\":\"2011\",\"type\":\"AllLabels\"},{\"attributes\":{\"axis_label\":\"Revenue\",\"coordinates\":null,\"formatter\":{\"id\":\"2008\"},\"group\":null,\"major_label_policy\":{\"id\":\"2014\"},\"ticker\":{\"id\":\"1982\"}},\"id\":\"1981\",\"type\":\"LinearAxis\"},{\"attributes\":{\"below\":[{\"id\":\"1978\"}],\"center\":[{\"id\":\"1980\"},{\"id\":\"1984\"}],\"height\":300,\"left\":[{\"id\":\"1981\"}],\"margin\":[5,5,5,5],\"min_border_bottom\":10,\"min_border_left\":10,\"min_border_right\":10,\"min_border_top\":10,\"renderers\":[{\"id\":\"2005\"}],\"sizing_mode\":\"fixed\",\"title\":{\"id\":\"1970\"},\"toolbar\":{\"id\":\"1991\"},\"width\":700,\"x_range\":{\"id\":\"1966\"},\"x_scale\":{\"id\":\"1974\"},\"y_range\":{\"id\":\"1967\"},\"y_scale\":{\"id\":\"1976\"}},\"id\":\"1969\",\"subtype\":\"Figure\",\"type\":\"Plot\"},{\"attributes\":{\"axis\":{\"id\":\"1981\"},\"coordinates\":null,\"dimension\":1,\"grid_line_color\":null,\"group\":null,\"ticker\":null},\"id\":\"1984\",\"type\":\"Grid\"},{\"attributes\":{\"children\":[{\"id\":\"1965\"},{\"id\":\"1969\"},{\"id\":\"2026\"}],\"margin\":[0,0,0,0],\"name\":\"Row01845\",\"tags\":[\"embedded\"]},\"id\":\"1964\",\"type\":\"Row\"},{\"attributes\":{\"source\":{\"id\":\"1998\"}},\"id\":\"2006\",\"type\":\"CDSView\"},{\"attributes\":{\"format\":\"%.1f\"},\"id\":\"2008\",\"type\":\"PrintfTickFormatter\"},{\"attributes\":{\"end\":1993125800.0,\"reset_end\":1993125800.0,\"reset_start\":786060200.0,\"start\":786060200.0,\"tags\":[[[\"Revenue\",\"Revenue\",null]]]},\"id\":\"1967\",\"type\":\"Range1d\"},{\"attributes\":{\"callback\":null,\"renderers\":[{\"id\":\"2005\"}],\"tags\":[\"hv_created\"],\"tooltips\":[[\"Years\",\"@{Years}\"],[\"Revenue\",\"@{Revenue}\"]]},\"id\":\"1968\",\"type\":\"HoverTool\"},{\"attributes\":{\"line_width\":2,\"x\":{\"field\":\"Years\"},\"y\":{\"field\":\"Revenue\"}},\"id\":\"2003\",\"type\":\"Line\"},{\"attributes\":{\"line_alpha\":0.2,\"line_color\":\"orange\",\"line_width\":2,\"x\":{\"field\":\"Years\"},\"y\":{\"field\":\"Revenue\"}},\"id\":\"2004\",\"type\":\"Line\"},{\"attributes\":{\"coordinates\":null,\"data_source\":{\"id\":\"1998\"},\"glyph\":{\"id\":\"2001\"},\"group\":null,\"hover_glyph\":{\"id\":\"2003\"},\"muted_glyph\":{\"id\":\"2004\"},\"nonselection_glyph\":{\"id\":\"2002\"},\"selection_glyph\":{\"id\":\"2007\"},\"view\":{\"id\":\"2006\"}},\"id\":\"2005\",\"type\":\"GlyphRenderer\"},{\"attributes\":{\"line_color\":\"orange\",\"line_width\":2,\"x\":{\"field\":\"Years\"},\"y\":{\"field\":\"Revenue\"}},\"id\":\"2001\",\"type\":\"Line\"},{\"attributes\":{},\"id\":\"1985\",\"type\":\"SaveTool\"},{\"attributes\":{\"margin\":[5,5,5,5],\"name\":\"HSpacer01849\",\"sizing_mode\":\"stretch_width\"},\"id\":\"1965\",\"type\":\"Spacer\"},{\"attributes\":{},\"id\":\"1986\",\"type\":\"PanTool\"},{\"attributes\":{},\"id\":\"1999\",\"type\":\"Selection\"},{\"attributes\":{},\"id\":\"1976\",\"type\":\"LinearScale\"},{\"attributes\":{},\"id\":\"1989\",\"type\":\"ResetTool\"},{\"attributes\":{},\"id\":\"2023\",\"type\":\"UnionRenderers\"},{\"attributes\":{},\"id\":\"1987\",\"type\":\"WheelZoomTool\"},{\"attributes\":{\"axis_label\":\"Years\",\"coordinates\":null,\"formatter\":{\"id\":\"2010\"},\"group\":null,\"major_label_orientation\":0.7853981633974483,\"major_label_policy\":{\"id\":\"2011\"},\"ticker\":{\"id\":\"1979\"}},\"id\":\"1978\",\"type\":\"CategoricalAxis\"},{\"attributes\":{\"overlay\":{\"id\":\"1990\"}},\"id\":\"1988\",\"type\":\"BoxZoomTool\"},{\"attributes\":{\"line_alpha\":0.1,\"line_color\":\"orange\",\"line_width\":2,\"x\":{\"field\":\"Years\"},\"y\":{\"field\":\"Revenue\"}},\"id\":\"2002\",\"type\":\"Line\"},{\"attributes\":{\"data\":{\"Revenue\":[886649000,975497000,1004749000,1096812000,1233379000,1319087000,1428040000,1562561000,1723474000,1892537000],\"Years\":[\"Q1 - 2018\",\"Q2 - 2018\",\"Q3 - 2018\",\"Q4 - 2018\",\"Q1 - 2019\",\"Q2 - 2019\",\"Q3 - 2019\",\"Q4 - 2019\",\"Q1 - 2020\",\"Q2 - 2020\"]},\"selected\":{\"id\":\"1999\"},\"selection_policy\":{\"id\":\"2023\"}},\"id\":\"1998\",\"type\":\"ColumnDataSource\"},{\"attributes\":{},\"id\":\"1974\",\"type\":\"CategoricalScale\"},{\"attributes\":{},\"id\":\"2010\",\"type\":\"CategoricalTickFormatter\"},{\"attributes\":{\"coordinates\":null,\"group\":null,\"text\":\"Growth in Revenue for Europe, Middle East, Africa\",\"text_color\":\"black\",\"text_font_size\":\"12pt\"},\"id\":\"1970\",\"type\":\"Title\"},{\"attributes\":{},\"id\":\"1979\",\"type\":\"CategoricalTicker\"},{\"attributes\":{\"tools\":[{\"id\":\"1968\"},{\"id\":\"1985\"},{\"id\":\"1986\"},{\"id\":\"1987\"},{\"id\":\"1988\"},{\"id\":\"1989\"}]},\"id\":\"1991\",\"type\":\"Toolbar\"}],\"root_ids\":[\"1964\"]},\"title\":\"Bokeh Application\",\"version\":\"2.4.3\"}};\n",
       "    var render_items = [{\"docid\":\"d2e331b2-2a8b-4bf3-8cd9-91c01fa71953\",\"root_ids\":[\"1964\"],\"roots\":{\"1964\":\"3414bbd3-2c46-4ab3-bafb-6f68aac62026\"}}];\n",
       "    root.Bokeh.embed.embed_items_notebook(docs_json, render_items);\n",
       "  }\n",
       "  if (root.Bokeh !== undefined && root.Bokeh.Panel !== undefined) {\n",
       "    embed_document(root);\n",
       "  } else {\n",
       "    var attempts = 0;\n",
       "    var timer = setInterval(function(root) {\n",
       "      if (root.Bokeh !== undefined && root.Bokeh.Panel !== undefined) {\n",
       "        clearInterval(timer);\n",
       "        embed_document(root);\n",
       "      } else if (document.readyState == \"complete\") {\n",
       "        attempts++;\n",
       "        if (attempts > 200) {\n",
       "          clearInterval(timer);\n",
       "          console.log(\"Bokeh: ERROR: Unable to run BokehJS code because BokehJS library is missing\");\n",
       "        }\n",
       "      }\n",
       "    }, 25, root)\n",
       "  }\n",
       "})(window);</script>"
      ],
      "text/plain": [
       ":Curve   [Years]   (Revenue)"
      ]
     },
     "execution_count": 35,
     "metadata": {
      "application/vnd.holoviews_exec.v0+json": {
       "id": "1964"
      }
     },
     "output_type": "execute_result"
    }
   ],
   "source": [
    "# Create a styled line plot for the Europe, Middle East Africa region. \n",
    "# Make the line_color orange and be sure to set the plot equal to a variable. \n",
    "emea_plot = emea_revenue['Revenue'].hvplot.line(\n",
    "    xlabel = 'Years', \n",
    "    ylabel = 'Revenue', \n",
    "    title = 'Growth in Revenue for Europe, Middle East, Africa', \n",
    "    label = 'Revenue Growth for Europe, Middle East, Africa',\n",
    "    yformatter = '%.1f',\n",
    "    line_color = 'orange',\n",
    "    hover_line_color = 'black',\n",
    "    ).opts(xrotation = 45)  \n",
    "\n",
    "# Show the plot\n",
    "emea_plot"
   ]
  },
  {
   "cell_type": "markdown",
   "metadata": {},
   "source": [
    "## Step 9: Create an overlay plot for the \"United States and Canada\" and the \"Europe, Middle East and Africa\" regions."
   ]
  },
  {
   "cell_type": "code",
   "execution_count": 36,
   "metadata": {},
   "outputs": [],
   "source": [
    "# Create an overlay plot for the two visualizations\n",
    "overlay_plot = (us_canada_revenue_plot * emea_plot)"
   ]
  },
  {
   "cell_type": "markdown",
   "metadata": {},
   "source": [
    "## Step 10: Add a title to the overlay plot. Additionally, adjust height, width and background color."
   ]
  },
  {
   "cell_type": "code",
   "execution_count": 37,
   "metadata": {},
   "outputs": [
    {
     "data": {},
     "metadata": {},
     "output_type": "display_data"
    },
    {
     "data": {
      "application/vnd.holoviews_exec.v0+json": "",
      "text/html": [
       "<div id='2073'>\n",
       "  <div class=\"bk-root\" id=\"8d90b77f-f66d-4b29-bf09-d70125042415\" data-root-id=\"2073\"></div>\n",
       "</div>\n",
       "<script type=\"application/javascript\">(function(root) {\n",
       "  function embed_document(root) {\n",
       "    var docs_json = {\"33e342e4-6713-409b-ab02-fa87ab03c646\":{\"defs\":[{\"extends\":null,\"module\":null,\"name\":\"ReactiveHTML1\",\"overrides\":[],\"properties\":[]},{\"extends\":null,\"module\":null,\"name\":\"FlexBox1\",\"overrides\":[],\"properties\":[{\"default\":\"flex-start\",\"kind\":null,\"name\":\"align_content\"},{\"default\":\"flex-start\",\"kind\":null,\"name\":\"align_items\"},{\"default\":\"row\",\"kind\":null,\"name\":\"flex_direction\"},{\"default\":\"wrap\",\"kind\":null,\"name\":\"flex_wrap\"},{\"default\":\"flex-start\",\"kind\":null,\"name\":\"justify_content\"}]},{\"extends\":null,\"module\":null,\"name\":\"GridStack1\",\"overrides\":[],\"properties\":[{\"default\":\"warn\",\"kind\":null,\"name\":\"mode\"},{\"default\":null,\"kind\":null,\"name\":\"ncols\"},{\"default\":null,\"kind\":null,\"name\":\"nrows\"},{\"default\":true,\"kind\":null,\"name\":\"allow_resize\"},{\"default\":true,\"kind\":null,\"name\":\"allow_drag\"},{\"default\":[],\"kind\":null,\"name\":\"state\"}]},{\"extends\":null,\"module\":null,\"name\":\"click1\",\"overrides\":[],\"properties\":[{\"default\":\"\",\"kind\":null,\"name\":\"terminal_output\"},{\"default\":\"\",\"kind\":null,\"name\":\"debug_name\"},{\"default\":0,\"kind\":null,\"name\":\"clears\"}]},{\"extends\":null,\"module\":null,\"name\":\"NotificationAreaBase1\",\"overrides\":[],\"properties\":[{\"default\":\"bottom-right\",\"kind\":null,\"name\":\"position\"},{\"default\":0,\"kind\":null,\"name\":\"_clear\"}]},{\"extends\":null,\"module\":null,\"name\":\"NotificationArea1\",\"overrides\":[],\"properties\":[{\"default\":[],\"kind\":null,\"name\":\"notifications\"},{\"default\":\"bottom-right\",\"kind\":null,\"name\":\"position\"},{\"default\":0,\"kind\":null,\"name\":\"_clear\"},{\"default\":[{\"background\":\"#ffc107\",\"icon\":{\"className\":\"fas fa-exclamation-triangle\",\"color\":\"white\",\"tagName\":\"i\"},\"type\":\"warning\"},{\"background\":\"#007bff\",\"icon\":{\"className\":\"fas fa-info-circle\",\"color\":\"white\",\"tagName\":\"i\"},\"type\":\"info\"}],\"kind\":null,\"name\":\"types\"}]},{\"extends\":null,\"module\":null,\"name\":\"Notification\",\"overrides\":[],\"properties\":[{\"default\":null,\"kind\":null,\"name\":\"background\"},{\"default\":3000,\"kind\":null,\"name\":\"duration\"},{\"default\":null,\"kind\":null,\"name\":\"icon\"},{\"default\":\"\",\"kind\":null,\"name\":\"message\"},{\"default\":null,\"kind\":null,\"name\":\"notification_type\"},{\"default\":false,\"kind\":null,\"name\":\"_destroyed\"}]},{\"extends\":null,\"module\":null,\"name\":\"TemplateActions1\",\"overrides\":[],\"properties\":[{\"default\":0,\"kind\":null,\"name\":\"open_modal\"},{\"default\":0,\"kind\":null,\"name\":\"close_modal\"}]},{\"extends\":null,\"module\":null,\"name\":\"MaterialTemplateActions1\",\"overrides\":[],\"properties\":[{\"default\":0,\"kind\":null,\"name\":\"open_modal\"},{\"default\":0,\"kind\":null,\"name\":\"close_modal\"}]}],\"roots\":{\"references\":[{\"attributes\":{},\"id\":\"2114\",\"type\":\"AllLabels\"},{\"attributes\":{\"axis_label\":\"Years\",\"coordinates\":null,\"formatter\":{\"id\":\"2110\"},\"group\":null,\"major_label_orientation\":0.7853981633974483,\"major_label_policy\":{\"id\":\"2111\"},\"ticker\":{\"id\":\"2089\"}},\"id\":\"2088\",\"type\":\"CategoricalAxis\"},{\"attributes\":{\"line_color\":\"blue\",\"line_width\":2,\"x\":{\"field\":\"Years\"},\"y\":{\"field\":\"Revenue\"}},\"id\":\"2137\",\"type\":\"Line\"},{\"attributes\":{},\"id\":\"2099\",\"type\":\"ResetTool\"},{\"attributes\":{},\"id\":\"2084\",\"type\":\"CategoricalScale\"},{\"attributes\":{\"margin\":[5,5,5,5],\"name\":\"HSpacer01918\",\"sizing_mode\":\"stretch_width\"},\"id\":\"2074\",\"type\":\"Spacer\"},{\"attributes\":{\"data\":{\"Revenue\":[1976157000,2049546000,2094850000,2160979000,2256851000,2501199000,2621250000,2671908000,2702776000,2839670000],\"Years\":[\"Q1 - 2018\",\"Q2 - 2018\",\"Q3 - 2018\",\"Q4 - 2018\",\"Q1 - 2019\",\"Q2 - 2019\",\"Q3 - 2019\",\"Q4 - 2019\",\"Q1 - 2020\",\"Q2 - 2020\"]},\"selected\":{\"id\":\"2118\"},\"selection_policy\":{\"id\":\"2132\"}},\"id\":\"2117\",\"type\":\"ColumnDataSource\"},{\"attributes\":{\"label\":{\"value\":\"Revenue Growth for United States and Canada\"},\"renderers\":[{\"id\":\"2124\"}]},\"id\":\"2136\",\"type\":\"LegendItem\"},{\"attributes\":{\"background_fill_color\":\"grey\",\"below\":[{\"id\":\"2088\"}],\"center\":[{\"id\":\"2090\"},{\"id\":\"2094\"},{\"id\":\"2135\"}],\"height\":400,\"left\":[{\"id\":\"2091\"}],\"margin\":[5,5,5,5],\"min_border_bottom\":10,\"min_border_left\":10,\"min_border_right\":10,\"min_border_top\":10,\"renderers\":[{\"id\":\"2124\"},{\"id\":\"2145\"}],\"sizing_mode\":\"fixed\",\"title\":{\"id\":\"2080\"},\"toolbar\":{\"id\":\"2101\"},\"width\":1000,\"x_range\":{\"id\":\"2075\"},\"x_scale\":{\"id\":\"2084\"},\"y_range\":{\"id\":\"2076\"},\"y_scale\":{\"id\":\"2086\"}},\"id\":\"2079\",\"subtype\":\"Figure\",\"type\":\"Plot\"},{\"attributes\":{\"tools\":[{\"id\":\"2077\"},{\"id\":\"2095\"},{\"id\":\"2096\"},{\"id\":\"2097\"},{\"id\":\"2098\"},{\"id\":\"2099\"}]},\"id\":\"2101\",\"type\":\"Toolbar\"},{\"attributes\":{\"axis\":{\"id\":\"2088\"},\"coordinates\":null,\"grid_line_color\":null,\"group\":null,\"ticker\":null},\"id\":\"2090\",\"type\":\"Grid\"},{\"attributes\":{\"line_alpha\":0.1,\"line_color\":\"orange\",\"line_width\":2,\"x\":{\"field\":\"Years\"},\"y\":{\"field\":\"Revenue\"}},\"id\":\"2142\",\"type\":\"Line\"},{\"attributes\":{\"axis\":{\"id\":\"2091\"},\"coordinates\":null,\"dimension\":1,\"grid_line_color\":null,\"group\":null,\"ticker\":null},\"id\":\"2094\",\"type\":\"Grid\"},{\"attributes\":{\"coordinates\":null,\"group\":null,\"text\":\"Growth in Revenue in US, Canada, Europe, Middle East, and Africa\",\"text_color\":\"black\",\"text_font_size\":\"12pt\"},\"id\":\"2080\",\"type\":\"Title\"},{\"attributes\":{},\"id\":\"2139\",\"type\":\"Selection\"},{\"attributes\":{\"bottom_units\":\"screen\",\"coordinates\":null,\"fill_alpha\":0.5,\"fill_color\":\"lightgrey\",\"group\":null,\"left_units\":\"screen\",\"level\":\"overlay\",\"line_alpha\":1.0,\"line_color\":\"black\",\"line_dash\":[4,4],\"line_width\":2,\"right_units\":\"screen\",\"syncable\":false,\"top_units\":\"screen\"},\"id\":\"2100\",\"type\":\"BoxAnnotation\"},{\"attributes\":{},\"id\":\"2089\",\"type\":\"CategoricalTicker\"},{\"attributes\":{\"source\":{\"id\":\"2117\"}},\"id\":\"2125\",\"type\":\"CDSView\"},{\"attributes\":{},\"id\":\"2155\",\"type\":\"UnionRenderers\"},{\"attributes\":{},\"id\":\"2092\",\"type\":\"BasicTicker\"},{\"attributes\":{\"coordinates\":null,\"data_source\":{\"id\":\"2117\"},\"glyph\":{\"id\":\"2120\"},\"group\":null,\"hover_glyph\":{\"id\":\"2122\"},\"muted_glyph\":{\"id\":\"2123\"},\"nonselection_glyph\":{\"id\":\"2121\"},\"selection_glyph\":{\"id\":\"2137\"},\"view\":{\"id\":\"2125\"}},\"id\":\"2124\",\"type\":\"GlyphRenderer\"},{\"attributes\":{\"data\":{\"Revenue\":[886649000,975497000,1004749000,1096812000,1233379000,1319087000,1428040000,1562561000,1723474000,1892537000],\"Years\":[\"Q1 - 2018\",\"Q2 - 2018\",\"Q3 - 2018\",\"Q4 - 2018\",\"Q1 - 2019\",\"Q2 - 2019\",\"Q3 - 2019\",\"Q4 - 2019\",\"Q1 - 2020\",\"Q2 - 2020\"]},\"selected\":{\"id\":\"2139\"},\"selection_policy\":{\"id\":\"2155\"}},\"id\":\"2138\",\"type\":\"ColumnDataSource\"},{\"attributes\":{\"line_alpha\":0.1,\"line_color\":\"blue\",\"line_width\":2,\"x\":{\"field\":\"Years\"},\"y\":{\"field\":\"Revenue\"}},\"id\":\"2121\",\"type\":\"Line\"},{\"attributes\":{\"line_color\":\"yellow\",\"line_width\":2,\"x\":{\"field\":\"Years\"},\"y\":{\"field\":\"Revenue\"}},\"id\":\"2122\",\"type\":\"Line\"},{\"attributes\":{\"source\":{\"id\":\"2138\"}},\"id\":\"2146\",\"type\":\"CDSView\"},{\"attributes\":{\"overlay\":{\"id\":\"2100\"}},\"id\":\"2098\",\"type\":\"BoxZoomTool\"},{\"attributes\":{\"line_color\":\"blue\",\"line_width\":2,\"x\":{\"field\":\"Years\"},\"y\":{\"field\":\"Revenue\"}},\"id\":\"2120\",\"type\":\"Line\"},{\"attributes\":{\"line_alpha\":0.2,\"line_color\":\"blue\",\"line_width\":2,\"x\":{\"field\":\"Years\"},\"y\":{\"field\":\"Revenue\"}},\"id\":\"2123\",\"type\":\"Line\"},{\"attributes\":{\"line_width\":2,\"x\":{\"field\":\"Years\"},\"y\":{\"field\":\"Revenue\"}},\"id\":\"2143\",\"type\":\"Line\"},{\"attributes\":{},\"id\":\"2110\",\"type\":\"CategoricalTickFormatter\"},{\"attributes\":{\"coordinates\":null,\"data_source\":{\"id\":\"2138\"},\"glyph\":{\"id\":\"2141\"},\"group\":null,\"hover_glyph\":{\"id\":\"2143\"},\"muted_glyph\":{\"id\":\"2144\"},\"nonselection_glyph\":{\"id\":\"2142\"},\"selection_glyph\":{\"id\":\"2159\"},\"view\":{\"id\":\"2146\"}},\"id\":\"2145\",\"type\":\"GlyphRenderer\"},{\"attributes\":{\"callback\":null,\"renderers\":[{\"id\":\"2124\"},{\"id\":\"2145\"}],\"tags\":[\"hv_created\"],\"tooltips\":[[\"Years\",\"@{Years}\"],[\"Revenue\",\"@{Revenue}\"]]},\"id\":\"2077\",\"type\":\"HoverTool\"},{\"attributes\":{},\"id\":\"2111\",\"type\":\"AllLabels\"},{\"attributes\":{\"children\":[{\"id\":\"2074\"},{\"id\":\"2079\"},{\"id\":\"2171\"}],\"margin\":[0,0,0,0],\"name\":\"Row01914\",\"tags\":[\"embedded\"]},\"id\":\"2073\",\"type\":\"Row\"},{\"attributes\":{\"factors\":[\"Q1 - 2018\",\"Q2 - 2018\",\"Q3 - 2018\",\"Q4 - 2018\",\"Q1 - 2019\",\"Q2 - 2019\",\"Q3 - 2019\",\"Q4 - 2019\",\"Q1 - 2020\",\"Q2 - 2020\"],\"tags\":[[[\"Years\",\"Years\",null]]]},\"id\":\"2075\",\"type\":\"FactorRange\"},{\"attributes\":{\"margin\":[5,5,5,5],\"name\":\"HSpacer01919\",\"sizing_mode\":\"stretch_width\"},\"id\":\"2171\",\"type\":\"Spacer\"},{\"attributes\":{\"line_alpha\":0.2,\"line_color\":\"orange\",\"line_width\":2,\"x\":{\"field\":\"Years\"},\"y\":{\"field\":\"Revenue\"}},\"id\":\"2144\",\"type\":\"Line\"},{\"attributes\":{},\"id\":\"2095\",\"type\":\"SaveTool\"},{\"attributes\":{\"format\":\"%.1f\"},\"id\":\"2108\",\"type\":\"PrintfTickFormatter\"},{\"attributes\":{},\"id\":\"2096\",\"type\":\"PanTool\"},{\"attributes\":{\"axis_label\":\"Growth in Revenue\",\"coordinates\":null,\"formatter\":{\"id\":\"2108\"},\"group\":null,\"major_label_policy\":{\"id\":\"2114\"},\"ticker\":{\"id\":\"2092\"}},\"id\":\"2091\",\"type\":\"LinearAxis\"},{\"attributes\":{},\"id\":\"2118\",\"type\":\"Selection\"},{\"attributes\":{\"end\":3034972100.0,\"reset_end\":3034972100.0,\"reset_start\":691346900.0,\"start\":691346900.0,\"tags\":[[[\"Revenue\",\"Revenue\",null]]]},\"id\":\"2076\",\"type\":\"Range1d\"},{\"attributes\":{},\"id\":\"2097\",\"type\":\"WheelZoomTool\"},{\"attributes\":{},\"id\":\"2132\",\"type\":\"UnionRenderers\"},{\"attributes\":{\"click_policy\":\"mute\",\"coordinates\":null,\"group\":null,\"items\":[{\"id\":\"2136\"},{\"id\":\"2158\"}]},\"id\":\"2135\",\"type\":\"Legend\"},{\"attributes\":{\"line_color\":\"orange\",\"line_width\":2,\"x\":{\"field\":\"Years\"},\"y\":{\"field\":\"Revenue\"}},\"id\":\"2141\",\"type\":\"Line\"},{\"attributes\":{\"label\":{\"value\":\"Revenue Growth for Europe, Middle East, Africa\"},\"renderers\":[{\"id\":\"2145\"}]},\"id\":\"2158\",\"type\":\"LegendItem\"},{\"attributes\":{},\"id\":\"2086\",\"type\":\"LinearScale\"},{\"attributes\":{\"line_color\":\"orange\",\"line_width\":2,\"x\":{\"field\":\"Years\"},\"y\":{\"field\":\"Revenue\"}},\"id\":\"2159\",\"type\":\"Line\"}],\"root_ids\":[\"2073\"]},\"title\":\"Bokeh Application\",\"version\":\"2.4.3\"}};\n",
       "    var render_items = [{\"docid\":\"33e342e4-6713-409b-ab02-fa87ab03c646\",\"root_ids\":[\"2073\"],\"roots\":{\"2073\":\"8d90b77f-f66d-4b29-bf09-d70125042415\"}}];\n",
       "    root.Bokeh.embed.embed_items_notebook(docs_json, render_items);\n",
       "  }\n",
       "  if (root.Bokeh !== undefined && root.Bokeh.Panel !== undefined) {\n",
       "    embed_document(root);\n",
       "  } else {\n",
       "    var attempts = 0;\n",
       "    var timer = setInterval(function(root) {\n",
       "      if (root.Bokeh !== undefined && root.Bokeh.Panel !== undefined) {\n",
       "        clearInterval(timer);\n",
       "        embed_document(root);\n",
       "      } else if (document.readyState == \"complete\") {\n",
       "        attempts++;\n",
       "        if (attempts > 200) {\n",
       "          clearInterval(timer);\n",
       "          console.log(\"Bokeh: ERROR: Unable to run BokehJS code because BokehJS library is missing\");\n",
       "        }\n",
       "      }\n",
       "    }, 25, root)\n",
       "  }\n",
       "})(window);</script>"
      ],
      "text/plain": [
       ":Overlay\n",
       "   .Curve.Revenue_Growth_for_United_States_and_Canada              :Curve   [Years]   (Revenue)\n",
       "   .Curve.Revenue_Growth_for_Europe_comma_Middle_East_comma_Africa :Curve   [Years]   (Revenue)"
      ]
     },
     "execution_count": 37,
     "metadata": {
      "application/vnd.holoviews_exec.v0+json": {
       "id": "2073"
      }
     },
     "output_type": "execute_result"
    }
   ],
   "source": [
    "# Adjust the title, height, width and background color of the overlay plot\n",
    "overlay_plot.opts(\n",
    "    title = 'Growth in Revenue in US, Canada, Europe, Middle East, and Africa', \n",
    "    xlabel = 'Years',\n",
    "    ylabel = 'Growth in Revenue',\n",
    "    height = 400, \n",
    "    width = 1000, \n",
    "    bgcolor = 'grey'\n",
    ")"
   ]
  },
  {
   "cell_type": "markdown",
   "metadata": {},
   "source": [
    "## Step 11: Bonus - Create line plots for the Latin America and Asia Pacific Regions"
   ]
  },
  {
   "cell_type": "code",
   "execution_count": null,
   "metadata": {},
   "outputs": [],
   "source": [
    "# Create a DataFrame that slices the subscriber data for the Asia-Pacific region\n",
    "ap_revenue = # YOUR CODE HERE  \n",
    "\n",
    "# Set the index of the DataFrame to Years\n",
    "ap_revenue = # YOUR CODE HERE  "
   ]
  },
  {
   "cell_type": "code",
   "execution_count": null,
   "metadata": {},
   "outputs": [],
   "source": [
    "# Create a styled line plot for the Asia-Pacific region. \n",
    "# Make the line_color orange and be sure to set the plot equal to a variable. \n",
    "ap_plot = # YOUR CODE HERE  \n",
    "\n",
    "# Show the plot\n",
    "ap_plot"
   ]
  },
  {
   "cell_type": "code",
   "execution_count": null,
   "metadata": {},
   "outputs": [],
   "source": [
    "# Create a DataFrame that slices the subscriber data for the Latin America region\n",
    "lam_revenue = # YOUR CODE HERE  \n",
    "\n",
    "# Set the index of the DataFrame to Years\n",
    "lam_revenue = # YOUR CODE HERE  "
   ]
  },
  {
   "cell_type": "code",
   "execution_count": null,
   "metadata": {},
   "outputs": [],
   "source": [
    "# Create a styled line plot for the Latin America region. \n",
    "# Make the line_color orange and be sure to set the plot equal to a variable. \n",
    "lam_plot = # YOUR CODE HERE   \n",
    "\n",
    "# Show the plot\n",
    "lam_plot"
   ]
  },
  {
   "cell_type": "code",
   "execution_count": null,
   "metadata": {},
   "outputs": [],
   "source": [
    "# Create a compose plot for all four regions\n",
    "# YOUR CODE HERE  \n"
   ]
  }
 ],
 "metadata": {
  "kernelspec": {
   "display_name": "Python 3.7.13 ('dev')",
   "language": "python",
   "name": "python3"
  },
  "language_info": {
   "codemirror_mode": {
    "name": "ipython",
    "version": 3
   },
   "file_extension": ".py",
   "mimetype": "text/x-python",
   "name": "python",
   "nbconvert_exporter": "python",
   "pygments_lexer": "ipython3",
   "version": "3.7.13"
  },
  "vscode": {
   "interpreter": {
    "hash": "6a7ae136a53a24601e63a177d18d4029f938b6714f24b844ae865dcffb9f6766"
   }
  }
 },
 "nbformat": 4,
 "nbformat_minor": 4
}
