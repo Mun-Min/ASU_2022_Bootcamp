{
 "cells": [
  {
   "cell_type": "code",
   "execution_count": 16,
   "metadata": {},
   "outputs": [],
   "source": [
    "# Import the required libraries and dependencies\n",
    "import pandas as pd\n",
    "import hvplot.pandas\n",
    "from pathlib import Path"
   ]
  },
  {
   "cell_type": "markdown",
   "metadata": {},
   "source": [
    "## Prepare the Hospital Claims DataFrame"
   ]
  },
  {
   "cell_type": "code",
   "execution_count": 17,
   "metadata": {},
   "outputs": [
    {
     "data": {
      "text/html": [
       "<div>\n",
       "<style scoped>\n",
       "    .dataframe tbody tr th:only-of-type {\n",
       "        vertical-align: middle;\n",
       "    }\n",
       "\n",
       "    .dataframe tbody tr th {\n",
       "        vertical-align: top;\n",
       "    }\n",
       "\n",
       "    .dataframe thead th {\n",
       "        text-align: right;\n",
       "    }\n",
       "</style>\n",
       "<table border=\"1\" class=\"dataframe\">\n",
       "  <thead>\n",
       "    <tr style=\"text-align: right;\">\n",
       "      <th></th>\n",
       "      <th>DRG Definition</th>\n",
       "      <th>Provider Id</th>\n",
       "      <th>Provider Name</th>\n",
       "      <th>Provider Street Address</th>\n",
       "      <th>Provider City</th>\n",
       "      <th>Provider State</th>\n",
       "      <th>Provider Zip Code</th>\n",
       "      <th>Hospital Referral Region Description</th>\n",
       "      <th>Total Discharges</th>\n",
       "      <th>Average Covered Charges</th>\n",
       "      <th>Average Total Payments</th>\n",
       "      <th>Average Medicare Payments</th>\n",
       "    </tr>\n",
       "  </thead>\n",
       "  <tbody>\n",
       "    <tr>\n",
       "      <th>0</th>\n",
       "      <td>039 - EXTRACRANIAL PROCEDURES W/O CC/MCC</td>\n",
       "      <td>10001</td>\n",
       "      <td>SOUTHEAST ALABAMA MEDICAL CENTER</td>\n",
       "      <td>1108 ROSS CLARK CIRCLE</td>\n",
       "      <td>DOTHAN</td>\n",
       "      <td>AL</td>\n",
       "      <td>36301</td>\n",
       "      <td>AL - Dothan</td>\n",
       "      <td>91</td>\n",
       "      <td>32963.07</td>\n",
       "      <td>5777.24</td>\n",
       "      <td>4763.73</td>\n",
       "    </tr>\n",
       "    <tr>\n",
       "      <th>1</th>\n",
       "      <td>039 - EXTRACRANIAL PROCEDURES W/O CC/MCC</td>\n",
       "      <td>10005</td>\n",
       "      <td>MARSHALL MEDICAL CENTER SOUTH</td>\n",
       "      <td>2505 U S HIGHWAY 431 NORTH</td>\n",
       "      <td>BOAZ</td>\n",
       "      <td>AL</td>\n",
       "      <td>35957</td>\n",
       "      <td>AL - Birmingham</td>\n",
       "      <td>14</td>\n",
       "      <td>15131.85</td>\n",
       "      <td>5787.57</td>\n",
       "      <td>4976.71</td>\n",
       "    </tr>\n",
       "    <tr>\n",
       "      <th>2</th>\n",
       "      <td>039 - EXTRACRANIAL PROCEDURES W/O CC/MCC</td>\n",
       "      <td>10006</td>\n",
       "      <td>ELIZA COFFEE MEMORIAL HOSPITAL</td>\n",
       "      <td>205 MARENGO STREET</td>\n",
       "      <td>FLORENCE</td>\n",
       "      <td>AL</td>\n",
       "      <td>35631</td>\n",
       "      <td>AL - Birmingham</td>\n",
       "      <td>24</td>\n",
       "      <td>37560.37</td>\n",
       "      <td>5434.95</td>\n",
       "      <td>4453.79</td>\n",
       "    </tr>\n",
       "    <tr>\n",
       "      <th>3</th>\n",
       "      <td>039 - EXTRACRANIAL PROCEDURES W/O CC/MCC</td>\n",
       "      <td>10011</td>\n",
       "      <td>ST VINCENT'S EAST</td>\n",
       "      <td>50 MEDICAL PARK EAST DRIVE</td>\n",
       "      <td>BIRMINGHAM</td>\n",
       "      <td>AL</td>\n",
       "      <td>35235</td>\n",
       "      <td>AL - Birmingham</td>\n",
       "      <td>25</td>\n",
       "      <td>13998.28</td>\n",
       "      <td>5417.56</td>\n",
       "      <td>4129.16</td>\n",
       "    </tr>\n",
       "    <tr>\n",
       "      <th>4</th>\n",
       "      <td>039 - EXTRACRANIAL PROCEDURES W/O CC/MCC</td>\n",
       "      <td>10016</td>\n",
       "      <td>SHELBY BAPTIST MEDICAL CENTER</td>\n",
       "      <td>1000 FIRST STREET NORTH</td>\n",
       "      <td>ALABASTER</td>\n",
       "      <td>AL</td>\n",
       "      <td>35007</td>\n",
       "      <td>AL - Birmingham</td>\n",
       "      <td>18</td>\n",
       "      <td>31633.27</td>\n",
       "      <td>5658.33</td>\n",
       "      <td>4851.44</td>\n",
       "    </tr>\n",
       "  </tbody>\n",
       "</table>\n",
       "</div>"
      ],
      "text/plain": [
       "                             DRG Definition  Provider Id  \\\n",
       "0  039 - EXTRACRANIAL PROCEDURES W/O CC/MCC        10001   \n",
       "1  039 - EXTRACRANIAL PROCEDURES W/O CC/MCC        10005   \n",
       "2  039 - EXTRACRANIAL PROCEDURES W/O CC/MCC        10006   \n",
       "3  039 - EXTRACRANIAL PROCEDURES W/O CC/MCC        10011   \n",
       "4  039 - EXTRACRANIAL PROCEDURES W/O CC/MCC        10016   \n",
       "\n",
       "                      Provider Name     Provider Street Address Provider City  \\\n",
       "0  SOUTHEAST ALABAMA MEDICAL CENTER      1108 ROSS CLARK CIRCLE        DOTHAN   \n",
       "1     MARSHALL MEDICAL CENTER SOUTH  2505 U S HIGHWAY 431 NORTH          BOAZ   \n",
       "2    ELIZA COFFEE MEMORIAL HOSPITAL          205 MARENGO STREET      FLORENCE   \n",
       "3                 ST VINCENT'S EAST  50 MEDICAL PARK EAST DRIVE    BIRMINGHAM   \n",
       "4     SHELBY BAPTIST MEDICAL CENTER     1000 FIRST STREET NORTH     ALABASTER   \n",
       "\n",
       "  Provider State  Provider Zip Code Hospital Referral Region Description  \\\n",
       "0             AL              36301                          AL - Dothan   \n",
       "1             AL              35957                      AL - Birmingham   \n",
       "2             AL              35631                      AL - Birmingham   \n",
       "3             AL              35235                      AL - Birmingham   \n",
       "4             AL              35007                      AL - Birmingham   \n",
       "\n",
       "   Total Discharges  Average Covered Charges  Average Total Payments  \\\n",
       "0                91                 32963.07                 5777.24   \n",
       "1                14                 15131.85                 5787.57   \n",
       "2                24                 37560.37                 5434.95   \n",
       "3                25                 13998.28                 5417.56   \n",
       "4                18                 31633.27                 5658.33   \n",
       "\n",
       "   Average Medicare Payments  \n",
       "0                    4763.73  \n",
       "1                    4976.71  \n",
       "2                    4453.79  \n",
       "3                    4129.16  \n",
       "4                    4851.44  "
      ]
     },
     "execution_count": 17,
     "metadata": {},
     "output_type": "execute_result"
    }
   ],
   "source": [
    "# Read in hospital_claims.csv file as a Pandas DataFrame\n",
    "hospital_data = pd.read_csv(Path(\"../Resources/hospital_claims.csv\"))\n",
    "\n",
    "# Review the DataFrame\n",
    "hospital_data.head()"
   ]
  },
  {
   "cell_type": "code",
   "execution_count": 18,
   "metadata": {},
   "outputs": [
    {
     "data": {
      "text/html": [
       "<div>\n",
       "<style scoped>\n",
       "    .dataframe tbody tr th:only-of-type {\n",
       "        vertical-align: middle;\n",
       "    }\n",
       "\n",
       "    .dataframe tbody tr th {\n",
       "        vertical-align: top;\n",
       "    }\n",
       "\n",
       "    .dataframe thead th {\n",
       "        text-align: right;\n",
       "    }\n",
       "</style>\n",
       "<table border=\"1\" class=\"dataframe\">\n",
       "  <thead>\n",
       "    <tr style=\"text-align: right;\">\n",
       "      <th></th>\n",
       "      <th>DRG Definition</th>\n",
       "      <th>Provider Id</th>\n",
       "      <th>Provider Name</th>\n",
       "      <th>Provider Street Address</th>\n",
       "      <th>Provider City</th>\n",
       "      <th>Provider State</th>\n",
       "      <th>Provider Zip Code</th>\n",
       "      <th>Hospital Referral Region Description</th>\n",
       "      <th>Total Discharges</th>\n",
       "      <th>Average Covered Charges</th>\n",
       "      <th>Average Total Payments</th>\n",
       "      <th>Average Medicare Payments</th>\n",
       "    </tr>\n",
       "  </thead>\n",
       "  <tbody>\n",
       "    <tr>\n",
       "      <th>118109</th>\n",
       "      <td>552 - MEDICAL BACK PROBLEMS W/O MCC</td>\n",
       "      <td>50128</td>\n",
       "      <td>TRI-CITY MEDICAL CENTER</td>\n",
       "      <td>4002 VISTA WAY</td>\n",
       "      <td>OCEANSIDE</td>\n",
       "      <td>CA</td>\n",
       "      <td>92056</td>\n",
       "      <td>CA - San Diego</td>\n",
       "      <td>14</td>\n",
       "      <td>26610.85</td>\n",
       "      <td>5970.57</td>\n",
       "      <td>5007.14</td>\n",
       "    </tr>\n",
       "    <tr>\n",
       "      <th>118137</th>\n",
       "      <td>552 - MEDICAL BACK PROBLEMS W/O MCC</td>\n",
       "      <td>50764</td>\n",
       "      <td>SHASTA REGIONAL MEDICAL CENTER</td>\n",
       "      <td>1100 BUTTE ST</td>\n",
       "      <td>REDDING</td>\n",
       "      <td>CA</td>\n",
       "      <td>96001</td>\n",
       "      <td>CA - Redding</td>\n",
       "      <td>29</td>\n",
       "      <td>36127.31</td>\n",
       "      <td>6305.17</td>\n",
       "      <td>5219.93</td>\n",
       "    </tr>\n",
       "    <tr>\n",
       "      <th>118355</th>\n",
       "      <td>552 - MEDICAL BACK PROBLEMS W/O MCC</td>\n",
       "      <td>60001</td>\n",
       "      <td>NORTH COLORADO MEDICAL CENTER</td>\n",
       "      <td>1801 16TH STREET</td>\n",
       "      <td>GREELEY</td>\n",
       "      <td>CO</td>\n",
       "      <td>80631</td>\n",
       "      <td>CO - Greeley</td>\n",
       "      <td>48</td>\n",
       "      <td>20543.02</td>\n",
       "      <td>5454.12</td>\n",
       "      <td>4252.91</td>\n",
       "    </tr>\n",
       "    <tr>\n",
       "      <th>118383</th>\n",
       "      <td>552 - MEDICAL BACK PROBLEMS W/O MCC</td>\n",
       "      <td>100009</td>\n",
       "      <td>UNIVERSITY OF MIAMI HOSPITAL</td>\n",
       "      <td>1400 NW 12TH AVE</td>\n",
       "      <td>MIAMI</td>\n",
       "      <td>FL</td>\n",
       "      <td>33136</td>\n",
       "      <td>FL - Miami</td>\n",
       "      <td>37</td>\n",
       "      <td>40265.86</td>\n",
       "      <td>6362.72</td>\n",
       "      <td>5466.67</td>\n",
       "    </tr>\n",
       "    <tr>\n",
       "      <th>120657</th>\n",
       "      <td>552 - MEDICAL BACK PROBLEMS W/O MCC</td>\n",
       "      <td>100012</td>\n",
       "      <td>LEE MEMORIAL HOSPITAL</td>\n",
       "      <td>2776 CLEVELAND AVE</td>\n",
       "      <td>FORT MYERS</td>\n",
       "      <td>FL</td>\n",
       "      <td>33901</td>\n",
       "      <td>FL - Fort Myers</td>\n",
       "      <td>83</td>\n",
       "      <td>20712.84</td>\n",
       "      <td>4889.45</td>\n",
       "      <td>3755.37</td>\n",
       "    </tr>\n",
       "  </tbody>\n",
       "</table>\n",
       "</div>"
      ],
      "text/plain": [
       "                             DRG Definition  Provider Id  \\\n",
       "118109  552 - MEDICAL BACK PROBLEMS W/O MCC        50128   \n",
       "118137  552 - MEDICAL BACK PROBLEMS W/O MCC        50764   \n",
       "118355  552 - MEDICAL BACK PROBLEMS W/O MCC        60001   \n",
       "118383  552 - MEDICAL BACK PROBLEMS W/O MCC       100009   \n",
       "120657  552 - MEDICAL BACK PROBLEMS W/O MCC       100012   \n",
       "\n",
       "                         Provider Name Provider Street Address Provider City  \\\n",
       "118109         TRI-CITY MEDICAL CENTER          4002 VISTA WAY     OCEANSIDE   \n",
       "118137  SHASTA REGIONAL MEDICAL CENTER           1100 BUTTE ST       REDDING   \n",
       "118355   NORTH COLORADO MEDICAL CENTER        1801 16TH STREET       GREELEY   \n",
       "118383    UNIVERSITY OF MIAMI HOSPITAL        1400 NW 12TH AVE         MIAMI   \n",
       "120657           LEE MEMORIAL HOSPITAL      2776 CLEVELAND AVE    FORT MYERS   \n",
       "\n",
       "       Provider State  Provider Zip Code Hospital Referral Region Description  \\\n",
       "118109             CA              92056                       CA - San Diego   \n",
       "118137             CA              96001                         CA - Redding   \n",
       "118355             CO              80631                         CO - Greeley   \n",
       "118383             FL              33136                           FL - Miami   \n",
       "120657             FL              33901                      FL - Fort Myers   \n",
       "\n",
       "        Total Discharges  Average Covered Charges  Average Total Payments  \\\n",
       "118109                14                 26610.85                 5970.57   \n",
       "118137                29                 36127.31                 6305.17   \n",
       "118355                48                 20543.02                 5454.12   \n",
       "118383                37                 40265.86                 6362.72   \n",
       "120657                83                 20712.84                 4889.45   \n",
       "\n",
       "        Average Medicare Payments  \n",
       "118109                    5007.14  \n",
       "118137                    5219.93  \n",
       "118355                    4252.91  \n",
       "118383                    5466.67  \n",
       "120657                    3755.37  "
      ]
     },
     "execution_count": 18,
     "metadata": {},
     "output_type": "execute_result"
    }
   ],
   "source": [
    "# Slice the DataFrame to consist of only \"552 - MEDICAL BACK PROBLEMS W/O MCC\" information\n",
    "procedure_552_charges = hospital_data[\n",
    "    hospital_data[\"DRG Definition\"] == \"552 - MEDICAL BACK PROBLEMS W/O MCC\"\n",
    "]\n",
    "\n",
    "# Review the DataFrame\n",
    "procedure_552_charges.head()"
   ]
  },
  {
   "cell_type": "markdown",
   "metadata": {},
   "source": [
    "## Slice data for Average Total Payments by State"
   ]
  },
  {
   "cell_type": "code",
   "execution_count": 19,
   "metadata": {},
   "outputs": [
    {
     "data": {
      "text/html": [
       "<div>\n",
       "<style scoped>\n",
       "    .dataframe tbody tr th:only-of-type {\n",
       "        vertical-align: middle;\n",
       "    }\n",
       "\n",
       "    .dataframe tbody tr th {\n",
       "        vertical-align: top;\n",
       "    }\n",
       "\n",
       "    .dataframe thead th {\n",
       "        text-align: right;\n",
       "    }\n",
       "</style>\n",
       "<table border=\"1\" class=\"dataframe\">\n",
       "  <thead>\n",
       "    <tr style=\"text-align: right;\">\n",
       "      <th></th>\n",
       "      <th>Average Total Payments</th>\n",
       "    </tr>\n",
       "    <tr>\n",
       "      <th>Provider State</th>\n",
       "      <th></th>\n",
       "    </tr>\n",
       "  </thead>\n",
       "  <tbody>\n",
       "    <tr>\n",
       "      <th>AK</th>\n",
       "      <td>7134.40</td>\n",
       "    </tr>\n",
       "    <tr>\n",
       "      <th>AL</th>\n",
       "      <td>149613.29</td>\n",
       "    </tr>\n",
       "    <tr>\n",
       "      <th>AR</th>\n",
       "      <td>116147.95</td>\n",
       "    </tr>\n",
       "    <tr>\n",
       "      <th>AZ</th>\n",
       "      <td>151868.43</td>\n",
       "    </tr>\n",
       "    <tr>\n",
       "      <th>CA</th>\n",
       "      <td>1068146.26</td>\n",
       "    </tr>\n",
       "  </tbody>\n",
       "</table>\n",
       "</div>"
      ],
      "text/plain": [
       "                Average Total Payments\n",
       "Provider State                        \n",
       "AK                             7134.40\n",
       "AL                           149613.29\n",
       "AR                           116147.95\n",
       "AZ                           151868.43\n",
       "CA                          1068146.26"
      ]
     },
     "execution_count": 19,
     "metadata": {},
     "output_type": "execute_result"
    }
   ],
   "source": [
    "# Group data by state and average total payments, and then sum the values\n",
    "payments_by_state = procedure_552_charges[[\"Average Total Payments\", \"Provider State\"]]\n",
    "\n",
    "# Sum the average total payments by state\n",
    "total_payments_by_state = payments_by_state.groupby(\"Provider State\").sum()\n",
    "\n",
    "# Review the DataFrame\n",
    "total_payments_by_state.head()"
   ]
  },
  {
   "cell_type": "markdown",
   "metadata": {},
   "source": [
    "### Create the plot objects"
   ]
  },
  {
   "cell_type": "code",
   "execution_count": 20,
   "metadata": {},
   "outputs": [
    {
     "data": {},
     "metadata": {},
     "output_type": "display_data"
    },
    {
     "data": {
      "application/vnd.holoviews_exec.v0+json": "",
      "text/html": [
       "<div id='2616'>\n",
       "  <div class=\"bk-root\" id=\"2e64fea2-700a-45df-b2c0-6ffd9652b49d\" data-root-id=\"2616\"></div>\n",
       "</div>\n",
       "<script type=\"application/javascript\">(function(root) {\n",
       "  function embed_document(root) {\n",
       "    var docs_json = {\"5bf432f9-b474-4ad4-a474-7164ad723ad3\":{\"defs\":[{\"extends\":null,\"module\":null,\"name\":\"ReactiveHTML1\",\"overrides\":[],\"properties\":[]},{\"extends\":null,\"module\":null,\"name\":\"FlexBox1\",\"overrides\":[],\"properties\":[{\"default\":\"flex-start\",\"kind\":null,\"name\":\"align_content\"},{\"default\":\"flex-start\",\"kind\":null,\"name\":\"align_items\"},{\"default\":\"row\",\"kind\":null,\"name\":\"flex_direction\"},{\"default\":\"wrap\",\"kind\":null,\"name\":\"flex_wrap\"},{\"default\":\"flex-start\",\"kind\":null,\"name\":\"justify_content\"}]},{\"extends\":null,\"module\":null,\"name\":\"GridStack1\",\"overrides\":[],\"properties\":[{\"default\":\"warn\",\"kind\":null,\"name\":\"mode\"},{\"default\":null,\"kind\":null,\"name\":\"ncols\"},{\"default\":null,\"kind\":null,\"name\":\"nrows\"},{\"default\":true,\"kind\":null,\"name\":\"allow_resize\"},{\"default\":true,\"kind\":null,\"name\":\"allow_drag\"},{\"default\":[],\"kind\":null,\"name\":\"state\"}]},{\"extends\":null,\"module\":null,\"name\":\"click1\",\"overrides\":[],\"properties\":[{\"default\":\"\",\"kind\":null,\"name\":\"terminal_output\"},{\"default\":\"\",\"kind\":null,\"name\":\"debug_name\"},{\"default\":0,\"kind\":null,\"name\":\"clears\"}]},{\"extends\":null,\"module\":null,\"name\":\"NotificationAreaBase1\",\"overrides\":[],\"properties\":[{\"default\":\"bottom-right\",\"kind\":null,\"name\":\"position\"},{\"default\":0,\"kind\":null,\"name\":\"_clear\"}]},{\"extends\":null,\"module\":null,\"name\":\"NotificationArea1\",\"overrides\":[],\"properties\":[{\"default\":[],\"kind\":null,\"name\":\"notifications\"},{\"default\":\"bottom-right\",\"kind\":null,\"name\":\"position\"},{\"default\":0,\"kind\":null,\"name\":\"_clear\"},{\"default\":[{\"background\":\"#ffc107\",\"icon\":{\"className\":\"fas fa-exclamation-triangle\",\"color\":\"white\",\"tagName\":\"i\"},\"type\":\"warning\"},{\"background\":\"#007bff\",\"icon\":{\"className\":\"fas fa-info-circle\",\"color\":\"white\",\"tagName\":\"i\"},\"type\":\"info\"}],\"kind\":null,\"name\":\"types\"}]},{\"extends\":null,\"module\":null,\"name\":\"Notification\",\"overrides\":[],\"properties\":[{\"default\":null,\"kind\":null,\"name\":\"background\"},{\"default\":3000,\"kind\":null,\"name\":\"duration\"},{\"default\":null,\"kind\":null,\"name\":\"icon\"},{\"default\":\"\",\"kind\":null,\"name\":\"message\"},{\"default\":null,\"kind\":null,\"name\":\"notification_type\"},{\"default\":false,\"kind\":null,\"name\":\"_destroyed\"}]},{\"extends\":null,\"module\":null,\"name\":\"TemplateActions1\",\"overrides\":[],\"properties\":[{\"default\":0,\"kind\":null,\"name\":\"open_modal\"},{\"default\":0,\"kind\":null,\"name\":\"close_modal\"}]},{\"extends\":null,\"module\":null,\"name\":\"MaterialTemplateActions1\",\"overrides\":[],\"properties\":[{\"default\":0,\"kind\":null,\"name\":\"open_modal\"},{\"default\":0,\"kind\":null,\"name\":\"close_modal\"}]}],\"roots\":{\"references\":[{\"attributes\":{\"margin\":[5,5,5,5],\"name\":\"HSpacer02761\",\"sizing_mode\":\"stretch_width\"},\"id\":\"2675\",\"type\":\"Spacer\"},{\"attributes\":{},\"id\":\"2637\",\"type\":\"SaveTool\"},{\"attributes\":{},\"id\":\"2651\",\"type\":\"Selection\"},{\"attributes\":{},\"id\":\"2638\",\"type\":\"PanTool\"},{\"attributes\":{},\"id\":\"2641\",\"type\":\"ResetTool\"},{\"attributes\":{\"children\":[{\"id\":\"2617\"},{\"id\":\"2621\"},{\"id\":\"2675\"}],\"margin\":[0,0,0,0],\"name\":\"Row02756\",\"tags\":[\"embedded\"]},\"id\":\"2616\",\"type\":\"Row\"},{\"attributes\":{\"axis\":{\"id\":\"2630\"},\"coordinates\":null,\"grid_line_color\":null,\"group\":null,\"ticker\":null},\"id\":\"2632\",\"type\":\"Grid\"},{\"attributes\":{},\"id\":\"2639\",\"type\":\"WheelZoomTool\"},{\"attributes\":{\"fill_alpha\":{\"value\":0.1},\"fill_color\":{\"value\":\"#30a2da\"},\"hatch_alpha\":{\"value\":0.1},\"hatch_color\":{\"value\":\"#30a2da\"},\"line_alpha\":{\"value\":0.1},\"top\":{\"field\":\"Average_Total_Payments\"},\"width\":{\"value\":0.8},\"x\":{\"field\":\"Provider_State\"}},\"id\":\"2654\",\"type\":\"VBar\"},{\"attributes\":{\"axis_label\":\"Provider State\",\"coordinates\":null,\"formatter\":{\"id\":\"2660\"},\"group\":null,\"major_label_policy\":{\"id\":\"2661\"},\"ticker\":{\"id\":\"2631\"}},\"id\":\"2630\",\"type\":\"CategoricalAxis\"},{\"attributes\":{\"overlay\":{\"id\":\"2642\"}},\"id\":\"2640\",\"type\":\"BoxZoomTool\"},{\"attributes\":{\"data\":{\"Average_Total_Payments\":{\"__ndarray__\":\"ZmZmZmbeu0AfhetRakMCQTMzMzM/W/xACtejcOOJAkEpXI9CckwwQa5H4Xqk7ABBAAAAAPKxAEEK16Nw1eTlQFK4HoVLatZA4XoULmPMJUF7FK5H4yoLQfYoXI8SB+NAmpmZmcEA+0CZmZmZGd/eQDMzMzPleyFBcT0K12G/DEFcj8L1lFP0QMP1KFxZYQNBpHA9Cv9S/EAVrkfhllcSQT0K16MoiBFBrkfheqAZ8kDD9ShcI3UUQR+F61GKAgRBj8L1KDStDEGkcD0KP3z5QHsUrkfhR99AexSuRwyXEEFxPQrX4xTVQClcj8J1dPRASOF6FIYC7EDsUbge57sXQc3MzMzMrOpArkfherRI9EApXI/CW24nQVyPwvVHthtBhetRuPo5+0CamZmZ2YPyQJqZmZk8Fx9BPgrXo2iM4EApXI/CxQMCQeF6FK737+JACtejcBm2A0EAAAAAvHsiQT4K16OwiOZAZmZmZiiGDEHsUbgeRbrSQAAAAAA+FAdBFa5H4Z4LB0H2KFyP3v71QKRwPQp3m9hA\",\"dtype\":\"float64\",\"order\":\"little\",\"shape\":[51]},\"Provider_State\":[\"AK\",\"AL\",\"AR\",\"AZ\",\"CA\",\"CO\",\"CT\",\"DC\",\"DE\",\"FL\",\"GA\",\"HI\",\"IA\",\"ID\",\"IL\",\"IN\",\"KS\",\"KY\",\"LA\",\"MA\",\"MD\",\"ME\",\"MI\",\"MN\",\"MO\",\"MS\",\"MT\",\"NC\",\"ND\",\"NE\",\"NH\",\"NJ\",\"NM\",\"NV\",\"NY\",\"OH\",\"OK\",\"OR\",\"PA\",\"RI\",\"SC\",\"SD\",\"TN\",\"TX\",\"UT\",\"VA\",\"VT\",\"WA\",\"WI\",\"WV\",\"WY\"]},\"selected\":{\"id\":\"2651\"},\"selection_policy\":{\"id\":\"2672\"}},\"id\":\"2650\",\"type\":\"ColumnDataSource\"},{\"attributes\":{},\"id\":\"2663\",\"type\":\"BasicTickFormatter\"},{\"attributes\":{},\"id\":\"2626\",\"type\":\"CategoricalScale\"},{\"attributes\":{\"coordinates\":null,\"group\":null,\"text_color\":\"black\",\"text_font_size\":\"12pt\"},\"id\":\"2622\",\"type\":\"Title\"},{\"attributes\":{\"margin\":[5,5,5,5],\"name\":\"HSpacer02760\",\"sizing_mode\":\"stretch_width\"},\"id\":\"2617\",\"type\":\"Spacer\"},{\"attributes\":{},\"id\":\"2660\",\"type\":\"CategoricalTickFormatter\"},{\"attributes\":{},\"id\":\"2661\",\"type\":\"AllLabels\"},{\"attributes\":{\"fill_color\":{\"value\":\"#30a2da\"},\"hatch_color\":{\"value\":\"#30a2da\"},\"top\":{\"field\":\"Average_Total_Payments\"},\"width\":{\"value\":0.8},\"x\":{\"field\":\"Provider_State\"}},\"id\":\"2653\",\"type\":\"VBar\"},{\"attributes\":{},\"id\":\"2628\",\"type\":\"LinearScale\"},{\"attributes\":{\"tools\":[{\"id\":\"2620\"},{\"id\":\"2637\"},{\"id\":\"2638\"},{\"id\":\"2639\"},{\"id\":\"2640\"},{\"id\":\"2641\"}]},\"id\":\"2643\",\"type\":\"Toolbar\"},{\"attributes\":{},\"id\":\"2634\",\"type\":\"BasicTicker\"},{\"attributes\":{},\"id\":\"2631\",\"type\":\"CategoricalTicker\"},{\"attributes\":{\"end\":1174247.446,\"reset_end\":1174247.446,\"reset_start\":0.0,\"tags\":[[[\"Average Total Payments\",\"Average Total Payments\",null]]]},\"id\":\"2619\",\"type\":\"Range1d\"},{\"attributes\":{},\"id\":\"2672\",\"type\":\"UnionRenderers\"},{\"attributes\":{\"axis_label\":\"Average Total Payments\",\"coordinates\":null,\"formatter\":{\"id\":\"2663\"},\"group\":null,\"major_label_policy\":{\"id\":\"2664\"},\"ticker\":{\"id\":\"2634\"}},\"id\":\"2633\",\"type\":\"LinearAxis\"},{\"attributes\":{\"axis\":{\"id\":\"2633\"},\"coordinates\":null,\"dimension\":1,\"grid_line_color\":null,\"group\":null,\"ticker\":null},\"id\":\"2636\",\"type\":\"Grid\"},{\"attributes\":{\"fill_alpha\":{\"value\":0.2},\"fill_color\":{\"value\":\"#30a2da\"},\"hatch_alpha\":{\"value\":0.2},\"hatch_color\":{\"value\":\"#30a2da\"},\"line_alpha\":{\"value\":0.2},\"top\":{\"field\":\"Average_Total_Payments\"},\"width\":{\"value\":0.8},\"x\":{\"field\":\"Provider_State\"}},\"id\":\"2655\",\"type\":\"VBar\"},{\"attributes\":{\"bottom_units\":\"screen\",\"coordinates\":null,\"fill_alpha\":0.5,\"fill_color\":\"lightgrey\",\"group\":null,\"left_units\":\"screen\",\"level\":\"overlay\",\"line_alpha\":1.0,\"line_color\":\"black\",\"line_dash\":[4,4],\"line_width\":2,\"right_units\":\"screen\",\"syncable\":false,\"top_units\":\"screen\"},\"id\":\"2642\",\"type\":\"BoxAnnotation\"},{\"attributes\":{},\"id\":\"2664\",\"type\":\"AllLabels\"},{\"attributes\":{\"callback\":null,\"renderers\":[{\"id\":\"2656\"}],\"tags\":[\"hv_created\"],\"tooltips\":[[\"Provider State\",\"@{Provider_State}\"],[\"Average Total Payments\",\"@{Average_Total_Payments}\"]]},\"id\":\"2620\",\"type\":\"HoverTool\"},{\"attributes\":{\"below\":[{\"id\":\"2630\"}],\"center\":[{\"id\":\"2632\"},{\"id\":\"2636\"}],\"height\":300,\"left\":[{\"id\":\"2633\"}],\"margin\":[5,5,5,5],\"min_border_bottom\":10,\"min_border_left\":10,\"min_border_right\":10,\"min_border_top\":10,\"renderers\":[{\"id\":\"2656\"}],\"sizing_mode\":\"fixed\",\"title\":{\"id\":\"2622\"},\"toolbar\":{\"id\":\"2643\"},\"width\":700,\"x_range\":{\"id\":\"2618\"},\"x_scale\":{\"id\":\"2626\"},\"y_range\":{\"id\":\"2619\"},\"y_scale\":{\"id\":\"2628\"}},\"id\":\"2621\",\"subtype\":\"Figure\",\"type\":\"Plot\"},{\"attributes\":{\"source\":{\"id\":\"2650\"}},\"id\":\"2657\",\"type\":\"CDSView\"},{\"attributes\":{\"factors\":[\"AK\",\"AL\",\"AR\",\"AZ\",\"CA\",\"CO\",\"CT\",\"DC\",\"DE\",\"FL\",\"GA\",\"HI\",\"IA\",\"ID\",\"IL\",\"IN\",\"KS\",\"KY\",\"LA\",\"MA\",\"MD\",\"ME\",\"MI\",\"MN\",\"MO\",\"MS\",\"MT\",\"NC\",\"ND\",\"NE\",\"NH\",\"NJ\",\"NM\",\"NV\",\"NY\",\"OH\",\"OK\",\"OR\",\"PA\",\"RI\",\"SC\",\"SD\",\"TN\",\"TX\",\"UT\",\"VA\",\"VT\",\"WA\",\"WI\",\"WV\",\"WY\"],\"tags\":[[[\"Provider State\",\"Provider State\",null]]]},\"id\":\"2618\",\"type\":\"FactorRange\"},{\"attributes\":{\"coordinates\":null,\"data_source\":{\"id\":\"2650\"},\"glyph\":{\"id\":\"2653\"},\"group\":null,\"hover_glyph\":null,\"muted_glyph\":{\"id\":\"2655\"},\"nonselection_glyph\":{\"id\":\"2654\"},\"selection_glyph\":{\"id\":\"2658\"},\"view\":{\"id\":\"2657\"}},\"id\":\"2656\",\"type\":\"GlyphRenderer\"},{\"attributes\":{\"bottom\":{\"value\":0},\"fill_alpha\":{\"value\":1.0},\"fill_color\":{\"value\":\"#30a2da\"},\"hatch_alpha\":{\"value\":1.0},\"hatch_color\":{\"value\":\"#30a2da\"},\"hatch_scale\":{\"value\":12.0},\"hatch_weight\":{\"value\":1.0},\"line_alpha\":{\"value\":1.0},\"line_cap\":{\"value\":\"butt\"},\"line_color\":{\"value\":\"black\"},\"line_dash\":{\"value\":[]},\"line_dash_offset\":{\"value\":0},\"line_join\":{\"value\":\"bevel\"},\"line_width\":{\"value\":1},\"top\":{\"field\":\"Average_Total_Payments\"},\"width\":{\"value\":0.8},\"x\":{\"field\":\"Provider_State\"}},\"id\":\"2658\",\"type\":\"VBar\"}],\"root_ids\":[\"2616\"]},\"title\":\"Bokeh Application\",\"version\":\"2.4.3\"}};\n",
       "    var render_items = [{\"docid\":\"5bf432f9-b474-4ad4-a474-7164ad723ad3\",\"root_ids\":[\"2616\"],\"roots\":{\"2616\":\"2e64fea2-700a-45df-b2c0-6ffd9652b49d\"}}];\n",
       "    root.Bokeh.embed.embed_items_notebook(docs_json, render_items);\n",
       "  }\n",
       "  if (root.Bokeh !== undefined && root.Bokeh.Panel !== undefined) {\n",
       "    embed_document(root);\n",
       "  } else {\n",
       "    var attempts = 0;\n",
       "    var timer = setInterval(function(root) {\n",
       "      if (root.Bokeh !== undefined && root.Bokeh.Panel !== undefined) {\n",
       "        clearInterval(timer);\n",
       "        embed_document(root);\n",
       "      } else if (document.readyState == \"complete\") {\n",
       "        attempts++;\n",
       "        if (attempts > 200) {\n",
       "          clearInterval(timer);\n",
       "          console.log(\"Bokeh: ERROR: Unable to run BokehJS code because BokehJS library is missing\");\n",
       "        }\n",
       "      }\n",
       "    }, 25, root)\n",
       "  }\n",
       "})(window);</script>"
      ],
      "text/plain": [
       ":Bars   [Provider State]   (Average Total Payments)"
      ]
     },
     "execution_count": 20,
     "metadata": {
      "application/vnd.holoviews_exec.v0+json": {
       "id": "2616"
      }
     },
     "output_type": "execute_result"
    }
   ],
   "source": [
    "# Plot data using hvplot.bar\n",
    "total_payments_by_state.hvplot.bar()"
   ]
  },
  {
   "cell_type": "code",
   "execution_count": 21,
   "metadata": {},
   "outputs": [
    {
     "data": {},
     "metadata": {},
     "output_type": "display_data"
    },
    {
     "data": {
      "application/vnd.holoviews_exec.v0+json": "",
      "text/html": [
       "<div id='2727'>\n",
       "  <div class=\"bk-root\" id=\"145eab34-9b7f-4a7c-ab3a-76a2f9a24918\" data-root-id=\"2727\"></div>\n",
       "</div>\n",
       "<script type=\"application/javascript\">(function(root) {\n",
       "  function embed_document(root) {\n",
       "    var docs_json = {\"6aa28201-ccb3-4a65-86fa-26d0b0d4e458\":{\"defs\":[{\"extends\":null,\"module\":null,\"name\":\"ReactiveHTML1\",\"overrides\":[],\"properties\":[]},{\"extends\":null,\"module\":null,\"name\":\"FlexBox1\",\"overrides\":[],\"properties\":[{\"default\":\"flex-start\",\"kind\":null,\"name\":\"align_content\"},{\"default\":\"flex-start\",\"kind\":null,\"name\":\"align_items\"},{\"default\":\"row\",\"kind\":null,\"name\":\"flex_direction\"},{\"default\":\"wrap\",\"kind\":null,\"name\":\"flex_wrap\"},{\"default\":\"flex-start\",\"kind\":null,\"name\":\"justify_content\"}]},{\"extends\":null,\"module\":null,\"name\":\"GridStack1\",\"overrides\":[],\"properties\":[{\"default\":\"warn\",\"kind\":null,\"name\":\"mode\"},{\"default\":null,\"kind\":null,\"name\":\"ncols\"},{\"default\":null,\"kind\":null,\"name\":\"nrows\"},{\"default\":true,\"kind\":null,\"name\":\"allow_resize\"},{\"default\":true,\"kind\":null,\"name\":\"allow_drag\"},{\"default\":[],\"kind\":null,\"name\":\"state\"}]},{\"extends\":null,\"module\":null,\"name\":\"click1\",\"overrides\":[],\"properties\":[{\"default\":\"\",\"kind\":null,\"name\":\"terminal_output\"},{\"default\":\"\",\"kind\":null,\"name\":\"debug_name\"},{\"default\":0,\"kind\":null,\"name\":\"clears\"}]},{\"extends\":null,\"module\":null,\"name\":\"NotificationAreaBase1\",\"overrides\":[],\"properties\":[{\"default\":\"bottom-right\",\"kind\":null,\"name\":\"position\"},{\"default\":0,\"kind\":null,\"name\":\"_clear\"}]},{\"extends\":null,\"module\":null,\"name\":\"NotificationArea1\",\"overrides\":[],\"properties\":[{\"default\":[],\"kind\":null,\"name\":\"notifications\"},{\"default\":\"bottom-right\",\"kind\":null,\"name\":\"position\"},{\"default\":0,\"kind\":null,\"name\":\"_clear\"},{\"default\":[{\"background\":\"#ffc107\",\"icon\":{\"className\":\"fas fa-exclamation-triangle\",\"color\":\"white\",\"tagName\":\"i\"},\"type\":\"warning\"},{\"background\":\"#007bff\",\"icon\":{\"className\":\"fas fa-info-circle\",\"color\":\"white\",\"tagName\":\"i\"},\"type\":\"info\"}],\"kind\":null,\"name\":\"types\"}]},{\"extends\":null,\"module\":null,\"name\":\"Notification\",\"overrides\":[],\"properties\":[{\"default\":null,\"kind\":null,\"name\":\"background\"},{\"default\":3000,\"kind\":null,\"name\":\"duration\"},{\"default\":null,\"kind\":null,\"name\":\"icon\"},{\"default\":\"\",\"kind\":null,\"name\":\"message\"},{\"default\":null,\"kind\":null,\"name\":\"notification_type\"},{\"default\":false,\"kind\":null,\"name\":\"_destroyed\"}]},{\"extends\":null,\"module\":null,\"name\":\"TemplateActions1\",\"overrides\":[],\"properties\":[{\"default\":0,\"kind\":null,\"name\":\"open_modal\"},{\"default\":0,\"kind\":null,\"name\":\"close_modal\"}]},{\"extends\":null,\"module\":null,\"name\":\"MaterialTemplateActions1\",\"overrides\":[],\"properties\":[{\"default\":0,\"kind\":null,\"name\":\"open_modal\"},{\"default\":0,\"kind\":null,\"name\":\"close_modal\"}]}],\"roots\":{\"references\":[{\"attributes\":{},\"id\":\"2783\",\"type\":\"UnionRenderers\"},{\"attributes\":{\"tools\":[{\"id\":\"2731\"},{\"id\":\"2748\"},{\"id\":\"2749\"},{\"id\":\"2750\"},{\"id\":\"2751\"},{\"id\":\"2752\"}]},\"id\":\"2754\",\"type\":\"Toolbar\"},{\"attributes\":{\"source\":{\"id\":\"2761\"}},\"id\":\"2768\",\"type\":\"CDSView\"},{\"attributes\":{\"line_alpha\":0.2,\"line_color\":\"#30a2da\",\"line_width\":2,\"x\":{\"field\":\"Provider State\"},\"y\":{\"field\":\"Average Total Payments\"}},\"id\":\"2766\",\"type\":\"Line\"},{\"attributes\":{\"callback\":null,\"renderers\":[{\"id\":\"2767\"}],\"tags\":[\"hv_created\"],\"tooltips\":[[\"Provider State\",\"@{Provider_State}\"],[\"Average Total Payments\",\"@{Average_Total_Payments}\"]]},\"id\":\"2731\",\"type\":\"HoverTool\"},{\"attributes\":{},\"id\":\"2771\",\"type\":\"CategoricalTickFormatter\"},{\"attributes\":{\"bottom_units\":\"screen\",\"coordinates\":null,\"fill_alpha\":0.5,\"fill_color\":\"lightgrey\",\"group\":null,\"left_units\":\"screen\",\"level\":\"overlay\",\"line_alpha\":1.0,\"line_color\":\"black\",\"line_dash\":[4,4],\"line_width\":2,\"right_units\":\"screen\",\"syncable\":false,\"top_units\":\"screen\"},\"id\":\"2753\",\"type\":\"BoxAnnotation\"},{\"attributes\":{},\"id\":\"2748\",\"type\":\"SaveTool\"},{\"attributes\":{},\"id\":\"2749\",\"type\":\"PanTool\"},{\"attributes\":{\"axis\":{\"id\":\"2741\"},\"coordinates\":null,\"grid_line_color\":null,\"group\":null,\"ticker\":null},\"id\":\"2743\",\"type\":\"Grid\"},{\"attributes\":{},\"id\":\"2752\",\"type\":\"ResetTool\"},{\"attributes\":{\"margin\":[5,5,5,5],\"name\":\"HSpacer02864\",\"sizing_mode\":\"stretch_width\"},\"id\":\"2728\",\"type\":\"Spacer\"},{\"attributes\":{},\"id\":\"2750\",\"type\":\"WheelZoomTool\"},{\"attributes\":{\"line_color\":\"#30a2da\",\"line_width\":2,\"x\":{\"field\":\"Provider State\"},\"y\":{\"field\":\"Average Total Payments\"}},\"id\":\"2764\",\"type\":\"Line\"},{\"attributes\":{\"axis_label\":\"Provider State\",\"coordinates\":null,\"formatter\":{\"id\":\"2771\"},\"group\":null,\"major_label_policy\":{\"id\":\"2772\"},\"ticker\":{\"id\":\"2742\"}},\"id\":\"2741\",\"type\":\"CategoricalAxis\"},{\"attributes\":{\"overlay\":{\"id\":\"2753\"}},\"id\":\"2751\",\"type\":\"BoxZoomTool\"},{\"attributes\":{\"margin\":[5,5,5,5],\"name\":\"HSpacer02865\",\"sizing_mode\":\"stretch_width\"},\"id\":\"2786\",\"type\":\"Spacer\"},{\"attributes\":{\"children\":[{\"id\":\"2728\"},{\"id\":\"2732\"},{\"id\":\"2786\"}],\"margin\":[0,0,0,0],\"name\":\"Row02860\",\"tags\":[\"embedded\"]},\"id\":\"2727\",\"type\":\"Row\"},{\"attributes\":{},\"id\":\"2737\",\"type\":\"CategoricalScale\"},{\"attributes\":{\"coordinates\":null,\"group\":null,\"text_color\":\"black\",\"text_font_size\":\"12pt\"},\"id\":\"2733\",\"type\":\"Title\"},{\"attributes\":{\"line_color\":\"#30a2da\",\"line_width\":2,\"x\":{\"field\":\"Provider State\"},\"y\":{\"field\":\"Average Total Payments\"}},\"id\":\"2769\",\"type\":\"Line\"},{\"attributes\":{\"line_alpha\":0.1,\"line_color\":\"#30a2da\",\"line_width\":2,\"x\":{\"field\":\"Provider State\"},\"y\":{\"field\":\"Average Total Payments\"}},\"id\":\"2765\",\"type\":\"Line\"},{\"attributes\":{},\"id\":\"2739\",\"type\":\"LinearScale\"},{\"attributes\":{\"coordinates\":null,\"data_source\":{\"id\":\"2761\"},\"glyph\":{\"id\":\"2764\"},\"group\":null,\"hover_glyph\":null,\"muted_glyph\":{\"id\":\"2766\"},\"nonselection_glyph\":{\"id\":\"2765\"},\"selection_glyph\":{\"id\":\"2769\"},\"view\":{\"id\":\"2768\"}},\"id\":\"2767\",\"type\":\"GlyphRenderer\"},{\"attributes\":{},\"id\":\"2745\",\"type\":\"BasicTicker\"},{\"attributes\":{},\"id\":\"2742\",\"type\":\"CategoricalTicker\"},{\"attributes\":{\"factors\":[\"AK\",\"VT\",\"ND\",\"DE\",\"WY\",\"ID\",\"MT\",\"RI\",\"SD\",\"HI\",\"DC\",\"UT\",\"NM\",\"NH\",\"ME\",\"OR\",\"NV\",\"KS\",\"NE\",\"WV\",\"MS\",\"IA\",\"OK\",\"LA\",\"AR\",\"CT\",\"CO\",\"SC\",\"AL\",\"AZ\",\"KY\",\"TN\",\"MN\",\"WI\",\"WA\",\"GA\",\"VA\",\"MO\",\"IN\",\"NC\",\"MD\",\"MA\",\"MI\",\"NJ\",\"OH\",\"PA\",\"IL\",\"TX\",\"FL\",\"NY\",\"CA\"],\"tags\":[[[\"Provider State\",\"Provider State\",null]]]},\"id\":\"2729\",\"type\":\"FactorRange\"},{\"attributes\":{\"axis_label\":\"Average Total Payments\",\"coordinates\":null,\"formatter\":{\"id\":\"2774\"},\"group\":null,\"major_label_policy\":{\"id\":\"2775\"},\"ticker\":{\"id\":\"2745\"}},\"id\":\"2744\",\"type\":\"LinearAxis\"},{\"attributes\":{},\"id\":\"2772\",\"type\":\"AllLabels\"},{\"attributes\":{\"axis\":{\"id\":\"2744\"},\"coordinates\":null,\"dimension\":1,\"grid_line_color\":null,\"group\":null,\"ticker\":null},\"id\":\"2747\",\"type\":\"Grid\"},{\"attributes\":{},\"id\":\"2775\",\"type\":\"AllLabels\"},{\"attributes\":{},\"id\":\"2774\",\"type\":\"BasicTickFormatter\"},{\"attributes\":{\"below\":[{\"id\":\"2741\"}],\"center\":[{\"id\":\"2743\"},{\"id\":\"2747\"}],\"height\":300,\"left\":[{\"id\":\"2744\"}],\"margin\":[5,5,5,5],\"min_border_bottom\":10,\"min_border_left\":10,\"min_border_right\":10,\"min_border_top\":10,\"renderers\":[{\"id\":\"2767\"}],\"sizing_mode\":\"fixed\",\"title\":{\"id\":\"2733\"},\"toolbar\":{\"id\":\"2754\"},\"width\":700,\"x_range\":{\"id\":\"2729\"},\"x_scale\":{\"id\":\"2737\"},\"y_range\":{\"id\":\"2730\"},\"y_scale\":{\"id\":\"2739\"}},\"id\":\"2732\",\"subtype\":\"Figure\",\"type\":\"Plot\"},{\"attributes\":{\"end\":1174247.446,\"reset_end\":1174247.446,\"reset_start\":-98966.78600000002,\"start\":-98966.78600000002,\"tags\":[[[\"Average Total Payments\",\"Average Total Payments\",null]]]},\"id\":\"2730\",\"type\":\"Range1d\"},{\"attributes\":{\"data\":{\"Average Total Payments\":{\"__ndarray__\":\"ZmZmZmbeu0DsUbgeRbrSQHE9CtfjFNVAUrgehUtq1kCkcD0Kd5vYQJmZmZkZ395AexSuR+FH30A+CtejaIzgQOF6FK737+JA9ihcjxIH40AK16Nw1eTlQD4K16OwiOZAzczMzMys6kBI4XoUhgLsQK5H4XqgGfJAmpmZmdmD8kCuR+F6tEj0QFyPwvWUU/RAKVyPwnV09ED2KFyP3v71QKRwPQo/fPlAmpmZmcEA+0CF61G4+jn7QKRwPQr/UvxAMzMzMz9b/EAAAAAA8rEAQa5H4Xqk7ABBKVyPwsUDAkEfhetRakMCQQrXo3DjiQJBw/UoXFlhA0EK16NwGbYDQR+F61GKAgRBFa5H4Z4LB0EAAAAAPhQHQXsUrkfjKgtBZmZmZiiGDEGPwvUoNK0MQXE9CtdhvwxBexSuRwyXEEE9CtejKIgRQRWuR+GWVxJBw/UoXCN1FEHsUbge57sXQVyPwvVHthtBmpmZmTwXH0EzMzMz5XshQQAAAAC8eyJB4XoULmPMJUEpXI/CW24nQSlcj0JyTDBB\",\"dtype\":\"float64\",\"order\":\"little\",\"shape\":[51]},\"Average_Total_Payments\":{\"__ndarray__\":\"ZmZmZmbeu0DsUbgeRbrSQHE9CtfjFNVAUrgehUtq1kCkcD0Kd5vYQJmZmZkZ395AexSuR+FH30A+CtejaIzgQOF6FK737+JA9ihcjxIH40AK16Nw1eTlQD4K16OwiOZAzczMzMys6kBI4XoUhgLsQK5H4XqgGfJAmpmZmdmD8kCuR+F6tEj0QFyPwvWUU/RAKVyPwnV09ED2KFyP3v71QKRwPQo/fPlAmpmZmcEA+0CF61G4+jn7QKRwPQr/UvxAMzMzMz9b/EAAAAAA8rEAQa5H4Xqk7ABBKVyPwsUDAkEfhetRakMCQQrXo3DjiQJBw/UoXFlhA0EK16NwGbYDQR+F61GKAgRBFa5H4Z4LB0EAAAAAPhQHQXsUrkfjKgtBZmZmZiiGDEGPwvUoNK0MQXE9CtdhvwxBexSuRwyXEEE9CtejKIgRQRWuR+GWVxJBw/UoXCN1FEHsUbge57sXQVyPwvVHthtBmpmZmTwXH0EzMzMz5XshQQAAAAC8eyJB4XoULmPMJUEpXI/CW24nQSlcj0JyTDBB\",\"dtype\":\"float64\",\"order\":\"little\",\"shape\":[51]},\"Provider State\":[\"AK\",\"VT\",\"ND\",\"DE\",\"WY\",\"ID\",\"MT\",\"RI\",\"SD\",\"HI\",\"DC\",\"UT\",\"NM\",\"NH\",\"ME\",\"OR\",\"NV\",\"KS\",\"NE\",\"WV\",\"MS\",\"IA\",\"OK\",\"LA\",\"AR\",\"CT\",\"CO\",\"SC\",\"AL\",\"AZ\",\"KY\",\"TN\",\"MN\",\"WI\",\"WA\",\"GA\",\"VA\",\"MO\",\"IN\",\"NC\",\"MD\",\"MA\",\"MI\",\"NJ\",\"OH\",\"PA\",\"IL\",\"TX\",\"FL\",\"NY\",\"CA\"],\"Provider_State\":[\"AK\",\"VT\",\"ND\",\"DE\",\"WY\",\"ID\",\"MT\",\"RI\",\"SD\",\"HI\",\"DC\",\"UT\",\"NM\",\"NH\",\"ME\",\"OR\",\"NV\",\"KS\",\"NE\",\"WV\",\"MS\",\"IA\",\"OK\",\"LA\",\"AR\",\"CT\",\"CO\",\"SC\",\"AL\",\"AZ\",\"KY\",\"TN\",\"MN\",\"WI\",\"WA\",\"GA\",\"VA\",\"MO\",\"IN\",\"NC\",\"MD\",\"MA\",\"MI\",\"NJ\",\"OH\",\"PA\",\"IL\",\"TX\",\"FL\",\"NY\",\"CA\"]},\"selected\":{\"id\":\"2762\"},\"selection_policy\":{\"id\":\"2783\"}},\"id\":\"2761\",\"type\":\"ColumnDataSource\"},{\"attributes\":{},\"id\":\"2762\",\"type\":\"Selection\"}],\"root_ids\":[\"2727\"]},\"title\":\"Bokeh Application\",\"version\":\"2.4.3\"}};\n",
       "    var render_items = [{\"docid\":\"6aa28201-ccb3-4a65-86fa-26d0b0d4e458\",\"root_ids\":[\"2727\"],\"roots\":{\"2727\":\"145eab34-9b7f-4a7c-ab3a-76a2f9a24918\"}}];\n",
       "    root.Bokeh.embed.embed_items_notebook(docs_json, render_items);\n",
       "  }\n",
       "  if (root.Bokeh !== undefined && root.Bokeh.Panel !== undefined) {\n",
       "    embed_document(root);\n",
       "  } else {\n",
       "    var attempts = 0;\n",
       "    var timer = setInterval(function(root) {\n",
       "      if (root.Bokeh !== undefined && root.Bokeh.Panel !== undefined) {\n",
       "        clearInterval(timer);\n",
       "        embed_document(root);\n",
       "      } else if (document.readyState == \"complete\") {\n",
       "        attempts++;\n",
       "        if (attempts > 200) {\n",
       "          clearInterval(timer);\n",
       "          console.log(\"Bokeh: ERROR: Unable to run BokehJS code because BokehJS library is missing\");\n",
       "        }\n",
       "      }\n",
       "    }, 25, root)\n",
       "  }\n",
       "})(window);</script>"
      ],
      "text/plain": [
       ":Curve   [Provider State]   (Average Total Payments)"
      ]
     },
     "execution_count": 21,
     "metadata": {
      "application/vnd.holoviews_exec.v0+json": {
       "id": "2727"
      }
     },
     "output_type": "execute_result"
    }
   ],
   "source": [
    "# Sort the state data values by Average Total Paymnts\n",
    "sorted_total_payments_by_state = total_payments_by_state.sort_values(\"Average Total Payments\")\n",
    "\n",
    "# Plot the sorted data\n",
    "sorted_total_payments_by_state.hvplot()"
   ]
  },
  {
   "cell_type": "markdown",
   "metadata": {},
   "source": [
    "## Compose side-by-side plots using the + operator"
   ]
  },
  {
   "cell_type": "code",
   "execution_count": 22,
   "metadata": {},
   "outputs": [
    {
     "data": {},
     "metadata": {},
     "output_type": "display_data"
    },
    {
     "data": {
      "application/vnd.holoviews_exec.v0+json": "",
      "text/html": [
       "<div id='2838'>\n",
       "  <div class=\"bk-root\" id=\"ba07e28d-1df8-41ca-9d1b-72b474fe2bc8\" data-root-id=\"2838\"></div>\n",
       "</div>\n",
       "<script type=\"application/javascript\">(function(root) {\n",
       "  function embed_document(root) {\n",
       "    var docs_json = {\"ef67a7de-2322-441c-9404-2fd452cdfc2f\":{\"defs\":[{\"extends\":null,\"module\":null,\"name\":\"ReactiveHTML1\",\"overrides\":[],\"properties\":[]},{\"extends\":null,\"module\":null,\"name\":\"FlexBox1\",\"overrides\":[],\"properties\":[{\"default\":\"flex-start\",\"kind\":null,\"name\":\"align_content\"},{\"default\":\"flex-start\",\"kind\":null,\"name\":\"align_items\"},{\"default\":\"row\",\"kind\":null,\"name\":\"flex_direction\"},{\"default\":\"wrap\",\"kind\":null,\"name\":\"flex_wrap\"},{\"default\":\"flex-start\",\"kind\":null,\"name\":\"justify_content\"}]},{\"extends\":null,\"module\":null,\"name\":\"GridStack1\",\"overrides\":[],\"properties\":[{\"default\":\"warn\",\"kind\":null,\"name\":\"mode\"},{\"default\":null,\"kind\":null,\"name\":\"ncols\"},{\"default\":null,\"kind\":null,\"name\":\"nrows\"},{\"default\":true,\"kind\":null,\"name\":\"allow_resize\"},{\"default\":true,\"kind\":null,\"name\":\"allow_drag\"},{\"default\":[],\"kind\":null,\"name\":\"state\"}]},{\"extends\":null,\"module\":null,\"name\":\"click1\",\"overrides\":[],\"properties\":[{\"default\":\"\",\"kind\":null,\"name\":\"terminal_output\"},{\"default\":\"\",\"kind\":null,\"name\":\"debug_name\"},{\"default\":0,\"kind\":null,\"name\":\"clears\"}]},{\"extends\":null,\"module\":null,\"name\":\"NotificationAreaBase1\",\"overrides\":[],\"properties\":[{\"default\":\"bottom-right\",\"kind\":null,\"name\":\"position\"},{\"default\":0,\"kind\":null,\"name\":\"_clear\"}]},{\"extends\":null,\"module\":null,\"name\":\"NotificationArea1\",\"overrides\":[],\"properties\":[{\"default\":[],\"kind\":null,\"name\":\"notifications\"},{\"default\":\"bottom-right\",\"kind\":null,\"name\":\"position\"},{\"default\":0,\"kind\":null,\"name\":\"_clear\"},{\"default\":[{\"background\":\"#ffc107\",\"icon\":{\"className\":\"fas fa-exclamation-triangle\",\"color\":\"white\",\"tagName\":\"i\"},\"type\":\"warning\"},{\"background\":\"#007bff\",\"icon\":{\"className\":\"fas fa-info-circle\",\"color\":\"white\",\"tagName\":\"i\"},\"type\":\"info\"}],\"kind\":null,\"name\":\"types\"}]},{\"extends\":null,\"module\":null,\"name\":\"Notification\",\"overrides\":[],\"properties\":[{\"default\":null,\"kind\":null,\"name\":\"background\"},{\"default\":3000,\"kind\":null,\"name\":\"duration\"},{\"default\":null,\"kind\":null,\"name\":\"icon\"},{\"default\":\"\",\"kind\":null,\"name\":\"message\"},{\"default\":null,\"kind\":null,\"name\":\"notification_type\"},{\"default\":false,\"kind\":null,\"name\":\"_destroyed\"}]},{\"extends\":null,\"module\":null,\"name\":\"TemplateActions1\",\"overrides\":[],\"properties\":[{\"default\":0,\"kind\":null,\"name\":\"open_modal\"},{\"default\":0,\"kind\":null,\"name\":\"close_modal\"}]},{\"extends\":null,\"module\":null,\"name\":\"MaterialTemplateActions1\",\"overrides\":[],\"properties\":[{\"default\":0,\"kind\":null,\"name\":\"open_modal\"},{\"default\":0,\"kind\":null,\"name\":\"close_modal\"}]}],\"roots\":{\"references\":[{\"attributes\":{},\"id\":\"2863\",\"type\":\"ResetTool\"},{\"attributes\":{},\"id\":\"2861\",\"type\":\"WheelZoomTool\"},{\"attributes\":{\"source\":{\"id\":\"2918\"}},\"id\":\"2925\",\"type\":\"CDSView\"},{\"attributes\":{\"overlay\":{\"id\":\"2864\"}},\"id\":\"2862\",\"type\":\"BoxZoomTool\"},{\"attributes\":{\"coordinates\":null,\"data_source\":{\"id\":\"2918\"},\"glyph\":{\"id\":\"2921\"},\"group\":null,\"hover_glyph\":null,\"muted_glyph\":{\"id\":\"2923\"},\"nonselection_glyph\":{\"id\":\"2922\"},\"selection_glyph\":{\"id\":\"2926\"},\"view\":{\"id\":\"2925\"}},\"id\":\"2924\",\"type\":\"GlyphRenderer\"},{\"attributes\":{\"tools\":[{\"id\":\"2888\"},{\"id\":\"2905\"},{\"id\":\"2906\"},{\"id\":\"2907\"},{\"id\":\"2908\"},{\"id\":\"2909\"}]},\"id\":\"2911\",\"type\":\"Toolbar\"},{\"attributes\":{\"fill_color\":{\"value\":\"#30a2da\"},\"hatch_color\":{\"value\":\"#30a2da\"},\"top\":{\"field\":\"Average_Total_Payments\"},\"width\":{\"value\":0.8},\"x\":{\"field\":\"Provider_State\"}},\"id\":\"2875\",\"type\":\"VBar\"},{\"attributes\":{\"children\":[{\"id\":\"2957\"},{\"id\":\"2955\"}]},\"id\":\"2958\",\"type\":\"Column\"},{\"attributes\":{\"factors\":[\"AK\",\"AL\",\"AR\",\"AZ\",\"CA\",\"CO\",\"CT\",\"DC\",\"DE\",\"FL\",\"GA\",\"HI\",\"IA\",\"ID\",\"IL\",\"IN\",\"KS\",\"KY\",\"LA\",\"MA\",\"MD\",\"ME\",\"MI\",\"MN\",\"MO\",\"MS\",\"MT\",\"NC\",\"ND\",\"NE\",\"NH\",\"NJ\",\"NM\",\"NV\",\"NY\",\"OH\",\"OK\",\"OR\",\"PA\",\"RI\",\"SC\",\"SD\",\"TN\",\"TX\",\"UT\",\"VA\",\"VT\",\"WA\",\"WI\",\"WV\",\"WY\"],\"tags\":[[[\"Provider State\",\"Provider State\",null]]]},\"id\":\"2840\",\"type\":\"FactorRange\"},{\"attributes\":{\"bottom_units\":\"screen\",\"coordinates\":null,\"fill_alpha\":0.5,\"fill_color\":\"lightgrey\",\"group\":null,\"left_units\":\"screen\",\"level\":\"overlay\",\"line_alpha\":1.0,\"line_color\":\"black\",\"line_dash\":[4,4],\"line_width\":2,\"right_units\":\"screen\",\"syncable\":false,\"top_units\":\"screen\"},\"id\":\"2910\",\"type\":\"BoxAnnotation\"},{\"attributes\":{},\"id\":\"2905\",\"type\":\"SaveTool\"},{\"attributes\":{},\"id\":\"2906\",\"type\":\"PanTool\"},{\"attributes\":{},\"id\":\"2909\",\"type\":\"ResetTool\"},{\"attributes\":{},\"id\":\"2907\",\"type\":\"WheelZoomTool\"},{\"attributes\":{},\"id\":\"2883\",\"type\":\"AllLabels\"},{\"attributes\":{\"tools\":[{\"id\":\"2842\"},{\"id\":\"2859\"},{\"id\":\"2860\"},{\"id\":\"2861\"},{\"id\":\"2862\"},{\"id\":\"2863\"}]},\"id\":\"2865\",\"type\":\"Toolbar\"},{\"attributes\":{\"overlay\":{\"id\":\"2910\"}},\"id\":\"2908\",\"type\":\"BoxZoomTool\"},{\"attributes\":{\"bottom_units\":\"screen\",\"coordinates\":null,\"fill_alpha\":0.5,\"fill_color\":\"lightgrey\",\"group\":null,\"left_units\":\"screen\",\"level\":\"overlay\",\"line_alpha\":1.0,\"line_color\":\"black\",\"line_dash\":[4,4],\"line_width\":2,\"right_units\":\"screen\",\"syncable\":false,\"top_units\":\"screen\"},\"id\":\"2864\",\"type\":\"BoxAnnotation\"},{\"attributes\":{\"children\":[{\"id\":\"2839\"},{\"id\":\"2958\"},{\"id\":\"2979\"}],\"margin\":[0,0,0,0],\"name\":\"Row03051\",\"tags\":[\"embedded\"]},\"id\":\"2838\",\"type\":\"Row\"},{\"attributes\":{\"margin\":[5,5,5,5],\"name\":\"HSpacer03056\",\"sizing_mode\":\"stretch_width\"},\"id\":\"2979\",\"type\":\"Spacer\"},{\"attributes\":{\"callback\":null,\"renderers\":[{\"id\":\"2878\"}],\"tags\":[\"hv_created\"],\"tooltips\":[[\"Provider State\",\"@{Provider_State}\"],[\"Average Total Payments\",\"@{Average_Total_Payments}\"]]},\"id\":\"2842\",\"type\":\"HoverTool\"},{\"attributes\":{\"below\":[{\"id\":\"2852\"}],\"center\":[{\"id\":\"2854\"},{\"id\":\"2858\"}],\"height\":300,\"left\":[{\"id\":\"2855\"}],\"margin\":null,\"min_border_bottom\":10,\"min_border_left\":10,\"min_border_right\":10,\"min_border_top\":10,\"renderers\":[{\"id\":\"2878\"}],\"sizing_mode\":\"fixed\",\"title\":{\"id\":\"2844\"},\"toolbar\":{\"id\":\"2865\"},\"toolbar_location\":null,\"width\":700,\"x_range\":{\"id\":\"2840\"},\"x_scale\":{\"id\":\"2848\"},\"y_range\":{\"id\":\"2841\"},\"y_scale\":{\"id\":\"2850\"}},\"id\":\"2843\",\"subtype\":\"Figure\",\"type\":\"Plot\"},{\"attributes\":{},\"id\":\"2931\",\"type\":\"BasicTickFormatter\"},{\"attributes\":{\"end\":1174247.446,\"reset_end\":1174247.446,\"reset_start\":-98966.78600000002,\"start\":-98966.78600000002,\"tags\":[[[\"Average Total Payments\",\"Average Total Payments\",null]]]},\"id\":\"2841\",\"type\":\"Range1d\"},{\"attributes\":{\"coordinates\":null,\"data_source\":{\"id\":\"2872\"},\"glyph\":{\"id\":\"2875\"},\"group\":null,\"hover_glyph\":null,\"muted_glyph\":{\"id\":\"2877\"},\"nonselection_glyph\":{\"id\":\"2876\"},\"selection_glyph\":{\"id\":\"2880\"},\"view\":{\"id\":\"2879\"}},\"id\":\"2878\",\"type\":\"GlyphRenderer\"},{\"attributes\":{},\"id\":\"2885\",\"type\":\"BasicTickFormatter\"},{\"attributes\":{},\"id\":\"2886\",\"type\":\"AllLabels\"},{\"attributes\":{},\"id\":\"2951\",\"type\":\"UnionRenderers\"},{\"attributes\":{\"data\":{\"Average Total Payments\":{\"__ndarray__\":\"ZmZmZmbeu0DsUbgeRbrSQHE9CtfjFNVAUrgehUtq1kCkcD0Kd5vYQJmZmZkZ395AexSuR+FH30A+CtejaIzgQOF6FK737+JA9ihcjxIH40AK16Nw1eTlQD4K16OwiOZAzczMzMys6kBI4XoUhgLsQK5H4XqgGfJAmpmZmdmD8kCuR+F6tEj0QFyPwvWUU/RAKVyPwnV09ED2KFyP3v71QKRwPQo/fPlAmpmZmcEA+0CF61G4+jn7QKRwPQr/UvxAMzMzMz9b/EAAAAAA8rEAQa5H4Xqk7ABBKVyPwsUDAkEfhetRakMCQQrXo3DjiQJBw/UoXFlhA0EK16NwGbYDQR+F61GKAgRBFa5H4Z4LB0EAAAAAPhQHQXsUrkfjKgtBZmZmZiiGDEGPwvUoNK0MQXE9CtdhvwxBexSuRwyXEEE9CtejKIgRQRWuR+GWVxJBw/UoXCN1FEHsUbge57sXQVyPwvVHthtBmpmZmTwXH0EzMzMz5XshQQAAAAC8eyJB4XoULmPMJUEpXI/CW24nQSlcj0JyTDBB\",\"dtype\":\"float64\",\"order\":\"little\",\"shape\":[51]},\"Average_Total_Payments\":{\"__ndarray__\":\"ZmZmZmbeu0DsUbgeRbrSQHE9CtfjFNVAUrgehUtq1kCkcD0Kd5vYQJmZmZkZ395AexSuR+FH30A+CtejaIzgQOF6FK737+JA9ihcjxIH40AK16Nw1eTlQD4K16OwiOZAzczMzMys6kBI4XoUhgLsQK5H4XqgGfJAmpmZmdmD8kCuR+F6tEj0QFyPwvWUU/RAKVyPwnV09ED2KFyP3v71QKRwPQo/fPlAmpmZmcEA+0CF61G4+jn7QKRwPQr/UvxAMzMzMz9b/EAAAAAA8rEAQa5H4Xqk7ABBKVyPwsUDAkEfhetRakMCQQrXo3DjiQJBw/UoXFlhA0EK16NwGbYDQR+F61GKAgRBFa5H4Z4LB0EAAAAAPhQHQXsUrkfjKgtBZmZmZiiGDEGPwvUoNK0MQXE9CtdhvwxBexSuRwyXEEE9CtejKIgRQRWuR+GWVxJBw/UoXCN1FEHsUbge57sXQVyPwvVHthtBmpmZmTwXH0EzMzMz5XshQQAAAAC8eyJB4XoULmPMJUEpXI/CW24nQSlcj0JyTDBB\",\"dtype\":\"float64\",\"order\":\"little\",\"shape\":[51]},\"Provider State\":[\"AK\",\"VT\",\"ND\",\"DE\",\"WY\",\"ID\",\"MT\",\"RI\",\"SD\",\"HI\",\"DC\",\"UT\",\"NM\",\"NH\",\"ME\",\"OR\",\"NV\",\"KS\",\"NE\",\"WV\",\"MS\",\"IA\",\"OK\",\"LA\",\"AR\",\"CT\",\"CO\",\"SC\",\"AL\",\"AZ\",\"KY\",\"TN\",\"MN\",\"WI\",\"WA\",\"GA\",\"VA\",\"MO\",\"IN\",\"NC\",\"MD\",\"MA\",\"MI\",\"NJ\",\"OH\",\"PA\",\"IL\",\"TX\",\"FL\",\"NY\",\"CA\"],\"Provider_State\":[\"AK\",\"VT\",\"ND\",\"DE\",\"WY\",\"ID\",\"MT\",\"RI\",\"SD\",\"HI\",\"DC\",\"UT\",\"NM\",\"NH\",\"ME\",\"OR\",\"NV\",\"KS\",\"NE\",\"WV\",\"MS\",\"IA\",\"OK\",\"LA\",\"AR\",\"CT\",\"CO\",\"SC\",\"AL\",\"AZ\",\"KY\",\"TN\",\"MN\",\"WI\",\"WA\",\"GA\",\"VA\",\"MO\",\"IN\",\"NC\",\"MD\",\"MA\",\"MI\",\"NJ\",\"OH\",\"PA\",\"IL\",\"TX\",\"FL\",\"NY\",\"CA\"]},\"selected\":{\"id\":\"2919\"},\"selection_policy\":{\"id\":\"2951\"}},\"id\":\"2918\",\"type\":\"ColumnDataSource\"},{\"attributes\":{\"line_color\":\"#30a2da\",\"line_width\":2,\"x\":{\"field\":\"Provider State\"},\"y\":{\"field\":\"Average Total Payments\"}},\"id\":\"2926\",\"type\":\"Line\"},{\"attributes\":{},\"id\":\"2873\",\"type\":\"Selection\"},{\"attributes\":{},\"id\":\"2919\",\"type\":\"Selection\"},{\"attributes\":{\"axis\":{\"id\":\"2852\"},\"coordinates\":null,\"grid_line_color\":null,\"group\":null,\"ticker\":null},\"id\":\"2854\",\"type\":\"Grid\"},{\"attributes\":{\"fill_alpha\":{\"value\":0.1},\"fill_color\":{\"value\":\"#30a2da\"},\"hatch_alpha\":{\"value\":0.1},\"hatch_color\":{\"value\":\"#30a2da\"},\"line_alpha\":{\"value\":0.1},\"top\":{\"field\":\"Average_Total_Payments\"},\"width\":{\"value\":0.8},\"x\":{\"field\":\"Provider_State\"}},\"id\":\"2876\",\"type\":\"VBar\"},{\"attributes\":{},\"id\":\"2928\",\"type\":\"CategoricalTickFormatter\"},{\"attributes\":{\"below\":[{\"id\":\"2898\"}],\"center\":[{\"id\":\"2900\"},{\"id\":\"2904\"}],\"height\":300,\"left\":[{\"id\":\"2901\"}],\"margin\":null,\"min_border_bottom\":10,\"min_border_left\":10,\"min_border_right\":10,\"min_border_top\":10,\"renderers\":[{\"id\":\"2924\"}],\"sizing_mode\":\"fixed\",\"title\":{\"id\":\"2890\"},\"toolbar\":{\"id\":\"2911\"},\"toolbar_location\":null,\"width\":700,\"x_range\":{\"id\":\"2840\"},\"x_scale\":{\"id\":\"2894\"},\"y_range\":{\"id\":\"2841\"},\"y_scale\":{\"id\":\"2896\"}},\"id\":\"2889\",\"subtype\":\"Figure\",\"type\":\"Plot\"},{\"attributes\":{\"data\":{\"Average_Total_Payments\":{\"__ndarray__\":\"ZmZmZmbeu0AfhetRakMCQTMzMzM/W/xACtejcOOJAkEpXI9CckwwQa5H4Xqk7ABBAAAAAPKxAEEK16Nw1eTlQFK4HoVLatZA4XoULmPMJUF7FK5H4yoLQfYoXI8SB+NAmpmZmcEA+0CZmZmZGd/eQDMzMzPleyFBcT0K12G/DEFcj8L1lFP0QMP1KFxZYQNBpHA9Cv9S/EAVrkfhllcSQT0K16MoiBFBrkfheqAZ8kDD9ShcI3UUQR+F61GKAgRBj8L1KDStDEGkcD0KP3z5QHsUrkfhR99AexSuRwyXEEFxPQrX4xTVQClcj8J1dPRASOF6FIYC7EDsUbge57sXQc3MzMzMrOpArkfherRI9EApXI/CW24nQVyPwvVHthtBhetRuPo5+0CamZmZ2YPyQJqZmZk8Fx9BPgrXo2iM4EApXI/CxQMCQeF6FK737+JACtejcBm2A0EAAAAAvHsiQT4K16OwiOZAZmZmZiiGDEHsUbgeRbrSQAAAAAA+FAdBFa5H4Z4LB0H2KFyP3v71QKRwPQp3m9hA\",\"dtype\":\"float64\",\"order\":\"little\",\"shape\":[51]},\"Provider_State\":[\"AK\",\"AL\",\"AR\",\"AZ\",\"CA\",\"CO\",\"CT\",\"DC\",\"DE\",\"FL\",\"GA\",\"HI\",\"IA\",\"ID\",\"IL\",\"IN\",\"KS\",\"KY\",\"LA\",\"MA\",\"MD\",\"ME\",\"MI\",\"MN\",\"MO\",\"MS\",\"MT\",\"NC\",\"ND\",\"NE\",\"NH\",\"NJ\",\"NM\",\"NV\",\"NY\",\"OH\",\"OK\",\"OR\",\"PA\",\"RI\",\"SC\",\"SD\",\"TN\",\"TX\",\"UT\",\"VA\",\"VT\",\"WA\",\"WI\",\"WV\",\"WY\"]},\"selected\":{\"id\":\"2873\"},\"selection_policy\":{\"id\":\"2940\"}},\"id\":\"2872\",\"type\":\"ColumnDataSource\"},{\"attributes\":{},\"id\":\"2882\",\"type\":\"CategoricalTickFormatter\"},{\"attributes\":{},\"id\":\"2932\",\"type\":\"AllLabels\"},{\"attributes\":{\"axis_label\":\"Provider State\",\"coordinates\":null,\"formatter\":{\"id\":\"2882\"},\"group\":null,\"major_label_policy\":{\"id\":\"2883\"},\"ticker\":{\"id\":\"2853\"}},\"id\":\"2852\",\"type\":\"CategoricalAxis\"},{\"attributes\":{\"line_alpha\":0.1,\"line_color\":\"#30a2da\",\"line_width\":2,\"x\":{\"field\":\"Provider State\"},\"y\":{\"field\":\"Average Total Payments\"}},\"id\":\"2922\",\"type\":\"Line\"},{\"attributes\":{},\"id\":\"2929\",\"type\":\"AllLabels\"},{\"attributes\":{\"margin\":[5,5,5,5],\"name\":\"HSpacer03055\",\"sizing_mode\":\"stretch_width\"},\"id\":\"2839\",\"type\":\"Spacer\"},{\"attributes\":{\"children\":[[{\"id\":\"2843\"},0,0],[{\"id\":\"2889\"},0,1]]},\"id\":\"2955\",\"type\":\"GridBox\"},{\"attributes\":{\"coordinates\":null,\"group\":null,\"text_color\":\"black\",\"text_font_size\":\"12pt\"},\"id\":\"2844\",\"type\":\"Title\"},{\"attributes\":{},\"id\":\"2894\",\"type\":\"CategoricalScale\"},{\"attributes\":{\"line_alpha\":0.2,\"line_color\":\"#30a2da\",\"line_width\":2,\"x\":{\"field\":\"Provider State\"},\"y\":{\"field\":\"Average Total Payments\"}},\"id\":\"2923\",\"type\":\"Line\"},{\"attributes\":{},\"id\":\"2850\",\"type\":\"LinearScale\"},{\"attributes\":{},\"id\":\"2848\",\"type\":\"CategoricalScale\"},{\"attributes\":{\"axis_label\":\"Provider State\",\"coordinates\":null,\"formatter\":{\"id\":\"2928\"},\"group\":null,\"major_label_policy\":{\"id\":\"2929\"},\"ticker\":{\"id\":\"2899\"}},\"id\":\"2898\",\"type\":\"CategoricalAxis\"},{\"attributes\":{},\"id\":\"2856\",\"type\":\"BasicTicker\"},{\"attributes\":{},\"id\":\"2853\",\"type\":\"CategoricalTicker\"},{\"attributes\":{\"axis_label\":\"Average Total Payments\",\"coordinates\":null,\"formatter\":{\"id\":\"2885\"},\"group\":null,\"major_label_policy\":{\"id\":\"2886\"},\"ticker\":{\"id\":\"2856\"}},\"id\":\"2855\",\"type\":\"LinearAxis\"},{\"attributes\":{\"axis\":{\"id\":\"2898\"},\"coordinates\":null,\"grid_line_color\":null,\"group\":null,\"ticker\":null},\"id\":\"2900\",\"type\":\"Grid\"},{\"attributes\":{\"coordinates\":null,\"group\":null,\"text_color\":\"black\",\"text_font_size\":\"12pt\"},\"id\":\"2890\",\"type\":\"Title\"},{\"attributes\":{\"axis\":{\"id\":\"2855\"},\"coordinates\":null,\"dimension\":1,\"grid_line_color\":null,\"group\":null,\"ticker\":null},\"id\":\"2858\",\"type\":\"Grid\"},{\"attributes\":{\"line_color\":\"#30a2da\",\"line_width\":2,\"x\":{\"field\":\"Provider State\"},\"y\":{\"field\":\"Average Total Payments\"}},\"id\":\"2921\",\"type\":\"Line\"},{\"attributes\":{\"fill_alpha\":{\"value\":0.2},\"fill_color\":{\"value\":\"#30a2da\"},\"hatch_alpha\":{\"value\":0.2},\"hatch_color\":{\"value\":\"#30a2da\"},\"line_alpha\":{\"value\":0.2},\"top\":{\"field\":\"Average_Total_Payments\"},\"width\":{\"value\":0.8},\"x\":{\"field\":\"Provider_State\"}},\"id\":\"2877\",\"type\":\"VBar\"},{\"attributes\":{},\"id\":\"2896\",\"type\":\"LinearScale\"},{\"attributes\":{},\"id\":\"2902\",\"type\":\"BasicTicker\"},{\"attributes\":{\"bottom\":{\"value\":0},\"fill_alpha\":{\"value\":1.0},\"fill_color\":{\"value\":\"#30a2da\"},\"hatch_alpha\":{\"value\":1.0},\"hatch_color\":{\"value\":\"#30a2da\"},\"hatch_scale\":{\"value\":12.0},\"hatch_weight\":{\"value\":1.0},\"line_alpha\":{\"value\":1.0},\"line_cap\":{\"value\":\"butt\"},\"line_color\":{\"value\":\"black\"},\"line_dash\":{\"value\":[]},\"line_dash_offset\":{\"value\":0},\"line_join\":{\"value\":\"bevel\"},\"line_width\":{\"value\":1},\"top\":{\"field\":\"Average_Total_Payments\"},\"width\":{\"value\":0.8},\"x\":{\"field\":\"Provider_State\"}},\"id\":\"2880\",\"type\":\"VBar\"},{\"attributes\":{},\"id\":\"2899\",\"type\":\"CategoricalTicker\"},{\"attributes\":{},\"id\":\"2860\",\"type\":\"PanTool\"},{\"attributes\":{\"source\":{\"id\":\"2872\"}},\"id\":\"2879\",\"type\":\"CDSView\"},{\"attributes\":{\"axis_label\":\"Average Total Payments\",\"coordinates\":null,\"formatter\":{\"id\":\"2931\"},\"group\":null,\"major_label_policy\":{\"id\":\"2932\"},\"ticker\":{\"id\":\"2902\"}},\"id\":\"2901\",\"type\":\"LinearAxis\"},{\"attributes\":{\"callback\":null,\"renderers\":[{\"id\":\"2924\"}],\"tags\":[\"hv_created\"],\"tooltips\":[[\"Provider State\",\"@{Provider_State}\"],[\"Average Total Payments\",\"@{Average_Total_Payments}\"]]},\"id\":\"2888\",\"type\":\"HoverTool\"},{\"attributes\":{\"axis\":{\"id\":\"2901\"},\"coordinates\":null,\"dimension\":1,\"grid_line_color\":null,\"group\":null,\"ticker\":null},\"id\":\"2904\",\"type\":\"Grid\"},{\"attributes\":{},\"id\":\"2859\",\"type\":\"SaveTool\"},{\"attributes\":{\"toolbars\":[{\"id\":\"2865\"},{\"id\":\"2911\"}],\"tools\":[{\"id\":\"2842\"},{\"id\":\"2859\"},{\"id\":\"2860\"},{\"id\":\"2861\"},{\"id\":\"2862\"},{\"id\":\"2863\"},{\"id\":\"2888\"},{\"id\":\"2905\"},{\"id\":\"2906\"},{\"id\":\"2907\"},{\"id\":\"2908\"},{\"id\":\"2909\"}]},\"id\":\"2956\",\"type\":\"ProxyToolbar\"},{\"attributes\":{},\"id\":\"2940\",\"type\":\"UnionRenderers\"},{\"attributes\":{\"toolbar\":{\"id\":\"2956\"},\"toolbar_location\":\"above\"},\"id\":\"2957\",\"type\":\"ToolbarBox\"}],\"root_ids\":[\"2838\"]},\"title\":\"Bokeh Application\",\"version\":\"2.4.3\"}};\n",
       "    var render_items = [{\"docid\":\"ef67a7de-2322-441c-9404-2fd452cdfc2f\",\"root_ids\":[\"2838\"],\"roots\":{\"2838\":\"ba07e28d-1df8-41ca-9d1b-72b474fe2bc8\"}}];\n",
       "    root.Bokeh.embed.embed_items_notebook(docs_json, render_items);\n",
       "  }\n",
       "  if (root.Bokeh !== undefined && root.Bokeh.Panel !== undefined) {\n",
       "    embed_document(root);\n",
       "  } else {\n",
       "    var attempts = 0;\n",
       "    var timer = setInterval(function(root) {\n",
       "      if (root.Bokeh !== undefined && root.Bokeh.Panel !== undefined) {\n",
       "        clearInterval(timer);\n",
       "        embed_document(root);\n",
       "      } else if (document.readyState == \"complete\") {\n",
       "        attempts++;\n",
       "        if (attempts > 200) {\n",
       "          clearInterval(timer);\n",
       "          console.log(\"Bokeh: ERROR: Unable to run BokehJS code because BokehJS library is missing\");\n",
       "        }\n",
       "      }\n",
       "    }, 25, root)\n",
       "  }\n",
       "})(window);</script>"
      ],
      "text/plain": [
       ":Layout\n",
       "   .Bars.I  :Bars   [Provider State]   (Average Total Payments)\n",
       "   .Curve.I :Curve   [Provider State]   (Average Total Payments)"
      ]
     },
     "execution_count": 22,
     "metadata": {
      "application/vnd.holoviews_exec.v0+json": {
       "id": "2838"
      }
     },
     "output_type": "execute_result"
    }
   ],
   "source": [
    "# Compose plots using + operator.  \n",
    "total_payments_by_state.hvplot.bar() + sorted_total_payments_by_state.hvplot()"
   ]
  },
  {
   "cell_type": "code",
   "execution_count": 23,
   "metadata": {},
   "outputs": [
    {
     "data": {},
     "metadata": {},
     "output_type": "display_data"
    },
    {
     "data": {
      "application/vnd.holoviews_exec.v0+json": "",
      "text/html": [
       "<div id='3081'>\n",
       "  <div class=\"bk-root\" id=\"c3519a7a-a1d3-4728-8bb0-abbc581d3424\" data-root-id=\"3081\"></div>\n",
       "</div>\n",
       "<script type=\"application/javascript\">(function(root) {\n",
       "  function embed_document(root) {\n",
       "    var docs_json = {\"61815605-22b4-4de0-b23e-fa989ed6a767\":{\"defs\":[{\"extends\":null,\"module\":null,\"name\":\"ReactiveHTML1\",\"overrides\":[],\"properties\":[]},{\"extends\":null,\"module\":null,\"name\":\"FlexBox1\",\"overrides\":[],\"properties\":[{\"default\":\"flex-start\",\"kind\":null,\"name\":\"align_content\"},{\"default\":\"flex-start\",\"kind\":null,\"name\":\"align_items\"},{\"default\":\"row\",\"kind\":null,\"name\":\"flex_direction\"},{\"default\":\"wrap\",\"kind\":null,\"name\":\"flex_wrap\"},{\"default\":\"flex-start\",\"kind\":null,\"name\":\"justify_content\"}]},{\"extends\":null,\"module\":null,\"name\":\"GridStack1\",\"overrides\":[],\"properties\":[{\"default\":\"warn\",\"kind\":null,\"name\":\"mode\"},{\"default\":null,\"kind\":null,\"name\":\"ncols\"},{\"default\":null,\"kind\":null,\"name\":\"nrows\"},{\"default\":true,\"kind\":null,\"name\":\"allow_resize\"},{\"default\":true,\"kind\":null,\"name\":\"allow_drag\"},{\"default\":[],\"kind\":null,\"name\":\"state\"}]},{\"extends\":null,\"module\":null,\"name\":\"click1\",\"overrides\":[],\"properties\":[{\"default\":\"\",\"kind\":null,\"name\":\"terminal_output\"},{\"default\":\"\",\"kind\":null,\"name\":\"debug_name\"},{\"default\":0,\"kind\":null,\"name\":\"clears\"}]},{\"extends\":null,\"module\":null,\"name\":\"NotificationAreaBase1\",\"overrides\":[],\"properties\":[{\"default\":\"bottom-right\",\"kind\":null,\"name\":\"position\"},{\"default\":0,\"kind\":null,\"name\":\"_clear\"}]},{\"extends\":null,\"module\":null,\"name\":\"NotificationArea1\",\"overrides\":[],\"properties\":[{\"default\":[],\"kind\":null,\"name\":\"notifications\"},{\"default\":\"bottom-right\",\"kind\":null,\"name\":\"position\"},{\"default\":0,\"kind\":null,\"name\":\"_clear\"},{\"default\":[{\"background\":\"#ffc107\",\"icon\":{\"className\":\"fas fa-exclamation-triangle\",\"color\":\"white\",\"tagName\":\"i\"},\"type\":\"warning\"},{\"background\":\"#007bff\",\"icon\":{\"className\":\"fas fa-info-circle\",\"color\":\"white\",\"tagName\":\"i\"},\"type\":\"info\"}],\"kind\":null,\"name\":\"types\"}]},{\"extends\":null,\"module\":null,\"name\":\"Notification\",\"overrides\":[],\"properties\":[{\"default\":null,\"kind\":null,\"name\":\"background\"},{\"default\":3000,\"kind\":null,\"name\":\"duration\"},{\"default\":null,\"kind\":null,\"name\":\"icon\"},{\"default\":\"\",\"kind\":null,\"name\":\"message\"},{\"default\":null,\"kind\":null,\"name\":\"notification_type\"},{\"default\":false,\"kind\":null,\"name\":\"_destroyed\"}]},{\"extends\":null,\"module\":null,\"name\":\"TemplateActions1\",\"overrides\":[],\"properties\":[{\"default\":0,\"kind\":null,\"name\":\"open_modal\"},{\"default\":0,\"kind\":null,\"name\":\"close_modal\"}]},{\"extends\":null,\"module\":null,\"name\":\"MaterialTemplateActions1\",\"overrides\":[],\"properties\":[{\"default\":0,\"kind\":null,\"name\":\"open_modal\"},{\"default\":0,\"kind\":null,\"name\":\"close_modal\"}]}],\"roots\":{\"references\":[{\"attributes\":{\"axis_label\":\"Provider State\",\"coordinates\":null,\"formatter\":{\"id\":\"3125\"},\"group\":null,\"major_label_policy\":{\"id\":\"3126\"},\"ticker\":{\"id\":\"3096\"}},\"id\":\"3095\",\"type\":\"CategoricalAxis\"},{\"attributes\":{\"line_alpha\":0.1,\"line_color\":\"#30a2da\",\"line_width\":2,\"x\":{\"field\":\"Provider State Sorted\"},\"y\":{\"field\":\"Average Total Payments\"}},\"id\":\"3165\",\"type\":\"Line\"},{\"attributes\":{\"children\":[[{\"id\":\"3086\"},0,0],[{\"id\":\"3132\"},0,1]]},\"id\":\"3198\",\"type\":\"GridBox\"},{\"attributes\":{\"coordinates\":null,\"group\":null,\"text_color\":\"black\",\"text_font_size\":\"12pt\"},\"id\":\"3087\",\"type\":\"Title\"},{\"attributes\":{\"axis\":{\"id\":\"3095\"},\"coordinates\":null,\"grid_line_color\":null,\"group\":null,\"ticker\":null},\"id\":\"3097\",\"type\":\"Grid\"},{\"attributes\":{\"below\":[{\"id\":\"3141\"}],\"center\":[{\"id\":\"3143\"},{\"id\":\"3147\"}],\"height\":300,\"left\":[{\"id\":\"3144\"}],\"margin\":null,\"min_border_bottom\":10,\"min_border_left\":10,\"min_border_right\":10,\"min_border_top\":10,\"renderers\":[{\"id\":\"3167\"}],\"sizing_mode\":\"fixed\",\"title\":{\"id\":\"3133\"},\"toolbar\":{\"id\":\"3154\"},\"toolbar_location\":null,\"width\":700,\"x_range\":{\"id\":\"3130\"},\"x_scale\":{\"id\":\"3137\"},\"y_range\":{\"id\":\"3084\"},\"y_scale\":{\"id\":\"3139\"}},\"id\":\"3132\",\"subtype\":\"Figure\",\"type\":\"Plot\"},{\"attributes\":{},\"id\":\"3099\",\"type\":\"BasicTicker\"},{\"attributes\":{\"toolbar\":{\"id\":\"3199\"},\"toolbar_location\":\"above\"},\"id\":\"3200\",\"type\":\"ToolbarBox\"},{\"attributes\":{},\"id\":\"3096\",\"type\":\"CategoricalTicker\"},{\"attributes\":{},\"id\":\"3137\",\"type\":\"CategoricalScale\"},{\"attributes\":{\"toolbars\":[{\"id\":\"3108\"},{\"id\":\"3154\"}],\"tools\":[{\"id\":\"3085\"},{\"id\":\"3102\"},{\"id\":\"3103\"},{\"id\":\"3104\"},{\"id\":\"3105\"},{\"id\":\"3106\"},{\"id\":\"3131\"},{\"id\":\"3148\"},{\"id\":\"3149\"},{\"id\":\"3150\"},{\"id\":\"3151\"},{\"id\":\"3152\"}]},\"id\":\"3199\",\"type\":\"ProxyToolbar\"},{\"attributes\":{\"axis_label\":\"Average Total Payments\",\"coordinates\":null,\"formatter\":{\"id\":\"3128\"},\"group\":null,\"major_label_policy\":{\"id\":\"3129\"},\"ticker\":{\"id\":\"3099\"}},\"id\":\"3098\",\"type\":\"LinearAxis\"},{\"attributes\":{},\"id\":\"3174\",\"type\":\"BasicTickFormatter\"},{\"attributes\":{\"data\":{\"Average Total Payments\":{\"__ndarray__\":\"ZmZmZmbeu0DsUbgeRbrSQHE9CtfjFNVAUrgehUtq1kCkcD0Kd5vYQJmZmZkZ395AexSuR+FH30A+CtejaIzgQOF6FK737+JA9ihcjxIH40AK16Nw1eTlQD4K16OwiOZAzczMzMys6kBI4XoUhgLsQK5H4XqgGfJAmpmZmdmD8kCuR+F6tEj0QFyPwvWUU/RAKVyPwnV09ED2KFyP3v71QKRwPQo/fPlAmpmZmcEA+0CF61G4+jn7QKRwPQr/UvxAMzMzMz9b/EAAAAAA8rEAQa5H4Xqk7ABBKVyPwsUDAkEfhetRakMCQQrXo3DjiQJBw/UoXFlhA0EK16NwGbYDQR+F61GKAgRBFa5H4Z4LB0EAAAAAPhQHQXsUrkfjKgtBZmZmZiiGDEGPwvUoNK0MQXE9CtdhvwxBexSuRwyXEEE9CtejKIgRQRWuR+GWVxJBw/UoXCN1FEHsUbge57sXQVyPwvVHthtBmpmZmTwXH0EzMzMz5XshQQAAAAC8eyJB4XoULmPMJUEpXI/CW24nQSlcj0JyTDBB\",\"dtype\":\"float64\",\"order\":\"little\",\"shape\":[51]},\"Average_Total_Payments\":{\"__ndarray__\":\"ZmZmZmbeu0DsUbgeRbrSQHE9CtfjFNVAUrgehUtq1kCkcD0Kd5vYQJmZmZkZ395AexSuR+FH30A+CtejaIzgQOF6FK737+JA9ihcjxIH40AK16Nw1eTlQD4K16OwiOZAzczMzMys6kBI4XoUhgLsQK5H4XqgGfJAmpmZmdmD8kCuR+F6tEj0QFyPwvWUU/RAKVyPwnV09ED2KFyP3v71QKRwPQo/fPlAmpmZmcEA+0CF61G4+jn7QKRwPQr/UvxAMzMzMz9b/EAAAAAA8rEAQa5H4Xqk7ABBKVyPwsUDAkEfhetRakMCQQrXo3DjiQJBw/UoXFlhA0EK16NwGbYDQR+F61GKAgRBFa5H4Z4LB0EAAAAAPhQHQXsUrkfjKgtBZmZmZiiGDEGPwvUoNK0MQXE9CtdhvwxBexSuRwyXEEE9CtejKIgRQRWuR+GWVxJBw/UoXCN1FEHsUbge57sXQVyPwvVHthtBmpmZmTwXH0EzMzMz5XshQQAAAAC8eyJB4XoULmPMJUEpXI/CW24nQSlcj0JyTDBB\",\"dtype\":\"float64\",\"order\":\"little\",\"shape\":[51]},\"Provider State Sorted\":[\"AK\",\"VT\",\"ND\",\"DE\",\"WY\",\"ID\",\"MT\",\"RI\",\"SD\",\"HI\",\"DC\",\"UT\",\"NM\",\"NH\",\"ME\",\"OR\",\"NV\",\"KS\",\"NE\",\"WV\",\"MS\",\"IA\",\"OK\",\"LA\",\"AR\",\"CT\",\"CO\",\"SC\",\"AL\",\"AZ\",\"KY\",\"TN\",\"MN\",\"WI\",\"WA\",\"GA\",\"VA\",\"MO\",\"IN\",\"NC\",\"MD\",\"MA\",\"MI\",\"NJ\",\"OH\",\"PA\",\"IL\",\"TX\",\"FL\",\"NY\",\"CA\"],\"Provider_State_Sorted\":[\"AK\",\"VT\",\"ND\",\"DE\",\"WY\",\"ID\",\"MT\",\"RI\",\"SD\",\"HI\",\"DC\",\"UT\",\"NM\",\"NH\",\"ME\",\"OR\",\"NV\",\"KS\",\"NE\",\"WV\",\"MS\",\"IA\",\"OK\",\"LA\",\"AR\",\"CT\",\"CO\",\"SC\",\"AL\",\"AZ\",\"KY\",\"TN\",\"MN\",\"WI\",\"WA\",\"GA\",\"VA\",\"MO\",\"IN\",\"NC\",\"MD\",\"MA\",\"MI\",\"NJ\",\"OH\",\"PA\",\"IL\",\"TX\",\"FL\",\"NY\",\"CA\"]},\"selected\":{\"id\":\"3162\"},\"selection_policy\":{\"id\":\"3194\"}},\"id\":\"3161\",\"type\":\"ColumnDataSource\"},{\"attributes\":{\"axis\":{\"id\":\"3098\"},\"coordinates\":null,\"dimension\":1,\"grid_line_color\":null,\"group\":null,\"ticker\":null},\"id\":\"3101\",\"type\":\"Grid\"},{\"attributes\":{\"axis_label\":\"Provider State Sorted\",\"coordinates\":null,\"formatter\":{\"id\":\"3171\"},\"group\":null,\"major_label_policy\":{\"id\":\"3172\"},\"ticker\":{\"id\":\"3142\"}},\"id\":\"3141\",\"type\":\"CategoricalAxis\"},{\"attributes\":{\"children\":[{\"id\":\"3200\"},{\"id\":\"3198\"}]},\"id\":\"3201\",\"type\":\"Column\"},{\"attributes\":{\"axis\":{\"id\":\"3141\"},\"coordinates\":null,\"grid_line_color\":null,\"group\":null,\"ticker\":null},\"id\":\"3143\",\"type\":\"Grid\"},{\"attributes\":{\"coordinates\":null,\"group\":null,\"text_color\":\"black\",\"text_font_size\":\"12pt\"},\"id\":\"3133\",\"type\":\"Title\"},{\"attributes\":{\"bottom\":{\"value\":0},\"fill_alpha\":{\"value\":1.0},\"fill_color\":{\"value\":\"#30a2da\"},\"hatch_alpha\":{\"value\":1.0},\"hatch_color\":{\"value\":\"#30a2da\"},\"hatch_scale\":{\"value\":12.0},\"hatch_weight\":{\"value\":1.0},\"line_alpha\":{\"value\":1.0},\"line_cap\":{\"value\":\"butt\"},\"line_color\":{\"value\":\"black\"},\"line_dash\":{\"value\":[]},\"line_dash_offset\":{\"value\":0},\"line_join\":{\"value\":\"bevel\"},\"line_width\":{\"value\":1},\"top\":{\"field\":\"Average_Total_Payments\"},\"width\":{\"value\":0.8},\"x\":{\"field\":\"Provider_State\"}},\"id\":\"3123\",\"type\":\"VBar\"},{\"attributes\":{\"line_color\":\"#30a2da\",\"line_width\":2,\"x\":{\"field\":\"Provider State Sorted\"},\"y\":{\"field\":\"Average Total Payments\"}},\"id\":\"3164\",\"type\":\"Line\"},{\"attributes\":{\"fill_alpha\":{\"value\":0.2},\"fill_color\":{\"value\":\"#30a2da\"},\"hatch_alpha\":{\"value\":0.2},\"hatch_color\":{\"value\":\"#30a2da\"},\"line_alpha\":{\"value\":0.2},\"top\":{\"field\":\"Average_Total_Payments\"},\"width\":{\"value\":0.8},\"x\":{\"field\":\"Provider_State\"}},\"id\":\"3120\",\"type\":\"VBar\"},{\"attributes\":{\"source\":{\"id\":\"3115\"}},\"id\":\"3122\",\"type\":\"CDSView\"},{\"attributes\":{\"tools\":[{\"id\":\"3085\"},{\"id\":\"3102\"},{\"id\":\"3103\"},{\"id\":\"3104\"},{\"id\":\"3105\"},{\"id\":\"3106\"}]},\"id\":\"3108\",\"type\":\"Toolbar\"},{\"attributes\":{},\"id\":\"3139\",\"type\":\"LinearScale\"},{\"attributes\":{\"bottom_units\":\"screen\",\"coordinates\":null,\"fill_alpha\":0.5,\"fill_color\":\"lightgrey\",\"group\":null,\"left_units\":\"screen\",\"level\":\"overlay\",\"line_alpha\":1.0,\"line_color\":\"black\",\"line_dash\":[4,4],\"line_width\":2,\"right_units\":\"screen\",\"syncable\":false,\"top_units\":\"screen\"},\"id\":\"3107\",\"type\":\"BoxAnnotation\"},{\"attributes\":{},\"id\":\"3145\",\"type\":\"BasicTicker\"},{\"attributes\":{},\"id\":\"3102\",\"type\":\"SaveTool\"},{\"attributes\":{},\"id\":\"3142\",\"type\":\"CategoricalTicker\"},{\"attributes\":{},\"id\":\"3103\",\"type\":\"PanTool\"},{\"attributes\":{},\"id\":\"3183\",\"type\":\"UnionRenderers\"},{\"attributes\":{},\"id\":\"3106\",\"type\":\"ResetTool\"},{\"attributes\":{\"axis_label\":\"Average Total Payments\",\"coordinates\":null,\"formatter\":{\"id\":\"3174\"},\"group\":null,\"major_label_policy\":{\"id\":\"3175\"},\"ticker\":{\"id\":\"3145\"}},\"id\":\"3144\",\"type\":\"LinearAxis\"},{\"attributes\":{\"margin\":[5,5,5,5],\"name\":\"HSpacer03303\",\"sizing_mode\":\"stretch_width\"},\"id\":\"3082\",\"type\":\"Spacer\"},{\"attributes\":{},\"id\":\"3104\",\"type\":\"WheelZoomTool\"},{\"attributes\":{\"callback\":null,\"renderers\":[{\"id\":\"3167\"}],\"tags\":[\"hv_created\"],\"tooltips\":[[\"Provider State Sorted\",\"@{Provider_State_Sorted}\"],[\"Average Total Payments\",\"@{Average_Total_Payments}\"]]},\"id\":\"3131\",\"type\":\"HoverTool\"},{\"attributes\":{\"axis\":{\"id\":\"3144\"},\"coordinates\":null,\"dimension\":1,\"grid_line_color\":null,\"group\":null,\"ticker\":null},\"id\":\"3147\",\"type\":\"Grid\"},{\"attributes\":{\"overlay\":{\"id\":\"3107\"}},\"id\":\"3105\",\"type\":\"BoxZoomTool\"},{\"attributes\":{\"source\":{\"id\":\"3161\"}},\"id\":\"3168\",\"type\":\"CDSView\"},{\"attributes\":{},\"id\":\"3162\",\"type\":\"Selection\"},{\"attributes\":{},\"id\":\"3194\",\"type\":\"UnionRenderers\"},{\"attributes\":{\"line_alpha\":0.2,\"line_color\":\"#30a2da\",\"line_width\":2,\"x\":{\"field\":\"Provider State Sorted\"},\"y\":{\"field\":\"Average Total Payments\"}},\"id\":\"3166\",\"type\":\"Line\"},{\"attributes\":{\"coordinates\":null,\"data_source\":{\"id\":\"3161\"},\"glyph\":{\"id\":\"3164\"},\"group\":null,\"hover_glyph\":null,\"muted_glyph\":{\"id\":\"3166\"},\"nonselection_glyph\":{\"id\":\"3165\"},\"selection_glyph\":{\"id\":\"3169\"},\"view\":{\"id\":\"3168\"}},\"id\":\"3167\",\"type\":\"GlyphRenderer\"},{\"attributes\":{},\"id\":\"3128\",\"type\":\"BasicTickFormatter\"},{\"attributes\":{},\"id\":\"3148\",\"type\":\"SaveTool\"},{\"attributes\":{\"margin\":[5,5,5,5],\"name\":\"HSpacer03304\",\"sizing_mode\":\"stretch_width\"},\"id\":\"3222\",\"type\":\"Spacer\"},{\"attributes\":{},\"id\":\"3149\",\"type\":\"PanTool\"},{\"attributes\":{},\"id\":\"3126\",\"type\":\"AllLabels\"},{\"attributes\":{},\"id\":\"3171\",\"type\":\"CategoricalTickFormatter\"},{\"attributes\":{},\"id\":\"3152\",\"type\":\"ResetTool\"},{\"attributes\":{},\"id\":\"3150\",\"type\":\"WheelZoomTool\"},{\"attributes\":{\"overlay\":{\"id\":\"3153\"}},\"id\":\"3151\",\"type\":\"BoxZoomTool\"},{\"attributes\":{\"coordinates\":null,\"data_source\":{\"id\":\"3115\"},\"glyph\":{\"id\":\"3118\"},\"group\":null,\"hover_glyph\":null,\"muted_glyph\":{\"id\":\"3120\"},\"nonselection_glyph\":{\"id\":\"3119\"},\"selection_glyph\":{\"id\":\"3123\"},\"view\":{\"id\":\"3122\"}},\"id\":\"3121\",\"type\":\"GlyphRenderer\"},{\"attributes\":{\"end\":1174247.446,\"reset_end\":1174247.446,\"reset_start\":-98966.78600000002,\"start\":-98966.78600000002,\"tags\":[[[\"Average Total Payments\",\"Average Total Payments\",null]]]},\"id\":\"3084\",\"type\":\"Range1d\"},{\"attributes\":{\"tools\":[{\"id\":\"3131\"},{\"id\":\"3148\"},{\"id\":\"3149\"},{\"id\":\"3150\"},{\"id\":\"3151\"},{\"id\":\"3152\"}]},\"id\":\"3154\",\"type\":\"Toolbar\"},{\"attributes\":{\"callback\":null,\"renderers\":[{\"id\":\"3121\"}],\"tags\":[\"hv_created\"],\"tooltips\":[[\"Provider State\",\"@{Provider_State}\"],[\"Average Total Payments\",\"@{Average_Total_Payments}\"]]},\"id\":\"3085\",\"type\":\"HoverTool\"},{\"attributes\":{\"factors\":[\"AK\",\"AL\",\"AR\",\"AZ\",\"CA\",\"CO\",\"CT\",\"DC\",\"DE\",\"FL\",\"GA\",\"HI\",\"IA\",\"ID\",\"IL\",\"IN\",\"KS\",\"KY\",\"LA\",\"MA\",\"MD\",\"ME\",\"MI\",\"MN\",\"MO\",\"MS\",\"MT\",\"NC\",\"ND\",\"NE\",\"NH\",\"NJ\",\"NM\",\"NV\",\"NY\",\"OH\",\"OK\",\"OR\",\"PA\",\"RI\",\"SC\",\"SD\",\"TN\",\"TX\",\"UT\",\"VA\",\"VT\",\"WA\",\"WI\",\"WV\",\"WY\"],\"tags\":[[[\"Provider State\",\"Provider State\",null]]]},\"id\":\"3083\",\"type\":\"FactorRange\"},{\"attributes\":{\"below\":[{\"id\":\"3095\"}],\"center\":[{\"id\":\"3097\"},{\"id\":\"3101\"}],\"height\":300,\"left\":[{\"id\":\"3098\"}],\"margin\":null,\"min_border_bottom\":10,\"min_border_left\":10,\"min_border_right\":10,\"min_border_top\":10,\"renderers\":[{\"id\":\"3121\"}],\"sizing_mode\":\"fixed\",\"title\":{\"id\":\"3087\"},\"toolbar\":{\"id\":\"3108\"},\"toolbar_location\":null,\"width\":700,\"x_range\":{\"id\":\"3083\"},\"x_scale\":{\"id\":\"3091\"},\"y_range\":{\"id\":\"3084\"},\"y_scale\":{\"id\":\"3093\"}},\"id\":\"3086\",\"subtype\":\"Figure\",\"type\":\"Plot\"},{\"attributes\":{\"bottom_units\":\"screen\",\"coordinates\":null,\"fill_alpha\":0.5,\"fill_color\":\"lightgrey\",\"group\":null,\"left_units\":\"screen\",\"level\":\"overlay\",\"line_alpha\":1.0,\"line_color\":\"black\",\"line_dash\":[4,4],\"line_width\":2,\"right_units\":\"screen\",\"syncable\":false,\"top_units\":\"screen\"},\"id\":\"3153\",\"type\":\"BoxAnnotation\"},{\"attributes\":{\"data\":{\"Average_Total_Payments\":{\"__ndarray__\":\"ZmZmZmbeu0AfhetRakMCQTMzMzM/W/xACtejcOOJAkEpXI9CckwwQa5H4Xqk7ABBAAAAAPKxAEEK16Nw1eTlQFK4HoVLatZA4XoULmPMJUF7FK5H4yoLQfYoXI8SB+NAmpmZmcEA+0CZmZmZGd/eQDMzMzPleyFBcT0K12G/DEFcj8L1lFP0QMP1KFxZYQNBpHA9Cv9S/EAVrkfhllcSQT0K16MoiBFBrkfheqAZ8kDD9ShcI3UUQR+F61GKAgRBj8L1KDStDEGkcD0KP3z5QHsUrkfhR99AexSuRwyXEEFxPQrX4xTVQClcj8J1dPRASOF6FIYC7EDsUbge57sXQc3MzMzMrOpArkfherRI9EApXI/CW24nQVyPwvVHthtBhetRuPo5+0CamZmZ2YPyQJqZmZk8Fx9BPgrXo2iM4EApXI/CxQMCQeF6FK737+JACtejcBm2A0EAAAAAvHsiQT4K16OwiOZAZmZmZiiGDEHsUbgeRbrSQAAAAAA+FAdBFa5H4Z4LB0H2KFyP3v71QKRwPQp3m9hA\",\"dtype\":\"float64\",\"order\":\"little\",\"shape\":[51]},\"Provider_State\":[\"AK\",\"AL\",\"AR\",\"AZ\",\"CA\",\"CO\",\"CT\",\"DC\",\"DE\",\"FL\",\"GA\",\"HI\",\"IA\",\"ID\",\"IL\",\"IN\",\"KS\",\"KY\",\"LA\",\"MA\",\"MD\",\"ME\",\"MI\",\"MN\",\"MO\",\"MS\",\"MT\",\"NC\",\"ND\",\"NE\",\"NH\",\"NJ\",\"NM\",\"NV\",\"NY\",\"OH\",\"OK\",\"OR\",\"PA\",\"RI\",\"SC\",\"SD\",\"TN\",\"TX\",\"UT\",\"VA\",\"VT\",\"WA\",\"WI\",\"WV\",\"WY\"]},\"selected\":{\"id\":\"3116\"},\"selection_policy\":{\"id\":\"3183\"}},\"id\":\"3115\",\"type\":\"ColumnDataSource\"},{\"attributes\":{},\"id\":\"3125\",\"type\":\"CategoricalTickFormatter\"},{\"attributes\":{},\"id\":\"3172\",\"type\":\"AllLabels\"},{\"attributes\":{},\"id\":\"3129\",\"type\":\"AllLabels\"},{\"attributes\":{\"line_color\":\"#30a2da\",\"line_width\":2,\"x\":{\"field\":\"Provider State Sorted\"},\"y\":{\"field\":\"Average Total Payments\"}},\"id\":\"3169\",\"type\":\"Line\"},{\"attributes\":{\"children\":[{\"id\":\"3082\"},{\"id\":\"3201\"},{\"id\":\"3222\"}],\"margin\":[0,0,0,0],\"name\":\"Row03299\",\"tags\":[\"embedded\"]},\"id\":\"3081\",\"type\":\"Row\"},{\"attributes\":{\"fill_alpha\":{\"value\":0.1},\"fill_color\":{\"value\":\"#30a2da\"},\"hatch_alpha\":{\"value\":0.1},\"hatch_color\":{\"value\":\"#30a2da\"},\"line_alpha\":{\"value\":0.1},\"top\":{\"field\":\"Average_Total_Payments\"},\"width\":{\"value\":0.8},\"x\":{\"field\":\"Provider_State\"}},\"id\":\"3119\",\"type\":\"VBar\"},{\"attributes\":{},\"id\":\"3116\",\"type\":\"Selection\"},{\"attributes\":{},\"id\":\"3091\",\"type\":\"CategoricalScale\"},{\"attributes\":{},\"id\":\"3093\",\"type\":\"LinearScale\"},{\"attributes\":{\"factors\":[\"AK\",\"VT\",\"ND\",\"DE\",\"WY\",\"ID\",\"MT\",\"RI\",\"SD\",\"HI\",\"DC\",\"UT\",\"NM\",\"NH\",\"ME\",\"OR\",\"NV\",\"KS\",\"NE\",\"WV\",\"MS\",\"IA\",\"OK\",\"LA\",\"AR\",\"CT\",\"CO\",\"SC\",\"AL\",\"AZ\",\"KY\",\"TN\",\"MN\",\"WI\",\"WA\",\"GA\",\"VA\",\"MO\",\"IN\",\"NC\",\"MD\",\"MA\",\"MI\",\"NJ\",\"OH\",\"PA\",\"IL\",\"TX\",\"FL\",\"NY\",\"CA\"],\"tags\":[[[\"Provider State Sorted\",\"Provider State Sorted\",null]]]},\"id\":\"3130\",\"type\":\"FactorRange\"},{\"attributes\":{\"fill_color\":{\"value\":\"#30a2da\"},\"hatch_color\":{\"value\":\"#30a2da\"},\"top\":{\"field\":\"Average_Total_Payments\"},\"width\":{\"value\":0.8},\"x\":{\"field\":\"Provider_State\"}},\"id\":\"3118\",\"type\":\"VBar\"},{\"attributes\":{},\"id\":\"3175\",\"type\":\"AllLabels\"}],\"root_ids\":[\"3081\"]},\"title\":\"Bokeh Application\",\"version\":\"2.4.3\"}};\n",
       "    var render_items = [{\"docid\":\"61815605-22b4-4de0-b23e-fa989ed6a767\",\"root_ids\":[\"3081\"],\"roots\":{\"3081\":\"c3519a7a-a1d3-4728-8bb0-abbc581d3424\"}}];\n",
       "    root.Bokeh.embed.embed_items_notebook(docs_json, render_items);\n",
       "  }\n",
       "  if (root.Bokeh !== undefined && root.Bokeh.Panel !== undefined) {\n",
       "    embed_document(root);\n",
       "  } else {\n",
       "    var attempts = 0;\n",
       "    var timer = setInterval(function(root) {\n",
       "      if (root.Bokeh !== undefined && root.Bokeh.Panel !== undefined) {\n",
       "        clearInterval(timer);\n",
       "        embed_document(root);\n",
       "      } else if (document.readyState == \"complete\") {\n",
       "        attempts++;\n",
       "        if (attempts > 200) {\n",
       "          clearInterval(timer);\n",
       "          console.log(\"Bokeh: ERROR: Unable to run BokehJS code because BokehJS library is missing\");\n",
       "        }\n",
       "      }\n",
       "    }, 25, root)\n",
       "  }\n",
       "})(window);</script>"
      ],
      "text/plain": [
       ":Layout\n",
       "   .Bars.I  :Bars   [Provider State]   (Average Total Payments)\n",
       "   .Curve.I :Curve   [Provider State Sorted]   (Average Total Payments)"
      ]
     },
     "execution_count": 23,
     "metadata": {
      "application/vnd.holoviews_exec.v0+json": {
       "id": "3081"
      }
     },
     "output_type": "execute_result"
    }
   ],
   "source": [
    "# We prevent this by renaming the index in one of the dataframes before plotting them.\n",
    "sorted_total_payments_by_state.index.names = ['Provider State Sorted']\n",
    "\n",
    "total_payments_by_state.hvplot.bar() + sorted_total_payments_by_state.hvplot()"
   ]
  },
  {
   "cell_type": "markdown",
   "metadata": {},
   "source": [
    "## Slice data for Average Medicare Payments by State"
   ]
  },
  {
   "cell_type": "code",
   "execution_count": 24,
   "metadata": {},
   "outputs": [
    {
     "data": {
      "text/html": [
       "<div>\n",
       "<style scoped>\n",
       "    .dataframe tbody tr th:only-of-type {\n",
       "        vertical-align: middle;\n",
       "    }\n",
       "\n",
       "    .dataframe tbody tr th {\n",
       "        vertical-align: top;\n",
       "    }\n",
       "\n",
       "    .dataframe thead th {\n",
       "        text-align: right;\n",
       "    }\n",
       "</style>\n",
       "<table border=\"1\" class=\"dataframe\">\n",
       "  <thead>\n",
       "    <tr style=\"text-align: right;\">\n",
       "      <th></th>\n",
       "      <th>Average Medicare Payments</th>\n",
       "    </tr>\n",
       "    <tr>\n",
       "      <th>Provider State</th>\n",
       "      <th></th>\n",
       "    </tr>\n",
       "  </thead>\n",
       "  <tbody>\n",
       "    <tr>\n",
       "      <th>AK</th>\n",
       "      <td>6008.80</td>\n",
       "    </tr>\n",
       "    <tr>\n",
       "      <th>AL</th>\n",
       "      <td>112154.39</td>\n",
       "    </tr>\n",
       "    <tr>\n",
       "      <th>AR</th>\n",
       "      <td>90176.26</td>\n",
       "    </tr>\n",
       "    <tr>\n",
       "      <th>AZ</th>\n",
       "      <td>120926.12</td>\n",
       "    </tr>\n",
       "    <tr>\n",
       "      <th>CA</th>\n",
       "      <td>901778.32</td>\n",
       "    </tr>\n",
       "  </tbody>\n",
       "</table>\n",
       "</div>"
      ],
      "text/plain": [
       "                Average Medicare Payments\n",
       "Provider State                           \n",
       "AK                                6008.80\n",
       "AL                              112154.39\n",
       "AR                               90176.26\n",
       "AZ                              120926.12\n",
       "CA                              901778.32"
      ]
     },
     "execution_count": 24,
     "metadata": {},
     "output_type": "execute_result"
    }
   ],
   "source": [
    "# Group data by state and average medicare payments, and then sum the values\n",
    "medicare_payment_by_state = procedure_552_charges[[\"Average Medicare Payments\", \"Provider State\"]]\n",
    "\n",
    "total_medicare_by_state = medicare_payment_by_state.groupby(\"Provider State\").sum()\n",
    "\n",
    "total_medicare_by_state.head()"
   ]
  },
  {
   "cell_type": "code",
   "execution_count": 25,
   "metadata": {},
   "outputs": [
    {
     "data": {},
     "metadata": {},
     "output_type": "display_data"
    },
    {
     "data": {
      "application/vnd.holoviews_exec.v0+json": "",
      "text/html": [
       "<div id='3324'>\n",
       "  <div class=\"bk-root\" id=\"e080ed9f-54f1-46db-9fe5-8cf17470a901\" data-root-id=\"3324\"></div>\n",
       "</div>\n",
       "<script type=\"application/javascript\">(function(root) {\n",
       "  function embed_document(root) {\n",
       "    var docs_json = {\"80b48fe0-6127-47c8-a9da-3cd9d049ee22\":{\"defs\":[{\"extends\":null,\"module\":null,\"name\":\"ReactiveHTML1\",\"overrides\":[],\"properties\":[]},{\"extends\":null,\"module\":null,\"name\":\"FlexBox1\",\"overrides\":[],\"properties\":[{\"default\":\"flex-start\",\"kind\":null,\"name\":\"align_content\"},{\"default\":\"flex-start\",\"kind\":null,\"name\":\"align_items\"},{\"default\":\"row\",\"kind\":null,\"name\":\"flex_direction\"},{\"default\":\"wrap\",\"kind\":null,\"name\":\"flex_wrap\"},{\"default\":\"flex-start\",\"kind\":null,\"name\":\"justify_content\"}]},{\"extends\":null,\"module\":null,\"name\":\"GridStack1\",\"overrides\":[],\"properties\":[{\"default\":\"warn\",\"kind\":null,\"name\":\"mode\"},{\"default\":null,\"kind\":null,\"name\":\"ncols\"},{\"default\":null,\"kind\":null,\"name\":\"nrows\"},{\"default\":true,\"kind\":null,\"name\":\"allow_resize\"},{\"default\":true,\"kind\":null,\"name\":\"allow_drag\"},{\"default\":[],\"kind\":null,\"name\":\"state\"}]},{\"extends\":null,\"module\":null,\"name\":\"click1\",\"overrides\":[],\"properties\":[{\"default\":\"\",\"kind\":null,\"name\":\"terminal_output\"},{\"default\":\"\",\"kind\":null,\"name\":\"debug_name\"},{\"default\":0,\"kind\":null,\"name\":\"clears\"}]},{\"extends\":null,\"module\":null,\"name\":\"NotificationAreaBase1\",\"overrides\":[],\"properties\":[{\"default\":\"bottom-right\",\"kind\":null,\"name\":\"position\"},{\"default\":0,\"kind\":null,\"name\":\"_clear\"}]},{\"extends\":null,\"module\":null,\"name\":\"NotificationArea1\",\"overrides\":[],\"properties\":[{\"default\":[],\"kind\":null,\"name\":\"notifications\"},{\"default\":\"bottom-right\",\"kind\":null,\"name\":\"position\"},{\"default\":0,\"kind\":null,\"name\":\"_clear\"},{\"default\":[{\"background\":\"#ffc107\",\"icon\":{\"className\":\"fas fa-exclamation-triangle\",\"color\":\"white\",\"tagName\":\"i\"},\"type\":\"warning\"},{\"background\":\"#007bff\",\"icon\":{\"className\":\"fas fa-info-circle\",\"color\":\"white\",\"tagName\":\"i\"},\"type\":\"info\"}],\"kind\":null,\"name\":\"types\"}]},{\"extends\":null,\"module\":null,\"name\":\"Notification\",\"overrides\":[],\"properties\":[{\"default\":null,\"kind\":null,\"name\":\"background\"},{\"default\":3000,\"kind\":null,\"name\":\"duration\"},{\"default\":null,\"kind\":null,\"name\":\"icon\"},{\"default\":\"\",\"kind\":null,\"name\":\"message\"},{\"default\":null,\"kind\":null,\"name\":\"notification_type\"},{\"default\":false,\"kind\":null,\"name\":\"_destroyed\"}]},{\"extends\":null,\"module\":null,\"name\":\"TemplateActions1\",\"overrides\":[],\"properties\":[{\"default\":0,\"kind\":null,\"name\":\"open_modal\"},{\"default\":0,\"kind\":null,\"name\":\"close_modal\"}]},{\"extends\":null,\"module\":null,\"name\":\"MaterialTemplateActions1\",\"overrides\":[],\"properties\":[{\"default\":0,\"kind\":null,\"name\":\"open_modal\"},{\"default\":0,\"kind\":null,\"name\":\"close_modal\"}]}],\"roots\":{\"references\":[{\"attributes\":{\"callback\":null,\"renderers\":[{\"id\":\"3364\"}],\"tags\":[\"hv_created\"],\"tooltips\":[[\"Provider State\",\"@{Provider_State}\"],[\"Average Medicare Payments\",\"@{Average_Medicare_Payments}\"]]},\"id\":\"3328\",\"type\":\"HoverTool\"},{\"attributes\":{\"below\":[{\"id\":\"3338\"}],\"center\":[{\"id\":\"3340\"},{\"id\":\"3344\"}],\"height\":300,\"left\":[{\"id\":\"3341\"}],\"margin\":[5,5,5,5],\"min_border_bottom\":10,\"min_border_left\":10,\"min_border_right\":10,\"min_border_top\":10,\"renderers\":[{\"id\":\"3364\"}],\"sizing_mode\":\"fixed\",\"title\":{\"id\":\"3330\"},\"toolbar\":{\"id\":\"3351\"},\"width\":700,\"x_range\":{\"id\":\"3326\"},\"x_scale\":{\"id\":\"3334\"},\"y_range\":{\"id\":\"3327\"},\"y_scale\":{\"id\":\"3336\"}},\"id\":\"3329\",\"subtype\":\"Figure\",\"type\":\"Plot\"},{\"attributes\":{\"factors\":[\"AK\",\"DE\",\"VT\",\"ND\",\"WY\",\"ID\",\"MT\",\"RI\",\"SD\",\"HI\",\"UT\",\"DC\",\"NM\",\"NH\",\"OR\",\"ME\",\"NE\",\"KS\",\"NV\",\"WV\",\"MS\",\"IA\",\"LA\",\"OK\",\"AR\",\"CO\",\"AL\",\"CT\",\"SC\",\"TN\",\"AZ\",\"KY\",\"MN\",\"WI\",\"WA\",\"GA\",\"VA\",\"IN\",\"MO\",\"NC\",\"MD\",\"MA\",\"MI\",\"NJ\",\"OH\",\"PA\",\"IL\",\"TX\",\"FL\",\"NY\",\"CA\"],\"tags\":[[[\"Provider State\",\"Provider State\",null]]]},\"id\":\"3326\",\"type\":\"FactorRange\"},{\"attributes\":{\"fill_alpha\":{\"value\":0.1},\"fill_color\":{\"value\":\"#30a2da\"},\"hatch_alpha\":{\"value\":0.1},\"hatch_color\":{\"value\":\"#30a2da\"},\"line_alpha\":{\"value\":0.1},\"top\":{\"field\":\"Average_Medicare_Payments\"},\"width\":{\"value\":0.8},\"x\":{\"field\":\"Provider_State\"}},\"id\":\"3362\",\"type\":\"VBar\"},{\"attributes\":{},\"id\":\"3368\",\"type\":\"CategoricalTickFormatter\"},{\"attributes\":{},\"id\":\"3369\",\"type\":\"AllLabels\"},{\"attributes\":{\"coordinates\":null,\"data_source\":{\"id\":\"3358\"},\"glyph\":{\"id\":\"3361\"},\"group\":null,\"hover_glyph\":null,\"muted_glyph\":{\"id\":\"3363\"},\"nonselection_glyph\":{\"id\":\"3362\"},\"selection_glyph\":{\"id\":\"3366\"},\"view\":{\"id\":\"3365\"}},\"id\":\"3364\",\"type\":\"GlyphRenderer\"},{\"attributes\":{\"tools\":[{\"id\":\"3328\"},{\"id\":\"3345\"},{\"id\":\"3346\"},{\"id\":\"3347\"},{\"id\":\"3348\"},{\"id\":\"3349\"}]},\"id\":\"3351\",\"type\":\"Toolbar\"},{\"attributes\":{},\"id\":\"3359\",\"type\":\"Selection\"},{\"attributes\":{\"bottom_units\":\"screen\",\"coordinates\":null,\"fill_alpha\":0.5,\"fill_color\":\"lightgrey\",\"group\":null,\"left_units\":\"screen\",\"level\":\"overlay\",\"line_alpha\":1.0,\"line_color\":\"black\",\"line_dash\":[4,4],\"line_width\":2,\"right_units\":\"screen\",\"syncable\":false,\"top_units\":\"screen\"},\"id\":\"3350\",\"type\":\"BoxAnnotation\"},{\"attributes\":{},\"id\":\"3345\",\"type\":\"SaveTool\"},{\"attributes\":{},\"id\":\"3371\",\"type\":\"BasicTickFormatter\"},{\"attributes\":{},\"id\":\"3346\",\"type\":\"PanTool\"},{\"attributes\":{},\"id\":\"3372\",\"type\":\"AllLabels\"},{\"attributes\":{},\"id\":\"3349\",\"type\":\"ResetTool\"},{\"attributes\":{\"axis\":{\"id\":\"3338\"},\"coordinates\":null,\"grid_line_color\":null,\"group\":null,\"ticker\":null},\"id\":\"3340\",\"type\":\"Grid\"},{\"attributes\":{\"bottom\":{\"value\":0},\"fill_alpha\":{\"value\":1.0},\"fill_color\":{\"value\":\"#30a2da\"},\"hatch_alpha\":{\"value\":1.0},\"hatch_color\":{\"value\":\"#30a2da\"},\"hatch_scale\":{\"value\":12.0},\"hatch_weight\":{\"value\":1.0},\"line_alpha\":{\"value\":1.0},\"line_cap\":{\"value\":\"butt\"},\"line_color\":{\"value\":\"black\"},\"line_dash\":{\"value\":[]},\"line_dash_offset\":{\"value\":0},\"line_join\":{\"value\":\"bevel\"},\"line_width\":{\"value\":1},\"top\":{\"field\":\"Average_Medicare_Payments\"},\"width\":{\"value\":0.8},\"x\":{\"field\":\"Provider_State\"}},\"id\":\"3366\",\"type\":\"VBar\"},{\"attributes\":{},\"id\":\"3347\",\"type\":\"WheelZoomTool\"},{\"attributes\":{},\"id\":\"3380\",\"type\":\"UnionRenderers\"},{\"attributes\":{\"axis_label\":\"Provider State\",\"coordinates\":null,\"formatter\":{\"id\":\"3368\"},\"group\":null,\"major_label_policy\":{\"id\":\"3369\"},\"ticker\":{\"id\":\"3339\"}},\"id\":\"3338\",\"type\":\"CategoricalAxis\"},{\"attributes\":{\"overlay\":{\"id\":\"3350\"}},\"id\":\"3348\",\"type\":\"BoxZoomTool\"},{\"attributes\":{\"fill_alpha\":{\"value\":0.2},\"fill_color\":{\"value\":\"#30a2da\"},\"hatch_alpha\":{\"value\":0.2},\"hatch_color\":{\"value\":\"#30a2da\"},\"line_alpha\":{\"value\":0.2},\"top\":{\"field\":\"Average_Medicare_Payments\"},\"width\":{\"value\":0.8},\"x\":{\"field\":\"Provider_State\"}},\"id\":\"3363\",\"type\":\"VBar\"},{\"attributes\":{},\"id\":\"3334\",\"type\":\"CategoricalScale\"},{\"attributes\":{\"coordinates\":null,\"group\":null,\"text_color\":\"black\",\"text_font_size\":\"12pt\"},\"id\":\"3330\",\"type\":\"Title\"},{\"attributes\":{\"margin\":[5,5,5,5],\"name\":\"HSpacer03469\",\"sizing_mode\":\"stretch_width\"},\"id\":\"3383\",\"type\":\"Spacer\"},{\"attributes\":{\"data\":{\"Average_Medicare_Payments\":{\"__ndarray__\":\"zczMzMx4t0A9CtejICXQQHA9CtcjLNBAH4XrUVji0EAUrkfhGmLVQAAAAACgwddAmZmZmemr2EA+CtejkNTaQB6F61EoaN5AuB6F66ES30DsUbge5VPhQEjhehQOvOJAw/UoXG895EApXI/CFYXmQEjhehRmyetAcD0K16vM7EBcj8L1iGnuQIXrUbhO+u9AUrgehXcj8EDhehSu9x/xQHE9Ctdnt/NAexSuR63z9ECuR+F6aKb1QD0K16OcwvVAj8L1KAQE9kApXI/CaRb6QNejcD2mYftAH4XrUZz4+0ApXI/Ckdr8QLgehetVaP1AuB6F6+GF/UDNzMzM2Oz9QMP1KFzTf/9AFa5H4T5PAUGkcD0KL7UBQdejcD3IbgVBZmZmZnzgBUEUrkfhEA4GQdejcD2KvwZBexSuRynkCkFSuB6Fx/kNQZqZmZnLnA5B16NwPbx/EEFSuB6FbnkSQQAAAABpFxZB9ihcj9TfGEGamZmZZFYbQbgehesh1RxBpHA9iirGIEG4HoXrt8IjQT0K16MkhStB\",\"dtype\":\"float64\",\"order\":\"little\",\"shape\":[51]},\"Provider_State\":[\"AK\",\"DE\",\"VT\",\"ND\",\"WY\",\"ID\",\"MT\",\"RI\",\"SD\",\"HI\",\"UT\",\"DC\",\"NM\",\"NH\",\"OR\",\"ME\",\"NE\",\"KS\",\"NV\",\"WV\",\"MS\",\"IA\",\"LA\",\"OK\",\"AR\",\"CO\",\"AL\",\"CT\",\"SC\",\"TN\",\"AZ\",\"KY\",\"MN\",\"WI\",\"WA\",\"GA\",\"VA\",\"IN\",\"MO\",\"NC\",\"MD\",\"MA\",\"MI\",\"NJ\",\"OH\",\"PA\",\"IL\",\"TX\",\"FL\",\"NY\",\"CA\"]},\"selected\":{\"id\":\"3359\"},\"selection_policy\":{\"id\":\"3380\"}},\"id\":\"3358\",\"type\":\"ColumnDataSource\"},{\"attributes\":{},\"id\":\"3336\",\"type\":\"LinearScale\"},{\"attributes\":{},\"id\":\"3342\",\"type\":\"BasicTicker\"},{\"attributes\":{},\"id\":\"3339\",\"type\":\"CategoricalTicker\"},{\"attributes\":{\"margin\":[5,5,5,5],\"name\":\"HSpacer03468\",\"sizing_mode\":\"stretch_width\"},\"id\":\"3325\",\"type\":\"Spacer\"},{\"attributes\":{\"end\":991355.2719999999,\"reset_end\":991355.2719999999,\"reset_start\":0.0,\"tags\":[[[\"Average Medicare Payments\",\"Average Medicare Payments\",null]]]},\"id\":\"3327\",\"type\":\"Range1d\"},{\"attributes\":{\"axis_label\":\"Average Medicare Payments\",\"coordinates\":null,\"formatter\":{\"id\":\"3371\"},\"group\":null,\"major_label_policy\":{\"id\":\"3372\"},\"ticker\":{\"id\":\"3342\"}},\"id\":\"3341\",\"type\":\"LinearAxis\"},{\"attributes\":{\"axis\":{\"id\":\"3341\"},\"coordinates\":null,\"dimension\":1,\"grid_line_color\":null,\"group\":null,\"ticker\":null},\"id\":\"3344\",\"type\":\"Grid\"},{\"attributes\":{\"fill_color\":{\"value\":\"#30a2da\"},\"hatch_color\":{\"value\":\"#30a2da\"},\"top\":{\"field\":\"Average_Medicare_Payments\"},\"width\":{\"value\":0.8},\"x\":{\"field\":\"Provider_State\"}},\"id\":\"3361\",\"type\":\"VBar\"},{\"attributes\":{\"source\":{\"id\":\"3358\"}},\"id\":\"3365\",\"type\":\"CDSView\"},{\"attributes\":{\"children\":[{\"id\":\"3325\"},{\"id\":\"3329\"},{\"id\":\"3383\"}],\"margin\":[0,0,0,0],\"name\":\"Row03464\",\"tags\":[\"embedded\"]},\"id\":\"3324\",\"type\":\"Row\"}],\"root_ids\":[\"3324\"]},\"title\":\"Bokeh Application\",\"version\":\"2.4.3\"}};\n",
       "    var render_items = [{\"docid\":\"80b48fe0-6127-47c8-a9da-3cd9d049ee22\",\"root_ids\":[\"3324\"],\"roots\":{\"3324\":\"e080ed9f-54f1-46db-9fe5-8cf17470a901\"}}];\n",
       "    root.Bokeh.embed.embed_items_notebook(docs_json, render_items);\n",
       "  }\n",
       "  if (root.Bokeh !== undefined && root.Bokeh.Panel !== undefined) {\n",
       "    embed_document(root);\n",
       "  } else {\n",
       "    var attempts = 0;\n",
       "    var timer = setInterval(function(root) {\n",
       "      if (root.Bokeh !== undefined && root.Bokeh.Panel !== undefined) {\n",
       "        clearInterval(timer);\n",
       "        embed_document(root);\n",
       "      } else if (document.readyState == \"complete\") {\n",
       "        attempts++;\n",
       "        if (attempts > 200) {\n",
       "          clearInterval(timer);\n",
       "          console.log(\"Bokeh: ERROR: Unable to run BokehJS code because BokehJS library is missing\");\n",
       "        }\n",
       "      }\n",
       "    }, 25, root)\n",
       "  }\n",
       "})(window);</script>"
      ],
      "text/plain": [
       ":Bars   [Provider State]   (Average Medicare Payments)"
      ]
     },
     "execution_count": 25,
     "metadata": {
      "application/vnd.holoviews_exec.v0+json": {
       "id": "3324"
      }
     },
     "output_type": "execute_result"
    }
   ],
   "source": [
    "# Sort data values\n",
    "sorted_total_medicare_by_state = total_medicare_by_state.sort_values(\"Average Medicare Payments\")\n",
    "\n",
    "sorted_total_medicare_by_state.hvplot.bar()"
   ]
  },
  {
   "cell_type": "markdown",
   "metadata": {},
   "source": [
    "## Compose overlay plots using the + operator"
   ]
  },
  {
   "cell_type": "code",
   "execution_count": 30,
   "metadata": {},
   "outputs": [
    {
     "data": {},
     "metadata": {},
     "output_type": "display_data"
    },
    {
     "data": {
      "application/vnd.holoviews_exec.v0+json": "",
      "text/html": [
       "<div id='4071'>\n",
       "  <div class=\"bk-root\" id=\"737a6a86-f729-4dfe-96dc-ee08fc0eef3d\" data-root-id=\"4071\"></div>\n",
       "</div>\n",
       "<script type=\"application/javascript\">(function(root) {\n",
       "  function embed_document(root) {\n",
       "    var docs_json = {\"11c300f4-7278-4f29-b32b-213fa52bc696\":{\"defs\":[{\"extends\":null,\"module\":null,\"name\":\"ReactiveHTML1\",\"overrides\":[],\"properties\":[]},{\"extends\":null,\"module\":null,\"name\":\"FlexBox1\",\"overrides\":[],\"properties\":[{\"default\":\"flex-start\",\"kind\":null,\"name\":\"align_content\"},{\"default\":\"flex-start\",\"kind\":null,\"name\":\"align_items\"},{\"default\":\"row\",\"kind\":null,\"name\":\"flex_direction\"},{\"default\":\"wrap\",\"kind\":null,\"name\":\"flex_wrap\"},{\"default\":\"flex-start\",\"kind\":null,\"name\":\"justify_content\"}]},{\"extends\":null,\"module\":null,\"name\":\"GridStack1\",\"overrides\":[],\"properties\":[{\"default\":\"warn\",\"kind\":null,\"name\":\"mode\"},{\"default\":null,\"kind\":null,\"name\":\"ncols\"},{\"default\":null,\"kind\":null,\"name\":\"nrows\"},{\"default\":true,\"kind\":null,\"name\":\"allow_resize\"},{\"default\":true,\"kind\":null,\"name\":\"allow_drag\"},{\"default\":[],\"kind\":null,\"name\":\"state\"}]},{\"extends\":null,\"module\":null,\"name\":\"click1\",\"overrides\":[],\"properties\":[{\"default\":\"\",\"kind\":null,\"name\":\"terminal_output\"},{\"default\":\"\",\"kind\":null,\"name\":\"debug_name\"},{\"default\":0,\"kind\":null,\"name\":\"clears\"}]},{\"extends\":null,\"module\":null,\"name\":\"NotificationAreaBase1\",\"overrides\":[],\"properties\":[{\"default\":\"bottom-right\",\"kind\":null,\"name\":\"position\"},{\"default\":0,\"kind\":null,\"name\":\"_clear\"}]},{\"extends\":null,\"module\":null,\"name\":\"NotificationArea1\",\"overrides\":[],\"properties\":[{\"default\":[],\"kind\":null,\"name\":\"notifications\"},{\"default\":\"bottom-right\",\"kind\":null,\"name\":\"position\"},{\"default\":0,\"kind\":null,\"name\":\"_clear\"},{\"default\":[{\"background\":\"#ffc107\",\"icon\":{\"className\":\"fas fa-exclamation-triangle\",\"color\":\"white\",\"tagName\":\"i\"},\"type\":\"warning\"},{\"background\":\"#007bff\",\"icon\":{\"className\":\"fas fa-info-circle\",\"color\":\"white\",\"tagName\":\"i\"},\"type\":\"info\"}],\"kind\":null,\"name\":\"types\"}]},{\"extends\":null,\"module\":null,\"name\":\"Notification\",\"overrides\":[],\"properties\":[{\"default\":null,\"kind\":null,\"name\":\"background\"},{\"default\":3000,\"kind\":null,\"name\":\"duration\"},{\"default\":null,\"kind\":null,\"name\":\"icon\"},{\"default\":\"\",\"kind\":null,\"name\":\"message\"},{\"default\":null,\"kind\":null,\"name\":\"notification_type\"},{\"default\":false,\"kind\":null,\"name\":\"_destroyed\"}]},{\"extends\":null,\"module\":null,\"name\":\"TemplateActions1\",\"overrides\":[],\"properties\":[{\"default\":0,\"kind\":null,\"name\":\"open_modal\"},{\"default\":0,\"kind\":null,\"name\":\"close_modal\"}]},{\"extends\":null,\"module\":null,\"name\":\"MaterialTemplateActions1\",\"overrides\":[],\"properties\":[{\"default\":0,\"kind\":null,\"name\":\"open_modal\"},{\"default\":0,\"kind\":null,\"name\":\"close_modal\"}]}],\"roots\":{\"references\":[{\"attributes\":{\"line_color\":\"#30a2da\",\"line_width\":2,\"x\":{\"field\":\"Provider State Sorted\"},\"y\":{\"field\":\"Average Total Payments\"}},\"id\":\"4133\",\"type\":\"Line\"},{\"attributes\":{},\"id\":\"4112\",\"type\":\"AllLabels\"},{\"attributes\":{\"factors\":[\"AK\",\"VT\",\"ND\",\"DE\",\"WY\",\"ID\",\"MT\",\"RI\",\"SD\",\"HI\",\"DC\",\"UT\",\"NM\",\"NH\",\"ME\",\"OR\",\"NV\",\"KS\",\"NE\",\"WV\",\"MS\",\"IA\",\"OK\",\"LA\",\"AR\",\"CT\",\"CO\",\"SC\",\"AL\",\"AZ\",\"KY\",\"TN\",\"MN\",\"WI\",\"WA\",\"GA\",\"VA\",\"MO\",\"IN\",\"NC\",\"MD\",\"MA\",\"MI\",\"NJ\",\"OH\",\"PA\",\"IL\",\"TX\",\"FL\",\"NY\",\"CA\"],\"tags\":[[[\"Provider State Sorted\",\"Provider State Sorted\",null]]]},\"id\":\"4073\",\"type\":\"FactorRange\"},{\"attributes\":{\"callback\":null,\"renderers\":[{\"id\":\"4140\"}],\"tags\":[\"hv_created\"],\"tooltips\":[[\"Provider State\",\"@{Provider_State}\"],[\"Average Medicare Payments\",\"@{Average_Medicare_Payments}\"]]},\"id\":\"4076\",\"type\":\"HoverTool\"},{\"attributes\":{},\"id\":\"4128\",\"type\":\"UnionRenderers\"},{\"attributes\":{\"source\":{\"id\":\"4113\"}},\"id\":\"4120\",\"type\":\"CDSView\"},{\"attributes\":{},\"id\":\"4114\",\"type\":\"Selection\"},{\"attributes\":{\"callback\":null,\"renderers\":[{\"id\":\"4119\"}],\"tags\":[\"hv_created\"],\"tooltips\":[[\"Provider State Sorted\",\"@{Provider_State_Sorted}\"],[\"Average Total Payments\",\"@{Average_Total_Payments}\"]]},\"id\":\"4075\",\"type\":\"HoverTool\"},{\"attributes\":{\"bottom_units\":\"screen\",\"coordinates\":null,\"fill_alpha\":0.5,\"fill_color\":\"lightgrey\",\"group\":null,\"left_units\":\"screen\",\"level\":\"overlay\",\"line_alpha\":1.0,\"line_color\":\"black\",\"line_dash\":[4,4],\"line_width\":2,\"right_units\":\"screen\",\"syncable\":false,\"top_units\":\"screen\"},\"id\":\"4098\",\"type\":\"BoxAnnotation\"},{\"attributes\":{},\"id\":\"4093\",\"type\":\"SaveTool\"},{\"attributes\":{\"label\":{\"value\":\"Average Total Payments\"},\"renderers\":[{\"id\":\"4119\"}]},\"id\":\"4132\",\"type\":\"LegendItem\"},{\"attributes\":{},\"id\":\"4094\",\"type\":\"PanTool\"},{\"attributes\":{\"axis_label\":\"Provider State Sorted\",\"coordinates\":null,\"formatter\":{\"id\":\"4108\"},\"group\":null,\"major_label_orientation\":1.5707963267948966,\"major_label_policy\":{\"id\":\"4109\"},\"ticker\":{\"id\":\"4087\"}},\"id\":\"4086\",\"type\":\"CategoricalAxis\"},{\"attributes\":{\"overlay\":{\"id\":\"4098\"}},\"id\":\"4096\",\"type\":\"BoxZoomTool\"},{\"attributes\":{\"click_policy\":\"mute\",\"coordinates\":null,\"group\":null,\"items\":[{\"id\":\"4132\"},{\"id\":\"4154\"}],\"location\":[0,0]},\"id\":\"4131\",\"type\":\"Legend\"},{\"attributes\":{\"fill_alpha\":{\"value\":0.1},\"fill_color\":{\"value\":\"#30a2da\"},\"hatch_alpha\":{\"value\":0.1},\"hatch_color\":{\"value\":\"#30a2da\"},\"line_alpha\":{\"value\":0.1},\"top\":{\"field\":\"Average_Medicare_Payments\"},\"width\":{\"value\":0.8},\"x\":{\"field\":\"Provider_State\"}},\"id\":\"4138\",\"type\":\"VBar\"},{\"attributes\":{},\"id\":\"4095\",\"type\":\"WheelZoomTool\"},{\"attributes\":{\"axis\":{\"id\":\"4086\"},\"coordinates\":null,\"grid_line_color\":null,\"group\":null,\"ticker\":null},\"id\":\"4088\",\"type\":\"Grid\"},{\"attributes\":{\"line_color\":\"#30a2da\",\"line_width\":2,\"x\":{\"field\":\"Provider State Sorted\"},\"y\":{\"field\":\"Average Total Payments\"}},\"id\":\"4116\",\"type\":\"Line\"},{\"attributes\":{\"line_alpha\":0.1,\"line_color\":\"#30a2da\",\"line_width\":2,\"x\":{\"field\":\"Provider State Sorted\"},\"y\":{\"field\":\"Average Total Payments\"}},\"id\":\"4117\",\"type\":\"Line\"},{\"attributes\":{\"bottom\":{\"value\":0},\"fill_alpha\":{\"value\":1.0},\"fill_color\":{\"value\":\"#30a2da\"},\"hatch_alpha\":{\"value\":1.0},\"hatch_color\":{\"value\":\"#30a2da\"},\"hatch_scale\":{\"value\":12.0},\"hatch_weight\":{\"value\":1.0},\"line_alpha\":{\"value\":1.0},\"line_cap\":{\"value\":\"butt\"},\"line_color\":{\"value\":\"black\"},\"line_dash\":{\"value\":[]},\"line_dash_offset\":{\"value\":0},\"line_join\":{\"value\":\"bevel\"},\"line_width\":{\"value\":1},\"top\":{\"field\":\"Average_Medicare_Payments\"},\"width\":{\"value\":0.8},\"x\":{\"field\":\"Provider_State\"}},\"id\":\"4155\",\"type\":\"VBar\"},{\"attributes\":{\"coordinates\":null,\"group\":null,\"text_color\":\"black\",\"text_font_size\":\"12pt\"},\"id\":\"4078\",\"type\":\"Title\"},{\"attributes\":{\"data\":{\"Average Total Payments\":{\"__ndarray__\":\"ZmZmZmbeu0DsUbgeRbrSQHE9CtfjFNVAUrgehUtq1kCkcD0Kd5vYQJmZmZkZ395AexSuR+FH30A+CtejaIzgQOF6FK737+JA9ihcjxIH40AK16Nw1eTlQD4K16OwiOZAzczMzMys6kBI4XoUhgLsQK5H4XqgGfJAmpmZmdmD8kCuR+F6tEj0QFyPwvWUU/RAKVyPwnV09ED2KFyP3v71QKRwPQo/fPlAmpmZmcEA+0CF61G4+jn7QKRwPQr/UvxAMzMzMz9b/EAAAAAA8rEAQa5H4Xqk7ABBKVyPwsUDAkEfhetRakMCQQrXo3DjiQJBw/UoXFlhA0EK16NwGbYDQR+F61GKAgRBFa5H4Z4LB0EAAAAAPhQHQXsUrkfjKgtBZmZmZiiGDEGPwvUoNK0MQXE9CtdhvwxBexSuRwyXEEE9CtejKIgRQRWuR+GWVxJBw/UoXCN1FEHsUbge57sXQVyPwvVHthtBmpmZmTwXH0EzMzMz5XshQQAAAAC8eyJB4XoULmPMJUEpXI/CW24nQSlcj0JyTDBB\",\"dtype\":\"float64\",\"order\":\"little\",\"shape\":[51]},\"Average_Total_Payments\":{\"__ndarray__\":\"ZmZmZmbeu0DsUbgeRbrSQHE9CtfjFNVAUrgehUtq1kCkcD0Kd5vYQJmZmZkZ395AexSuR+FH30A+CtejaIzgQOF6FK737+JA9ihcjxIH40AK16Nw1eTlQD4K16OwiOZAzczMzMys6kBI4XoUhgLsQK5H4XqgGfJAmpmZmdmD8kCuR+F6tEj0QFyPwvWUU/RAKVyPwnV09ED2KFyP3v71QKRwPQo/fPlAmpmZmcEA+0CF61G4+jn7QKRwPQr/UvxAMzMzMz9b/EAAAAAA8rEAQa5H4Xqk7ABBKVyPwsUDAkEfhetRakMCQQrXo3DjiQJBw/UoXFlhA0EK16NwGbYDQR+F61GKAgRBFa5H4Z4LB0EAAAAAPhQHQXsUrkfjKgtBZmZmZiiGDEGPwvUoNK0MQXE9CtdhvwxBexSuRwyXEEE9CtejKIgRQRWuR+GWVxJBw/UoXCN1FEHsUbge57sXQVyPwvVHthtBmpmZmTwXH0EzMzMz5XshQQAAAAC8eyJB4XoULmPMJUEpXI/CW24nQSlcj0JyTDBB\",\"dtype\":\"float64\",\"order\":\"little\",\"shape\":[51]},\"Provider State Sorted\":[\"AK\",\"VT\",\"ND\",\"DE\",\"WY\",\"ID\",\"MT\",\"RI\",\"SD\",\"HI\",\"DC\",\"UT\",\"NM\",\"NH\",\"ME\",\"OR\",\"NV\",\"KS\",\"NE\",\"WV\",\"MS\",\"IA\",\"OK\",\"LA\",\"AR\",\"CT\",\"CO\",\"SC\",\"AL\",\"AZ\",\"KY\",\"TN\",\"MN\",\"WI\",\"WA\",\"GA\",\"VA\",\"MO\",\"IN\",\"NC\",\"MD\",\"MA\",\"MI\",\"NJ\",\"OH\",\"PA\",\"IL\",\"TX\",\"FL\",\"NY\",\"CA\"],\"Provider_State_Sorted\":[\"AK\",\"VT\",\"ND\",\"DE\",\"WY\",\"ID\",\"MT\",\"RI\",\"SD\",\"HI\",\"DC\",\"UT\",\"NM\",\"NH\",\"ME\",\"OR\",\"NV\",\"KS\",\"NE\",\"WV\",\"MS\",\"IA\",\"OK\",\"LA\",\"AR\",\"CT\",\"CO\",\"SC\",\"AL\",\"AZ\",\"KY\",\"TN\",\"MN\",\"WI\",\"WA\",\"GA\",\"VA\",\"MO\",\"IN\",\"NC\",\"MD\",\"MA\",\"MI\",\"NJ\",\"OH\",\"PA\",\"IL\",\"TX\",\"FL\",\"NY\",\"CA\"]},\"selected\":{\"id\":\"4114\"},\"selection_policy\":{\"id\":\"4128\"}},\"id\":\"4113\",\"type\":\"ColumnDataSource\"},{\"attributes\":{},\"id\":\"4108\",\"type\":\"CategoricalTickFormatter\"},{\"attributes\":{},\"id\":\"4097\",\"type\":\"ResetTool\"},{\"attributes\":{\"tools\":[{\"id\":\"4075\"},{\"id\":\"4076\"},{\"id\":\"4093\"},{\"id\":\"4094\"},{\"id\":\"4095\"},{\"id\":\"4096\"},{\"id\":\"4097\"}]},\"id\":\"4099\",\"type\":\"Toolbar\"},{\"attributes\":{\"below\":[{\"id\":\"4086\"}],\"center\":[{\"id\":\"4088\"},{\"id\":\"4092\"}],\"height\":300,\"left\":[{\"id\":\"4089\"}],\"margin\":[5,5,5,5],\"min_border_bottom\":10,\"min_border_left\":10,\"min_border_right\":10,\"min_border_top\":10,\"renderers\":[{\"id\":\"4119\"},{\"id\":\"4140\"}],\"right\":[{\"id\":\"4131\"}],\"sizing_mode\":\"fixed\",\"title\":{\"id\":\"4078\"},\"toolbar\":{\"id\":\"4099\"},\"width\":1000,\"x_range\":{\"id\":\"4073\"},\"x_scale\":{\"id\":\"4082\"},\"y_range\":{\"id\":\"4074\"},\"y_scale\":{\"id\":\"4084\"}},\"id\":\"4077\",\"subtype\":\"Figure\",\"type\":\"Plot\"},{\"attributes\":{\"end\":1174360.006,\"reset_end\":1174360.006,\"reset_start\":0.0,\"tags\":[[[\"Average Total Payments\",\"Average Total Payments\",null]]]},\"id\":\"4074\",\"type\":\"Range1d\"},{\"attributes\":{},\"id\":\"4082\",\"type\":\"CategoricalScale\"},{\"attributes\":{\"source\":{\"id\":\"4134\"}},\"id\":\"4141\",\"type\":\"CDSView\"},{\"attributes\":{},\"id\":\"4111\",\"type\":\"BasicTickFormatter\"},{\"attributes\":{\"fill_color\":{\"value\":\"#30a2da\"},\"hatch_color\":{\"value\":\"#30a2da\"},\"top\":{\"field\":\"Average_Medicare_Payments\"},\"width\":{\"value\":0.8},\"x\":{\"field\":\"Provider_State\"}},\"id\":\"4137\",\"type\":\"VBar\"},{\"attributes\":{\"coordinates\":null,\"data_source\":{\"id\":\"4113\"},\"glyph\":{\"id\":\"4116\"},\"group\":null,\"hover_glyph\":null,\"muted_glyph\":{\"id\":\"4118\"},\"nonselection_glyph\":{\"id\":\"4117\"},\"selection_glyph\":{\"id\":\"4133\"},\"view\":{\"id\":\"4120\"}},\"id\":\"4119\",\"type\":\"GlyphRenderer\"},{\"attributes\":{},\"id\":\"4109\",\"type\":\"AllLabels\"},{\"attributes\":{},\"id\":\"4084\",\"type\":\"LinearScale\"},{\"attributes\":{\"data\":{\"Average_Medicare_Payments\":{\"__ndarray__\":\"zczMzMx4t0A9CtejICXQQHA9CtcjLNBAH4XrUVji0EAUrkfhGmLVQAAAAACgwddAmZmZmemr2EA+CtejkNTaQB6F61EoaN5AuB6F66ES30DsUbge5VPhQEjhehQOvOJAw/UoXG895EApXI/CFYXmQEjhehRmyetAcD0K16vM7EBcj8L1iGnuQIXrUbhO+u9AUrgehXcj8EDhehSu9x/xQHE9Ctdnt/NAexSuR63z9ECuR+F6aKb1QD0K16OcwvVAj8L1KAQE9kApXI/CaRb6QNejcD2mYftAH4XrUZz4+0ApXI/Ckdr8QLgehetVaP1AuB6F6+GF/UDNzMzM2Oz9QMP1KFzTf/9AFa5H4T5PAUGkcD0KL7UBQdejcD3IbgVBZmZmZnzgBUEUrkfhEA4GQdejcD2KvwZBexSuRynkCkFSuB6Fx/kNQZqZmZnLnA5B16NwPbx/EEFSuB6FbnkSQQAAAABpFxZB9ihcj9TfGEGamZmZZFYbQbgehesh1RxBpHA9iirGIEG4HoXrt8IjQT0K16MkhStB\",\"dtype\":\"float64\",\"order\":\"little\",\"shape\":[51]},\"Provider_State\":[\"AK\",\"DE\",\"VT\",\"ND\",\"WY\",\"ID\",\"MT\",\"RI\",\"SD\",\"HI\",\"UT\",\"DC\",\"NM\",\"NH\",\"OR\",\"ME\",\"NE\",\"KS\",\"NV\",\"WV\",\"MS\",\"IA\",\"LA\",\"OK\",\"AR\",\"CO\",\"AL\",\"CT\",\"SC\",\"TN\",\"AZ\",\"KY\",\"MN\",\"WI\",\"WA\",\"GA\",\"VA\",\"IN\",\"MO\",\"NC\",\"MD\",\"MA\",\"MI\",\"NJ\",\"OH\",\"PA\",\"IL\",\"TX\",\"FL\",\"NY\",\"CA\"]},\"selected\":{\"id\":\"4135\"},\"selection_policy\":{\"id\":\"4151\"}},\"id\":\"4134\",\"type\":\"ColumnDataSource\"},{\"attributes\":{},\"id\":\"4151\",\"type\":\"UnionRenderers\"},{\"attributes\":{\"fill_alpha\":{\"value\":0.2},\"fill_color\":{\"value\":\"#30a2da\"},\"hatch_alpha\":{\"value\":0.2},\"hatch_color\":{\"value\":\"#30a2da\"},\"line_alpha\":{\"value\":0.2},\"top\":{\"field\":\"Average_Medicare_Payments\"},\"width\":{\"value\":0.8},\"x\":{\"field\":\"Provider_State\"}},\"id\":\"4139\",\"type\":\"VBar\"},{\"attributes\":{},\"id\":\"4090\",\"type\":\"BasicTicker\"},{\"attributes\":{\"coordinates\":null,\"data_source\":{\"id\":\"4134\"},\"glyph\":{\"id\":\"4137\"},\"group\":null,\"hover_glyph\":null,\"muted_glyph\":{\"id\":\"4139\"},\"nonselection_glyph\":{\"id\":\"4138\"},\"selection_glyph\":{\"id\":\"4155\"},\"view\":{\"id\":\"4141\"}},\"id\":\"4140\",\"type\":\"GlyphRenderer\"},{\"attributes\":{},\"id\":\"4087\",\"type\":\"CategoricalTicker\"},{\"attributes\":{\"axis_label\":\"Average Total Payments\",\"coordinates\":null,\"formatter\":{\"id\":\"4111\"},\"group\":null,\"major_label_policy\":{\"id\":\"4112\"},\"ticker\":{\"id\":\"4090\"}},\"id\":\"4089\",\"type\":\"LinearAxis\"},{\"attributes\":{\"line_alpha\":0.2,\"line_color\":\"#30a2da\",\"line_width\":2,\"x\":{\"field\":\"Provider State Sorted\"},\"y\":{\"field\":\"Average Total Payments\"}},\"id\":\"4118\",\"type\":\"Line\"},{\"attributes\":{\"axis\":{\"id\":\"4089\"},\"coordinates\":null,\"dimension\":1,\"grid_line_color\":null,\"group\":null,\"ticker\":null},\"id\":\"4092\",\"type\":\"Grid\"},{\"attributes\":{\"label\":{\"value\":\"Average Medicare Payments\"},\"renderers\":[{\"id\":\"4140\"}]},\"id\":\"4154\",\"type\":\"LegendItem\"},{\"attributes\":{\"children\":[{\"id\":\"4072\"},{\"id\":\"4077\"},{\"id\":\"4168\"}],\"margin\":[0,0,0,0],\"name\":\"Row04519\",\"tags\":[\"embedded\"]},\"id\":\"4071\",\"type\":\"Row\"},{\"attributes\":{\"margin\":[5,5,5,5],\"name\":\"HSpacer04523\",\"sizing_mode\":\"stretch_width\"},\"id\":\"4072\",\"type\":\"Spacer\"},{\"attributes\":{\"margin\":[5,5,5,5],\"name\":\"HSpacer04524\",\"sizing_mode\":\"stretch_width\"},\"id\":\"4168\",\"type\":\"Spacer\"},{\"attributes\":{},\"id\":\"4135\",\"type\":\"Selection\"}],\"root_ids\":[\"4071\"]},\"title\":\"Bokeh Application\",\"version\":\"2.4.3\"}};\n",
       "    var render_items = [{\"docid\":\"11c300f4-7278-4f29-b32b-213fa52bc696\",\"root_ids\":[\"4071\"],\"roots\":{\"4071\":\"737a6a86-f729-4dfe-96dc-ee08fc0eef3d\"}}];\n",
       "    root.Bokeh.embed.embed_items_notebook(docs_json, render_items);\n",
       "  }\n",
       "  if (root.Bokeh !== undefined && root.Bokeh.Panel !== undefined) {\n",
       "    embed_document(root);\n",
       "  } else {\n",
       "    var attempts = 0;\n",
       "    var timer = setInterval(function(root) {\n",
       "      if (root.Bokeh !== undefined && root.Bokeh.Panel !== undefined) {\n",
       "        clearInterval(timer);\n",
       "        embed_document(root);\n",
       "      } else if (document.readyState == \"complete\") {\n",
       "        attempts++;\n",
       "        if (attempts > 200) {\n",
       "          clearInterval(timer);\n",
       "          console.log(\"Bokeh: ERROR: Unable to run BokehJS code because BokehJS library is missing\");\n",
       "        }\n",
       "      }\n",
       "    }, 25, root)\n",
       "  }\n",
       "})(window);</script>"
      ],
      "text/plain": [
       ":Overlay\n",
       "   .Curve.Average_Total_Payments   :Curve   [Provider State Sorted]   (Average Total Payments)\n",
       "   .Bars.Average_Medicare_Payments :Bars   [Provider State]   (Average Medicare Payments)"
      ]
     },
     "execution_count": 30,
     "metadata": {
      "application/vnd.holoviews_exec.v0+json": {
       "id": "4071"
      }
     },
     "output_type": "execute_result"
    }
   ],
   "source": [
    "# Overlay plots of different type using * operator\n",
    "sorted_total_payments_by_state.hvplot.line(height = 300, width = 1000, rot = 90, label=\"Average Total Payments\") * sorted_total_medicare_by_state.hvplot.bar(height = 300, width = 1000, rot = 90, label=\"Average Medicare Payments\")"
   ]
  },
  {
   "cell_type": "code",
   "execution_count": 29,
   "metadata": {},
   "outputs": [
    {
     "data": {},
     "metadata": {},
     "output_type": "display_data"
    },
    {
     "data": {
      "application/vnd.holoviews_exec.v0+json": "",
      "text/html": [
       "<div id='3912'>\n",
       "  <div class=\"bk-root\" id=\"fadcf868-a632-4c07-a5d1-8e30c2e734b0\" data-root-id=\"3912\"></div>\n",
       "</div>\n",
       "<script type=\"application/javascript\">(function(root) {\n",
       "  function embed_document(root) {\n",
       "    var docs_json = {\"d105b8b7-7ae0-41b9-a56d-35bfa15cd651\":{\"defs\":[{\"extends\":null,\"module\":null,\"name\":\"ReactiveHTML1\",\"overrides\":[],\"properties\":[]},{\"extends\":null,\"module\":null,\"name\":\"FlexBox1\",\"overrides\":[],\"properties\":[{\"default\":\"flex-start\",\"kind\":null,\"name\":\"align_content\"},{\"default\":\"flex-start\",\"kind\":null,\"name\":\"align_items\"},{\"default\":\"row\",\"kind\":null,\"name\":\"flex_direction\"},{\"default\":\"wrap\",\"kind\":null,\"name\":\"flex_wrap\"},{\"default\":\"flex-start\",\"kind\":null,\"name\":\"justify_content\"}]},{\"extends\":null,\"module\":null,\"name\":\"GridStack1\",\"overrides\":[],\"properties\":[{\"default\":\"warn\",\"kind\":null,\"name\":\"mode\"},{\"default\":null,\"kind\":null,\"name\":\"ncols\"},{\"default\":null,\"kind\":null,\"name\":\"nrows\"},{\"default\":true,\"kind\":null,\"name\":\"allow_resize\"},{\"default\":true,\"kind\":null,\"name\":\"allow_drag\"},{\"default\":[],\"kind\":null,\"name\":\"state\"}]},{\"extends\":null,\"module\":null,\"name\":\"click1\",\"overrides\":[],\"properties\":[{\"default\":\"\",\"kind\":null,\"name\":\"terminal_output\"},{\"default\":\"\",\"kind\":null,\"name\":\"debug_name\"},{\"default\":0,\"kind\":null,\"name\":\"clears\"}]},{\"extends\":null,\"module\":null,\"name\":\"NotificationAreaBase1\",\"overrides\":[],\"properties\":[{\"default\":\"bottom-right\",\"kind\":null,\"name\":\"position\"},{\"default\":0,\"kind\":null,\"name\":\"_clear\"}]},{\"extends\":null,\"module\":null,\"name\":\"NotificationArea1\",\"overrides\":[],\"properties\":[{\"default\":[],\"kind\":null,\"name\":\"notifications\"},{\"default\":\"bottom-right\",\"kind\":null,\"name\":\"position\"},{\"default\":0,\"kind\":null,\"name\":\"_clear\"},{\"default\":[{\"background\":\"#ffc107\",\"icon\":{\"className\":\"fas fa-exclamation-triangle\",\"color\":\"white\",\"tagName\":\"i\"},\"type\":\"warning\"},{\"background\":\"#007bff\",\"icon\":{\"className\":\"fas fa-info-circle\",\"color\":\"white\",\"tagName\":\"i\"},\"type\":\"info\"}],\"kind\":null,\"name\":\"types\"}]},{\"extends\":null,\"module\":null,\"name\":\"Notification\",\"overrides\":[],\"properties\":[{\"default\":null,\"kind\":null,\"name\":\"background\"},{\"default\":3000,\"kind\":null,\"name\":\"duration\"},{\"default\":null,\"kind\":null,\"name\":\"icon\"},{\"default\":\"\",\"kind\":null,\"name\":\"message\"},{\"default\":null,\"kind\":null,\"name\":\"notification_type\"},{\"default\":false,\"kind\":null,\"name\":\"_destroyed\"}]},{\"extends\":null,\"module\":null,\"name\":\"TemplateActions1\",\"overrides\":[],\"properties\":[{\"default\":0,\"kind\":null,\"name\":\"open_modal\"},{\"default\":0,\"kind\":null,\"name\":\"close_modal\"}]},{\"extends\":null,\"module\":null,\"name\":\"MaterialTemplateActions1\",\"overrides\":[],\"properties\":[{\"default\":0,\"kind\":null,\"name\":\"open_modal\"},{\"default\":0,\"kind\":null,\"name\":\"close_modal\"}]}],\"roots\":{\"references\":[{\"attributes\":{},\"id\":\"3969\",\"type\":\"UnionRenderers\"},{\"attributes\":{\"axis_label\":\"Average Total Payments\",\"coordinates\":null,\"formatter\":{\"id\":\"3952\"},\"group\":null,\"major_label_policy\":{\"id\":\"3953\"},\"ticker\":{\"id\":\"3931\"}},\"id\":\"3930\",\"type\":\"LinearAxis\"},{\"attributes\":{\"label\":{\"value\":\"Average Total Payments\"},\"renderers\":[{\"id\":\"3960\"}]},\"id\":\"3973\",\"type\":\"LegendItem\"},{\"attributes\":{\"margin\":[5,5,5,5],\"name\":\"HSpacer04307\",\"sizing_mode\":\"stretch_width\"},\"id\":\"4009\",\"type\":\"Spacer\"},{\"attributes\":{\"axis\":{\"id\":\"3930\"},\"coordinates\":null,\"dimension\":1,\"grid_line_color\":null,\"group\":null,\"ticker\":null},\"id\":\"3933\",\"type\":\"Grid\"},{\"attributes\":{\"bottom\":{\"value\":0},\"fill_alpha\":{\"value\":1.0},\"fill_color\":{\"value\":\"#fc4f30\"},\"hatch_alpha\":{\"value\":1.0},\"hatch_color\":{\"value\":\"#fc4f30\"},\"hatch_scale\":{\"value\":12.0},\"hatch_weight\":{\"value\":1.0},\"line_alpha\":{\"value\":1.0},\"line_cap\":{\"value\":\"butt\"},\"line_color\":{\"value\":\"black\"},\"line_dash\":{\"value\":[]},\"line_dash_offset\":{\"value\":0},\"line_join\":{\"value\":\"bevel\"},\"line_width\":{\"value\":1},\"top\":{\"field\":\"Average_Medicare_Payments\"},\"width\":{\"value\":0.8},\"x\":{\"field\":\"Provider_State\"}},\"id\":\"3996\",\"type\":\"VBar\"},{\"attributes\":{},\"id\":\"3992\",\"type\":\"UnionRenderers\"},{\"attributes\":{\"bottom\":{\"value\":0},\"fill_alpha\":{\"value\":1.0},\"fill_color\":{\"value\":\"#30a2da\"},\"hatch_alpha\":{\"value\":1.0},\"hatch_color\":{\"value\":\"#30a2da\"},\"hatch_scale\":{\"value\":12.0},\"hatch_weight\":{\"value\":1.0},\"line_alpha\":{\"value\":1.0},\"line_cap\":{\"value\":\"butt\"},\"line_color\":{\"value\":\"black\"},\"line_dash\":{\"value\":[]},\"line_dash_offset\":{\"value\":0},\"line_join\":{\"value\":\"bevel\"},\"line_width\":{\"value\":1},\"top\":{\"field\":\"Average_Total_Payments\"},\"width\":{\"value\":0.8},\"x\":{\"field\":\"Provider_State_Sorted\"}},\"id\":\"3974\",\"type\":\"VBar\"},{\"attributes\":{\"below\":[{\"id\":\"3927\"}],\"center\":[{\"id\":\"3929\"},{\"id\":\"3933\"}],\"height\":300,\"left\":[{\"id\":\"3930\"}],\"margin\":[5,5,5,5],\"min_border_bottom\":10,\"min_border_left\":10,\"min_border_right\":10,\"min_border_top\":10,\"renderers\":[{\"id\":\"3960\"},{\"id\":\"3981\"}],\"right\":[{\"id\":\"3972\"}],\"sizing_mode\":\"fixed\",\"title\":{\"id\":\"3919\"},\"toolbar\":{\"id\":\"3940\"},\"width\":1000,\"x_range\":{\"id\":\"3914\"},\"x_scale\":{\"id\":\"3923\"},\"y_range\":{\"id\":\"3915\"},\"y_scale\":{\"id\":\"3925\"}},\"id\":\"3918\",\"subtype\":\"Figure\",\"type\":\"Plot\"},{\"attributes\":{\"factors\":[\"AK\",\"VT\",\"ND\",\"DE\",\"WY\",\"ID\",\"MT\",\"RI\",\"SD\",\"HI\",\"DC\",\"UT\",\"NM\",\"NH\",\"ME\",\"OR\",\"NV\",\"KS\",\"NE\",\"WV\",\"MS\",\"IA\",\"OK\",\"LA\",\"AR\",\"CT\",\"CO\",\"SC\",\"AL\",\"AZ\",\"KY\",\"TN\",\"MN\",\"WI\",\"WA\",\"GA\",\"VA\",\"MO\",\"IN\",\"NC\",\"MD\",\"MA\",\"MI\",\"NJ\",\"OH\",\"PA\",\"IL\",\"TX\",\"FL\",\"NY\",\"CA\"],\"tags\":[[[\"Provider State Sorted\",\"Provider State Sorted\",null]]]},\"id\":\"3914\",\"type\":\"FactorRange\"},{\"attributes\":{},\"id\":\"3952\",\"type\":\"BasicTickFormatter\"},{\"attributes\":{},\"id\":\"3953\",\"type\":\"AllLabels\"},{\"attributes\":{\"source\":{\"id\":\"3954\"}},\"id\":\"3961\",\"type\":\"CDSView\"},{\"attributes\":{\"callback\":null,\"renderers\":[{\"id\":\"3981\"}],\"tags\":[\"hv_created\"],\"tooltips\":[[\"Provider State\",\"@{Provider_State}\"],[\"Average Medicare Payments\",\"@{Average_Medicare_Payments}\"]]},\"id\":\"3917\",\"type\":\"HoverTool\"},{\"attributes\":{\"tools\":[{\"id\":\"3916\"},{\"id\":\"3917\"},{\"id\":\"3934\"},{\"id\":\"3935\"},{\"id\":\"3936\"},{\"id\":\"3937\"},{\"id\":\"3938\"}]},\"id\":\"3940\",\"type\":\"Toolbar\"},{\"attributes\":{\"data\":{\"Average_Total_Payments\":{\"__ndarray__\":\"ZmZmZmbeu0DsUbgeRbrSQHE9CtfjFNVAUrgehUtq1kCkcD0Kd5vYQJmZmZkZ395AexSuR+FH30A+CtejaIzgQOF6FK737+JA9ihcjxIH40AK16Nw1eTlQD4K16OwiOZAzczMzMys6kBI4XoUhgLsQK5H4XqgGfJAmpmZmdmD8kCuR+F6tEj0QFyPwvWUU/RAKVyPwnV09ED2KFyP3v71QKRwPQo/fPlAmpmZmcEA+0CF61G4+jn7QKRwPQr/UvxAMzMzMz9b/EAAAAAA8rEAQa5H4Xqk7ABBKVyPwsUDAkEfhetRakMCQQrXo3DjiQJBw/UoXFlhA0EK16NwGbYDQR+F61GKAgRBFa5H4Z4LB0EAAAAAPhQHQXsUrkfjKgtBZmZmZiiGDEGPwvUoNK0MQXE9CtdhvwxBexSuRwyXEEE9CtejKIgRQRWuR+GWVxJBw/UoXCN1FEHsUbge57sXQVyPwvVHthtBmpmZmTwXH0EzMzMz5XshQQAAAAC8eyJB4XoULmPMJUEpXI/CW24nQSlcj0JyTDBB\",\"dtype\":\"float64\",\"order\":\"little\",\"shape\":[51]},\"Provider_State_Sorted\":[\"AK\",\"VT\",\"ND\",\"DE\",\"WY\",\"ID\",\"MT\",\"RI\",\"SD\",\"HI\",\"DC\",\"UT\",\"NM\",\"NH\",\"ME\",\"OR\",\"NV\",\"KS\",\"NE\",\"WV\",\"MS\",\"IA\",\"OK\",\"LA\",\"AR\",\"CT\",\"CO\",\"SC\",\"AL\",\"AZ\",\"KY\",\"TN\",\"MN\",\"WI\",\"WA\",\"GA\",\"VA\",\"MO\",\"IN\",\"NC\",\"MD\",\"MA\",\"MI\",\"NJ\",\"OH\",\"PA\",\"IL\",\"TX\",\"FL\",\"NY\",\"CA\"]},\"selected\":{\"id\":\"3955\"},\"selection_policy\":{\"id\":\"3969\"}},\"id\":\"3954\",\"type\":\"ColumnDataSource\"},{\"attributes\":{\"bottom_units\":\"screen\",\"coordinates\":null,\"fill_alpha\":0.5,\"fill_color\":\"lightgrey\",\"group\":null,\"left_units\":\"screen\",\"level\":\"overlay\",\"line_alpha\":1.0,\"line_color\":\"black\",\"line_dash\":[4,4],\"line_width\":2,\"right_units\":\"screen\",\"syncable\":false,\"top_units\":\"screen\"},\"id\":\"3939\",\"type\":\"BoxAnnotation\"},{\"attributes\":{},\"id\":\"3934\",\"type\":\"SaveTool\"},{\"attributes\":{\"coordinates\":null,\"data_source\":{\"id\":\"3975\"},\"glyph\":{\"id\":\"3978\"},\"group\":null,\"hover_glyph\":null,\"muted_glyph\":{\"id\":\"3980\"},\"nonselection_glyph\":{\"id\":\"3979\"},\"selection_glyph\":{\"id\":\"3996\"},\"view\":{\"id\":\"3982\"}},\"id\":\"3981\",\"type\":\"GlyphRenderer\"},{\"attributes\":{},\"id\":\"3935\",\"type\":\"PanTool\"},{\"attributes\":{\"overlay\":{\"id\":\"3939\"}},\"id\":\"3937\",\"type\":\"BoxZoomTool\"},{\"attributes\":{\"axis\":{\"id\":\"3927\"},\"coordinates\":null,\"grid_line_color\":null,\"group\":null,\"ticker\":null},\"id\":\"3929\",\"type\":\"Grid\"},{\"attributes\":{\"callback\":null,\"renderers\":[{\"id\":\"3960\"}],\"tags\":[\"hv_created\"],\"tooltips\":[[\"Provider State Sorted\",\"@{Provider_State_Sorted}\"],[\"Average Total Payments\",\"@{Average_Total_Payments}\"]]},\"id\":\"3916\",\"type\":\"HoverTool\"},{\"attributes\":{},\"id\":\"3936\",\"type\":\"WheelZoomTool\"},{\"attributes\":{\"axis_label\":\"Provider State Sorted\",\"coordinates\":null,\"formatter\":{\"id\":\"3949\"},\"group\":null,\"major_label_orientation\":1.5707963267948966,\"major_label_policy\":{\"id\":\"3950\"},\"ticker\":{\"id\":\"3928\"}},\"id\":\"3927\",\"type\":\"CategoricalAxis\"},{\"attributes\":{\"end\":1174360.006,\"reset_end\":1174360.006,\"reset_start\":0.0,\"tags\":[[[\"Average Total Payments\",\"Average Total Payments\",null]]]},\"id\":\"3915\",\"type\":\"Range1d\"},{\"attributes\":{\"fill_alpha\":{\"value\":0.1},\"fill_color\":{\"value\":\"#30a2da\"},\"hatch_alpha\":{\"value\":0.1},\"hatch_color\":{\"value\":\"#30a2da\"},\"line_alpha\":{\"value\":0.1},\"top\":{\"field\":\"Average_Total_Payments\"},\"width\":{\"value\":0.8},\"x\":{\"field\":\"Provider_State_Sorted\"}},\"id\":\"3958\",\"type\":\"VBar\"},{\"attributes\":{\"fill_alpha\":{\"value\":0.1},\"fill_color\":{\"value\":\"#fc4f30\"},\"hatch_alpha\":{\"value\":0.1},\"hatch_color\":{\"value\":\"#fc4f30\"},\"line_alpha\":{\"value\":0.1},\"top\":{\"field\":\"Average_Medicare_Payments\"},\"width\":{\"value\":0.8},\"x\":{\"field\":\"Provider_State\"}},\"id\":\"3979\",\"type\":\"VBar\"},{\"attributes\":{},\"id\":\"3955\",\"type\":\"Selection\"},{\"attributes\":{\"click_policy\":\"mute\",\"coordinates\":null,\"group\":null,\"items\":[{\"id\":\"3973\"},{\"id\":\"3995\"}],\"location\":[0,0]},\"id\":\"3972\",\"type\":\"Legend\"},{\"attributes\":{\"data\":{\"Average_Medicare_Payments\":{\"__ndarray__\":\"zczMzMx4t0A9CtejICXQQHA9CtcjLNBAH4XrUVji0EAUrkfhGmLVQAAAAACgwddAmZmZmemr2EA+CtejkNTaQB6F61EoaN5AuB6F66ES30DsUbge5VPhQEjhehQOvOJAw/UoXG895EApXI/CFYXmQEjhehRmyetAcD0K16vM7EBcj8L1iGnuQIXrUbhO+u9AUrgehXcj8EDhehSu9x/xQHE9Ctdnt/NAexSuR63z9ECuR+F6aKb1QD0K16OcwvVAj8L1KAQE9kApXI/CaRb6QNejcD2mYftAH4XrUZz4+0ApXI/Ckdr8QLgehetVaP1AuB6F6+GF/UDNzMzM2Oz9QMP1KFzTf/9AFa5H4T5PAUGkcD0KL7UBQdejcD3IbgVBZmZmZnzgBUEUrkfhEA4GQdejcD2KvwZBexSuRynkCkFSuB6Fx/kNQZqZmZnLnA5B16NwPbx/EEFSuB6FbnkSQQAAAABpFxZB9ihcj9TfGEGamZmZZFYbQbgehesh1RxBpHA9iirGIEG4HoXrt8IjQT0K16MkhStB\",\"dtype\":\"float64\",\"order\":\"little\",\"shape\":[51]},\"Provider_State\":[\"AK\",\"DE\",\"VT\",\"ND\",\"WY\",\"ID\",\"MT\",\"RI\",\"SD\",\"HI\",\"UT\",\"DC\",\"NM\",\"NH\",\"OR\",\"ME\",\"NE\",\"KS\",\"NV\",\"WV\",\"MS\",\"IA\",\"LA\",\"OK\",\"AR\",\"CO\",\"AL\",\"CT\",\"SC\",\"TN\",\"AZ\",\"KY\",\"MN\",\"WI\",\"WA\",\"GA\",\"VA\",\"IN\",\"MO\",\"NC\",\"MD\",\"MA\",\"MI\",\"NJ\",\"OH\",\"PA\",\"IL\",\"TX\",\"FL\",\"NY\",\"CA\"]},\"selected\":{\"id\":\"3976\"},\"selection_policy\":{\"id\":\"3992\"}},\"id\":\"3975\",\"type\":\"ColumnDataSource\"},{\"attributes\":{\"coordinates\":null,\"group\":null,\"text_color\":\"black\",\"text_font_size\":\"12pt\"},\"id\":\"3919\",\"type\":\"Title\"},{\"attributes\":{\"fill_alpha\":{\"value\":0.2},\"fill_color\":{\"value\":\"#30a2da\"},\"hatch_alpha\":{\"value\":0.2},\"hatch_color\":{\"value\":\"#30a2da\"},\"line_alpha\":{\"value\":0.2},\"top\":{\"field\":\"Average_Total_Payments\"},\"width\":{\"value\":0.8},\"x\":{\"field\":\"Provider_State_Sorted\"}},\"id\":\"3959\",\"type\":\"VBar\"},{\"attributes\":{\"fill_color\":{\"value\":\"#fc4f30\"},\"hatch_color\":{\"value\":\"#fc4f30\"},\"top\":{\"field\":\"Average_Medicare_Payments\"},\"width\":{\"value\":0.8},\"x\":{\"field\":\"Provider_State\"}},\"id\":\"3978\",\"type\":\"VBar\"},{\"attributes\":{},\"id\":\"3950\",\"type\":\"AllLabels\"},{\"attributes\":{},\"id\":\"3938\",\"type\":\"ResetTool\"},{\"attributes\":{\"label\":{\"value\":\"Average Medicare Payments\"},\"renderers\":[{\"id\":\"3981\"}]},\"id\":\"3995\",\"type\":\"LegendItem\"},{\"attributes\":{},\"id\":\"3976\",\"type\":\"Selection\"},{\"attributes\":{\"coordinates\":null,\"data_source\":{\"id\":\"3954\"},\"glyph\":{\"id\":\"3957\"},\"group\":null,\"hover_glyph\":null,\"muted_glyph\":{\"id\":\"3959\"},\"nonselection_glyph\":{\"id\":\"3958\"},\"selection_glyph\":{\"id\":\"3974\"},\"view\":{\"id\":\"3961\"}},\"id\":\"3960\",\"type\":\"GlyphRenderer\"},{\"attributes\":{\"children\":[{\"id\":\"3913\"},{\"id\":\"3918\"},{\"id\":\"4009\"}],\"margin\":[0,0,0,0],\"name\":\"Row04302\",\"tags\":[\"embedded\"]},\"id\":\"3912\",\"type\":\"Row\"},{\"attributes\":{},\"id\":\"3923\",\"type\":\"CategoricalScale\"},{\"attributes\":{\"fill_color\":{\"value\":\"#30a2da\"},\"hatch_color\":{\"value\":\"#30a2da\"},\"top\":{\"field\":\"Average_Total_Payments\"},\"width\":{\"value\":0.8},\"x\":{\"field\":\"Provider_State_Sorted\"}},\"id\":\"3957\",\"type\":\"VBar\"},{\"attributes\":{\"source\":{\"id\":\"3975\"}},\"id\":\"3982\",\"type\":\"CDSView\"},{\"attributes\":{\"fill_alpha\":{\"value\":0.2},\"fill_color\":{\"value\":\"#fc4f30\"},\"hatch_alpha\":{\"value\":0.2},\"hatch_color\":{\"value\":\"#fc4f30\"},\"line_alpha\":{\"value\":0.2},\"top\":{\"field\":\"Average_Medicare_Payments\"},\"width\":{\"value\":0.8},\"x\":{\"field\":\"Provider_State\"}},\"id\":\"3980\",\"type\":\"VBar\"},{\"attributes\":{},\"id\":\"3949\",\"type\":\"CategoricalTickFormatter\"},{\"attributes\":{\"margin\":[5,5,5,5],\"name\":\"HSpacer04306\",\"sizing_mode\":\"stretch_width\"},\"id\":\"3913\",\"type\":\"Spacer\"},{\"attributes\":{},\"id\":\"3925\",\"type\":\"LinearScale\"},{\"attributes\":{},\"id\":\"3931\",\"type\":\"BasicTicker\"},{\"attributes\":{},\"id\":\"3928\",\"type\":\"CategoricalTicker\"}],\"root_ids\":[\"3912\"]},\"title\":\"Bokeh Application\",\"version\":\"2.4.3\"}};\n",
       "    var render_items = [{\"docid\":\"d105b8b7-7ae0-41b9-a56d-35bfa15cd651\",\"root_ids\":[\"3912\"],\"roots\":{\"3912\":\"fadcf868-a632-4c07-a5d1-8e30c2e734b0\"}}];\n",
       "    root.Bokeh.embed.embed_items_notebook(docs_json, render_items);\n",
       "  }\n",
       "  if (root.Bokeh !== undefined && root.Bokeh.Panel !== undefined) {\n",
       "    embed_document(root);\n",
       "  } else {\n",
       "    var attempts = 0;\n",
       "    var timer = setInterval(function(root) {\n",
       "      if (root.Bokeh !== undefined && root.Bokeh.Panel !== undefined) {\n",
       "        clearInterval(timer);\n",
       "        embed_document(root);\n",
       "      } else if (document.readyState == \"complete\") {\n",
       "        attempts++;\n",
       "        if (attempts > 200) {\n",
       "          clearInterval(timer);\n",
       "          console.log(\"Bokeh: ERROR: Unable to run BokehJS code because BokehJS library is missing\");\n",
       "        }\n",
       "      }\n",
       "    }, 25, root)\n",
       "  }\n",
       "})(window);</script>"
      ],
      "text/plain": [
       ":Overlay\n",
       "   .Bars.Average_Total_Payments    :Bars   [Provider State Sorted]   (Average Total Payments)\n",
       "   .Bars.Average_Medicare_Payments :Bars   [Provider State]   (Average Medicare Payments)"
      ]
     },
     "execution_count": 29,
     "metadata": {
      "application/vnd.holoviews_exec.v0+json": {
       "id": "3912"
      }
     },
     "output_type": "execute_result"
    }
   ],
   "source": [
    "# Overlay plots of the same type using * operator\n",
    "sorted_total_payments_by_state.hvplot.bar(height = 300, width = 1000, rot = 90, label=\"Average Total Payments\") * sorted_total_medicare_by_state.hvplot.bar(height = 300, width = 1000, rot = 90, label=\"Average Medicare Payments\")"
   ]
  }
 ],
 "metadata": {
  "kernel_info": {
   "name": "python3"
  },
  "kernelspec": {
   "display_name": "Python 3.7.13 ('dev')",
   "language": "python",
   "name": "python3"
  },
  "language_info": {
   "codemirror_mode": {
    "name": "ipython",
    "version": 3
   },
   "file_extension": ".py",
   "mimetype": "text/x-python",
   "name": "python",
   "nbconvert_exporter": "python",
   "pygments_lexer": "ipython3",
   "version": "3.7.13"
  },
  "nteract": {
   "version": "0.12.3"
  },
  "vscode": {
   "interpreter": {
    "hash": "6a7ae136a53a24601e63a177d18d4029f938b6714f24b844ae865dcffb9f6766"
   }
  }
 },
 "nbformat": 4,
 "nbformat_minor": 4
}
