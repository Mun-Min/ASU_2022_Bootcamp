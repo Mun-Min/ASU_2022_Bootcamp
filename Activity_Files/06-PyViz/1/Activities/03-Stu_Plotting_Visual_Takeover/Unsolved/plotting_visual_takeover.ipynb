{
 "cells": [
  {
   "cell_type": "markdown",
   "metadata": {},
   "source": [
    "### Plotting a Visual Takeover\n",
    "\n",
    "Your company has recently adopted a new digital dashboard initiative that is aiming to convert all existing company reports to reports that include interactive hvPlot visualizations. The CIO firmly believes that adding interactive visualizations will help users of the report glean more insight from the data they're working with.\n",
    "\n",
    "The CIO also believes the company is falling behind in terms of reporting paradigms; while there are new and flashy visualization technologies out there, the company has mostly been using Matplotlib. It's time for an upgrade."
   ]
  },
  {
   "cell_type": "code",
   "execution_count": 3,
   "metadata": {},
   "outputs": [],
   "source": [
    "# Import libraries and dependencies\n",
    "import pandas as pd\n",
    "from pathlib import Path"
   ]
  },
  {
   "cell_type": "code",
   "execution_count": 4,
   "metadata": {},
   "outputs": [],
   "source": [
    "# Import hvplot\n",
    "import hvplot.pandas"
   ]
  },
  {
   "cell_type": "markdown",
   "metadata": {},
   "source": [
    "### Prepare Data"
   ]
  },
  {
   "cell_type": "code",
   "execution_count": 5,
   "metadata": {},
   "outputs": [
    {
     "data": {
      "text/html": [
       "<div>\n",
       "<style scoped>\n",
       "    .dataframe tbody tr th:only-of-type {\n",
       "        vertical-align: middle;\n",
       "    }\n",
       "\n",
       "    .dataframe tbody tr th {\n",
       "        vertical-align: top;\n",
       "    }\n",
       "\n",
       "    .dataframe thead th {\n",
       "        text-align: right;\n",
       "    }\n",
       "</style>\n",
       "<table border=\"1\" class=\"dataframe\">\n",
       "  <thead>\n",
       "    <tr style=\"text-align: right;\">\n",
       "      <th></th>\n",
       "      <th>Symbol</th>\n",
       "      <th>Name</th>\n",
       "      <th>Sector</th>\n",
       "      <th>Price</th>\n",
       "      <th>Price/Earnings</th>\n",
       "      <th>Dividend Yield</th>\n",
       "      <th>Earnings/Share</th>\n",
       "      <th>52 Week Low</th>\n",
       "      <th>52 Week High</th>\n",
       "      <th>Market Cap</th>\n",
       "      <th>EBITDA</th>\n",
       "      <th>Price/Sales</th>\n",
       "      <th>Price/Book</th>\n",
       "      <th>SEC Filings</th>\n",
       "    </tr>\n",
       "  </thead>\n",
       "  <tbody>\n",
       "    <tr>\n",
       "      <th>0</th>\n",
       "      <td>MMM</td>\n",
       "      <td>3M Company</td>\n",
       "      <td>Industrials</td>\n",
       "      <td>222.89</td>\n",
       "      <td>24.31</td>\n",
       "      <td>2.332862</td>\n",
       "      <td>7.92</td>\n",
       "      <td>259.77</td>\n",
       "      <td>175.490</td>\n",
       "      <td>138721055226</td>\n",
       "      <td>9.048000e+09</td>\n",
       "      <td>4.390271</td>\n",
       "      <td>11.34</td>\n",
       "      <td>http://www.sec.gov/cgi-bin/browse-edgar?action...</td>\n",
       "    </tr>\n",
       "    <tr>\n",
       "      <th>1</th>\n",
       "      <td>AOS</td>\n",
       "      <td>A.O. Smith Corp</td>\n",
       "      <td>Industrials</td>\n",
       "      <td>60.24</td>\n",
       "      <td>27.76</td>\n",
       "      <td>1.147959</td>\n",
       "      <td>1.70</td>\n",
       "      <td>68.39</td>\n",
       "      <td>48.925</td>\n",
       "      <td>10783419933</td>\n",
       "      <td>6.010000e+08</td>\n",
       "      <td>3.575483</td>\n",
       "      <td>6.35</td>\n",
       "      <td>http://www.sec.gov/cgi-bin/browse-edgar?action...</td>\n",
       "    </tr>\n",
       "    <tr>\n",
       "      <th>2</th>\n",
       "      <td>ABT</td>\n",
       "      <td>Abbott Laboratories</td>\n",
       "      <td>Health Care</td>\n",
       "      <td>56.27</td>\n",
       "      <td>22.51</td>\n",
       "      <td>1.908982</td>\n",
       "      <td>0.26</td>\n",
       "      <td>64.60</td>\n",
       "      <td>42.280</td>\n",
       "      <td>102121042306</td>\n",
       "      <td>5.744000e+09</td>\n",
       "      <td>3.740480</td>\n",
       "      <td>3.19</td>\n",
       "      <td>http://www.sec.gov/cgi-bin/browse-edgar?action...</td>\n",
       "    </tr>\n",
       "    <tr>\n",
       "      <th>3</th>\n",
       "      <td>ABBV</td>\n",
       "      <td>AbbVie Inc.</td>\n",
       "      <td>Health Care</td>\n",
       "      <td>108.48</td>\n",
       "      <td>19.41</td>\n",
       "      <td>2.499560</td>\n",
       "      <td>3.29</td>\n",
       "      <td>125.86</td>\n",
       "      <td>60.050</td>\n",
       "      <td>181386347059</td>\n",
       "      <td>1.031000e+10</td>\n",
       "      <td>6.291571</td>\n",
       "      <td>26.14</td>\n",
       "      <td>http://www.sec.gov/cgi-bin/browse-edgar?action...</td>\n",
       "    </tr>\n",
       "    <tr>\n",
       "      <th>4</th>\n",
       "      <td>ACN</td>\n",
       "      <td>Accenture plc</td>\n",
       "      <td>Information Technology</td>\n",
       "      <td>150.51</td>\n",
       "      <td>25.47</td>\n",
       "      <td>1.714470</td>\n",
       "      <td>5.44</td>\n",
       "      <td>162.60</td>\n",
       "      <td>114.820</td>\n",
       "      <td>98765855553</td>\n",
       "      <td>5.643228e+09</td>\n",
       "      <td>2.604117</td>\n",
       "      <td>10.62</td>\n",
       "      <td>http://www.sec.gov/cgi-bin/browse-edgar?action...</td>\n",
       "    </tr>\n",
       "  </tbody>\n",
       "</table>\n",
       "</div>"
      ],
      "text/plain": [
       "  Symbol                 Name                  Sector   Price  Price/Earnings  \\\n",
       "0    MMM           3M Company             Industrials  222.89           24.31   \n",
       "1    AOS      A.O. Smith Corp             Industrials   60.24           27.76   \n",
       "2    ABT  Abbott Laboratories             Health Care   56.27           22.51   \n",
       "3   ABBV          AbbVie Inc.             Health Care  108.48           19.41   \n",
       "4    ACN        Accenture plc  Information Technology  150.51           25.47   \n",
       "\n",
       "   Dividend Yield  Earnings/Share  52 Week Low  52 Week High    Market Cap  \\\n",
       "0        2.332862            7.92       259.77       175.490  138721055226   \n",
       "1        1.147959            1.70        68.39        48.925   10783419933   \n",
       "2        1.908982            0.26        64.60        42.280  102121042306   \n",
       "3        2.499560            3.29       125.86        60.050  181386347059   \n",
       "4        1.714470            5.44       162.60       114.820   98765855553   \n",
       "\n",
       "         EBITDA  Price/Sales  Price/Book  \\\n",
       "0  9.048000e+09     4.390271       11.34   \n",
       "1  6.010000e+08     3.575483        6.35   \n",
       "2  5.744000e+09     3.740480        3.19   \n",
       "3  1.031000e+10     6.291571       26.14   \n",
       "4  5.643228e+09     2.604117       10.62   \n",
       "\n",
       "                                         SEC Filings  \n",
       "0  http://www.sec.gov/cgi-bin/browse-edgar?action...  \n",
       "1  http://www.sec.gov/cgi-bin/browse-edgar?action...  \n",
       "2  http://www.sec.gov/cgi-bin/browse-edgar?action...  \n",
       "3  http://www.sec.gov/cgi-bin/browse-edgar?action...  \n",
       "4  http://www.sec.gov/cgi-bin/browse-edgar?action...  "
      ]
     },
     "metadata": {},
     "output_type": "display_data"
    },
    {
     "data": {
      "text/html": [
       "<div>\n",
       "<style scoped>\n",
       "    .dataframe tbody tr th:only-of-type {\n",
       "        vertical-align: middle;\n",
       "    }\n",
       "\n",
       "    .dataframe tbody tr th {\n",
       "        vertical-align: top;\n",
       "    }\n",
       "\n",
       "    .dataframe thead th {\n",
       "        text-align: right;\n",
       "    }\n",
       "</style>\n",
       "<table border=\"1\" class=\"dataframe\">\n",
       "  <thead>\n",
       "    <tr style=\"text-align: right;\">\n",
       "      <th></th>\n",
       "      <th>Symbol</th>\n",
       "      <th>Name</th>\n",
       "      <th>Sector</th>\n",
       "      <th>Price</th>\n",
       "      <th>Price/Earnings</th>\n",
       "      <th>Dividend Yield</th>\n",
       "      <th>Earnings/Share</th>\n",
       "      <th>52 Week Low</th>\n",
       "      <th>52 Week High</th>\n",
       "      <th>Market Cap</th>\n",
       "      <th>EBITDA</th>\n",
       "      <th>Price/Sales</th>\n",
       "      <th>Price/Book</th>\n",
       "      <th>SEC Filings</th>\n",
       "    </tr>\n",
       "  </thead>\n",
       "  <tbody>\n",
       "    <tr>\n",
       "      <th>500</th>\n",
       "      <td>XYL</td>\n",
       "      <td>Xylem Inc.</td>\n",
       "      <td>Industrials</td>\n",
       "      <td>70.24</td>\n",
       "      <td>30.94</td>\n",
       "      <td>1.170079</td>\n",
       "      <td>1.83</td>\n",
       "      <td>76.81</td>\n",
       "      <td>46.86</td>\n",
       "      <td>12915021000</td>\n",
       "      <td>7.220000e+08</td>\n",
       "      <td>2.726209</td>\n",
       "      <td>5.31</td>\n",
       "      <td>http://www.sec.gov/cgi-bin/browse-edgar?action...</td>\n",
       "    </tr>\n",
       "    <tr>\n",
       "      <th>501</th>\n",
       "      <td>YUM</td>\n",
       "      <td>Yum! Brands Inc</td>\n",
       "      <td>Consumer Discretionary</td>\n",
       "      <td>76.30</td>\n",
       "      <td>27.25</td>\n",
       "      <td>1.797080</td>\n",
       "      <td>4.07</td>\n",
       "      <td>86.93</td>\n",
       "      <td>62.85</td>\n",
       "      <td>27003303098</td>\n",
       "      <td>2.289000e+09</td>\n",
       "      <td>6.313636</td>\n",
       "      <td>212.08</td>\n",
       "      <td>http://www.sec.gov/cgi-bin/browse-edgar?action...</td>\n",
       "    </tr>\n",
       "    <tr>\n",
       "      <th>502</th>\n",
       "      <td>ZBH</td>\n",
       "      <td>Zimmer Biomet Holdings</td>\n",
       "      <td>Health Care</td>\n",
       "      <td>115.53</td>\n",
       "      <td>14.32</td>\n",
       "      <td>0.794834</td>\n",
       "      <td>9.01</td>\n",
       "      <td>133.49</td>\n",
       "      <td>108.17</td>\n",
       "      <td>24454698119</td>\n",
       "      <td>2.007400e+09</td>\n",
       "      <td>3.164895</td>\n",
       "      <td>2.39</td>\n",
       "      <td>http://www.sec.gov/cgi-bin/browse-edgar?action...</td>\n",
       "    </tr>\n",
       "    <tr>\n",
       "      <th>503</th>\n",
       "      <td>ZION</td>\n",
       "      <td>Zions Bancorp</td>\n",
       "      <td>Financials</td>\n",
       "      <td>50.71</td>\n",
       "      <td>17.73</td>\n",
       "      <td>1.480933</td>\n",
       "      <td>2.60</td>\n",
       "      <td>55.61</td>\n",
       "      <td>38.43</td>\n",
       "      <td>10670678640</td>\n",
       "      <td>0.000000e+00</td>\n",
       "      <td>3.794579</td>\n",
       "      <td>1.42</td>\n",
       "      <td>http://www.sec.gov/cgi-bin/browse-edgar?action...</td>\n",
       "    </tr>\n",
       "    <tr>\n",
       "      <th>504</th>\n",
       "      <td>ZTS</td>\n",
       "      <td>Zoetis</td>\n",
       "      <td>Health Care</td>\n",
       "      <td>71.51</td>\n",
       "      <td>32.80</td>\n",
       "      <td>0.682372</td>\n",
       "      <td>1.65</td>\n",
       "      <td>80.13</td>\n",
       "      <td>52.00</td>\n",
       "      <td>35991109776</td>\n",
       "      <td>1.734000e+09</td>\n",
       "      <td>9.280896</td>\n",
       "      <td>18.09</td>\n",
       "      <td>http://www.sec.gov/cgi-bin/browse-edgar?action...</td>\n",
       "    </tr>\n",
       "  </tbody>\n",
       "</table>\n",
       "</div>"
      ],
      "text/plain": [
       "    Symbol                    Name                  Sector   Price  \\\n",
       "500    XYL              Xylem Inc.             Industrials   70.24   \n",
       "501    YUM         Yum! Brands Inc  Consumer Discretionary   76.30   \n",
       "502    ZBH  Zimmer Biomet Holdings             Health Care  115.53   \n",
       "503   ZION           Zions Bancorp              Financials   50.71   \n",
       "504    ZTS                  Zoetis             Health Care   71.51   \n",
       "\n",
       "     Price/Earnings  Dividend Yield  Earnings/Share  52 Week Low  \\\n",
       "500           30.94        1.170079            1.83        76.81   \n",
       "501           27.25        1.797080            4.07        86.93   \n",
       "502           14.32        0.794834            9.01       133.49   \n",
       "503           17.73        1.480933            2.60        55.61   \n",
       "504           32.80        0.682372            1.65        80.13   \n",
       "\n",
       "     52 Week High   Market Cap        EBITDA  Price/Sales  Price/Book  \\\n",
       "500         46.86  12915021000  7.220000e+08     2.726209        5.31   \n",
       "501         62.85  27003303098  2.289000e+09     6.313636      212.08   \n",
       "502        108.17  24454698119  2.007400e+09     3.164895        2.39   \n",
       "503         38.43  10670678640  0.000000e+00     3.794579        1.42   \n",
       "504         52.00  35991109776  1.734000e+09     9.280896       18.09   \n",
       "\n",
       "                                           SEC Filings  \n",
       "500  http://www.sec.gov/cgi-bin/browse-edgar?action...  \n",
       "501  http://www.sec.gov/cgi-bin/browse-edgar?action...  \n",
       "502  http://www.sec.gov/cgi-bin/browse-edgar?action...  \n",
       "503  http://www.sec.gov/cgi-bin/browse-edgar?action...  \n",
       "504  http://www.sec.gov/cgi-bin/browse-edgar?action...  "
      ]
     },
     "metadata": {},
     "output_type": "display_data"
    }
   ],
   "source": [
    "# Read in the CSV as a DataFrame\n",
    "sp500_companies_csv = pd.read_csv(\n",
    "    Path('../Resources/sp500_companies.csv')\n",
    ")\n",
    "\n",
    "# Review the DataFrame\n",
    "display(sp500_companies_csv.head())\n",
    "display(sp500_companies_csv.tail())"
   ]
  },
  {
   "cell_type": "code",
   "execution_count": 17,
   "metadata": {},
   "outputs": [
    {
     "data": {
      "text/html": [
       "<div>\n",
       "<style scoped>\n",
       "    .dataframe tbody tr th:only-of-type {\n",
       "        vertical-align: middle;\n",
       "    }\n",
       "\n",
       "    .dataframe tbody tr th {\n",
       "        vertical-align: top;\n",
       "    }\n",
       "\n",
       "    .dataframe thead th {\n",
       "        text-align: right;\n",
       "    }\n",
       "</style>\n",
       "<table border=\"1\" class=\"dataframe\">\n",
       "  <thead>\n",
       "    <tr style=\"text-align: right;\">\n",
       "      <th></th>\n",
       "      <th>Market Cap</th>\n",
       "    </tr>\n",
       "    <tr>\n",
       "      <th>Symbol</th>\n",
       "      <th></th>\n",
       "    </tr>\n",
       "  </thead>\n",
       "  <tbody>\n",
       "    <tr>\n",
       "      <th>AAPL</th>\n",
       "      <td>809508034020</td>\n",
       "    </tr>\n",
       "    <tr>\n",
       "      <th>GOOGL</th>\n",
       "      <td>733823966137</td>\n",
       "    </tr>\n",
       "    <tr>\n",
       "      <th>GOOG</th>\n",
       "      <td>728535558140</td>\n",
       "    </tr>\n",
       "    <tr>\n",
       "      <th>MSFT</th>\n",
       "      <td>689978437468</td>\n",
       "    </tr>\n",
       "    <tr>\n",
       "      <th>AMZN</th>\n",
       "      <td>685873374731</td>\n",
       "    </tr>\n",
       "    <tr>\n",
       "      <th>FB</th>\n",
       "      <td>523423036576</td>\n",
       "    </tr>\n",
       "    <tr>\n",
       "      <th>JPM</th>\n",
       "      <td>386613611000</td>\n",
       "    </tr>\n",
       "    <tr>\n",
       "      <th>JNJ</th>\n",
       "      <td>353062464971</td>\n",
       "    </tr>\n",
       "    <tr>\n",
       "      <th>XOM</th>\n",
       "      <td>326148660000</td>\n",
       "    </tr>\n",
       "    <tr>\n",
       "      <th>BAC</th>\n",
       "      <td>321478200969</td>\n",
       "    </tr>\n",
       "    <tr>\n",
       "      <th>WMT</th>\n",
       "      <td>304680931618</td>\n",
       "    </tr>\n",
       "    <tr>\n",
       "      <th>WFC</th>\n",
       "      <td>281463620775</td>\n",
       "    </tr>\n",
       "    <tr>\n",
       "      <th>V</th>\n",
       "      <td>270038723213</td>\n",
       "    </tr>\n",
       "    <tr>\n",
       "      <th>BRK.B</th>\n",
       "      <td>261401203633</td>\n",
       "    </tr>\n",
       "    <tr>\n",
       "      <th>T</th>\n",
       "      <td>226713270000</td>\n",
       "    </tr>\n",
       "    <tr>\n",
       "      <th>HD</th>\n",
       "      <td>223378633329</td>\n",
       "    </tr>\n",
       "    <tr>\n",
       "      <th>CVX</th>\n",
       "      <td>218978820159</td>\n",
       "    </tr>\n",
       "    <tr>\n",
       "      <th>UNH</th>\n",
       "      <td>218834811333</td>\n",
       "    </tr>\n",
       "    <tr>\n",
       "      <th>INTC</th>\n",
       "      <td>211536000000</td>\n",
       "    </tr>\n",
       "    <tr>\n",
       "      <th>PFE</th>\n",
       "      <td>208505541949</td>\n",
       "    </tr>\n",
       "  </tbody>\n",
       "</table>\n",
       "</div>"
      ],
      "text/plain": [
       "          Market Cap\n",
       "Symbol              \n",
       "AAPL    809508034020\n",
       "GOOGL   733823966137\n",
       "GOOG    728535558140\n",
       "MSFT    689978437468\n",
       "AMZN    685873374731\n",
       "FB      523423036576\n",
       "JPM     386613611000\n",
       "JNJ     353062464971\n",
       "XOM     326148660000\n",
       "BAC     321478200969\n",
       "WMT     304680931618\n",
       "WFC     281463620775\n",
       "V       270038723213\n",
       "BRK.B   261401203633\n",
       "T       226713270000\n",
       "HD      223378633329\n",
       "CVX     218978820159\n",
       "UNH     218834811333\n",
       "INTC    211536000000\n",
       "PFE     208505541949"
      ]
     },
     "execution_count": 17,
     "metadata": {},
     "output_type": "execute_result"
    }
   ],
   "source": [
    "sector_count = sp500_companies_csv['Sector'].value_counts()\n",
    "\n",
    "# Count the frequency of each sector from the list of companies\n",
    "sector_count = sp500_companies_csv['Sector'].value_counts()\n",
    "\n",
    "# Grab the `Symbol` and `Market Cap` columns\n",
    "market_cap = sp500_companies_csv.loc[:, ['Symbol', 'Market Cap']]\n",
    "\n",
    "# Set the 'Symbol' as the index\n",
    "market_cap.set_index(market_cap['Symbol'], inplace=True)\n",
    "\n",
    "# Drop the extra 'Symbol' column\n",
    "market_cap.drop(columns=['Symbol'], inplace=True)\n",
    "\n",
    "# Filter down to 20 companies with the largest market caps\n",
    "top_20_market_cap = market_cap.nlargest(20, 'Market Cap')\n",
    "top_20_market_cap"
   ]
  },
  {
   "cell_type": "markdown",
   "metadata": {},
   "source": [
    "### 1. Create Plot Using simple hvplot"
   ]
  },
  {
   "cell_type": "code",
   "execution_count": 11,
   "metadata": {},
   "outputs": [
    {
     "data": {},
     "metadata": {},
     "output_type": "display_data"
    },
    {
     "data": {
      "application/vnd.holoviews_exec.v0+json": "",
      "text/html": [
       "<div id='1446'>\n",
       "  <div class=\"bk-root\" id=\"439db60d-3bd8-45e8-9209-179b21667631\" data-root-id=\"1446\"></div>\n",
       "</div>\n",
       "<script type=\"application/javascript\">(function(root) {\n",
       "  function embed_document(root) {\n",
       "    var docs_json = {\"be46ac67-c4cb-4c20-96f4-b1e9430faebf\":{\"defs\":[{\"extends\":null,\"module\":null,\"name\":\"ReactiveHTML1\",\"overrides\":[],\"properties\":[]},{\"extends\":null,\"module\":null,\"name\":\"FlexBox1\",\"overrides\":[],\"properties\":[{\"default\":\"flex-start\",\"kind\":null,\"name\":\"align_content\"},{\"default\":\"flex-start\",\"kind\":null,\"name\":\"align_items\"},{\"default\":\"row\",\"kind\":null,\"name\":\"flex_direction\"},{\"default\":\"wrap\",\"kind\":null,\"name\":\"flex_wrap\"},{\"default\":\"flex-start\",\"kind\":null,\"name\":\"justify_content\"}]},{\"extends\":null,\"module\":null,\"name\":\"GridStack1\",\"overrides\":[],\"properties\":[{\"default\":\"warn\",\"kind\":null,\"name\":\"mode\"},{\"default\":null,\"kind\":null,\"name\":\"ncols\"},{\"default\":null,\"kind\":null,\"name\":\"nrows\"},{\"default\":true,\"kind\":null,\"name\":\"allow_resize\"},{\"default\":true,\"kind\":null,\"name\":\"allow_drag\"},{\"default\":[],\"kind\":null,\"name\":\"state\"}]},{\"extends\":null,\"module\":null,\"name\":\"click1\",\"overrides\":[],\"properties\":[{\"default\":\"\",\"kind\":null,\"name\":\"terminal_output\"},{\"default\":\"\",\"kind\":null,\"name\":\"debug_name\"},{\"default\":0,\"kind\":null,\"name\":\"clears\"}]},{\"extends\":null,\"module\":null,\"name\":\"NotificationAreaBase1\",\"overrides\":[],\"properties\":[{\"default\":\"bottom-right\",\"kind\":null,\"name\":\"position\"},{\"default\":0,\"kind\":null,\"name\":\"_clear\"}]},{\"extends\":null,\"module\":null,\"name\":\"NotificationArea1\",\"overrides\":[],\"properties\":[{\"default\":[],\"kind\":null,\"name\":\"notifications\"},{\"default\":\"bottom-right\",\"kind\":null,\"name\":\"position\"},{\"default\":0,\"kind\":null,\"name\":\"_clear\"},{\"default\":[{\"background\":\"#ffc107\",\"icon\":{\"className\":\"fas fa-exclamation-triangle\",\"color\":\"white\",\"tagName\":\"i\"},\"type\":\"warning\"},{\"background\":\"#007bff\",\"icon\":{\"className\":\"fas fa-info-circle\",\"color\":\"white\",\"tagName\":\"i\"},\"type\":\"info\"}],\"kind\":null,\"name\":\"types\"}]},{\"extends\":null,\"module\":null,\"name\":\"Notification\",\"overrides\":[],\"properties\":[{\"default\":null,\"kind\":null,\"name\":\"background\"},{\"default\":3000,\"kind\":null,\"name\":\"duration\"},{\"default\":null,\"kind\":null,\"name\":\"icon\"},{\"default\":\"\",\"kind\":null,\"name\":\"message\"},{\"default\":null,\"kind\":null,\"name\":\"notification_type\"},{\"default\":false,\"kind\":null,\"name\":\"_destroyed\"}]},{\"extends\":null,\"module\":null,\"name\":\"TemplateActions1\",\"overrides\":[],\"properties\":[{\"default\":0,\"kind\":null,\"name\":\"open_modal\"},{\"default\":0,\"kind\":null,\"name\":\"close_modal\"}]},{\"extends\":null,\"module\":null,\"name\":\"MaterialTemplateActions1\",\"overrides\":[],\"properties\":[{\"default\":0,\"kind\":null,\"name\":\"open_modal\"},{\"default\":0,\"kind\":null,\"name\":\"close_modal\"}]}],\"roots\":{\"references\":[{\"attributes\":{\"line_alpha\":0.2,\"line_color\":\"#30a2da\",\"line_width\":2,\"x\":{\"field\":\"Symbol\"},\"y\":{\"field\":\"Market Cap\"}},\"id\":\"1485\",\"type\":\"Line\"},{\"attributes\":{\"below\":[{\"id\":\"1460\"}],\"center\":[{\"id\":\"1462\"},{\"id\":\"1466\"}],\"height\":300,\"left\":[{\"id\":\"1463\"}],\"margin\":[5,5,5,5],\"min_border_bottom\":10,\"min_border_left\":10,\"min_border_right\":10,\"min_border_top\":10,\"renderers\":[{\"id\":\"1486\"}],\"sizing_mode\":\"fixed\",\"title\":{\"id\":\"1452\"},\"toolbar\":{\"id\":\"1473\"},\"width\":700,\"x_range\":{\"id\":\"1448\"},\"x_scale\":{\"id\":\"1456\"},\"y_range\":{\"id\":\"1449\"},\"y_scale\":{\"id\":\"1458\"}},\"id\":\"1451\",\"subtype\":\"Figure\",\"type\":\"Plot\"},{\"attributes\":{\"children\":[{\"id\":\"1447\"},{\"id\":\"1451\"},{\"id\":\"1505\"}],\"margin\":[0,0,0,0],\"name\":\"Row01287\",\"tags\":[\"embedded\"]},\"id\":\"1446\",\"type\":\"Row\"},{\"attributes\":{\"source\":{\"id\":\"1480\"}},\"id\":\"1487\",\"type\":\"CDSView\"},{\"attributes\":{\"line_color\":\"#30a2da\",\"line_width\":2,\"x\":{\"field\":\"Symbol\"},\"y\":{\"field\":\"Market Cap\"}},\"id\":\"1488\",\"type\":\"Line\"},{\"attributes\":{\"line_alpha\":0.1,\"line_color\":\"#30a2da\",\"line_width\":2,\"x\":{\"field\":\"Symbol\"},\"y\":{\"field\":\"Market Cap\"}},\"id\":\"1484\",\"type\":\"Line\"},{\"attributes\":{},\"id\":\"1494\",\"type\":\"AllLabels\"},{\"attributes\":{\"coordinates\":null,\"data_source\":{\"id\":\"1480\"},\"glyph\":{\"id\":\"1483\"},\"group\":null,\"hover_glyph\":null,\"muted_glyph\":{\"id\":\"1485\"},\"nonselection_glyph\":{\"id\":\"1484\"},\"selection_glyph\":{\"id\":\"1488\"},\"view\":{\"id\":\"1487\"}},\"id\":\"1486\",\"type\":\"GlyphRenderer\"},{\"attributes\":{\"tools\":[{\"id\":\"1450\"},{\"id\":\"1467\"},{\"id\":\"1468\"},{\"id\":\"1469\"},{\"id\":\"1470\"},{\"id\":\"1471\"}]},\"id\":\"1473\",\"type\":\"Toolbar\"},{\"attributes\":{},\"id\":\"1502\",\"type\":\"UnionRenderers\"},{\"attributes\":{\"bottom_units\":\"screen\",\"coordinates\":null,\"fill_alpha\":0.5,\"fill_color\":\"lightgrey\",\"group\":null,\"left_units\":\"screen\",\"level\":\"overlay\",\"line_alpha\":1.0,\"line_color\":\"black\",\"line_dash\":[4,4],\"line_width\":2,\"right_units\":\"screen\",\"syncable\":false,\"top_units\":\"screen\"},\"id\":\"1472\",\"type\":\"BoxAnnotation\"},{\"attributes\":{\"axis\":{\"id\":\"1463\"},\"coordinates\":null,\"dimension\":1,\"grid_line_color\":null,\"group\":null,\"ticker\":null},\"id\":\"1466\",\"type\":\"Grid\"},{\"attributes\":{},\"id\":\"1467\",\"type\":\"SaveTool\"},{\"attributes\":{\"margin\":[5,5,5,5],\"name\":\"HSpacer01291\",\"sizing_mode\":\"stretch_width\"},\"id\":\"1447\",\"type\":\"Spacer\"},{\"attributes\":{\"callback\":null,\"renderers\":[{\"id\":\"1486\"}],\"tags\":[\"hv_created\"],\"tooltips\":[[\"Symbol\",\"@{Symbol}\"],[\"Market Cap\",\"@{Market_Cap}\"]]},\"id\":\"1450\",\"type\":\"HoverTool\"},{\"attributes\":{},\"id\":\"1468\",\"type\":\"PanTool\"},{\"attributes\":{},\"id\":\"1493\",\"type\":\"BasicTickFormatter\"},{\"attributes\":{},\"id\":\"1471\",\"type\":\"ResetTool\"},{\"attributes\":{},\"id\":\"1469\",\"type\":\"WheelZoomTool\"},{\"attributes\":{},\"id\":\"1491\",\"type\":\"AllLabels\"},{\"attributes\":{\"overlay\":{\"id\":\"1472\"}},\"id\":\"1470\",\"type\":\"BoxZoomTool\"},{\"attributes\":{},\"id\":\"1490\",\"type\":\"CategoricalTickFormatter\"},{\"attributes\":{\"factors\":[\"AAPL\",\"GOOGL\",\"GOOG\",\"MSFT\",\"AMZN\",\"FB\",\"JPM\",\"JNJ\",\"XOM\",\"BAC\",\"WMT\",\"WFC\",\"V\",\"BRK.B\",\"T\",\"HD\",\"CVX\",\"UNH\",\"INTC\",\"PFE\"],\"tags\":[[[\"Symbol\",\"Symbol\",null]]]},\"id\":\"1448\",\"type\":\"FactorRange\"},{\"attributes\":{\"axis\":{\"id\":\"1460\"},\"coordinates\":null,\"grid_line_color\":null,\"group\":null,\"ticker\":null},\"id\":\"1462\",\"type\":\"Grid\"},{\"attributes\":{\"axis_label\":\"Symbol\",\"coordinates\":null,\"formatter\":{\"id\":\"1490\"},\"group\":null,\"major_label_policy\":{\"id\":\"1491\"},\"ticker\":{\"id\":\"1461\"}},\"id\":\"1460\",\"type\":\"CategoricalAxis\"},{\"attributes\":{},\"id\":\"1456\",\"type\":\"CategoricalScale\"},{\"attributes\":{\"coordinates\":null,\"group\":null,\"text\":\"Top 20 Market Cap Companies (in billions)\",\"text_color\":\"black\",\"text_font_size\":\"12pt\"},\"id\":\"1452\",\"type\":\"Title\"},{\"attributes\":{\"line_color\":\"#30a2da\",\"line_width\":2,\"x\":{\"field\":\"Symbol\"},\"y\":{\"field\":\"Market Cap\"}},\"id\":\"1483\",\"type\":\"Line\"},{\"attributes\":{\"margin\":[5,5,5,5],\"name\":\"HSpacer01292\",\"sizing_mode\":\"stretch_width\"},\"id\":\"1505\",\"type\":\"Spacer\"},{\"attributes\":{},\"id\":\"1458\",\"type\":\"LinearScale\"},{\"attributes\":{},\"id\":\"1481\",\"type\":\"Selection\"},{\"attributes\":{},\"id\":\"1464\",\"type\":\"BasicTicker\"},{\"attributes\":{},\"id\":\"1461\",\"type\":\"CategoricalTicker\"},{\"attributes\":{\"axis_label\":\"Market Cap\",\"coordinates\":null,\"formatter\":{\"id\":\"1493\"},\"group\":null,\"major_label_policy\":{\"id\":\"1494\"},\"ticker\":{\"id\":\"1464\"}},\"id\":\"1463\",\"type\":\"LinearAxis\"},{\"attributes\":{\"end\":869608283227.1,\"reset_end\":869608283227.1,\"reset_start\":148405292741.9,\"start\":148405292741.9,\"tags\":[[[\"Market Cap\",\"Market Cap\",null]]]},\"id\":\"1449\",\"type\":\"Range1d\"},{\"attributes\":{\"data\":{\"Market Cap\":[809508034020,733823966137,728535558140,689978437468,685873374731,523423036576,386613611000,353062464971,326148660000,321478200969,304680931618,281463620775,270038723213,261401203633,226713270000,223378633329,218978820159,218834811333,211536000000,208505541949],\"Market_Cap\":[809508034020,733823966137,728535558140,689978437468,685873374731,523423036576,386613611000,353062464971,326148660000,321478200969,304680931618,281463620775,270038723213,261401203633,226713270000,223378633329,218978820159,218834811333,211536000000,208505541949],\"Symbol\":[\"AAPL\",\"GOOGL\",\"GOOG\",\"MSFT\",\"AMZN\",\"FB\",\"JPM\",\"JNJ\",\"XOM\",\"BAC\",\"WMT\",\"WFC\",\"V\",\"BRK.B\",\"T\",\"HD\",\"CVX\",\"UNH\",\"INTC\",\"PFE\"]},\"selected\":{\"id\":\"1481\"},\"selection_policy\":{\"id\":\"1502\"}},\"id\":\"1480\",\"type\":\"ColumnDataSource\"}],\"root_ids\":[\"1446\"]},\"title\":\"Bokeh Application\",\"version\":\"2.4.3\"}};\n",
       "    var render_items = [{\"docid\":\"be46ac67-c4cb-4c20-96f4-b1e9430faebf\",\"root_ids\":[\"1446\"],\"roots\":{\"1446\":\"439db60d-3bd8-45e8-9209-179b21667631\"}}];\n",
       "    root.Bokeh.embed.embed_items_notebook(docs_json, render_items);\n",
       "  }\n",
       "  if (root.Bokeh !== undefined && root.Bokeh.Panel !== undefined) {\n",
       "    embed_document(root);\n",
       "  } else {\n",
       "    var attempts = 0;\n",
       "    var timer = setInterval(function(root) {\n",
       "      if (root.Bokeh !== undefined && root.Bokeh.Panel !== undefined) {\n",
       "        clearInterval(timer);\n",
       "        embed_document(root);\n",
       "      } else if (document.readyState == \"complete\") {\n",
       "        attempts++;\n",
       "        if (attempts > 200) {\n",
       "          clearInterval(timer);\n",
       "          console.log(\"Bokeh: ERROR: Unable to run BokehJS code because BokehJS library is missing\");\n",
       "        }\n",
       "      }\n",
       "    }, 25, root)\n",
       "  }\n",
       "})(window);</script>"
      ],
      "text/plain": [
       ":Curve   [Symbol]   (Market Cap)"
      ]
     },
     "execution_count": 11,
     "metadata": {
      "application/vnd.holoviews_exec.v0+json": {
       "id": "1446"
      }
     },
     "output_type": "execute_result"
    }
   ],
   "source": [
    "# Use the top_20_market_cap DataFrame to generate standard hvplot\n",
    "top_20_market_cap.hvplot(title='Top 20 Market Cap Companies (in billions)')\n"
   ]
  },
  {
   "cell_type": "markdown",
   "metadata": {},
   "source": [
    "### 2. Create a line plot using hvPlot.line"
   ]
  },
  {
   "cell_type": "code",
   "execution_count": 10,
   "metadata": {},
   "outputs": [
    {
     "data": {},
     "metadata": {},
     "output_type": "display_data"
    },
    {
     "data": {
      "application/vnd.holoviews_exec.v0+json": "",
      "text/html": [
       "<div id='1335'>\n",
       "  <div class=\"bk-root\" id=\"1df4b4f4-5567-4957-94db-dff17bb2ed83\" data-root-id=\"1335\"></div>\n",
       "</div>\n",
       "<script type=\"application/javascript\">(function(root) {\n",
       "  function embed_document(root) {\n",
       "    var docs_json = {\"386352f4-14c9-4018-bc33-12dfeb8586b8\":{\"defs\":[{\"extends\":null,\"module\":null,\"name\":\"ReactiveHTML1\",\"overrides\":[],\"properties\":[]},{\"extends\":null,\"module\":null,\"name\":\"FlexBox1\",\"overrides\":[],\"properties\":[{\"default\":\"flex-start\",\"kind\":null,\"name\":\"align_content\"},{\"default\":\"flex-start\",\"kind\":null,\"name\":\"align_items\"},{\"default\":\"row\",\"kind\":null,\"name\":\"flex_direction\"},{\"default\":\"wrap\",\"kind\":null,\"name\":\"flex_wrap\"},{\"default\":\"flex-start\",\"kind\":null,\"name\":\"justify_content\"}]},{\"extends\":null,\"module\":null,\"name\":\"GridStack1\",\"overrides\":[],\"properties\":[{\"default\":\"warn\",\"kind\":null,\"name\":\"mode\"},{\"default\":null,\"kind\":null,\"name\":\"ncols\"},{\"default\":null,\"kind\":null,\"name\":\"nrows\"},{\"default\":true,\"kind\":null,\"name\":\"allow_resize\"},{\"default\":true,\"kind\":null,\"name\":\"allow_drag\"},{\"default\":[],\"kind\":null,\"name\":\"state\"}]},{\"extends\":null,\"module\":null,\"name\":\"click1\",\"overrides\":[],\"properties\":[{\"default\":\"\",\"kind\":null,\"name\":\"terminal_output\"},{\"default\":\"\",\"kind\":null,\"name\":\"debug_name\"},{\"default\":0,\"kind\":null,\"name\":\"clears\"}]},{\"extends\":null,\"module\":null,\"name\":\"NotificationAreaBase1\",\"overrides\":[],\"properties\":[{\"default\":\"bottom-right\",\"kind\":null,\"name\":\"position\"},{\"default\":0,\"kind\":null,\"name\":\"_clear\"}]},{\"extends\":null,\"module\":null,\"name\":\"NotificationArea1\",\"overrides\":[],\"properties\":[{\"default\":[],\"kind\":null,\"name\":\"notifications\"},{\"default\":\"bottom-right\",\"kind\":null,\"name\":\"position\"},{\"default\":0,\"kind\":null,\"name\":\"_clear\"},{\"default\":[{\"background\":\"#ffc107\",\"icon\":{\"className\":\"fas fa-exclamation-triangle\",\"color\":\"white\",\"tagName\":\"i\"},\"type\":\"warning\"},{\"background\":\"#007bff\",\"icon\":{\"className\":\"fas fa-info-circle\",\"color\":\"white\",\"tagName\":\"i\"},\"type\":\"info\"}],\"kind\":null,\"name\":\"types\"}]},{\"extends\":null,\"module\":null,\"name\":\"Notification\",\"overrides\":[],\"properties\":[{\"default\":null,\"kind\":null,\"name\":\"background\"},{\"default\":3000,\"kind\":null,\"name\":\"duration\"},{\"default\":null,\"kind\":null,\"name\":\"icon\"},{\"default\":\"\",\"kind\":null,\"name\":\"message\"},{\"default\":null,\"kind\":null,\"name\":\"notification_type\"},{\"default\":false,\"kind\":null,\"name\":\"_destroyed\"}]},{\"extends\":null,\"module\":null,\"name\":\"TemplateActions1\",\"overrides\":[],\"properties\":[{\"default\":0,\"kind\":null,\"name\":\"open_modal\"},{\"default\":0,\"kind\":null,\"name\":\"close_modal\"}]},{\"extends\":null,\"module\":null,\"name\":\"MaterialTemplateActions1\",\"overrides\":[],\"properties\":[{\"default\":0,\"kind\":null,\"name\":\"open_modal\"},{\"default\":0,\"kind\":null,\"name\":\"close_modal\"}]}],\"roots\":{\"references\":[{\"attributes\":{\"end\":869608283227.1,\"reset_end\":869608283227.1,\"reset_start\":148405292741.9,\"start\":148405292741.9,\"tags\":[[[\"Market Cap\",\"Market Cap\",null]]]},\"id\":\"1338\",\"type\":\"Range1d\"},{\"attributes\":{\"margin\":[5,5,5,5],\"name\":\"HSpacer01185\",\"sizing_mode\":\"stretch_width\"},\"id\":\"1394\",\"type\":\"Spacer\"},{\"attributes\":{\"line_color\":\"#30a2da\",\"line_width\":2,\"x\":{\"field\":\"Symbol\"},\"y\":{\"field\":\"Market Cap\"}},\"id\":\"1372\",\"type\":\"Line\"},{\"attributes\":{\"callback\":null,\"renderers\":[{\"id\":\"1375\"}],\"tags\":[\"hv_created\"],\"tooltips\":[[\"Symbol\",\"@{Symbol}\"],[\"Market Cap\",\"@{Market_Cap}\"]]},\"id\":\"1339\",\"type\":\"HoverTool\"},{\"attributes\":{},\"id\":\"1391\",\"type\":\"UnionRenderers\"},{\"attributes\":{},\"id\":\"1353\",\"type\":\"BasicTicker\"},{\"attributes\":{\"data\":{\"Market Cap\":[809508034020,733823966137,728535558140,689978437468,685873374731,523423036576,386613611000,353062464971,326148660000,321478200969,304680931618,281463620775,270038723213,261401203633,226713270000,223378633329,218978820159,218834811333,211536000000,208505541949],\"Market_Cap\":[809508034020,733823966137,728535558140,689978437468,685873374731,523423036576,386613611000,353062464971,326148660000,321478200969,304680931618,281463620775,270038723213,261401203633,226713270000,223378633329,218978820159,218834811333,211536000000,208505541949],\"Symbol\":[\"AAPL\",\"GOOGL\",\"GOOG\",\"MSFT\",\"AMZN\",\"FB\",\"JPM\",\"JNJ\",\"XOM\",\"BAC\",\"WMT\",\"WFC\",\"V\",\"BRK.B\",\"T\",\"HD\",\"CVX\",\"UNH\",\"INTC\",\"PFE\"]},\"selected\":{\"id\":\"1370\"},\"selection_policy\":{\"id\":\"1391\"}},\"id\":\"1369\",\"type\":\"ColumnDataSource\"},{\"attributes\":{\"coordinates\":null,\"group\":null,\"text_color\":\"black\",\"text_font_size\":\"12pt\"},\"id\":\"1341\",\"type\":\"Title\"},{\"attributes\":{\"line_color\":\"#30a2da\",\"line_width\":2,\"x\":{\"field\":\"Symbol\"},\"y\":{\"field\":\"Market Cap\"}},\"id\":\"1377\",\"type\":\"Line\"},{\"attributes\":{\"tools\":[{\"id\":\"1339\"},{\"id\":\"1356\"},{\"id\":\"1357\"},{\"id\":\"1358\"},{\"id\":\"1359\"},{\"id\":\"1360\"}]},\"id\":\"1362\",\"type\":\"Toolbar\"},{\"attributes\":{\"margin\":[5,5,5,5],\"name\":\"HSpacer01184\",\"sizing_mode\":\"stretch_width\"},\"id\":\"1336\",\"type\":\"Spacer\"},{\"attributes\":{},\"id\":\"1350\",\"type\":\"CategoricalTicker\"},{\"attributes\":{\"coordinates\":null,\"data_source\":{\"id\":\"1369\"},\"glyph\":{\"id\":\"1372\"},\"group\":null,\"hover_glyph\":null,\"muted_glyph\":{\"id\":\"1374\"},\"nonselection_glyph\":{\"id\":\"1373\"},\"selection_glyph\":{\"id\":\"1377\"},\"view\":{\"id\":\"1376\"}},\"id\":\"1375\",\"type\":\"GlyphRenderer\"},{\"attributes\":{\"bottom_units\":\"screen\",\"coordinates\":null,\"fill_alpha\":0.5,\"fill_color\":\"lightgrey\",\"group\":null,\"left_units\":\"screen\",\"level\":\"overlay\",\"line_alpha\":1.0,\"line_color\":\"black\",\"line_dash\":[4,4],\"line_width\":2,\"right_units\":\"screen\",\"syncable\":false,\"top_units\":\"screen\"},\"id\":\"1361\",\"type\":\"BoxAnnotation\"},{\"attributes\":{\"source\":{\"id\":\"1369\"}},\"id\":\"1376\",\"type\":\"CDSView\"},{\"attributes\":{\"overlay\":{\"id\":\"1361\"}},\"id\":\"1359\",\"type\":\"BoxZoomTool\"},{\"attributes\":{\"line_alpha\":0.2,\"line_color\":\"#30a2da\",\"line_width\":2,\"x\":{\"field\":\"Symbol\"},\"y\":{\"field\":\"Market Cap\"}},\"id\":\"1374\",\"type\":\"Line\"},{\"attributes\":{},\"id\":\"1358\",\"type\":\"WheelZoomTool\"},{\"attributes\":{},\"id\":\"1357\",\"type\":\"PanTool\"},{\"attributes\":{},\"id\":\"1379\",\"type\":\"CategoricalTickFormatter\"},{\"attributes\":{\"line_alpha\":0.1,\"line_color\":\"#30a2da\",\"line_width\":2,\"x\":{\"field\":\"Symbol\"},\"y\":{\"field\":\"Market Cap\"}},\"id\":\"1373\",\"type\":\"Line\"},{\"attributes\":{},\"id\":\"1345\",\"type\":\"CategoricalScale\"},{\"attributes\":{\"axis_label\":\"Market Cap\",\"coordinates\":null,\"formatter\":{\"id\":\"1382\"},\"group\":null,\"major_label_policy\":{\"id\":\"1383\"},\"ticker\":{\"id\":\"1353\"}},\"id\":\"1352\",\"type\":\"LinearAxis\"},{\"attributes\":{\"children\":[{\"id\":\"1336\"},{\"id\":\"1340\"},{\"id\":\"1394\"}],\"margin\":[0,0,0,0],\"name\":\"Row01180\",\"tags\":[\"embedded\"]},\"id\":\"1335\",\"type\":\"Row\"},{\"attributes\":{},\"id\":\"1370\",\"type\":\"Selection\"},{\"attributes\":{\"axis\":{\"id\":\"1352\"},\"coordinates\":null,\"dimension\":1,\"grid_line_color\":null,\"group\":null,\"ticker\":null},\"id\":\"1355\",\"type\":\"Grid\"},{\"attributes\":{\"axis\":{\"id\":\"1349\"},\"coordinates\":null,\"grid_line_color\":null,\"group\":null,\"ticker\":null},\"id\":\"1351\",\"type\":\"Grid\"},{\"attributes\":{\"below\":[{\"id\":\"1349\"}],\"center\":[{\"id\":\"1351\"},{\"id\":\"1355\"}],\"height\":300,\"left\":[{\"id\":\"1352\"}],\"margin\":[5,5,5,5],\"min_border_bottom\":10,\"min_border_left\":10,\"min_border_right\":10,\"min_border_top\":10,\"renderers\":[{\"id\":\"1375\"}],\"sizing_mode\":\"fixed\",\"title\":{\"id\":\"1341\"},\"toolbar\":{\"id\":\"1362\"},\"width\":700,\"x_range\":{\"id\":\"1337\"},\"x_scale\":{\"id\":\"1345\"},\"y_range\":{\"id\":\"1338\"},\"y_scale\":{\"id\":\"1347\"}},\"id\":\"1340\",\"subtype\":\"Figure\",\"type\":\"Plot\"},{\"attributes\":{},\"id\":\"1383\",\"type\":\"AllLabels\"},{\"attributes\":{\"axis_label\":\"Companies\",\"coordinates\":null,\"formatter\":{\"id\":\"1379\"},\"group\":null,\"major_label_policy\":{\"id\":\"1380\"},\"ticker\":{\"id\":\"1350\"}},\"id\":\"1349\",\"type\":\"CategoricalAxis\"},{\"attributes\":{\"factors\":[\"AAPL\",\"GOOGL\",\"GOOG\",\"MSFT\",\"AMZN\",\"FB\",\"JPM\",\"JNJ\",\"XOM\",\"BAC\",\"WMT\",\"WFC\",\"V\",\"BRK.B\",\"T\",\"HD\",\"CVX\",\"UNH\",\"INTC\",\"PFE\"],\"tags\":[[[\"Symbol\",\"Symbol\",null]]]},\"id\":\"1337\",\"type\":\"FactorRange\"},{\"attributes\":{},\"id\":\"1347\",\"type\":\"LinearScale\"},{\"attributes\":{},\"id\":\"1356\",\"type\":\"SaveTool\"},{\"attributes\":{},\"id\":\"1360\",\"type\":\"ResetTool\"},{\"attributes\":{},\"id\":\"1380\",\"type\":\"AllLabels\"},{\"attributes\":{},\"id\":\"1382\",\"type\":\"BasicTickFormatter\"}],\"root_ids\":[\"1335\"]},\"title\":\"Bokeh Application\",\"version\":\"2.4.3\"}};\n",
       "    var render_items = [{\"docid\":\"386352f4-14c9-4018-bc33-12dfeb8586b8\",\"root_ids\":[\"1335\"],\"roots\":{\"1335\":\"1df4b4f4-5567-4957-94db-dff17bb2ed83\"}}];\n",
       "    root.Bokeh.embed.embed_items_notebook(docs_json, render_items);\n",
       "  }\n",
       "  if (root.Bokeh !== undefined && root.Bokeh.Panel !== undefined) {\n",
       "    embed_document(root);\n",
       "  } else {\n",
       "    var attempts = 0;\n",
       "    var timer = setInterval(function(root) {\n",
       "      if (root.Bokeh !== undefined && root.Bokeh.Panel !== undefined) {\n",
       "        clearInterval(timer);\n",
       "        embed_document(root);\n",
       "      } else if (document.readyState == \"complete\") {\n",
       "        attempts++;\n",
       "        if (attempts > 200) {\n",
       "          clearInterval(timer);\n",
       "          console.log(\"Bokeh: ERROR: Unable to run BokehJS code because BokehJS library is missing\");\n",
       "        }\n",
       "      }\n",
       "    }, 25, root)\n",
       "  }\n",
       "})(window);</script>"
      ],
      "text/plain": [
       ":Curve   [Symbol]   (Market Cap)"
      ]
     },
     "execution_count": 10,
     "metadata": {
      "application/vnd.holoviews_exec.v0+json": {
       "id": "1335"
      }
     },
     "output_type": "execute_result"
    }
   ],
   "source": [
    "# Use the top_20_market_cap DataFrame to plot a hvplot line plot\n",
    "top_20_market_cap.hvplot.line(xlabel = 'Companies', ylabel = 'Market Cap' )\n"
   ]
  },
  {
   "cell_type": "markdown",
   "metadata": {},
   "source": [
    "### 3. Create Bar Plot Using hvplot.bar"
   ]
  },
  {
   "cell_type": "code",
   "execution_count": 13,
   "metadata": {},
   "outputs": [
    {
     "data": {},
     "metadata": {},
     "output_type": "display_data"
    },
    {
     "data": {
      "application/vnd.holoviews_exec.v0+json": "",
      "text/html": [
       "<div id='1668'>\n",
       "  <div class=\"bk-root\" id=\"8c02fe70-f5e6-4793-a750-3a9c12bdbd97\" data-root-id=\"1668\"></div>\n",
       "</div>\n",
       "<script type=\"application/javascript\">(function(root) {\n",
       "  function embed_document(root) {\n",
       "    var docs_json = {\"bf77dd71-8ea7-466d-a0be-cd81ccecbd38\":{\"defs\":[{\"extends\":null,\"module\":null,\"name\":\"ReactiveHTML1\",\"overrides\":[],\"properties\":[]},{\"extends\":null,\"module\":null,\"name\":\"FlexBox1\",\"overrides\":[],\"properties\":[{\"default\":\"flex-start\",\"kind\":null,\"name\":\"align_content\"},{\"default\":\"flex-start\",\"kind\":null,\"name\":\"align_items\"},{\"default\":\"row\",\"kind\":null,\"name\":\"flex_direction\"},{\"default\":\"wrap\",\"kind\":null,\"name\":\"flex_wrap\"},{\"default\":\"flex-start\",\"kind\":null,\"name\":\"justify_content\"}]},{\"extends\":null,\"module\":null,\"name\":\"GridStack1\",\"overrides\":[],\"properties\":[{\"default\":\"warn\",\"kind\":null,\"name\":\"mode\"},{\"default\":null,\"kind\":null,\"name\":\"ncols\"},{\"default\":null,\"kind\":null,\"name\":\"nrows\"},{\"default\":true,\"kind\":null,\"name\":\"allow_resize\"},{\"default\":true,\"kind\":null,\"name\":\"allow_drag\"},{\"default\":[],\"kind\":null,\"name\":\"state\"}]},{\"extends\":null,\"module\":null,\"name\":\"click1\",\"overrides\":[],\"properties\":[{\"default\":\"\",\"kind\":null,\"name\":\"terminal_output\"},{\"default\":\"\",\"kind\":null,\"name\":\"debug_name\"},{\"default\":0,\"kind\":null,\"name\":\"clears\"}]},{\"extends\":null,\"module\":null,\"name\":\"NotificationAreaBase1\",\"overrides\":[],\"properties\":[{\"default\":\"bottom-right\",\"kind\":null,\"name\":\"position\"},{\"default\":0,\"kind\":null,\"name\":\"_clear\"}]},{\"extends\":null,\"module\":null,\"name\":\"NotificationArea1\",\"overrides\":[],\"properties\":[{\"default\":[],\"kind\":null,\"name\":\"notifications\"},{\"default\":\"bottom-right\",\"kind\":null,\"name\":\"position\"},{\"default\":0,\"kind\":null,\"name\":\"_clear\"},{\"default\":[{\"background\":\"#ffc107\",\"icon\":{\"className\":\"fas fa-exclamation-triangle\",\"color\":\"white\",\"tagName\":\"i\"},\"type\":\"warning\"},{\"background\":\"#007bff\",\"icon\":{\"className\":\"fas fa-info-circle\",\"color\":\"white\",\"tagName\":\"i\"},\"type\":\"info\"}],\"kind\":null,\"name\":\"types\"}]},{\"extends\":null,\"module\":null,\"name\":\"Notification\",\"overrides\":[],\"properties\":[{\"default\":null,\"kind\":null,\"name\":\"background\"},{\"default\":3000,\"kind\":null,\"name\":\"duration\"},{\"default\":null,\"kind\":null,\"name\":\"icon\"},{\"default\":\"\",\"kind\":null,\"name\":\"message\"},{\"default\":null,\"kind\":null,\"name\":\"notification_type\"},{\"default\":false,\"kind\":null,\"name\":\"_destroyed\"}]},{\"extends\":null,\"module\":null,\"name\":\"TemplateActions1\",\"overrides\":[],\"properties\":[{\"default\":0,\"kind\":null,\"name\":\"open_modal\"},{\"default\":0,\"kind\":null,\"name\":\"close_modal\"}]},{\"extends\":null,\"module\":null,\"name\":\"MaterialTemplateActions1\",\"overrides\":[],\"properties\":[{\"default\":0,\"kind\":null,\"name\":\"open_modal\"},{\"default\":0,\"kind\":null,\"name\":\"close_modal\"}]}],\"roots\":{\"references\":[{\"attributes\":{},\"id\":\"1689\",\"type\":\"SaveTool\"},{\"attributes\":{},\"id\":\"1703\",\"type\":\"Selection\"},{\"attributes\":{},\"id\":\"1690\",\"type\":\"PanTool\"},{\"attributes\":{},\"id\":\"1715\",\"type\":\"BasicTickFormatter\"},{\"attributes\":{},\"id\":\"1693\",\"type\":\"ResetTool\"},{\"attributes\":{},\"id\":\"1691\",\"type\":\"WheelZoomTool\"},{\"attributes\":{\"fill_alpha\":{\"value\":0.2},\"fill_color\":{\"value\":\"#30a2da\"},\"hatch_alpha\":{\"value\":0.2},\"hatch_color\":{\"value\":\"#30a2da\"},\"line_alpha\":{\"value\":0.2},\"top\":{\"field\":\"Market_Cap\"},\"width\":{\"value\":0.8},\"x\":{\"field\":\"Symbol\"}},\"id\":\"1707\",\"type\":\"VBar\"},{\"attributes\":{\"overlay\":{\"id\":\"1694\"}},\"id\":\"1692\",\"type\":\"BoxZoomTool\"},{\"attributes\":{\"data\":{\"Market_Cap\":[809508034020,733823966137,728535558140,689978437468,685873374731,523423036576,386613611000,353062464971,326148660000,321478200969,304680931618,281463620775,270038723213,261401203633,226713270000,223378633329,218978820159,218834811333,211536000000,208505541949],\"Symbol\":[\"AAPL\",\"GOOGL\",\"GOOG\",\"MSFT\",\"AMZN\",\"FB\",\"JPM\",\"JNJ\",\"XOM\",\"BAC\",\"WMT\",\"WFC\",\"V\",\"BRK.B\",\"T\",\"HD\",\"CVX\",\"UNH\",\"INTC\",\"PFE\"]},\"selected\":{\"id\":\"1703\"},\"selection_policy\":{\"id\":\"1724\"}},\"id\":\"1702\",\"type\":\"ColumnDataSource\"},{\"attributes\":{\"axis\":{\"id\":\"1682\"},\"coordinates\":null,\"grid_line_color\":null,\"group\":null,\"ticker\":null},\"id\":\"1684\",\"type\":\"Grid\"},{\"attributes\":{\"axis_label\":\"Symbol\",\"coordinates\":null,\"formatter\":{\"id\":\"1712\"},\"group\":null,\"major_label_orientation\":1.5707963267948966,\"major_label_policy\":{\"id\":\"1713\"},\"ticker\":{\"id\":\"1683\"}},\"id\":\"1682\",\"type\":\"CategoricalAxis\"},{\"attributes\":{},\"id\":\"1678\",\"type\":\"CategoricalScale\"},{\"attributes\":{\"coordinates\":null,\"group\":null,\"text\":\"Top 20 Market Cap Companies (in billions)\",\"text_color\":\"black\",\"text_font_size\":\"12pt\"},\"id\":\"1674\",\"type\":\"Title\"},{\"attributes\":{\"bottom\":{\"value\":0},\"fill_alpha\":{\"value\":1.0},\"fill_color\":{\"value\":\"#30a2da\"},\"hatch_alpha\":{\"value\":1.0},\"hatch_color\":{\"value\":\"#30a2da\"},\"hatch_scale\":{\"value\":12.0},\"hatch_weight\":{\"value\":1.0},\"line_alpha\":{\"value\":1.0},\"line_cap\":{\"value\":\"butt\"},\"line_color\":{\"value\":\"black\"},\"line_dash\":{\"value\":[]},\"line_dash_offset\":{\"value\":0},\"line_join\":{\"value\":\"bevel\"},\"line_width\":{\"value\":1},\"top\":{\"field\":\"Market_Cap\"},\"width\":{\"value\":0.8},\"x\":{\"field\":\"Symbol\"}},\"id\":\"1710\",\"type\":\"VBar\"},{\"attributes\":{\"fill_color\":{\"value\":\"#30a2da\"},\"hatch_color\":{\"value\":\"#30a2da\"},\"top\":{\"field\":\"Market_Cap\"},\"width\":{\"value\":0.8},\"x\":{\"field\":\"Symbol\"}},\"id\":\"1705\",\"type\":\"VBar\"},{\"attributes\":{\"tools\":[{\"id\":\"1672\"},{\"id\":\"1689\"},{\"id\":\"1690\"},{\"id\":\"1691\"},{\"id\":\"1692\"},{\"id\":\"1693\"}]},\"id\":\"1695\",\"type\":\"Toolbar\"},{\"attributes\":{},\"id\":\"1680\",\"type\":\"LinearScale\"},{\"attributes\":{},\"id\":\"1713\",\"type\":\"AllLabels\"},{\"attributes\":{},\"id\":\"1724\",\"type\":\"UnionRenderers\"},{\"attributes\":{\"end\":869608283227.1,\"reset_end\":869608283227.1,\"reset_start\":0.0,\"tags\":[[[\"Market Cap\",\"Market Cap\",null]]]},\"id\":\"1671\",\"type\":\"Range1d\"},{\"attributes\":{},\"id\":\"1686\",\"type\":\"BasicTicker\"},{\"attributes\":{},\"id\":\"1716\",\"type\":\"AllLabels\"},{\"attributes\":{},\"id\":\"1683\",\"type\":\"CategoricalTicker\"},{\"attributes\":{\"bottom_units\":\"screen\",\"coordinates\":null,\"fill_alpha\":0.5,\"fill_color\":\"lightgrey\",\"group\":null,\"left_units\":\"screen\",\"level\":\"overlay\",\"line_alpha\":1.0,\"line_color\":\"black\",\"line_dash\":[4,4],\"line_width\":2,\"right_units\":\"screen\",\"syncable\":false,\"top_units\":\"screen\"},\"id\":\"1694\",\"type\":\"BoxAnnotation\"},{\"attributes\":{\"axis_label\":\"Market Cap\",\"coordinates\":null,\"formatter\":{\"id\":\"1715\"},\"group\":null,\"major_label_policy\":{\"id\":\"1716\"},\"ticker\":{\"id\":\"1686\"}},\"id\":\"1685\",\"type\":\"LinearAxis\"},{\"attributes\":{\"factors\":[\"AAPL\",\"GOOGL\",\"GOOG\",\"MSFT\",\"AMZN\",\"FB\",\"JPM\",\"JNJ\",\"XOM\",\"BAC\",\"WMT\",\"WFC\",\"V\",\"BRK.B\",\"T\",\"HD\",\"CVX\",\"UNH\",\"INTC\",\"PFE\"],\"tags\":[[[\"Symbol\",\"Symbol\",null]]]},\"id\":\"1670\",\"type\":\"FactorRange\"},{\"attributes\":{\"axis\":{\"id\":\"1685\"},\"coordinates\":null,\"dimension\":1,\"grid_line_color\":null,\"group\":null,\"ticker\":null},\"id\":\"1688\",\"type\":\"Grid\"},{\"attributes\":{\"source\":{\"id\":\"1702\"}},\"id\":\"1709\",\"type\":\"CDSView\"},{\"attributes\":{\"margin\":[5,5,5,5],\"name\":\"HSpacer01502\",\"sizing_mode\":\"stretch_width\"},\"id\":\"1669\",\"type\":\"Spacer\"},{\"attributes\":{\"margin\":[5,5,5,5],\"name\":\"HSpacer01503\",\"sizing_mode\":\"stretch_width\"},\"id\":\"1727\",\"type\":\"Spacer\"},{\"attributes\":{\"callback\":null,\"renderers\":[{\"id\":\"1708\"}],\"tags\":[\"hv_created\"],\"tooltips\":[[\"Symbol\",\"@{Symbol}\"],[\"Market Cap\",\"@{Market_Cap}\"]]},\"id\":\"1672\",\"type\":\"HoverTool\"},{\"attributes\":{\"below\":[{\"id\":\"1682\"}],\"center\":[{\"id\":\"1684\"},{\"id\":\"1688\"}],\"height\":300,\"left\":[{\"id\":\"1685\"}],\"margin\":[5,5,5,5],\"min_border_bottom\":10,\"min_border_left\":10,\"min_border_right\":10,\"min_border_top\":10,\"renderers\":[{\"id\":\"1708\"}],\"sizing_mode\":\"fixed\",\"title\":{\"id\":\"1674\"},\"toolbar\":{\"id\":\"1695\"},\"width\":700,\"x_range\":{\"id\":\"1670\"},\"x_scale\":{\"id\":\"1678\"},\"y_range\":{\"id\":\"1671\"},\"y_scale\":{\"id\":\"1680\"}},\"id\":\"1673\",\"subtype\":\"Figure\",\"type\":\"Plot\"},{\"attributes\":{\"coordinates\":null,\"data_source\":{\"id\":\"1702\"},\"glyph\":{\"id\":\"1705\"},\"group\":null,\"hover_glyph\":null,\"muted_glyph\":{\"id\":\"1707\"},\"nonselection_glyph\":{\"id\":\"1706\"},\"selection_glyph\":{\"id\":\"1710\"},\"view\":{\"id\":\"1709\"}},\"id\":\"1708\",\"type\":\"GlyphRenderer\"},{\"attributes\":{\"children\":[{\"id\":\"1669\"},{\"id\":\"1673\"},{\"id\":\"1727\"}],\"margin\":[0,0,0,0],\"name\":\"Row01498\",\"tags\":[\"embedded\"]},\"id\":\"1668\",\"type\":\"Row\"},{\"attributes\":{\"fill_alpha\":{\"value\":0.1},\"fill_color\":{\"value\":\"#30a2da\"},\"hatch_alpha\":{\"value\":0.1},\"hatch_color\":{\"value\":\"#30a2da\"},\"line_alpha\":{\"value\":0.1},\"top\":{\"field\":\"Market_Cap\"},\"width\":{\"value\":0.8},\"x\":{\"field\":\"Symbol\"}},\"id\":\"1706\",\"type\":\"VBar\"},{\"attributes\":{},\"id\":\"1712\",\"type\":\"CategoricalTickFormatter\"}],\"root_ids\":[\"1668\"]},\"title\":\"Bokeh Application\",\"version\":\"2.4.3\"}};\n",
       "    var render_items = [{\"docid\":\"bf77dd71-8ea7-466d-a0be-cd81ccecbd38\",\"root_ids\":[\"1668\"],\"roots\":{\"1668\":\"8c02fe70-f5e6-4793-a750-3a9c12bdbd97\"}}];\n",
       "    root.Bokeh.embed.embed_items_notebook(docs_json, render_items);\n",
       "  }\n",
       "  if (root.Bokeh !== undefined && root.Bokeh.Panel !== undefined) {\n",
       "    embed_document(root);\n",
       "  } else {\n",
       "    var attempts = 0;\n",
       "    var timer = setInterval(function(root) {\n",
       "      if (root.Bokeh !== undefined && root.Bokeh.Panel !== undefined) {\n",
       "        clearInterval(timer);\n",
       "        embed_document(root);\n",
       "      } else if (document.readyState == \"complete\") {\n",
       "        attempts++;\n",
       "        if (attempts > 200) {\n",
       "          clearInterval(timer);\n",
       "          console.log(\"Bokeh: ERROR: Unable to run BokehJS code because BokehJS library is missing\");\n",
       "        }\n",
       "      }\n",
       "    }, 25, root)\n",
       "  }\n",
       "})(window);</script>"
      ],
      "text/plain": [
       ":Bars   [Symbol]   (Market Cap)"
      ]
     },
     "execution_count": 13,
     "metadata": {
      "application/vnd.holoviews_exec.v0+json": {
       "id": "1668"
      }
     },
     "output_type": "execute_result"
    }
   ],
   "source": [
    "# Use the top_20_market_cap DataFrame to plot a hvplot bar chart\n",
    "top_20_market_cap.hvplot.bar(\n",
    "     title='Top 20 Market Cap Companies (in billions)', xlabel = 'Symbol', ylabel = 'Market Cap', rot = 90\n",
    ")\n"
   ]
  },
  {
   "cell_type": "markdown",
   "metadata": {},
   "source": [
    "### 4. Create Scatter Plots Using hvplot"
   ]
  },
  {
   "cell_type": "code",
   "execution_count": 14,
   "metadata": {},
   "outputs": [
    {
     "data": {},
     "metadata": {},
     "output_type": "display_data"
    },
    {
     "data": {
      "application/vnd.holoviews_exec.v0+json": "",
      "text/html": [
       "<div id='1779'>\n",
       "  <div class=\"bk-root\" id=\"aa4252be-ecc4-4166-b8fe-58d9033f36d3\" data-root-id=\"1779\"></div>\n",
       "</div>\n",
       "<script type=\"application/javascript\">(function(root) {\n",
       "  function embed_document(root) {\n",
       "    var docs_json = {\"293fc4a7-7392-4e7c-a5a6-df4b3fe878e7\":{\"defs\":[{\"extends\":null,\"module\":null,\"name\":\"ReactiveHTML1\",\"overrides\":[],\"properties\":[]},{\"extends\":null,\"module\":null,\"name\":\"FlexBox1\",\"overrides\":[],\"properties\":[{\"default\":\"flex-start\",\"kind\":null,\"name\":\"align_content\"},{\"default\":\"flex-start\",\"kind\":null,\"name\":\"align_items\"},{\"default\":\"row\",\"kind\":null,\"name\":\"flex_direction\"},{\"default\":\"wrap\",\"kind\":null,\"name\":\"flex_wrap\"},{\"default\":\"flex-start\",\"kind\":null,\"name\":\"justify_content\"}]},{\"extends\":null,\"module\":null,\"name\":\"GridStack1\",\"overrides\":[],\"properties\":[{\"default\":\"warn\",\"kind\":null,\"name\":\"mode\"},{\"default\":null,\"kind\":null,\"name\":\"ncols\"},{\"default\":null,\"kind\":null,\"name\":\"nrows\"},{\"default\":true,\"kind\":null,\"name\":\"allow_resize\"},{\"default\":true,\"kind\":null,\"name\":\"allow_drag\"},{\"default\":[],\"kind\":null,\"name\":\"state\"}]},{\"extends\":null,\"module\":null,\"name\":\"click1\",\"overrides\":[],\"properties\":[{\"default\":\"\",\"kind\":null,\"name\":\"terminal_output\"},{\"default\":\"\",\"kind\":null,\"name\":\"debug_name\"},{\"default\":0,\"kind\":null,\"name\":\"clears\"}]},{\"extends\":null,\"module\":null,\"name\":\"NotificationAreaBase1\",\"overrides\":[],\"properties\":[{\"default\":\"bottom-right\",\"kind\":null,\"name\":\"position\"},{\"default\":0,\"kind\":null,\"name\":\"_clear\"}]},{\"extends\":null,\"module\":null,\"name\":\"NotificationArea1\",\"overrides\":[],\"properties\":[{\"default\":[],\"kind\":null,\"name\":\"notifications\"},{\"default\":\"bottom-right\",\"kind\":null,\"name\":\"position\"},{\"default\":0,\"kind\":null,\"name\":\"_clear\"},{\"default\":[{\"background\":\"#ffc107\",\"icon\":{\"className\":\"fas fa-exclamation-triangle\",\"color\":\"white\",\"tagName\":\"i\"},\"type\":\"warning\"},{\"background\":\"#007bff\",\"icon\":{\"className\":\"fas fa-info-circle\",\"color\":\"white\",\"tagName\":\"i\"},\"type\":\"info\"}],\"kind\":null,\"name\":\"types\"}]},{\"extends\":null,\"module\":null,\"name\":\"Notification\",\"overrides\":[],\"properties\":[{\"default\":null,\"kind\":null,\"name\":\"background\"},{\"default\":3000,\"kind\":null,\"name\":\"duration\"},{\"default\":null,\"kind\":null,\"name\":\"icon\"},{\"default\":\"\",\"kind\":null,\"name\":\"message\"},{\"default\":null,\"kind\":null,\"name\":\"notification_type\"},{\"default\":false,\"kind\":null,\"name\":\"_destroyed\"}]},{\"extends\":null,\"module\":null,\"name\":\"TemplateActions1\",\"overrides\":[],\"properties\":[{\"default\":0,\"kind\":null,\"name\":\"open_modal\"},{\"default\":0,\"kind\":null,\"name\":\"close_modal\"}]},{\"extends\":null,\"module\":null,\"name\":\"MaterialTemplateActions1\",\"overrides\":[],\"properties\":[{\"default\":0,\"kind\":null,\"name\":\"open_modal\"},{\"default\":0,\"kind\":null,\"name\":\"close_modal\"}]}],\"roots\":{\"references\":[{\"attributes\":{},\"id\":\"1798\",\"type\":\"BasicTicker\"},{\"attributes\":{\"axis\":{\"id\":\"1797\"},\"coordinates\":null,\"dimension\":1,\"grid_line_color\":null,\"group\":null,\"ticker\":null},\"id\":\"1800\",\"type\":\"Grid\"},{\"attributes\":{\"coordinates\":null,\"data_source\":{\"id\":\"1814\"},\"glyph\":{\"id\":\"1817\"},\"group\":null,\"hover_glyph\":null,\"muted_glyph\":{\"id\":\"1819\"},\"nonselection_glyph\":{\"id\":\"1818\"},\"selection_glyph\":{\"id\":\"1822\"},\"view\":{\"id\":\"1821\"}},\"id\":\"1820\",\"type\":\"GlyphRenderer\"},{\"attributes\":{},\"id\":\"1825\",\"type\":\"AllLabels\"},{\"attributes\":{\"fill_alpha\":{\"value\":0.2},\"fill_color\":{\"value\":\"#30a2da\"},\"hatch_alpha\":{\"value\":0.2},\"hatch_color\":{\"value\":\"#30a2da\"},\"line_alpha\":{\"value\":0.2},\"line_color\":{\"value\":\"#30a2da\"},\"size\":{\"value\":5.477225575051661},\"x\":{\"field\":\"Earnings/Share\"},\"y\":{\"field\":\"Price\"}},\"id\":\"1819\",\"type\":\"Scatter\"},{\"attributes\":{},\"id\":\"1828\",\"type\":\"AllLabels\"},{\"attributes\":{\"source\":{\"id\":\"1814\"}},\"id\":\"1821\",\"type\":\"CDSView\"},{\"attributes\":{\"end\":1986.384,\"reset_end\":1986.384,\"reset_start\":-177.50400000000002,\"start\":-177.50400000000002,\"tags\":[[[\"Price\",\"Price\",null]]]},\"id\":\"1782\",\"type\":\"Range1d\"},{\"attributes\":{\"angle\":{\"value\":0.0},\"fill_alpha\":{\"value\":1.0},\"fill_color\":{\"value\":\"#30a2da\"},\"hatch_alpha\":{\"value\":1.0},\"hatch_color\":{\"value\":\"#30a2da\"},\"hatch_scale\":{\"value\":12.0},\"hatch_weight\":{\"value\":1.0},\"line_alpha\":{\"value\":1.0},\"line_cap\":{\"value\":\"butt\"},\"line_color\":{\"value\":\"#30a2da\"},\"line_dash\":{\"value\":[]},\"line_dash_offset\":{\"value\":0},\"line_join\":{\"value\":\"bevel\"},\"line_width\":{\"value\":1},\"marker\":{\"value\":\"circle\"},\"size\":{\"value\":5.477225575051661},\"x\":{\"field\":\"Earnings/Share\"},\"y\":{\"field\":\"Price\"}},\"id\":\"1822\",\"type\":\"Scatter\"},{\"attributes\":{\"below\":[{\"id\":\"1793\"}],\"center\":[{\"id\":\"1796\"},{\"id\":\"1800\"}],\"height\":300,\"left\":[{\"id\":\"1797\"}],\"margin\":[5,5,5,5],\"min_border_bottom\":10,\"min_border_left\":10,\"min_border_right\":10,\"min_border_top\":10,\"renderers\":[{\"id\":\"1820\"}],\"sizing_mode\":\"fixed\",\"title\":{\"id\":\"1785\"},\"toolbar\":{\"id\":\"1807\"},\"width\":700,\"x_range\":{\"id\":\"1781\"},\"x_scale\":{\"id\":\"1789\"},\"y_range\":{\"id\":\"1782\"},\"y_scale\":{\"id\":\"1791\"}},\"id\":\"1784\",\"subtype\":\"Figure\",\"type\":\"Plot\"},{\"attributes\":{},\"id\":\"1824\",\"type\":\"BasicTickFormatter\"},{\"attributes\":{\"margin\":[5,5,5,5],\"name\":\"HSpacer01619\",\"sizing_mode\":\"stretch_width\"},\"id\":\"1780\",\"type\":\"Spacer\"},{\"attributes\":{\"tools\":[{\"id\":\"1783\"},{\"id\":\"1801\"},{\"id\":\"1802\"},{\"id\":\"1803\"},{\"id\":\"1804\"},{\"id\":\"1805\"}]},\"id\":\"1807\",\"type\":\"Toolbar\"},{\"attributes\":{},\"id\":\"1815\",\"type\":\"Selection\"},{\"attributes\":{\"bottom_units\":\"screen\",\"coordinates\":null,\"fill_alpha\":0.5,\"fill_color\":\"lightgrey\",\"group\":null,\"left_units\":\"screen\",\"level\":\"overlay\",\"line_alpha\":1.0,\"line_color\":\"black\",\"line_dash\":[4,4],\"line_width\":2,\"right_units\":\"screen\",\"syncable\":false,\"top_units\":\"screen\"},\"id\":\"1806\",\"type\":\"BoxAnnotation\"},{\"attributes\":{},\"id\":\"1801\",\"type\":\"SaveTool\"},{\"attributes\":{},\"id\":\"1802\",\"type\":\"PanTool\"},{\"attributes\":{},\"id\":\"1805\",\"type\":\"ResetTool\"},{\"attributes\":{\"callback\":null,\"renderers\":[{\"id\":\"1820\"}],\"tags\":[\"hv_created\"],\"tooltips\":[[\"Earnings/Share\",\"@{Earnings_over_Share}\"],[\"Price\",\"@{Price}\"]]},\"id\":\"1783\",\"type\":\"HoverTool\"},{\"attributes\":{},\"id\":\"1803\",\"type\":\"WheelZoomTool\"},{\"attributes\":{\"end\":47.18000000000001,\"reset_end\":47.18000000000001,\"reset_start\":-31.1,\"start\":-31.1,\"tags\":[[[\"Earnings/Share\",\"Earnings/Share\",null]]]},\"id\":\"1781\",\"type\":\"Range1d\"},{\"attributes\":{},\"id\":\"1836\",\"type\":\"UnionRenderers\"},{\"attributes\":{\"overlay\":{\"id\":\"1806\"}},\"id\":\"1804\",\"type\":\"BoxZoomTool\"},{\"attributes\":{\"axis_label\":\"Price\",\"coordinates\":null,\"formatter\":{\"id\":\"1827\"},\"group\":null,\"major_label_policy\":{\"id\":\"1828\"},\"ticker\":{\"id\":\"1798\"}},\"id\":\"1797\",\"type\":\"LinearAxis\"},{\"attributes\":{\"fill_alpha\":{\"value\":0.1},\"fill_color\":{\"value\":\"#30a2da\"},\"hatch_alpha\":{\"value\":0.1},\"hatch_color\":{\"value\":\"#30a2da\"},\"line_alpha\":{\"value\":0.1},\"line_color\":{\"value\":\"#30a2da\"},\"size\":{\"value\":5.477225575051661},\"x\":{\"field\":\"Earnings/Share\"},\"y\":{\"field\":\"Price\"}},\"id\":\"1818\",\"type\":\"Scatter\"},{\"attributes\":{},\"id\":\"1794\",\"type\":\"BasicTicker\"},{\"attributes\":{},\"id\":\"1789\",\"type\":\"LinearScale\"},{\"attributes\":{\"coordinates\":null,\"group\":null,\"text\":\"Top 20 Market Cap Companies (in billions) - EPS versus Price\",\"text_color\":\"black\",\"text_font_size\":\"12pt\"},\"id\":\"1785\",\"type\":\"Title\"},{\"attributes\":{},\"id\":\"1827\",\"type\":\"BasicTickFormatter\"},{\"attributes\":{\"axis\":{\"id\":\"1793\"},\"coordinates\":null,\"grid_line_color\":null,\"group\":null,\"ticker\":null},\"id\":\"1796\",\"type\":\"Grid\"},{\"attributes\":{\"children\":[{\"id\":\"1780\"},{\"id\":\"1784\"},{\"id\":\"1839\"}],\"margin\":[0,0,0,0],\"name\":\"Row01615\",\"tags\":[\"embedded\"]},\"id\":\"1779\",\"type\":\"Row\"},{\"attributes\":{},\"id\":\"1791\",\"type\":\"LinearScale\"},{\"attributes\":{\"data\":{\"Earnings/Share\":{\"__ndarray__\":\"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\",\"dtype\":\"float64\",\"order\":\"little\",\"shape\":[505]},\"Earnings_over_Share\":{\"__ndarray__\":\"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\",\"dtype\":\"float64\",\"order\":\"little\",\"shape\":[505]},\"Price\":{\"__ndarray__\":\"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\",\"dtype\":\"float64\",\"order\":\"little\",\"shape\":[505]}},\"selected\":{\"id\":\"1815\"},\"selection_policy\":{\"id\":\"1836\"}},\"id\":\"1814\",\"type\":\"ColumnDataSource\"},{\"attributes\":{\"axis_label\":\"Earnings/Share\",\"coordinates\":null,\"formatter\":{\"id\":\"1824\"},\"group\":null,\"major_label_policy\":{\"id\":\"1825\"},\"ticker\":{\"id\":\"1794\"}},\"id\":\"1793\",\"type\":\"LinearAxis\"},{\"attributes\":{\"margin\":[5,5,5,5],\"name\":\"HSpacer01620\",\"sizing_mode\":\"stretch_width\"},\"id\":\"1839\",\"type\":\"Spacer\"},{\"attributes\":{\"fill_color\":{\"value\":\"#30a2da\"},\"hatch_color\":{\"value\":\"#30a2da\"},\"line_color\":{\"value\":\"#30a2da\"},\"size\":{\"value\":5.477225575051661},\"x\":{\"field\":\"Earnings/Share\"},\"y\":{\"field\":\"Price\"}},\"id\":\"1817\",\"type\":\"Scatter\"}],\"root_ids\":[\"1779\"]},\"title\":\"Bokeh Application\",\"version\":\"2.4.3\"}};\n",
       "    var render_items = [{\"docid\":\"293fc4a7-7392-4e7c-a5a6-df4b3fe878e7\",\"root_ids\":[\"1779\"],\"roots\":{\"1779\":\"aa4252be-ecc4-4166-b8fe-58d9033f36d3\"}}];\n",
       "    root.Bokeh.embed.embed_items_notebook(docs_json, render_items);\n",
       "  }\n",
       "  if (root.Bokeh !== undefined && root.Bokeh.Panel !== undefined) {\n",
       "    embed_document(root);\n",
       "  } else {\n",
       "    var attempts = 0;\n",
       "    var timer = setInterval(function(root) {\n",
       "      if (root.Bokeh !== undefined && root.Bokeh.Panel !== undefined) {\n",
       "        clearInterval(timer);\n",
       "        embed_document(root);\n",
       "      } else if (document.readyState == \"complete\") {\n",
       "        attempts++;\n",
       "        if (attempts > 200) {\n",
       "          clearInterval(timer);\n",
       "          console.log(\"Bokeh: ERROR: Unable to run BokehJS code because BokehJS library is missing\");\n",
       "        }\n",
       "      }\n",
       "    }, 25, root)\n",
       "  }\n",
       "})(window);</script>"
      ],
      "text/plain": [
       ":Scatter   [Earnings/Share]   (Price)"
      ]
     },
     "execution_count": 14,
     "metadata": {
      "application/vnd.holoviews_exec.v0+json": {
       "id": "1779"
      }
     },
     "output_type": "execute_result"
    }
   ],
   "source": [
    "# Use the sp500_companies_csv DataFrame to plot a scatter plot displaying the relationship between price vs. earnings/share\n",
    "sp500_companies_csv.hvplot.scatter(\n",
    "    title = 'Top 20 Market Cap Companies (in billions) - EPS versus Price', \n",
    "    x = 'Earnings/Share', \n",
    "    y = 'Price'\n",
    ")"
   ]
  },
  {
   "cell_type": "code",
   "execution_count": 16,
   "metadata": {},
   "outputs": [
    {
     "data": {},
     "metadata": {},
     "output_type": "display_data"
    },
    {
     "data": {
      "application/vnd.holoviews_exec.v0+json": "",
      "text/html": [
       "<div id='2003'>\n",
       "  <div class=\"bk-root\" id=\"9c66de67-afc3-4c3c-b87b-f223356f3b0e\" data-root-id=\"2003\"></div>\n",
       "</div>\n",
       "<script type=\"application/javascript\">(function(root) {\n",
       "  function embed_document(root) {\n",
       "    var docs_json = {\"882302f4-e18d-49c5-8ddb-0e466d622cb4\":{\"defs\":[{\"extends\":null,\"module\":null,\"name\":\"ReactiveHTML1\",\"overrides\":[],\"properties\":[]},{\"extends\":null,\"module\":null,\"name\":\"FlexBox1\",\"overrides\":[],\"properties\":[{\"default\":\"flex-start\",\"kind\":null,\"name\":\"align_content\"},{\"default\":\"flex-start\",\"kind\":null,\"name\":\"align_items\"},{\"default\":\"row\",\"kind\":null,\"name\":\"flex_direction\"},{\"default\":\"wrap\",\"kind\":null,\"name\":\"flex_wrap\"},{\"default\":\"flex-start\",\"kind\":null,\"name\":\"justify_content\"}]},{\"extends\":null,\"module\":null,\"name\":\"GridStack1\",\"overrides\":[],\"properties\":[{\"default\":\"warn\",\"kind\":null,\"name\":\"mode\"},{\"default\":null,\"kind\":null,\"name\":\"ncols\"},{\"default\":null,\"kind\":null,\"name\":\"nrows\"},{\"default\":true,\"kind\":null,\"name\":\"allow_resize\"},{\"default\":true,\"kind\":null,\"name\":\"allow_drag\"},{\"default\":[],\"kind\":null,\"name\":\"state\"}]},{\"extends\":null,\"module\":null,\"name\":\"click1\",\"overrides\":[],\"properties\":[{\"default\":\"\",\"kind\":null,\"name\":\"terminal_output\"},{\"default\":\"\",\"kind\":null,\"name\":\"debug_name\"},{\"default\":0,\"kind\":null,\"name\":\"clears\"}]},{\"extends\":null,\"module\":null,\"name\":\"NotificationAreaBase1\",\"overrides\":[],\"properties\":[{\"default\":\"bottom-right\",\"kind\":null,\"name\":\"position\"},{\"default\":0,\"kind\":null,\"name\":\"_clear\"}]},{\"extends\":null,\"module\":null,\"name\":\"NotificationArea1\",\"overrides\":[],\"properties\":[{\"default\":[],\"kind\":null,\"name\":\"notifications\"},{\"default\":\"bottom-right\",\"kind\":null,\"name\":\"position\"},{\"default\":0,\"kind\":null,\"name\":\"_clear\"},{\"default\":[{\"background\":\"#ffc107\",\"icon\":{\"className\":\"fas fa-exclamation-triangle\",\"color\":\"white\",\"tagName\":\"i\"},\"type\":\"warning\"},{\"background\":\"#007bff\",\"icon\":{\"className\":\"fas fa-info-circle\",\"color\":\"white\",\"tagName\":\"i\"},\"type\":\"info\"}],\"kind\":null,\"name\":\"types\"}]},{\"extends\":null,\"module\":null,\"name\":\"Notification\",\"overrides\":[],\"properties\":[{\"default\":null,\"kind\":null,\"name\":\"background\"},{\"default\":3000,\"kind\":null,\"name\":\"duration\"},{\"default\":null,\"kind\":null,\"name\":\"icon\"},{\"default\":\"\",\"kind\":null,\"name\":\"message\"},{\"default\":null,\"kind\":null,\"name\":\"notification_type\"},{\"default\":false,\"kind\":null,\"name\":\"_destroyed\"}]},{\"extends\":null,\"module\":null,\"name\":\"TemplateActions1\",\"overrides\":[],\"properties\":[{\"default\":0,\"kind\":null,\"name\":\"open_modal\"},{\"default\":0,\"kind\":null,\"name\":\"close_modal\"}]},{\"extends\":null,\"module\":null,\"name\":\"MaterialTemplateActions1\",\"overrides\":[],\"properties\":[{\"default\":0,\"kind\":null,\"name\":\"open_modal\"},{\"default\":0,\"kind\":null,\"name\":\"close_modal\"}]}],\"roots\":{\"references\":[{\"attributes\":{\"below\":[{\"id\":\"2017\"}],\"center\":[{\"id\":\"2020\"},{\"id\":\"2024\"}],\"height\":300,\"left\":[{\"id\":\"2021\"}],\"margin\":[5,5,5,5],\"min_border_bottom\":10,\"min_border_left\":10,\"min_border_right\":10,\"min_border_top\":10,\"renderers\":[{\"id\":\"2044\"}],\"sizing_mode\":\"fixed\",\"title\":{\"id\":\"2009\"},\"toolbar\":{\"id\":\"2031\"},\"width\":700,\"x_range\":{\"id\":\"2005\"},\"x_scale\":{\"id\":\"2013\"},\"y_range\":{\"id\":\"2006\"},\"y_scale\":{\"id\":\"2015\"}},\"id\":\"2008\",\"subtype\":\"Figure\",\"type\":\"Plot\"},{\"attributes\":{\"fill_alpha\":{\"value\":0.1},\"fill_color\":{\"value\":\"#30a2da\"},\"hatch_alpha\":{\"value\":0.1},\"hatch_color\":{\"value\":\"#30a2da\"},\"line_alpha\":{\"value\":0.1},\"line_color\":{\"value\":\"#30a2da\"},\"size\":{\"value\":5.477225575051661},\"x\":{\"field\":\"Earnings/Share\"},\"y\":{\"field\":\"Price\"}},\"id\":\"2042\",\"type\":\"Scatter\"},{\"attributes\":{},\"id\":\"2039\",\"type\":\"Selection\"},{\"attributes\":{\"tools\":[{\"id\":\"2007\"},{\"id\":\"2025\"},{\"id\":\"2026\"},{\"id\":\"2027\"},{\"id\":\"2028\"},{\"id\":\"2029\"}]},\"id\":\"2031\",\"type\":\"Toolbar\"},{\"attributes\":{\"source\":{\"id\":\"2038\"}},\"id\":\"2045\",\"type\":\"CDSView\"},{\"attributes\":{},\"id\":\"2060\",\"type\":\"UnionRenderers\"},{\"attributes\":{\"bottom_units\":\"screen\",\"coordinates\":null,\"fill_alpha\":0.5,\"fill_color\":\"lightgrey\",\"group\":null,\"left_units\":\"screen\",\"level\":\"overlay\",\"line_alpha\":1.0,\"line_color\":\"black\",\"line_dash\":[4,4],\"line_width\":2,\"right_units\":\"screen\",\"syncable\":false,\"top_units\":\"screen\"},\"id\":\"2030\",\"type\":\"BoxAnnotation\"},{\"attributes\":{\"children\":[{\"id\":\"2004\"},{\"id\":\"2008\"},{\"id\":\"2063\"}],\"margin\":[0,0,0,0],\"name\":\"Row01851\",\"tags\":[\"embedded\"]},\"id\":\"2003\",\"type\":\"Row\"},{\"attributes\":{\"margin\":[5,5,5,5],\"name\":\"HSpacer01855\",\"sizing_mode\":\"stretch_width\"},\"id\":\"2004\",\"type\":\"Spacer\"},{\"attributes\":{},\"id\":\"2025\",\"type\":\"SaveTool\"},{\"attributes\":{},\"id\":\"2026\",\"type\":\"PanTool\"},{\"attributes\":{\"fill_alpha\":{\"value\":0.2},\"fill_color\":{\"value\":\"#30a2da\"},\"hatch_alpha\":{\"value\":0.2},\"hatch_color\":{\"value\":\"#30a2da\"},\"line_alpha\":{\"value\":0.2},\"line_color\":{\"value\":\"#30a2da\"},\"size\":{\"value\":5.477225575051661},\"x\":{\"field\":\"Earnings/Share\"},\"y\":{\"field\":\"Price\"}},\"id\":\"2043\",\"type\":\"Scatter\"},{\"attributes\":{},\"id\":\"2029\",\"type\":\"ResetTool\"},{\"attributes\":{},\"id\":\"2027\",\"type\":\"WheelZoomTool\"},{\"attributes\":{\"overlay\":{\"id\":\"2030\"}},\"id\":\"2028\",\"type\":\"BoxZoomTool\"},{\"attributes\":{\"coordinates\":null,\"data_source\":{\"id\":\"2038\"},\"glyph\":{\"id\":\"2041\"},\"group\":null,\"hover_glyph\":null,\"muted_glyph\":{\"id\":\"2043\"},\"nonselection_glyph\":{\"id\":\"2042\"},\"selection_glyph\":{\"id\":\"2046\"},\"view\":{\"id\":\"2045\"}},\"id\":\"2044\",\"type\":\"GlyphRenderer\"},{\"attributes\":{\"angle\":{\"value\":0.0},\"fill_alpha\":{\"value\":1.0},\"fill_color\":{\"value\":\"#30a2da\"},\"hatch_alpha\":{\"value\":1.0},\"hatch_color\":{\"value\":\"#30a2da\"},\"hatch_scale\":{\"value\":12.0},\"hatch_weight\":{\"value\":1.0},\"line_alpha\":{\"value\":1.0},\"line_cap\":{\"value\":\"butt\"},\"line_color\":{\"value\":\"#30a2da\"},\"line_dash\":{\"value\":[]},\"line_dash_offset\":{\"value\":0},\"line_join\":{\"value\":\"bevel\"},\"line_width\":{\"value\":1},\"marker\":{\"value\":\"circle\"},\"size\":{\"value\":5.477225575051661},\"x\":{\"field\":\"Earnings/Share\"},\"y\":{\"field\":\"Price\"}},\"id\":\"2046\",\"type\":\"Scatter\"},{\"attributes\":{},\"id\":\"2022\",\"type\":\"BasicTicker\"},{\"attributes\":{},\"id\":\"2052\",\"type\":\"AllLabels\"},{\"attributes\":{},\"id\":\"2018\",\"type\":\"BasicTicker\"},{\"attributes\":{},\"id\":\"2013\",\"type\":\"LinearScale\"},{\"attributes\":{\"coordinates\":null,\"group\":null,\"text\":\"Top 20 Market Cap Companies (in billions) - EPS versus Price\",\"text_color\":\"black\",\"text_font_size\":\"12pt\"},\"id\":\"2009\",\"type\":\"Title\"},{\"attributes\":{\"axis\":{\"id\":\"2017\"},\"coordinates\":null,\"grid_line_color\":null,\"group\":null,\"ticker\":null},\"id\":\"2020\",\"type\":\"Grid\"},{\"attributes\":{},\"id\":\"2049\",\"type\":\"AllLabels\"},{\"attributes\":{\"end\":47.18000000000001,\"reset_end\":47.18000000000001,\"reset_start\":-31.1,\"start\":-31.1,\"tags\":[[[\"Earnings/Share\",\"Earnings/Share\",null]]]},\"id\":\"2005\",\"type\":\"Range1d\"},{\"attributes\":{},\"id\":\"2015\",\"type\":\"LinearScale\"},{\"attributes\":{\"margin\":[5,5,5,5],\"name\":\"HSpacer01856\",\"sizing_mode\":\"stretch_width\"},\"id\":\"2063\",\"type\":\"Spacer\"},{\"attributes\":{\"axis_label\":\"Price\",\"coordinates\":null,\"formatter\":{\"id\":\"2051\"},\"group\":null,\"major_label_policy\":{\"id\":\"2052\"},\"ticker\":{\"id\":\"2022\"}},\"id\":\"2021\",\"type\":\"LinearAxis\"},{\"attributes\":{\"callback\":null,\"renderers\":[{\"id\":\"2044\"}],\"tags\":[\"hv_created\"],\"tooltips\":[[\"Earnings/Share\",\"@{Earnings_over_Share}\"],[\"Price\",\"@{Price}\"]]},\"id\":\"2007\",\"type\":\"HoverTool\"},{\"attributes\":{\"axis_label\":\"Earnings/Share\",\"coordinates\":null,\"formatter\":{\"id\":\"2048\"},\"group\":null,\"major_label_policy\":{\"id\":\"2049\"},\"ticker\":{\"id\":\"2018\"}},\"id\":\"2017\",\"type\":\"LinearAxis\"},{\"attributes\":{},\"id\":\"2048\",\"type\":\"BasicTickFormatter\"},{\"attributes\":{\"end\":1986.384,\"reset_end\":1986.384,\"reset_start\":-177.50400000000002,\"start\":-177.50400000000002,\"tags\":[[[\"Price\",\"Price\",null]]]},\"id\":\"2006\",\"type\":\"Range1d\"},{\"attributes\":{\"axis\":{\"id\":\"2021\"},\"coordinates\":null,\"dimension\":1,\"grid_line_color\":null,\"group\":null,\"ticker\":null},\"id\":\"2024\",\"type\":\"Grid\"},{\"attributes\":{\"data\":{\"Earnings/Share\":{\"__ndarray__\":\"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\",\"dtype\":\"float64\",\"order\":\"little\",\"shape\":[505]},\"Earnings_over_Share\":{\"__ndarray__\":\"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\",\"dtype\":\"float64\",\"order\":\"little\",\"shape\":[505]},\"Price\":{\"__ndarray__\":\"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\",\"dtype\":\"float64\",\"order\":\"little\",\"shape\":[505]}},\"selected\":{\"id\":\"2039\"},\"selection_policy\":{\"id\":\"2060\"}},\"id\":\"2038\",\"type\":\"ColumnDataSource\"},{\"attributes\":{},\"id\":\"2051\",\"type\":\"BasicTickFormatter\"},{\"attributes\":{\"fill_color\":{\"value\":\"#30a2da\"},\"hatch_color\":{\"value\":\"#30a2da\"},\"line_color\":{\"value\":\"#30a2da\"},\"size\":{\"value\":5.477225575051661},\"x\":{\"field\":\"Earnings/Share\"},\"y\":{\"field\":\"Price\"}},\"id\":\"2041\",\"type\":\"Scatter\"}],\"root_ids\":[\"2003\"]},\"title\":\"Bokeh Application\",\"version\":\"2.4.3\"}};\n",
       "    var render_items = [{\"docid\":\"882302f4-e18d-49c5-8ddb-0e466d622cb4\",\"root_ids\":[\"2003\"],\"roots\":{\"2003\":\"9c66de67-afc3-4c3c-b87b-f223356f3b0e\"}}];\n",
       "    root.Bokeh.embed.embed_items_notebook(docs_json, render_items);\n",
       "  }\n",
       "  if (root.Bokeh !== undefined && root.Bokeh.Panel !== undefined) {\n",
       "    embed_document(root);\n",
       "  } else {\n",
       "    var attempts = 0;\n",
       "    var timer = setInterval(function(root) {\n",
       "      if (root.Bokeh !== undefined && root.Bokeh.Panel !== undefined) {\n",
       "        clearInterval(timer);\n",
       "        embed_document(root);\n",
       "      } else if (document.readyState == \"complete\") {\n",
       "        attempts++;\n",
       "        if (attempts > 200) {\n",
       "          clearInterval(timer);\n",
       "          console.log(\"Bokeh: ERROR: Unable to run BokehJS code because BokehJS library is missing\");\n",
       "        }\n",
       "      }\n",
       "    }, 25, root)\n",
       "  }\n",
       "})(window);</script>"
      ],
      "text/plain": [
       ":Scatter   [Earnings/Share]   (Price)"
      ]
     },
     "execution_count": 16,
     "metadata": {
      "application/vnd.holoviews_exec.v0+json": {
       "id": "2003"
      }
     },
     "output_type": "execute_result"
    }
   ],
   "source": [
    "# Use the sp500_companies_csv DataFrame to plot a scatter plot displaying the relationship between price vs. earnings/share\n",
    "# Create the scatter plot using hvplot and the \"kind\" parameter\n",
    "sp500_companies_csv.hvplot(\n",
    "    kind = 'scatter',\n",
    "    title = 'Top 20 Market Cap Companies (in billions) - EPS versus Price', \n",
    "    x = 'Earnings/Share', \n",
    "    y = 'Price'\n",
    ")"
   ]
  }
 ],
 "metadata": {
  "kernelspec": {
   "display_name": "Python 3.7.13 ('dev')",
   "language": "python",
   "name": "python3"
  },
  "language_info": {
   "codemirror_mode": {
    "name": "ipython",
    "version": 3
   },
   "file_extension": ".py",
   "mimetype": "text/x-python",
   "name": "python",
   "nbconvert_exporter": "python",
   "pygments_lexer": "ipython3",
   "version": "3.7.13"
  },
  "vscode": {
   "interpreter": {
    "hash": "6a7ae136a53a24601e63a177d18d4029f938b6714f24b844ae865dcffb9f6766"
   }
  }
 },
 "nbformat": 4,
 "nbformat_minor": 4
}
