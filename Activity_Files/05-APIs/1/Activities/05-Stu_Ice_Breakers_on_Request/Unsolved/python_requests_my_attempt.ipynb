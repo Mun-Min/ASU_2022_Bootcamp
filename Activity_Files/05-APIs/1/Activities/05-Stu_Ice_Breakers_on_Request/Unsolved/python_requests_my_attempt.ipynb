{
 "cells": [
  {
   "cell_type": "markdown",
   "metadata": {},
   "source": [
    "## Ice Breakers on Request"
   ]
  },
  {
   "cell_type": "markdown",
   "metadata": {},
   "source": [
    "### Import requests library"
   ]
  },
  {
   "cell_type": "code",
   "execution_count": 155,
   "metadata": {},
   "outputs": [],
   "source": [
    "import requests\n",
    "import json"
   ]
  },
  {
   "cell_type": "markdown",
   "metadata": {},
   "source": [
    "### Declare `request_urls`"
   ]
  },
  {
   "cell_type": "code",
   "execution_count": 156,
   "metadata": {},
   "outputs": [],
   "source": [
    "# Declare `url` variables\n",
    "bitcoin_price_url = \"https://api.coindesk.com/v1/bpi/currentprice.json\"\n",
    "exchange_rate_url = \"https://open.er-api.com/v6/latest/CAD\"\n",
    "us_treasury_url = \"https://api.usaspending.gov//api/v2/references/agency/456/\"\n",
    "us_gdp_data_url = \"http://api.worldbank.org/v2/country/us?format=json\""
   ]
  },
  {
   "cell_type": "markdown",
   "metadata": {},
   "source": [
    "### Execute `GET` request using `requests` library"
   ]
  },
  {
   "cell_type": "code",
   "execution_count": 157,
   "metadata": {},
   "outputs": [],
   "source": [
    "# Execute `GET` request with url\n",
    "response_data = requests.get(bitcoin_price_url)"
   ]
  },
  {
   "cell_type": "markdown",
   "metadata": {},
   "source": [
    "### Get response `status code`"
   ]
  },
  {
   "cell_type": "code",
   "execution_count": 158,
   "metadata": {},
   "outputs": [
    {
     "name": "stdout",
     "output_type": "stream",
     "text": [
      "<Response [200]>\n"
     ]
    }
   ],
   "source": [
    "# Print `response_data variable`\n",
    "print(response_data)"
   ]
  },
  {
   "cell_type": "markdown",
   "metadata": {},
   "source": [
    "### Extract response `content`"
   ]
  },
  {
   "cell_type": "code",
   "execution_count": 159,
   "metadata": {},
   "outputs": [
    {
     "name": "stdout",
     "output_type": "stream",
     "text": [
      "b'{\"time\":{\"updated\":\"Aug 9, 2022 03:56:00 UTC\",\"updatedISO\":\"2022-08-09T03:56:00+00:00\",\"updateduk\":\"Aug 9, 2022 at 04:56 BST\"},\"disclaimer\":\"This data was produced from the CoinDesk Bitcoin Price Index (USD). Non-USD currency data converted using hourly conversion rate from openexchangerates.org\",\"chartName\":\"Bitcoin\",\"bpi\":{\"USD\":{\"code\":\"USD\",\"symbol\":\"&#36;\",\"rate\":\"23,828.4371\",\"description\":\"United States Dollar\",\"rate_float\":23828.4371},\"GBP\":{\"code\":\"GBP\",\"symbol\":\"&pound;\",\"rate\":\"19,910.8514\",\"description\":\"British Pound Sterling\",\"rate_float\":19910.8514},\"EUR\":{\"code\":\"EUR\",\"symbol\":\"&euro;\",\"rate\":\"23,212.3766\",\"description\":\"Euro\",\"rate_float\":23212.3766}}}'\n"
     ]
    }
   ],
   "source": [
    "# Store response using `content` attribute\n",
    "response_content = response_data.content\n",
    "print(response_content)"
   ]
  },
  {
   "cell_type": "markdown",
   "metadata": {},
   "source": [
    "### Convert output to JSON"
   ]
  },
  {
   "cell_type": "code",
   "execution_count": 160,
   "metadata": {},
   "outputs": [],
   "source": [
    "# Format data as JSON\n",
    "data = response_data.json()"
   ]
  },
  {
   "cell_type": "markdown",
   "metadata": {},
   "source": [
    "### Format data with `json.dumps`"
   ]
  },
  {
   "cell_type": "code",
   "execution_count": 161,
   "metadata": {},
   "outputs": [
    {
     "name": "stdout",
     "output_type": "stream",
     "text": [
      "{\n",
      "    \"time\": {\n",
      "        \"updated\": \"Aug 9, 2022 03:56:00 UTC\",\n",
      "        \"updatedISO\": \"2022-08-09T03:56:00+00:00\",\n",
      "        \"updateduk\": \"Aug 9, 2022 at 04:56 BST\"\n",
      "    },\n",
      "    \"disclaimer\": \"This data was produced from the CoinDesk Bitcoin Price Index (USD). Non-USD currency data converted using hourly conversion rate from openexchangerates.org\",\n",
      "    \"chartName\": \"Bitcoin\",\n",
      "    \"bpi\": {\n",
      "        \"USD\": {\n",
      "            \"code\": \"USD\",\n",
      "            \"symbol\": \"&#36;\",\n",
      "            \"rate\": \"23,828.4371\",\n",
      "            \"description\": \"United States Dollar\",\n",
      "            \"rate_float\": 23828.4371\n",
      "        },\n",
      "        \"GBP\": {\n",
      "            \"code\": \"GBP\",\n",
      "            \"symbol\": \"&pound;\",\n",
      "            \"rate\": \"19,910.8514\",\n",
      "            \"description\": \"British Pound Sterling\",\n",
      "            \"rate_float\": 19910.8514\n",
      "        },\n",
      "        \"EUR\": {\n",
      "            \"code\": \"EUR\",\n",
      "            \"symbol\": \"&euro;\",\n",
      "            \"rate\": \"23,212.3766\",\n",
      "            \"description\": \"Euro\",\n",
      "            \"rate_float\": 23212.3766\n",
      "        }\n",
      "    }\n",
      "}\n"
     ]
    }
   ],
   "source": [
    "# Use json.dumps to format data\n",
    "print(json.dumps(data, indent = 4))"
   ]
  },
  {
   "cell_type": "markdown",
   "metadata": {},
   "source": [
    "### Select value and store as variable"
   ]
  },
  {
   "cell_type": "code",
   "execution_count": 162,
   "metadata": {},
   "outputs": [],
   "source": [
    "# Select bitcoin values\n",
    "USD_btc = data['bpi']['USD']['rate']\n",
    "EUR_btc = data['bpi']['EUR']['rate']\n"
   ]
  },
  {
   "cell_type": "code",
   "execution_count": 163,
   "metadata": {},
   "outputs": [
    {
     "name": "stdout",
     "output_type": "stream",
     "text": [
      "Current USD value of BTC: 23,828.4371\n",
      "Current EUR value of BTC: 23,212.3766\n"
     ]
    }
   ],
   "source": [
    "# Print selected values\n",
    "print(f\"Current USD value of BTC: {USD_btc}\")\n",
    "print(f\"Current EUR value of BTC: {EUR_btc}\")"
   ]
  }
 ],
 "metadata": {
  "kernelspec": {
   "display_name": "Python 3.7.13 ('dev')",
   "language": "python",
   "name": "python3"
  },
  "language_info": {
   "codemirror_mode": {
    "name": "ipython",
    "version": 3
   },
   "file_extension": ".py",
   "mimetype": "text/x-python",
   "name": "python",
   "nbconvert_exporter": "python",
   "pygments_lexer": "ipython3",
   "version": "3.7.13"
  },
  "nteract": {
   "version": "0.28.0"
  },
  "vscode": {
   "interpreter": {
    "hash": "6a7ae136a53a24601e63a177d18d4029f938b6714f24b844ae865dcffb9f6766"
   }
  }
 },
 "nbformat": 4,
 "nbformat_minor": 4
}
