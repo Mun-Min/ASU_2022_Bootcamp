{
 "cells": [
  {
   "cell_type": "markdown",
   "metadata": {},
   "source": [
    "# Demo: Normal Distribution of Stock Ticker Data\n",
    "\n",
    "This program retrieves stock price data using the Alpaca API and plots the data using Pandas. These plots demonstrate the distribution of daily stock closing prices compared to the expected normal probability distribution. "
   ]
  },
  {
   "cell_type": "markdown",
   "metadata": {},
   "source": [
    "## Import Dependencies"
   ]
  },
  {
   "cell_type": "code",
   "execution_count": 7,
   "metadata": {
    "tags": []
   },
   "outputs": [
    {
     "name": "stderr",
     "output_type": "stream",
     "text": [
      "Python-dotenv could not parse statement starting at line 1\n"
     ]
    }
   ],
   "source": [
    "# Import libraries and dependencies\n",
    "import os\n",
    "import pandas as pd\n",
    "import alpaca_trade_api as tradeapi\n",
    "\n",
    "# Load .env environment variables\n",
    "from dotenv import load_dotenv\n",
    "load_dotenv()\n",
    "\n",
    "%matplotlib inline"
   ]
  },
  {
   "cell_type": "code",
   "execution_count": 8,
   "metadata": {
    "tags": []
   },
   "outputs": [],
   "source": [
    "# Set Alpaca API key and secret\n",
    "alpaca_api_key = os.getenv(\"ALPACA_API_KEY\")\n",
    "alpaca_secret_key = os.getenv(\"ALPACA_SECRET_KEY\")\n",
    "\n",
    "# Create the Alpaca API object\n",
    "alpaca = tradeapi.REST(\n",
    "    alpaca_api_key,\n",
    "    alpaca_secret_key,\n",
    "    api_version=\"v2\"\n",
    ")"
   ]
  },
  {
   "cell_type": "markdown",
   "metadata": {},
   "source": [
    "## Get 1 Year's Worth of Stock Price Data via Alpaca API Call and Read in as DataFrame "
   ]
  },
  {
   "cell_type": "code",
   "execution_count": 9,
   "metadata": {},
   "outputs": [
    {
     "data": {
      "text/html": [
       "<div>\n",
       "<style scoped>\n",
       "    .dataframe tbody tr th:only-of-type {\n",
       "        vertical-align: middle;\n",
       "    }\n",
       "\n",
       "    .dataframe tbody tr th {\n",
       "        vertical-align: top;\n",
       "    }\n",
       "\n",
       "    .dataframe thead tr th {\n",
       "        text-align: left;\n",
       "    }\n",
       "\n",
       "    .dataframe thead tr:last-of-type th {\n",
       "        text-align: right;\n",
       "    }\n",
       "</style>\n",
       "<table border=\"1\" class=\"dataframe\">\n",
       "  <thead>\n",
       "    <tr>\n",
       "      <th></th>\n",
       "      <th colspan=\"7\" halign=\"left\">KO</th>\n",
       "      <th colspan=\"7\" halign=\"left\">TSLA</th>\n",
       "    </tr>\n",
       "    <tr>\n",
       "      <th></th>\n",
       "      <th>open</th>\n",
       "      <th>high</th>\n",
       "      <th>low</th>\n",
       "      <th>close</th>\n",
       "      <th>volume</th>\n",
       "      <th>trade_count</th>\n",
       "      <th>vwap</th>\n",
       "      <th>open</th>\n",
       "      <th>high</th>\n",
       "      <th>low</th>\n",
       "      <th>close</th>\n",
       "      <th>volume</th>\n",
       "      <th>trade_count</th>\n",
       "      <th>vwap</th>\n",
       "    </tr>\n",
       "    <tr>\n",
       "      <th>timestamp</th>\n",
       "      <th></th>\n",
       "      <th></th>\n",
       "      <th></th>\n",
       "      <th></th>\n",
       "      <th></th>\n",
       "      <th></th>\n",
       "      <th></th>\n",
       "      <th></th>\n",
       "      <th></th>\n",
       "      <th></th>\n",
       "      <th></th>\n",
       "      <th></th>\n",
       "      <th></th>\n",
       "      <th></th>\n",
       "    </tr>\n",
       "  </thead>\n",
       "  <tbody>\n",
       "    <tr>\n",
       "      <th>2019-05-01 04:00:00+00:00</th>\n",
       "      <td>238.85</td>\n",
       "      <td>240.0000</td>\n",
       "      <td>231.5000</td>\n",
       "      <td>234.01</td>\n",
       "      <td>10704355</td>\n",
       "      <td>108382</td>\n",
       "      <td>234.544288</td>\n",
       "      <td>48.95</td>\n",
       "      <td>49.0750</td>\n",
       "      <td>48.55</td>\n",
       "      <td>48.59</td>\n",
       "      <td>10551594</td>\n",
       "      <td>55430</td>\n",
       "      <td>48.792137</td>\n",
       "    </tr>\n",
       "    <tr>\n",
       "      <th>2019-05-02 04:00:00+00:00</th>\n",
       "      <td>245.65</td>\n",
       "      <td>247.1300</td>\n",
       "      <td>237.7200</td>\n",
       "      <td>244.10</td>\n",
       "      <td>18167261</td>\n",
       "      <td>173521</td>\n",
       "      <td>242.763484</td>\n",
       "      <td>48.53</td>\n",
       "      <td>48.7657</td>\n",
       "      <td>48.27</td>\n",
       "      <td>48.39</td>\n",
       "      <td>8724932</td>\n",
       "      <td>49477</td>\n",
       "      <td>48.453170</td>\n",
       "    </tr>\n",
       "    <tr>\n",
       "      <th>2019-05-03 04:00:00+00:00</th>\n",
       "      <td>244.00</td>\n",
       "      <td>256.6100</td>\n",
       "      <td>243.4900</td>\n",
       "      <td>255.03</td>\n",
       "      <td>23740838</td>\n",
       "      <td>205076</td>\n",
       "      <td>252.330502</td>\n",
       "      <td>48.60</td>\n",
       "      <td>48.9600</td>\n",
       "      <td>48.52</td>\n",
       "      <td>48.72</td>\n",
       "      <td>7076949</td>\n",
       "      <td>39003</td>\n",
       "      <td>48.773171</td>\n",
       "    </tr>\n",
       "    <tr>\n",
       "      <th>2019-05-06 04:00:00+00:00</th>\n",
       "      <td>250.00</td>\n",
       "      <td>258.3499</td>\n",
       "      <td>248.5000</td>\n",
       "      <td>255.34</td>\n",
       "      <td>10860343</td>\n",
       "      <td>93066</td>\n",
       "      <td>254.021222</td>\n",
       "      <td>48.33</td>\n",
       "      <td>48.6100</td>\n",
       "      <td>48.26</td>\n",
       "      <td>48.47</td>\n",
       "      <td>8658209</td>\n",
       "      <td>44597</td>\n",
       "      <td>48.465858</td>\n",
       "    </tr>\n",
       "    <tr>\n",
       "      <th>2019-05-07 04:00:00+00:00</th>\n",
       "      <td>256.80</td>\n",
       "      <td>257.2100</td>\n",
       "      <td>245.1000</td>\n",
       "      <td>247.06</td>\n",
       "      <td>10261408</td>\n",
       "      <td>103693</td>\n",
       "      <td>249.863277</td>\n",
       "      <td>48.23</td>\n",
       "      <td>48.2900</td>\n",
       "      <td>47.77</td>\n",
       "      <td>48.00</td>\n",
       "      <td>12487481</td>\n",
       "      <td>59828</td>\n",
       "      <td>48.012280</td>\n",
       "    </tr>\n",
       "    <tr>\n",
       "      <th>2019-05-08 04:00:00+00:00</th>\n",
       "      <td>246.94</td>\n",
       "      <td>250.5990</td>\n",
       "      <td>244.2000</td>\n",
       "      <td>244.84</td>\n",
       "      <td>6180840</td>\n",
       "      <td>65862</td>\n",
       "      <td>246.860249</td>\n",
       "      <td>48.05</td>\n",
       "      <td>48.2300</td>\n",
       "      <td>47.82</td>\n",
       "      <td>47.85</td>\n",
       "      <td>9281542</td>\n",
       "      <td>54533</td>\n",
       "      <td>47.948017</td>\n",
       "    </tr>\n",
       "    <tr>\n",
       "      <th>2019-05-09 04:00:00+00:00</th>\n",
       "      <td>241.75</td>\n",
       "      <td>243.6800</td>\n",
       "      <td>236.9434</td>\n",
       "      <td>241.98</td>\n",
       "      <td>6722392</td>\n",
       "      <td>76082</td>\n",
       "      <td>240.437191</td>\n",
       "      <td>47.80</td>\n",
       "      <td>47.9800</td>\n",
       "      <td>47.07</td>\n",
       "      <td>47.40</td>\n",
       "      <td>11450532</td>\n",
       "      <td>67043</td>\n",
       "      <td>47.424069</td>\n",
       "    </tr>\n",
       "    <tr>\n",
       "      <th>2019-05-10 04:00:00+00:00</th>\n",
       "      <td>239.75</td>\n",
       "      <td>241.9900</td>\n",
       "      <td>236.0200</td>\n",
       "      <td>239.52</td>\n",
       "      <td>7019816</td>\n",
       "      <td>77937</td>\n",
       "      <td>238.631949</td>\n",
       "      <td>47.41</td>\n",
       "      <td>48.2950</td>\n",
       "      <td>47.40</td>\n",
       "      <td>48.19</td>\n",
       "      <td>9661832</td>\n",
       "      <td>57158</td>\n",
       "      <td>47.898366</td>\n",
       "    </tr>\n",
       "    <tr>\n",
       "      <th>2019-05-13 04:00:00+00:00</th>\n",
       "      <td>232.32</td>\n",
       "      <td>232.4700</td>\n",
       "      <td>224.5000</td>\n",
       "      <td>227.01</td>\n",
       "      <td>10834883</td>\n",
       "      <td>138343</td>\n",
       "      <td>227.590470</td>\n",
       "      <td>47.93</td>\n",
       "      <td>48.1300</td>\n",
       "      <td>47.73</td>\n",
       "      <td>48.05</td>\n",
       "      <td>11911511</td>\n",
       "      <td>61467</td>\n",
       "      <td>47.962829</td>\n",
       "    </tr>\n",
       "    <tr>\n",
       "      <th>2019-05-14 04:00:00+00:00</th>\n",
       "      <td>229.30</td>\n",
       "      <td>234.5000</td>\n",
       "      <td>228.0000</td>\n",
       "      <td>232.31</td>\n",
       "      <td>7254012</td>\n",
       "      <td>83667</td>\n",
       "      <td>231.645769</td>\n",
       "      <td>48.53</td>\n",
       "      <td>49.3200</td>\n",
       "      <td>48.35</td>\n",
       "      <td>48.69</td>\n",
       "      <td>16844303</td>\n",
       "      <td>79041</td>\n",
       "      <td>48.837574</td>\n",
       "    </tr>\n",
       "  </tbody>\n",
       "</table>\n",
       "</div>"
      ],
      "text/plain": [
       "                               KO                                        \\\n",
       "                             open      high       low   close    volume   \n",
       "timestamp                                                                 \n",
       "2019-05-01 04:00:00+00:00  238.85  240.0000  231.5000  234.01  10704355   \n",
       "2019-05-02 04:00:00+00:00  245.65  247.1300  237.7200  244.10  18167261   \n",
       "2019-05-03 04:00:00+00:00  244.00  256.6100  243.4900  255.03  23740838   \n",
       "2019-05-06 04:00:00+00:00  250.00  258.3499  248.5000  255.34  10860343   \n",
       "2019-05-07 04:00:00+00:00  256.80  257.2100  245.1000  247.06  10261408   \n",
       "2019-05-08 04:00:00+00:00  246.94  250.5990  244.2000  244.84   6180840   \n",
       "2019-05-09 04:00:00+00:00  241.75  243.6800  236.9434  241.98   6722392   \n",
       "2019-05-10 04:00:00+00:00  239.75  241.9900  236.0200  239.52   7019816   \n",
       "2019-05-13 04:00:00+00:00  232.32  232.4700  224.5000  227.01  10834883   \n",
       "2019-05-14 04:00:00+00:00  229.30  234.5000  228.0000  232.31   7254012   \n",
       "\n",
       "                                                    TSLA                  \\\n",
       "                          trade_count        vwap   open     high    low   \n",
       "timestamp                                                                  \n",
       "2019-05-01 04:00:00+00:00      108382  234.544288  48.95  49.0750  48.55   \n",
       "2019-05-02 04:00:00+00:00      173521  242.763484  48.53  48.7657  48.27   \n",
       "2019-05-03 04:00:00+00:00      205076  252.330502  48.60  48.9600  48.52   \n",
       "2019-05-06 04:00:00+00:00       93066  254.021222  48.33  48.6100  48.26   \n",
       "2019-05-07 04:00:00+00:00      103693  249.863277  48.23  48.2900  47.77   \n",
       "2019-05-08 04:00:00+00:00       65862  246.860249  48.05  48.2300  47.82   \n",
       "2019-05-09 04:00:00+00:00       76082  240.437191  47.80  47.9800  47.07   \n",
       "2019-05-10 04:00:00+00:00       77937  238.631949  47.41  48.2950  47.40   \n",
       "2019-05-13 04:00:00+00:00      138343  227.590470  47.93  48.1300  47.73   \n",
       "2019-05-14 04:00:00+00:00       83667  231.645769  48.53  49.3200  48.35   \n",
       "\n",
       "                                                                   \n",
       "                           close    volume trade_count       vwap  \n",
       "timestamp                                                          \n",
       "2019-05-01 04:00:00+00:00  48.59  10551594       55430  48.792137  \n",
       "2019-05-02 04:00:00+00:00  48.39   8724932       49477  48.453170  \n",
       "2019-05-03 04:00:00+00:00  48.72   7076949       39003  48.773171  \n",
       "2019-05-06 04:00:00+00:00  48.47   8658209       44597  48.465858  \n",
       "2019-05-07 04:00:00+00:00  48.00  12487481       59828  48.012280  \n",
       "2019-05-08 04:00:00+00:00  47.85   9281542       54533  47.948017  \n",
       "2019-05-09 04:00:00+00:00  47.40  11450532       67043  47.424069  \n",
       "2019-05-10 04:00:00+00:00  48.19   9661832       57158  47.898366  \n",
       "2019-05-13 04:00:00+00:00  48.05  11911511       61467  47.962829  \n",
       "2019-05-14 04:00:00+00:00  48.69  16844303       79041  48.837574  "
      ]
     },
     "execution_count": 9,
     "metadata": {},
     "output_type": "execute_result"
    }
   ],
   "source": [
    "# Set the Tesla and Coca-Cola tickers\n",
    "ticker = [\"TSLA\",\"KO\"]\n",
    "\n",
    "# Set timeframe to \"1Day\"\n",
    "timeframe = \"1Day\"\n",
    "\n",
    "# Set start and end datetimes of 1 year, between now and 365 days ago.\n",
    "start_date = pd.Timestamp(\"2019-05-01\", tz=\"America/New_York\").isoformat()\n",
    "end_date = pd.Timestamp(\"2020-05-01\", tz=\"America/New_York\").isoformat()\n",
    "\n",
    "# Get 1 year's worth of historical data for Tesla and Coca-Cola\n",
    "df_ticker = alpaca.get_bars(ticker, timeframe, start = start_date, end = end_date).df\n",
    "\n",
    "# Reorganize the DataFrame\n",
    "# Separate ticker data\n",
    "TSLA = df_ticker[df_ticker['symbol'] == 'TSLA'].drop('symbol', axis = 1)\n",
    "KO = df_ticker[df_ticker['symbol'] == 'KO'].drop('symbol', axis = 1)\n",
    "\n",
    "# Concatenate the ticker DataFrames\n",
    "df_ticker = pd.concat([TSLA, KO], axis = 1, keys = ['KO', 'TSLA'])\n",
    "\n",
    "# Display sample data\n",
    "df_ticker.head(10)"
   ]
  },
  {
   "cell_type": "markdown",
   "metadata": {},
   "source": [
    "## Pick closing prices and compute the daily returns"
   ]
  },
  {
   "cell_type": "code",
   "execution_count": 10,
   "metadata": {},
   "outputs": [
    {
     "data": {
      "text/html": [
       "<div>\n",
       "<style scoped>\n",
       "    .dataframe tbody tr th:only-of-type {\n",
       "        vertical-align: middle;\n",
       "    }\n",
       "\n",
       "    .dataframe tbody tr th {\n",
       "        vertical-align: top;\n",
       "    }\n",
       "\n",
       "    .dataframe thead th {\n",
       "        text-align: right;\n",
       "    }\n",
       "</style>\n",
       "<table border=\"1\" class=\"dataframe\">\n",
       "  <thead>\n",
       "    <tr style=\"text-align: right;\">\n",
       "      <th></th>\n",
       "      <th>KO</th>\n",
       "      <th>TSLA</th>\n",
       "    </tr>\n",
       "  </thead>\n",
       "  <tbody>\n",
       "    <tr>\n",
       "      <th>2019-05-02</th>\n",
       "      <td>0.043118</td>\n",
       "      <td>-0.004116</td>\n",
       "    </tr>\n",
       "    <tr>\n",
       "      <th>2019-05-03</th>\n",
       "      <td>0.044777</td>\n",
       "      <td>0.006820</td>\n",
       "    </tr>\n",
       "    <tr>\n",
       "      <th>2019-05-06</th>\n",
       "      <td>0.001216</td>\n",
       "      <td>-0.005131</td>\n",
       "    </tr>\n",
       "    <tr>\n",
       "      <th>2019-05-07</th>\n",
       "      <td>-0.032427</td>\n",
       "      <td>-0.009697</td>\n",
       "    </tr>\n",
       "    <tr>\n",
       "      <th>2019-05-08</th>\n",
       "      <td>-0.008986</td>\n",
       "      <td>-0.003125</td>\n",
       "    </tr>\n",
       "    <tr>\n",
       "      <th>2019-05-09</th>\n",
       "      <td>-0.011681</td>\n",
       "      <td>-0.009404</td>\n",
       "    </tr>\n",
       "    <tr>\n",
       "      <th>2019-05-10</th>\n",
       "      <td>-0.010166</td>\n",
       "      <td>0.016667</td>\n",
       "    </tr>\n",
       "    <tr>\n",
       "      <th>2019-05-13</th>\n",
       "      <td>-0.052229</td>\n",
       "      <td>-0.002905</td>\n",
       "    </tr>\n",
       "    <tr>\n",
       "      <th>2019-05-14</th>\n",
       "      <td>0.023347</td>\n",
       "      <td>0.013319</td>\n",
       "    </tr>\n",
       "    <tr>\n",
       "      <th>2019-05-15</th>\n",
       "      <td>-0.001550</td>\n",
       "      <td>0.010064</td>\n",
       "    </tr>\n",
       "  </tbody>\n",
       "</table>\n",
       "</div>"
      ],
      "text/plain": [
       "                  KO      TSLA\n",
       "2019-05-02  0.043118 -0.004116\n",
       "2019-05-03  0.044777  0.006820\n",
       "2019-05-06  0.001216 -0.005131\n",
       "2019-05-07 -0.032427 -0.009697\n",
       "2019-05-08 -0.008986 -0.003125\n",
       "2019-05-09 -0.011681 -0.009404\n",
       "2019-05-10 -0.010166  0.016667\n",
       "2019-05-13 -0.052229 -0.002905\n",
       "2019-05-14  0.023347  0.013319\n",
       "2019-05-15 -0.001550  0.010064"
      ]
     },
     "execution_count": 10,
     "metadata": {},
     "output_type": "execute_result"
    }
   ],
   "source": [
    "# Create and empty DataFrame for closing prices\n",
    "daily_returns_df = pd.DataFrame()\n",
    "\n",
    "# Fetch the closing prices of KO and TSLA\n",
    "daily_returns_df['KO'] = df_ticker.KO.close\n",
    "daily_returns_df['TSLA'] = df_ticker.TSLA.close\n",
    "\n",
    "# Drop the time component of the date\n",
    "daily_returns_df.index = daily_returns_df.index.date\n",
    "\n",
    "# Compute daily returns\n",
    "daily_returns_df = daily_returns_df.pct_change().dropna()\n",
    "\n",
    "# Display sample data\n",
    "daily_returns_df.head(10)"
   ]
  },
  {
   "cell_type": "code",
   "execution_count": 11,
   "metadata": {},
   "outputs": [
    {
     "data": {
      "text/html": [
       "<div>\n",
       "<style scoped>\n",
       "    .dataframe tbody tr th:only-of-type {\n",
       "        vertical-align: middle;\n",
       "    }\n",
       "\n",
       "    .dataframe tbody tr th {\n",
       "        vertical-align: top;\n",
       "    }\n",
       "\n",
       "    .dataframe thead th {\n",
       "        text-align: right;\n",
       "    }\n",
       "</style>\n",
       "<table border=\"1\" class=\"dataframe\">\n",
       "  <thead>\n",
       "    <tr style=\"text-align: right;\">\n",
       "      <th></th>\n",
       "      <th>KO</th>\n",
       "      <th>TSLA</th>\n",
       "    </tr>\n",
       "  </thead>\n",
       "  <tbody>\n",
       "    <tr>\n",
       "      <th>count</th>\n",
       "      <td>253.000000</td>\n",
       "      <td>253.000000</td>\n",
       "    </tr>\n",
       "    <tr>\n",
       "      <th>mean</th>\n",
       "      <td>0.005515</td>\n",
       "      <td>-0.000056</td>\n",
       "    </tr>\n",
       "    <tr>\n",
       "      <th>std</th>\n",
       "      <td>0.048388</td>\n",
       "      <td>0.019682</td>\n",
       "    </tr>\n",
       "    <tr>\n",
       "      <th>min</th>\n",
       "      <td>-0.185778</td>\n",
       "      <td>-0.096725</td>\n",
       "    </tr>\n",
       "    <tr>\n",
       "      <th>25%</th>\n",
       "      <td>-0.011681</td>\n",
       "      <td>-0.006709</td>\n",
       "    </tr>\n",
       "    <tr>\n",
       "      <th>50%</th>\n",
       "      <td>0.004019</td>\n",
       "      <td>0.000192</td>\n",
       "    </tr>\n",
       "    <tr>\n",
       "      <th>75%</th>\n",
       "      <td>0.024596</td>\n",
       "      <td>0.006820</td>\n",
       "    </tr>\n",
       "    <tr>\n",
       "      <th>max</th>\n",
       "      <td>0.198949</td>\n",
       "      <td>0.064796</td>\n",
       "    </tr>\n",
       "  </tbody>\n",
       "</table>\n",
       "</div>"
      ],
      "text/plain": [
       "               KO        TSLA\n",
       "count  253.000000  253.000000\n",
       "mean     0.005515   -0.000056\n",
       "std      0.048388    0.019682\n",
       "min     -0.185778   -0.096725\n",
       "25%     -0.011681   -0.006709\n",
       "50%      0.004019    0.000192\n",
       "75%      0.024596    0.006820\n",
       "max      0.198949    0.064796"
      ]
     },
     "execution_count": 11,
     "metadata": {},
     "output_type": "execute_result"
    }
   ],
   "source": [
    "# Generate descriptive statistics\n",
    "daily_returns_df.describe()"
   ]
  },
  {
   "cell_type": "markdown",
   "metadata": {},
   "source": [
    "### Plot Distributions"
   ]
  },
  {
   "cell_type": "code",
   "execution_count": 12,
   "metadata": {},
   "outputs": [
    {
     "data": {
      "text/plain": [
       "<AxesSubplot:ylabel='Frequency'>"
      ]
     },
     "execution_count": 12,
     "metadata": {},
     "output_type": "execute_result"
    },
    {
     "data": {
      "image/png": "[encoded data removed]",
      "text/plain": [
       "<Figure size 432x288 with 1 Axes>"
      ]
     },
     "metadata": {
      "needs_background": "light"
     },
     "output_type": "display_data"
    }
   ],
   "source": [
    "# Visualize distribution of Tesla percent change in closing price using a histogram plot\n",
    "daily_returns_df.TSLA.plot.hist()"
   ]
  },
  {
   "cell_type": "code",
   "execution_count": 13,
   "metadata": {},
   "outputs": [
    {
     "data": {
      "text/plain": [
       "<AxesSubplot:ylabel='Frequency'>"
      ]
     },
     "execution_count": 13,
     "metadata": {},
     "output_type": "execute_result"
    },
    {
     "data": {
      "image/png": "[encoded data removed]",
      "text/plain": [
       "<Figure size 432x288 with 1 Axes>"
      ]
     },
     "metadata": {
      "needs_background": "light"
     },
     "output_type": "display_data"
    }
   ],
   "source": [
    "# Visualize distribution of Coca-Cola percent change in closing price using a histogram plot\n",
    "daily_returns_df.KO.plot.hist()"
   ]
  },
  {
   "cell_type": "code",
   "execution_count": 14,
   "metadata": {},
   "outputs": [
    {
     "data": {
      "text/plain": [
       "<AxesSubplot:ylabel='Density'>"
      ]
     },
     "execution_count": 14,
     "metadata": {},
     "output_type": "execute_result"
    },
    {
     "data": {
      "image/png": "[encoded data removed]",
      "text/plain": [
       "<Figure size 432x288 with 1 Axes>"
      ]
     },
     "metadata": {
      "needs_background": "light"
     },
     "output_type": "display_data"
    }
   ],
   "source": [
    "# Visualize the distribution of percent change in closing price for both stocks using a density plot\n",
    "daily_returns_df.plot.density()"
   ]
  }
 ],
 "metadata": {
  "kernel_info": {
   "name": "python3"
  },
  "kernelspec": {
   "display_name": "Python 3.7.13 ('dev')",
   "language": "python",
   "name": "python3"
  },
  "language_info": {
   "codemirror_mode": {
    "name": "ipython",
    "version": 3
   },
   "file_extension": ".py",
   "mimetype": "text/x-python",
   "name": "python",
   "nbconvert_exporter": "python",
   "pygments_lexer": "ipython3",
   "version": "3.7.13"
  },
  "nteract": {
   "version": "0.12.3"
  },
  "vscode": {
   "interpreter": {
    "hash": "6a7ae136a53a24601e63a177d18d4029f938b6714f24b844ae865dcffb9f6766"
   }
  }
 },
 "nbformat": 4,
 "nbformat_minor": 4
}
