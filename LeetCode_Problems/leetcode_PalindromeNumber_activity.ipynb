{
 "cells": [
  {
   "cell_type": "markdown",
   "metadata": {},
   "source": [
    "### Python Leetcode Problem (Palindrome Number) \n",
    "\n",
    "* Given an integer x, return true if x is a palindrome, and false otherwise.\n",
    "\n",
    "  * An integer is a palindrome when it reads the same forward and backward.\n",
    "  \n",
    "</br>\n",
    "\n",
    "        Example 1:\n",
    "\n",
    "                Input: x = 121\n",
    "                Output: true\n",
    "                Explanation: 121 reads as 121 from left to right and from right to left.\n",
    "\n",
    "        Example 2:\n",
    "\n",
    "                Input: x = -121\n",
    "                Output: false\n",
    "                Explanation: From left to right, it reads -121. From right to left, it becomes 121-. Therefore it is not a palindrome.\n",
    "\n",
    "        Example 3:\n",
    "\n",
    "                Input: x = 10\n",
    "                Output: false\n",
    "                Explanation: Reads 01 from right to left. Therefore it is not a palindrome."
   ]
  },
  {
   "cell_type": "code",
   "execution_count": 1,
   "metadata": {},
   "outputs": [
    {
     "data": {
      "text/plain": [
       "True"
      ]
     },
     "execution_count": 1,
     "metadata": {},
     "output_type": "execute_result"
    }
   ],
   "source": [
    "# solved by converting x to type str and checking first and last value of input \n",
    "\n",
    "def isPalindrome(x):\n",
    "    \"\"\"\n",
    "    :type x: int\n",
    "    :rtype: bool\n",
    "    \"\"\"\n",
    "\n",
    "    if str(x) == str(x)[::-1]:\n",
    "         return True\n",
    "\n",
    "    else: \n",
    "        return False \n",
    "\n",
    "x = 212\n",
    "isPalindrome(x)\n",
    "        "
   ]
  },
  {
   "cell_type": "code",
   "execution_count": 5,
   "metadata": {},
   "outputs": [
    {
     "data": {
      "text/plain": [
       "True"
      ]
     },
     "execution_count": 5,
     "metadata": {},
     "output_type": "execute_result"
    }
   ],
   "source": [
    "# solved without converting x to str\n",
    "\n",
    "def isPalindrome(x):\n",
    "    \"\"\"\n",
    "    :type x: int\n",
    "    :rtype: bool\n",
    "    \"\"\"\n",
    "\n",
    "    if x < 0: return False \n",
    "\n",
    "    divisor = 1\n",
    "    while x >= 10 * divisor: \n",
    "        divisor *= 10\n",
    "    \n",
    "    while x: \n",
    "        right = x % 10\n",
    "        left = x // divisor \n",
    "        \n",
    "        if left != right: return False \n",
    "\n",
    "        x = (x % divisor) // 10\n",
    "        divisor = divisor / 100\n",
    "\n",
    "    return True\n",
    "    \n",
    "x = 212\n",
    "isPalindrome(x)\n",
    "        "
   ]
  }
 ],
 "metadata": {
  "kernelspec": {
   "display_name": "Python 3.7.13 ('dev')",
   "language": "python",
   "name": "python3"
  },
  "language_info": {
   "codemirror_mode": {
    "name": "ipython",
    "version": 3
   },
   "file_extension": ".py",
   "mimetype": "text/x-python",
   "name": "python",
   "nbconvert_exporter": "python",
   "pygments_lexer": "ipython3",
   "version": "3.7.13"
  },
  "orig_nbformat": 4,
  "vscode": {
   "interpreter": {
    "hash": "6a7ae136a53a24601e63a177d18d4029f938b6714f24b844ae865dcffb9f6766"
   }
  }
 },
 "nbformat": 4,
 "nbformat_minor": 2
}
