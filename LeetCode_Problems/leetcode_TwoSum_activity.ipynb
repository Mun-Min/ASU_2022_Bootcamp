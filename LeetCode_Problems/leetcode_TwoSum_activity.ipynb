{
 "cells": [
  {
   "cell_type": "markdown",
   "metadata": {},
   "source": [
    "### Python Leetcode Problem (Two Sum) \n",
    "\n",
    "* Given an array of integers nums and an integer target, return indices of the two numbers such that they add up to target.\n",
    "\n",
    "* You may assume that each input would have exactly one solution, and you may not use the same element twice.\n",
    "\n",
    "* You can return the answer in any order\n",
    "\n",
    "        Example 1:\n",
    "\n",
    "                Input: nums = [2,7,11,15], target = 9\n",
    "                Output: [0,1]\n",
    "                Explanation: Because nums[0] + nums[1] == 9, we return [0, 1].\n",
    "\n",
    "        Example 2:\n",
    "\n",
    "                Input: nums = [3,2,4], target = 6\n",
    "                Output: [1,2]\n",
    "\n",
    "        Example 3:\n",
    "\n",
    "                Input: nums = [3,3], target = 6\n",
    "                Output: [0,1"
   ]
  },
  {
   "cell_type": "code",
   "execution_count": 22,
   "metadata": {},
   "outputs": [],
   "source": [
    "def twoSum(nums, target):\n",
    "    \"\"\"\n",
    "    :type nums: List[int]\n",
    "    :type target: int\n",
    "    \"\"\"\n",
    "\n",
    "    # loop through list of numbers and see if the index of any number equates to the difference of the target and the number in the list\n",
    "    # nums = [2, 7, 11, 15] target = [9]  \n",
    "\n",
    "    prevMap = {} # val : index \n",
    "\n",
    "    for i, n in enumerate(nums): # [index 0 : n] --> first iteration: 2 : index 0 \n",
    "                                     #               --> second interation: 7 : index 1 \n",
    "\n",
    "        diff = target - n \n",
    "\n",
    "        if diff in prevMap: \n",
    "            return (prevMap[diff], i)\n",
    "\n",
    "        prevMap[n] = i  # first iteration --> prevMap[2] = 2\n",
    "        print(i, n)\n",
    "    return"
   ]
  },
  {
   "cell_type": "code",
   "execution_count": 29,
   "metadata": {},
   "outputs": [
    {
     "name": "stdout",
     "output_type": "stream",
     "text": [
      "0 11\n",
      "1 15\n",
      "2 7\n"
     ]
    },
    {
     "data": {
      "text/plain": [
       "(2, 3)"
      ]
     },
     "execution_count": 29,
     "metadata": {},
     "output_type": "execute_result"
    }
   ],
   "source": [
    "nums = [11, 15, 7, 2]\n",
    "target = 9\n",
    "twoSum(nums, target)"
   ]
  }
 ],
 "metadata": {
  "kernelspec": {
   "display_name": "Python 3.7.13 ('dev')",
   "language": "python",
   "name": "python3"
  },
  "language_info": {
   "codemirror_mode": {
    "name": "ipython",
    "version": 3
   },
   "file_extension": ".py",
   "mimetype": "text/x-python",
   "name": "python",
   "nbconvert_exporter": "python",
   "pygments_lexer": "ipython3",
   "version": "3.7.13"
  },
  "orig_nbformat": 4,
  "vscode": {
   "interpreter": {
    "hash": "6a7ae136a53a24601e63a177d18d4029f938b6714f24b844ae865dcffb9f6766"
   }
  }
 },
 "nbformat": 4,
 "nbformat_minor": 2
}
